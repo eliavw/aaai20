{
 "cells": [
  {
   "cell_type": "markdown",
   "metadata": {},
   "source": [
    "# Demo notebook\n",
    "\n",
    "In this folder, you will store your notebooks."
   ]
  },
  {
   "cell_type": "code",
   "execution_count": 1,
   "metadata": {},
   "outputs": [],
   "source": [
    "def hello_world():\n",
    "    msg = \"\"\"\n",
    "    Hello world!\n",
    "    \"\"\"\n",
    "    return msg"
   ]
  },
  {
   "cell_type": "code",
   "execution_count": 2,
   "metadata": {},
   "outputs": [
    {
     "name": "stdout",
     "output_type": "stream",
     "text": [
      "\n",
      "    Hello world!\n",
      "    \n"
     ]
    }
   ],
   "source": [
    "print(hello_world())"
   ]
  },
  {
   "cell_type": "markdown",
   "metadata": {},
   "source": [
    "## Prefect\n",
    "\n",
    "Small tryout. The question is whether or not this holds any benefits for my purposes. Scaling is a real challenge, and at least it is encouraging that someone did some decent work here."
   ]
  },
  {
   "cell_type": "code",
   "execution_count": 3,
   "metadata": {},
   "outputs": [],
   "source": [
    "from prefect import task\n",
    "\n",
    "@task\n",
    "def say_hello(person: str) -> None:\n",
    "    print(\"Hello, {}!\".format(person))\n"
   ]
  },
  {
   "cell_type": "code",
   "execution_count": 4,
   "metadata": {},
   "outputs": [],
   "source": [
    "@task\n",
    "def add(x, y=1):\n",
    "    return x + y"
   ]
  },
  {
   "cell_type": "markdown",
   "metadata": {},
   "source": [
    "Now we define a flow, which is basically a script. This could be training a model etc. This is nice, but my difficulties usually arise with IO and managing all the configurations. I surely hope prefect has something to manage that, otherwise it is possibly in vain."
   ]
  },
  {
   "cell_type": "code",
   "execution_count": 5,
   "metadata": {},
   "outputs": [],
   "source": [
    "from prefect import Flow\n",
    "\n",
    "with Flow(\"My first flow!\") as flow_01:\n",
    "    first_result = add(1, y=2)\n",
    "    second_result = add(x=first_result, y=100)"
   ]
  },
  {
   "cell_type": "code",
   "execution_count": 13,
   "metadata": {},
   "outputs": [
    {
     "name": "stderr",
     "output_type": "stream",
     "text": [
      "[2019-08-20 09:26:02,760] INFO - prefect.FlowRunner | Beginning Flow run for 'My first flow!'\n",
      "[2019-08-20 09:26:02,761] INFO - prefect.FlowRunner | Starting flow run.\n",
      "[2019-08-20 09:26:02,768] INFO - prefect.TaskRunner | Task '1': Starting task run...\n",
      "[2019-08-20 09:26:02,769] INFO - prefect.TaskRunner | Task '1': finished task run for task with final state: 'Success'\n",
      "[2019-08-20 09:26:02,770] INFO - prefect.TaskRunner | Task '2': Starting task run...\n",
      "[2019-08-20 09:26:02,771] INFO - prefect.TaskRunner | Task '2': finished task run for task with final state: 'Success'\n",
      "[2019-08-20 09:26:02,772] INFO - prefect.TaskRunner | Task 'add': Starting task run...\n",
      "[2019-08-20 09:26:02,774] INFO - prefect.TaskRunner | Task 'add': finished task run for task with final state: 'Success'\n",
      "[2019-08-20 09:26:02,775] INFO - prefect.TaskRunner | Task '100': Starting task run...\n",
      "[2019-08-20 09:26:02,777] INFO - prefect.TaskRunner | Task '100': finished task run for task with final state: 'Success'\n",
      "[2019-08-20 09:26:02,778] INFO - prefect.TaskRunner | Task 'add': Starting task run...\n",
      "[2019-08-20 09:26:02,780] INFO - prefect.TaskRunner | Task 'add': finished task run for task with final state: 'Success'\n",
      "[2019-08-20 09:26:02,781] INFO - prefect.FlowRunner | Flow run SUCCESS: all reference tasks succeeded\n"
     ]
    }
   ],
   "source": [
    "state = flow_01.run()"
   ]
  },
  {
   "cell_type": "code",
   "execution_count": 15,
   "metadata": {},
   "outputs": [
    {
     "data": {
      "text/plain": [
       "{<Task: 1>: <Success: \"Task run succeeded.\">,\n",
       " <Task: add>: <Success: \"Task run succeeded.\">,\n",
       " <Task: 2>: <Success: \"Task run succeeded.\">,\n",
       " <Task: add>: <Success: \"Task run succeeded.\">,\n",
       " <Task: 100>: <Success: \"Task run succeeded.\">}"
      ]
     },
     "execution_count": 15,
     "metadata": {},
     "output_type": "execute_result"
    }
   ],
   "source": [
    "state.result"
   ]
  },
  {
   "cell_type": "code",
   "execution_count": 16,
   "metadata": {},
   "outputs": [
    {
     "data": {
      "text/plain": [
       "(3, 103)"
      ]
     },
     "execution_count": 16,
     "metadata": {},
     "output_type": "execute_result"
    }
   ],
   "source": [
    "first_task_state.result, second_task_state.result"
   ]
  },
  {
   "cell_type": "code",
   "execution_count": 7,
   "metadata": {},
   "outputs": [
    {
     "data": {
      "text/plain": [
       "3"
      ]
     },
     "execution_count": 7,
     "metadata": {},
     "output_type": "execute_result"
    }
   ],
   "source": [
    "assert state.is_successful()\n",
    "first_task_state = state.result[first_result]\n",
    "first_task_state.result"
   ]
  },
  {
   "cell_type": "code",
   "execution_count": 8,
   "metadata": {},
   "outputs": [],
   "source": [
    "assert first_task_state.result == 3\n",
    "\n",
    "second_task_state = state.result[second_result]\n",
    "assert second_task_state.is_successful()\n",
    "assert second_task_state.result == 103"
   ]
  },
  {
   "cell_type": "markdown",
   "metadata": {},
   "source": [
    "## Cluster\n",
    "\n",
    "We have set up a tiny dask cluster and now we'll see whether we get to use it. If so, this would be a pretty big win."
   ]
  },
  {
   "cell_type": "code",
   "execution_count": 20,
   "metadata": {},
   "outputs": [],
   "source": [
    "from prefect import task, Flow\n",
    "import datetime\n",
    "import random\n",
    "from time import sleep\n",
    "\n",
    "\n",
    "@task\n",
    "def inc(x):\n",
    "    sleep(random.random() / 10)\n",
    "    return x + 1\n",
    "\n",
    "\n",
    "@task\n",
    "def dec(x):\n",
    "    sleep(random.random() / 10)\n",
    "    return x - 1\n",
    "\n",
    "\n",
    "@task\n",
    "def add(x, y):\n",
    "    sleep(random.random() / 10)\n",
    "    return x + y\n",
    "\n",
    "\n",
    "@task(name=\"sum\")\n",
    "def list_sum(arr):\n",
    "    return sum(arr)\n",
    "\n",
    "\n",
    "with Flow(\"dask-example\") as flow_dask:\n",
    "    incs = inc.map(x=range(100))\n",
    "    decs = dec.map(x=range(100))\n",
    "    adds = add.map(x=incs, y=decs)\n",
    "    total = list_sum(adds)"
   ]
  },
  {
   "cell_type": "code",
   "execution_count": 21,
   "metadata": {},
   "outputs": [
    {
     "data": {
      "image/svg+xml": [
       "<?xml version=\"1.0\" encoding=\"UTF-8\" standalone=\"no\"?>\n",
       "<!DOCTYPE svg PUBLIC \"-//W3C//DTD SVG 1.1//EN\"\n",
       " \"http://www.w3.org/Graphics/SVG/1.1/DTD/svg11.dtd\">\n",
       "<!-- Generated by graphviz version 2.38.0 (20140413.2041)\n",
       " -->\n",
       "<!-- Title: %3 Pages: 1 -->\n",
       "<svg width=\"296pt\" height=\"305pt\"\n",
       " viewBox=\"0.00 0.00 296.19 305.00\" xmlns=\"http://www.w3.org/2000/svg\" xmlns:xlink=\"http://www.w3.org/1999/xlink\">\n",
       "<g id=\"graph0\" class=\"graph\" transform=\"scale(1 1) rotate(0) translate(4 301)\">\n",
       "<title>%3</title>\n",
       "<polygon fill=\"white\" stroke=\"none\" points=\"-4,4 -4,-301 292.188,-301 292.188,4 -4,4\"/>\n",
       "<!-- 140021389968384 -->\n",
       "<g id=\"node1\" class=\"node\"><title>140021389968384</title>\n",
       "<ellipse fill=\"none\" stroke=\"black\" cx=\"67.594\" cy=\"-279\" rx=\"67.6881\" ry=\"18\"/>\n",
       "<text text-anchor=\"middle\" x=\"67.594\" y=\"-275.3\" font-family=\"Times,serif\" font-size=\"14.00\">Constant[range]</text>\n",
       "</g>\n",
       "<!-- 140021389968272 -->\n",
       "<g id=\"node5\" class=\"node\"><title>140021389968272</title>\n",
       "<polygon fill=\"none\" stroke=\"black\" points=\"120.094,-210 43.094,-210 43.094,-174 120.094,-174 120.094,-210\"/>\n",
       "<text text-anchor=\"middle\" x=\"81.594\" y=\"-188.3\" font-family=\"Times,serif\" font-size=\"14.00\">inc &lt;map&gt;</text>\n",
       "</g>\n",
       "<!-- 140021389968384&#45;&gt;140021389968272 -->\n",
       "<g id=\"edge4\" class=\"edge\"><title>140021389968384&#45;&gt;140021389968272</title>\n",
       "<path fill=\"none\" stroke=\"black\" stroke-dasharray=\"5,2\" d=\"M70.4271,-260.799C72.3437,-249.163 74.9155,-233.548 77.1079,-220.237\"/>\n",
       "<polygon fill=\"black\" stroke=\"black\" points=\"80.5933,-220.611 78.7651,-210.175 73.6864,-219.474 80.5933,-220.611\"/>\n",
       "<text text-anchor=\"middle\" x=\"79.094\" y=\"-231.8\" font-family=\"Times,serif\" font-size=\"14.00\">x</text>\n",
       "</g>\n",
       "<!-- 140021389968608 -->\n",
       "<g id=\"node2\" class=\"node\"><title>140021389968608</title>\n",
       "<polygon fill=\"none\" stroke=\"black\" points=\"195.594,-123 115.594,-123 115.594,-87 195.594,-87 195.594,-123\"/>\n",
       "<text text-anchor=\"middle\" x=\"155.594\" y=\"-101.3\" font-family=\"Times,serif\" font-size=\"14.00\">add &lt;map&gt;</text>\n",
       "</g>\n",
       "<!-- 140021389967656 -->\n",
       "<g id=\"node4\" class=\"node\"><title>140021389967656</title>\n",
       "<ellipse fill=\"none\" stroke=\"black\" cx=\"155.594\" cy=\"-18\" rx=\"27\" ry=\"18\"/>\n",
       "<text text-anchor=\"middle\" x=\"155.594\" y=\"-14.3\" font-family=\"Times,serif\" font-size=\"14.00\">sum</text>\n",
       "</g>\n",
       "<!-- 140021389968608&#45;&gt;140021389967656 -->\n",
       "<g id=\"edge1\" class=\"edge\"><title>140021389968608&#45;&gt;140021389967656</title>\n",
       "<path fill=\"none\" stroke=\"black\" d=\"M155.594,-86.799C155.594,-75.1626 155.594,-59.5479 155.594,-46.2368\"/>\n",
       "<polygon fill=\"black\" stroke=\"black\" points=\"159.094,-46.1754 155.594,-36.1754 152.094,-46.1755 159.094,-46.1754\"/>\n",
       "<text text-anchor=\"middle\" x=\"163.594\" y=\"-57.8\" font-family=\"Times,serif\" font-size=\"14.00\">arr</text>\n",
       "</g>\n",
       "<!-- 140021389968328 -->\n",
       "<g id=\"node3\" class=\"node\"><title>140021389968328</title>\n",
       "<polygon fill=\"none\" stroke=\"black\" points=\"246.594,-210 166.594,-210 166.594,-174 246.594,-174 246.594,-210\"/>\n",
       "<text text-anchor=\"middle\" x=\"206.594\" y=\"-188.3\" font-family=\"Times,serif\" font-size=\"14.00\">dec &lt;map&gt;</text>\n",
       "</g>\n",
       "<!-- 140021389968328&#45;&gt;140021389968608 -->\n",
       "<g id=\"edge3\" class=\"edge\"><title>140021389968328&#45;&gt;140021389968608</title>\n",
       "<path fill=\"none\" stroke=\"black\" stroke-dasharray=\"5,2\" d=\"M196.273,-173.799C189.084,-161.817 179.364,-145.617 171.228,-132.057\"/>\n",
       "<polygon fill=\"black\" stroke=\"black\" points=\"174.045,-129.95 165.899,-123.175 168.043,-133.551 174.045,-129.95\"/>\n",
       "<text text-anchor=\"middle\" x=\"188.094\" y=\"-144.8\" font-family=\"Times,serif\" font-size=\"14.00\">y</text>\n",
       "</g>\n",
       "<!-- 140021389968272&#45;&gt;140021389968608 -->\n",
       "<g id=\"edge5\" class=\"edge\"><title>140021389968272&#45;&gt;140021389968608</title>\n",
       "<path fill=\"none\" stroke=\"black\" stroke-dasharray=\"5,2\" d=\"M96.569,-173.799C107.301,-161.471 121.921,-144.679 133.925,-130.89\"/>\n",
       "<polygon fill=\"black\" stroke=\"black\" points=\"136.715,-133.016 140.641,-123.175 131.435,-128.42 136.715,-133.016\"/>\n",
       "<text text-anchor=\"middle\" x=\"127.094\" y=\"-144.8\" font-family=\"Times,serif\" font-size=\"14.00\">x</text>\n",
       "</g>\n",
       "<!-- 140021389967544 -->\n",
       "<g id=\"node6\" class=\"node\"><title>140021389967544</title>\n",
       "<ellipse fill=\"none\" stroke=\"black\" cx=\"220.594\" cy=\"-279\" rx=\"67.6881\" ry=\"18\"/>\n",
       "<text text-anchor=\"middle\" x=\"220.594\" y=\"-275.3\" font-family=\"Times,serif\" font-size=\"14.00\">Constant[range]</text>\n",
       "</g>\n",
       "<!-- 140021389967544&#45;&gt;140021389968328 -->\n",
       "<g id=\"edge2\" class=\"edge\"><title>140021389967544&#45;&gt;140021389968328</title>\n",
       "<path fill=\"none\" stroke=\"black\" stroke-dasharray=\"5,2\" d=\"M217.761,-260.799C215.844,-249.163 213.272,-233.548 211.08,-220.237\"/>\n",
       "<polygon fill=\"black\" stroke=\"black\" points=\"214.502,-219.474 209.423,-210.175 207.595,-220.611 214.502,-219.474\"/>\n",
       "<text text-anchor=\"middle\" x=\"218.094\" y=\"-231.8\" font-family=\"Times,serif\" font-size=\"14.00\">x</text>\n",
       "</g>\n",
       "</g>\n",
       "</svg>\n"
      ],
      "text/plain": [
       "<graphviz.dot.Digraph at 0x7f5945302320>"
      ]
     },
     "execution_count": 21,
     "metadata": {},
     "output_type": "execute_result"
    }
   ],
   "source": [
    "flow_dask.visualize()"
   ]
  },
  {
   "cell_type": "code",
   "execution_count": 18,
   "metadata": {},
   "outputs": [],
   "source": [
    "from prefect.engine.executors import DaskExecutor\n",
    "\n",
    "executor = DaskExecutor(address=\"tcp://134.58.41.99:8786\")"
   ]
  },
  {
   "cell_type": "code",
   "execution_count": 38,
   "metadata": {},
   "outputs": [
    {
     "name": "stderr",
     "output_type": "stream",
     "text": [
      "[2019-08-20 09:29:35,418] INFO - prefect.FlowRunner | Beginning Flow run for 'dask-example'\n",
      "[2019-08-20 09:29:35,420] INFO - prefect.FlowRunner | Starting flow run.\n",
      "[2019-08-20 09:29:36,669] INFO - prefect.FlowRunner | Flow run SUCCESS: all reference tasks succeeded\n"
     ]
    }
   ],
   "source": [
    "state_dask = flow_dask.run(executor=executor)"
   ]
  },
  {
   "cell_type": "code",
   "execution_count": 48,
   "metadata": {},
   "outputs": [
    {
     "data": {
      "text/plain": [
       "<Success: \"All reference tasks succeeded.\">"
      ]
     },
     "execution_count": 48,
     "metadata": {},
     "output_type": "execute_result"
    }
   ],
   "source": [
    "state_dask"
   ]
  },
  {
   "cell_type": "code",
   "execution_count": 49,
   "metadata": {},
   "outputs": [
    {
     "data": {
      "text/plain": [
       "<Task: sum>"
      ]
     },
     "execution_count": 49,
     "metadata": {},
     "output_type": "execute_result"
    }
   ],
   "source": [
    "total"
   ]
  },
  {
   "cell_type": "code",
   "execution_count": 50,
   "metadata": {},
   "outputs": [
    {
     "data": {
      "text/plain": [
       "prefect.tasks.core.function.FunctionTask"
      ]
     },
     "execution_count": 50,
     "metadata": {},
     "output_type": "execute_result"
    }
   ],
   "source": [
    "type(total)"
   ]
  },
  {
   "cell_type": "code",
   "execution_count": 47,
   "metadata": {},
   "outputs": [
    {
     "data": {
      "text/plain": [
       "9900"
      ]
     },
     "execution_count": 47,
     "metadata": {},
     "output_type": "execute_result"
    }
   ],
   "source": [
    "# Total is actually a string that can be used to access the result of that task\n",
    "state_dask.result[total].result"
   ]
  },
  {
   "cell_type": "code",
   "execution_count": 54,
   "metadata": {},
   "outputs": [
    {
     "data": {
      "text/plain": [
       "9900"
      ]
     },
     "execution_count": 54,
     "metadata": {},
     "output_type": "execute_result"
    }
   ],
   "source": [
    "sum(range(1, 101)) + sum(range(-1,99))"
   ]
  },
  {
   "cell_type": "markdown",
   "metadata": {},
   "source": [
    "Alright, this somehow runs on a dask cluster now and that makes me pretty happy."
   ]
  },
  {
   "cell_type": "code",
   "execution_count": 55,
   "metadata": {},
   "outputs": [
    {
     "data": {
      "text/plain": [
       "'tcp://134.58.41.99:8786'"
      ]
     },
     "execution_count": 55,
     "metadata": {},
     "output_type": "execute_result"
    }
   ],
   "source": [
    "executor.address"
   ]
  },
  {
   "cell_type": "markdown",
   "metadata": {},
   "source": [
    "# Big Task"
   ]
  },
  {
   "cell_type": "code",
   "execution_count": 60,
   "metadata": {},
   "outputs": [],
   "source": [
    "from prefect import task, Flow\n",
    "import datetime\n",
    "import random\n",
    "from time import sleep\n",
    "\n",
    "\n",
    "@task\n",
    "def inc(x):\n",
    "    return x + 1\n",
    "\n",
    "@task\n",
    "def double(x):\n",
    "    return x*2\n",
    "\n",
    "\n",
    "@task\n",
    "def half(x):\n",
    "    return x/2\n",
    "\n",
    "\n",
    "@task\n",
    "def dec(x):\n",
    "    return x - 1\n",
    "\n",
    "\n",
    "@task\n",
    "def add(x, y):\n",
    "    return x + y\n",
    "\n",
    "\n",
    "@task(name=\"sum\")\n",
    "def list_sum(arr):\n",
    "    return sum(arr)\n",
    "\n",
    "\n",
    "with Flow(\"dask-example\") as flow_dask_02:\n",
    "    our_range = range(10**3)\n",
    "    incs = inc.map(x=our_range)\n",
    "    decs = dec.map(x=our_range)\n",
    "    \n",
    "    halves = half.map(x=our_range)\n",
    "    double = double.map(x=our_range)\n",
    "    \n",
    "    adds = add.map(x=incs, y=decs)\n",
    "    adds_2 = add.map(x=adds, y=halves)\n",
    "    adds_3 = add.map(x=adds_2, y=double)\n",
    "    total = list_sum(adds_3)"
   ]
  },
  {
   "cell_type": "code",
   "execution_count": 61,
   "metadata": {},
   "outputs": [
    {
     "data": {
      "image/svg+xml": [
       "<?xml version=\"1.0\" encoding=\"UTF-8\" standalone=\"no\"?>\n",
       "<!DOCTYPE svg PUBLIC \"-//W3C//DTD SVG 1.1//EN\"\n",
       " \"http://www.w3.org/Graphics/SVG/1.1/DTD/svg11.dtd\">\n",
       "<!-- Generated by graphviz version 2.38.0 (20140413.2041)\n",
       " -->\n",
       "<!-- Title: %3 Pages: 1 -->\n",
       "<svg width=\"395pt\" height=\"479pt\"\n",
       " viewBox=\"0.00 0.00 395.19 479.00\" xmlns=\"http://www.w3.org/2000/svg\" xmlns:xlink=\"http://www.w3.org/1999/xlink\">\n",
       "<g id=\"graph0\" class=\"graph\" transform=\"scale(1 1) rotate(0) translate(4 475)\">\n",
       "<title>%3</title>\n",
       "<polygon fill=\"white\" stroke=\"none\" points=\"-4,4 -4,-475 391.188,-475 391.188,4 -4,4\"/>\n",
       "<!-- 140021384912064 -->\n",
       "<g id=\"node1\" class=\"node\"><title>140021384912064</title>\n",
       "<ellipse fill=\"none\" stroke=\"black\" cx=\"318.594\" cy=\"-453\" rx=\"67.6881\" ry=\"18\"/>\n",
       "<text text-anchor=\"middle\" x=\"318.594\" y=\"-449.3\" font-family=\"Times,serif\" font-size=\"14.00\">Constant[range]</text>\n",
       "</g>\n",
       "<!-- 140021389308648 -->\n",
       "<g id=\"node3\" class=\"node\"><title>140021389308648</title>\n",
       "<polygon fill=\"none\" stroke=\"black\" points=\"343.094,-384 266.094,-384 266.094,-348 343.094,-348 343.094,-384\"/>\n",
       "<text text-anchor=\"middle\" x=\"304.594\" y=\"-362.3\" font-family=\"Times,serif\" font-size=\"14.00\">inc &lt;map&gt;</text>\n",
       "</g>\n",
       "<!-- 140021384912064&#45;&gt;140021389308648 -->\n",
       "<g id=\"edge1\" class=\"edge\"><title>140021384912064&#45;&gt;140021389308648</title>\n",
       "<path fill=\"none\" stroke=\"black\" stroke-dasharray=\"5,2\" d=\"M315.761,-434.799C313.844,-423.163 311.272,-407.548 309.08,-394.237\"/>\n",
       "<polygon fill=\"black\" stroke=\"black\" points=\"312.502,-393.474 307.423,-384.175 305.595,-394.611 312.502,-393.474\"/>\n",
       "<text text-anchor=\"middle\" x=\"315.094\" y=\"-405.8\" font-family=\"Times,serif\" font-size=\"14.00\">x</text>\n",
       "</g>\n",
       "<!-- 140021390115224 -->\n",
       "<g id=\"node2\" class=\"node\"><title>140021390115224</title>\n",
       "<ellipse fill=\"none\" stroke=\"black\" cx=\"261.594\" cy=\"-18\" rx=\"27\" ry=\"18\"/>\n",
       "<text text-anchor=\"middle\" x=\"261.594\" y=\"-14.3\" font-family=\"Times,serif\" font-size=\"14.00\">sum</text>\n",
       "</g>\n",
       "<!-- 140021388963176 -->\n",
       "<g id=\"node6\" class=\"node\"><title>140021388963176</title>\n",
       "<polygon fill=\"none\" stroke=\"black\" points=\"233.594,-297 153.594,-297 153.594,-261 233.594,-261 233.594,-297\"/>\n",
       "<text text-anchor=\"middle\" x=\"193.594\" y=\"-275.3\" font-family=\"Times,serif\" font-size=\"14.00\">add &lt;map&gt;</text>\n",
       "</g>\n",
       "<!-- 140021389308648&#45;&gt;140021388963176 -->\n",
       "<g id=\"edge11\" class=\"edge\"><title>140021389308648&#45;&gt;140021388963176</title>\n",
       "<path fill=\"none\" stroke=\"black\" stroke-dasharray=\"5,2\" d=\"M282.131,-347.799C265.431,-335.01 242.456,-317.417 224.095,-303.357\"/>\n",
       "<polygon fill=\"black\" stroke=\"black\" points=\"226.091,-300.476 216.023,-297.175 221.835,-306.034 226.091,-300.476\"/>\n",
       "<text text-anchor=\"middle\" x=\"259.094\" y=\"-318.8\" font-family=\"Times,serif\" font-size=\"14.00\">x</text>\n",
       "</g>\n",
       "<!-- 140021384912232 -->\n",
       "<g id=\"node4\" class=\"node\"><title>140021384912232</title>\n",
       "<polygon fill=\"none\" stroke=\"black\" points=\"122.594,-297 40.594,-297 40.594,-261 122.594,-261 122.594,-297\"/>\n",
       "<text text-anchor=\"middle\" x=\"81.594\" y=\"-275.3\" font-family=\"Times,serif\" font-size=\"14.00\">half &lt;map&gt;</text>\n",
       "</g>\n",
       "<!-- 140021390114888 -->\n",
       "<g id=\"node7\" class=\"node\"><title>140021390114888</title>\n",
       "<polygon fill=\"none\" stroke=\"black\" points=\"233.594,-210 153.594,-210 153.594,-174 233.594,-174 233.594,-210\"/>\n",
       "<text text-anchor=\"middle\" x=\"193.594\" y=\"-188.3\" font-family=\"Times,serif\" font-size=\"14.00\">add &lt;map&gt;</text>\n",
       "</g>\n",
       "<!-- 140021384912232&#45;&gt;140021390114888 -->\n",
       "<g id=\"edge2\" class=\"edge\"><title>140021384912232&#45;&gt;140021390114888</title>\n",
       "<path fill=\"none\" stroke=\"black\" stroke-dasharray=\"5,2\" d=\"M104.259,-260.799C121.11,-248.01 144.292,-230.417 162.818,-216.357\"/>\n",
       "<polygon fill=\"black\" stroke=\"black\" points=\"165.113,-219.009 170.963,-210.175 160.881,-213.433 165.113,-219.009\"/>\n",
       "<text text-anchor=\"middle\" x=\"147.094\" y=\"-231.8\" font-family=\"Times,serif\" font-size=\"14.00\">y</text>\n",
       "</g>\n",
       "<!-- 140021384912456 -->\n",
       "<g id=\"node5\" class=\"node\"><title>140021384912456</title>\n",
       "<polygon fill=\"none\" stroke=\"black\" points=\"358.594,-210 260.594,-210 260.594,-174 358.594,-174 358.594,-210\"/>\n",
       "<text text-anchor=\"middle\" x=\"309.594\" y=\"-188.3\" font-family=\"Times,serif\" font-size=\"14.00\">double &lt;map&gt;</text>\n",
       "</g>\n",
       "<!-- 140021390115000 -->\n",
       "<g id=\"node12\" class=\"node\"><title>140021390115000</title>\n",
       "<polygon fill=\"none\" stroke=\"black\" points=\"301.594,-123 221.594,-123 221.594,-87 301.594,-87 301.594,-123\"/>\n",
       "<text text-anchor=\"middle\" x=\"261.594\" y=\"-101.3\" font-family=\"Times,serif\" font-size=\"14.00\">add &lt;map&gt;</text>\n",
       "</g>\n",
       "<!-- 140021384912456&#45;&gt;140021390115000 -->\n",
       "<g id=\"edge9\" class=\"edge\"><title>140021384912456&#45;&gt;140021390115000</title>\n",
       "<path fill=\"none\" stroke=\"black\" stroke-dasharray=\"5,2\" d=\"M299.88,-173.799C293.114,-161.817 283.966,-145.617 276.309,-132.057\"/>\n",
       "<polygon fill=\"black\" stroke=\"black\" points=\"279.258,-130.162 271.293,-123.175 273.163,-133.604 279.258,-130.162\"/>\n",
       "<text text-anchor=\"middle\" x=\"291.094\" y=\"-144.8\" font-family=\"Times,serif\" font-size=\"14.00\">y</text>\n",
       "</g>\n",
       "<!-- 140021388963176&#45;&gt;140021390114888 -->\n",
       "<g id=\"edge10\" class=\"edge\"><title>140021388963176&#45;&gt;140021390114888</title>\n",
       "<path fill=\"none\" stroke=\"black\" stroke-dasharray=\"5,2\" d=\"M193.594,-260.799C193.594,-249.163 193.594,-233.548 193.594,-220.237\"/>\n",
       "<polygon fill=\"black\" stroke=\"black\" points=\"197.094,-220.175 193.594,-210.175 190.094,-220.175 197.094,-220.175\"/>\n",
       "<text text-anchor=\"middle\" x=\"197.094\" y=\"-231.8\" font-family=\"Times,serif\" font-size=\"14.00\">x</text>\n",
       "</g>\n",
       "<!-- 140021390114888&#45;&gt;140021390115000 -->\n",
       "<g id=\"edge6\" class=\"edge\"><title>140021390114888&#45;&gt;140021390115000</title>\n",
       "<path fill=\"none\" stroke=\"black\" stroke-dasharray=\"5,2\" d=\"M207.355,-173.799C217.125,-161.587 230.4,-144.992 241.372,-131.278\"/>\n",
       "<polygon fill=\"black\" stroke=\"black\" points=\"244.34,-133.171 247.854,-123.175 238.874,-128.798 244.34,-133.171\"/>\n",
       "<text text-anchor=\"middle\" x=\"235.094\" y=\"-144.8\" font-family=\"Times,serif\" font-size=\"14.00\">x</text>\n",
       "</g>\n",
       "<!-- 140021384912568 -->\n",
       "<g id=\"node8\" class=\"node\"><title>140021384912568</title>\n",
       "<ellipse fill=\"none\" stroke=\"black\" cx=\"67.594\" cy=\"-366\" rx=\"67.6881\" ry=\"18\"/>\n",
       "<text text-anchor=\"middle\" x=\"67.594\" y=\"-362.3\" font-family=\"Times,serif\" font-size=\"14.00\">Constant[range]</text>\n",
       "</g>\n",
       "<!-- 140021384912568&#45;&gt;140021384912232 -->\n",
       "<g id=\"edge4\" class=\"edge\"><title>140021384912568&#45;&gt;140021384912232</title>\n",
       "<path fill=\"none\" stroke=\"black\" stroke-dasharray=\"5,2\" d=\"M70.4271,-347.799C72.3437,-336.163 74.9155,-320.548 77.1079,-307.237\"/>\n",
       "<polygon fill=\"black\" stroke=\"black\" points=\"80.5933,-307.611 78.7651,-297.175 73.6864,-306.474 80.5933,-307.611\"/>\n",
       "<text text-anchor=\"middle\" x=\"79.094\" y=\"-318.8\" font-family=\"Times,serif\" font-size=\"14.00\">x</text>\n",
       "</g>\n",
       "<!-- 140021384912176 -->\n",
       "<g id=\"node9\" class=\"node\"><title>140021384912176</title>\n",
       "<polygon fill=\"none\" stroke=\"black\" points=\"233.594,-384 153.594,-384 153.594,-348 233.594,-348 233.594,-384\"/>\n",
       "<text text-anchor=\"middle\" x=\"193.594\" y=\"-362.3\" font-family=\"Times,serif\" font-size=\"14.00\">dec &lt;map&gt;</text>\n",
       "</g>\n",
       "<!-- 140021384912176&#45;&gt;140021388963176 -->\n",
       "<g id=\"edge5\" class=\"edge\"><title>140021384912176&#45;&gt;140021388963176</title>\n",
       "<path fill=\"none\" stroke=\"black\" stroke-dasharray=\"5,2\" d=\"M193.594,-347.799C193.594,-336.163 193.594,-320.548 193.594,-307.237\"/>\n",
       "<polygon fill=\"black\" stroke=\"black\" points=\"197.094,-307.175 193.594,-297.175 190.094,-307.175 197.094,-307.175\"/>\n",
       "<text text-anchor=\"middle\" x=\"197.094\" y=\"-318.8\" font-family=\"Times,serif\" font-size=\"14.00\">y</text>\n",
       "</g>\n",
       "<!-- 140021384912792 -->\n",
       "<g id=\"node10\" class=\"node\"><title>140021384912792</title>\n",
       "<ellipse fill=\"none\" stroke=\"black\" cx=\"319.594\" cy=\"-279\" rx=\"67.6881\" ry=\"18\"/>\n",
       "<text text-anchor=\"middle\" x=\"319.594\" y=\"-275.3\" font-family=\"Times,serif\" font-size=\"14.00\">Constant[range]</text>\n",
       "</g>\n",
       "<!-- 140021384912792&#45;&gt;140021384912456 -->\n",
       "<g id=\"edge3\" class=\"edge\"><title>140021384912792&#45;&gt;140021384912456</title>\n",
       "<path fill=\"none\" stroke=\"black\" stroke-dasharray=\"5,2\" d=\"M317.57,-260.799C316.201,-249.163 314.364,-233.548 312.798,-220.237\"/>\n",
       "<polygon fill=\"black\" stroke=\"black\" points=\"316.259,-219.698 311.615,-210.175 309.307,-220.516 316.259,-219.698\"/>\n",
       "<text text-anchor=\"middle\" x=\"318.094\" y=\"-231.8\" font-family=\"Times,serif\" font-size=\"14.00\">x</text>\n",
       "</g>\n",
       "<!-- 140021384912344 -->\n",
       "<g id=\"node11\" class=\"node\"><title>140021384912344</title>\n",
       "<ellipse fill=\"none\" stroke=\"black\" cx=\"165.594\" cy=\"-453\" rx=\"67.6881\" ry=\"18\"/>\n",
       "<text text-anchor=\"middle\" x=\"165.594\" y=\"-449.3\" font-family=\"Times,serif\" font-size=\"14.00\">Constant[range]</text>\n",
       "</g>\n",
       "<!-- 140021384912344&#45;&gt;140021384912176 -->\n",
       "<g id=\"edge8\" class=\"edge\"><title>140021384912344&#45;&gt;140021384912176</title>\n",
       "<path fill=\"none\" stroke=\"black\" stroke-dasharray=\"5,2\" d=\"M171.26,-434.799C175.131,-423.047 180.339,-407.238 184.752,-393.842\"/>\n",
       "<polygon fill=\"black\" stroke=\"black\" points=\"188.132,-394.768 187.936,-384.175 181.483,-392.578 188.132,-394.768\"/>\n",
       "<text text-anchor=\"middle\" x=\"184.094\" y=\"-405.8\" font-family=\"Times,serif\" font-size=\"14.00\">x</text>\n",
       "</g>\n",
       "<!-- 140021390115000&#45;&gt;140021390115224 -->\n",
       "<g id=\"edge7\" class=\"edge\"><title>140021390115000&#45;&gt;140021390115224</title>\n",
       "<path fill=\"none\" stroke=\"black\" d=\"M261.594,-86.799C261.594,-75.1626 261.594,-59.5479 261.594,-46.2368\"/>\n",
       "<polygon fill=\"black\" stroke=\"black\" points=\"265.094,-46.1754 261.594,-36.1754 258.094,-46.1755 265.094,-46.1754\"/>\n",
       "<text text-anchor=\"middle\" x=\"269.594\" y=\"-57.8\" font-family=\"Times,serif\" font-size=\"14.00\">arr</text>\n",
       "</g>\n",
       "</g>\n",
       "</svg>\n"
      ],
      "text/plain": [
       "<graphviz.dot.Digraph at 0x7f5945380470>"
      ]
     },
     "execution_count": 61,
     "metadata": {},
     "output_type": "execute_result"
    }
   ],
   "source": [
    "flow_dask_02.visualize()"
   ]
  },
  {
   "cell_type": "code",
   "execution_count": 58,
   "metadata": {},
   "outputs": [
    {
     "name": "stderr",
     "output_type": "stream",
     "text": [
      "[2019-08-20 09:32:48,263] INFO - prefect.FlowRunner | Beginning Flow run for 'dask-example'\n",
      "[2019-08-20 09:32:48,265] INFO - prefect.FlowRunner | Starting flow run.\n",
      "[2019-08-20 09:32:59,677] INFO - prefect.FlowRunner | Flow run SUCCESS: all reference tasks succeeded\n"
     ]
    }
   ],
   "source": [
    "state_big_flow = flow_dask_02.run(executor=executor)"
   ]
  },
  {
   "cell_type": "code",
   "execution_count": 59,
   "metadata": {},
   "outputs": [
    {
     "data": {
      "text/plain": [
       "2247750.0"
      ]
     },
     "execution_count": 59,
     "metadata": {},
     "output_type": "execute_result"
    }
   ],
   "source": [
    "state_big_flow.result[total].result"
   ]
  }
 ],
 "metadata": {
  "kernelspec": {
   "display_name": "db1819",
   "language": "python",
   "name": "db1819"
  },
  "language_info": {
   "codemirror_mode": {
    "name": "ipython",
    "version": 3
   },
   "file_extension": ".py",
   "mimetype": "text/x-python",
   "name": "python",
   "nbconvert_exporter": "python",
   "pygments_lexer": "ipython3",
   "version": "3.6.8"
  },
  "toc-autonumbering": true
 },
 "nbformat": 4,
 "nbformat_minor": 4
}
