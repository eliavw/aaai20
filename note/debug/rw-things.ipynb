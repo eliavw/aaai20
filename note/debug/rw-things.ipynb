{
 "cells": [
  {
   "cell_type": "code",
   "execution_count": 1,
   "metadata": {},
   "outputs": [],
   "source": [
    "import aaai20\n",
    "import numpy as np\n",
    "import pandas as pd\n",
    "from aaai20.io import build_filesystem, filename_query, filename_dataset, filename_model\n",
    "from joblib import dump, load\n",
    "\n",
    "from mercs.utils.encoding import code_to_query, encode_attribute, get_att, query_to_code"
   ]
  },
  {
   "cell_type": "code",
   "execution_count": 2,
   "metadata": {},
   "outputs": [],
   "source": [
    "import mercs\n",
    "\n",
    "from mercs import Mercs"
   ]
  },
  {
   "cell_type": "code",
   "execution_count": 3,
   "metadata": {},
   "outputs": [],
   "source": [
    "nb_atts = 10**4\n",
    "\n",
    "a = np.zeros((10**4, nb_atts))\n",
    "\n",
    "idxs = np.random.randint(nb_atts, size=4500)"
   ]
  },
  {
   "cell_type": "raw",
   "metadata": {},
   "source": [
    "%%timeit\n",
    "x = a[:, idxs]\n",
    "\n",
    "%%timeit\n",
    "x = np.stack([a[:, i] for i in idxs], axis=1)\n",
    "\n",
    "%%timeit\n",
    "x = np.stack([a.take(i, axis=1) for i in idxs])\n",
    "\n",
    "%%timeit\n",
    "x = a.take(idxs, axis=1)"
   ]
  },
  {
   "cell_type": "code",
   "execution_count": null,
   "metadata": {},
   "outputs": [],
   "source": []
  },
  {
   "cell_type": "code",
   "execution_count": null,
   "metadata": {},
   "outputs": [],
   "source": []
  },
  {
   "cell_type": "code",
   "execution_count": null,
   "metadata": {},
   "outputs": [],
   "source": []
  },
  {
   "cell_type": "code",
   "execution_count": 4,
   "metadata": {},
   "outputs": [
    {
     "data": {
      "text/plain": [
       "10000"
      ]
     },
     "execution_count": 4,
     "metadata": {},
     "output_type": "execute_result"
    }
   ],
   "source": [
    "t = a.take(1, axis=1)\n",
    "\n",
    "t.size"
   ]
  },
  {
   "cell_type": "code",
   "execution_count": 5,
   "metadata": {},
   "outputs": [],
   "source": [
    "# Get queries\n",
    "\n",
    "fs = build_filesystem()\n",
    "\n",
    "dataset='nltcs'"
   ]
  },
  {
   "cell_type": "raw",
   "metadata": {},
   "source": [
    "suffix = [\"mercs\", 'md8-random']\n",
    "fn_mod = filename_model(dataset, suffix=suffix, extension=\"lz4\")\n",
    "\n",
    "clf = load(fn_mod)"
   ]
  },
  {
   "cell_type": "code",
   "execution_count": 6,
   "metadata": {},
   "outputs": [],
   "source": [
    "fn_qry = filename_query(dataset, suffix=\"default\")\n",
    "q_codes = np.load(fn_qry)"
   ]
  },
  {
   "cell_type": "code",
   "execution_count": 7,
   "metadata": {},
   "outputs": [],
   "source": [
    "fn_train = filename_dataset(dataset, step=2, suffix=\"train\", extension=\"csv\")\n",
    "df_train = pd.read_csv(fn_train, header=None, index_col=None)\n",
    "train = df_train.values\n",
    "\n",
    "fn_test = filename_dataset(dataset, step=2, suffix=\"test\", extension=\"csv\")\n",
    "df = pd.read_csv(fn_test, header=None, index_col=None)"
   ]
  },
  {
   "cell_type": "code",
   "execution_count": 8,
   "metadata": {},
   "outputs": [
    {
     "name": "stderr",
     "output_type": "stream",
     "text": [
      "/cw/dtailocal/repos/mercs/src/mercs/algo/induction.py:99: UserWarning: \n",
      "        Training is being parallellized using Joblib. Number of jobs = 8\n",
      "        \n",
      "  warnings.warn(msg)\n",
      "[Parallel(n_jobs=8)]: Using backend LokyBackend with 8 concurrent workers.\n",
      "[Parallel(n_jobs=8)]: Done   2 out of   8 | elapsed:    2.5s remaining:    7.6s\n",
      "[Parallel(n_jobs=8)]: Done   8 out of   8 | elapsed:    3.0s finished\n"
     ]
    }
   ],
   "source": [
    "clf = Mercs(max_depth=2, nb_iterations=1, n_jobs=8, selection_algorithm=\"random\", nb_targets=2, fraction_missing=0, verbose=1)\n",
    "clf.fit(train, verbose=1)\n"
   ]
  },
  {
   "cell_type": "code",
   "execution_count": 9,
   "metadata": {},
   "outputs": [
    {
     "data": {
      "text/plain": [
       "array([[0.        , 0.        , 0.        , 0.        , 0.        ,\n",
       "        0.75602224, 0.        , 0.        , 0.75602224, 0.        ,\n",
       "        0.        , 0.        , 0.        , 0.        , 0.        ,\n",
       "        0.        ],\n",
       "       [0.        , 0.        , 0.73872761, 0.        , 0.        ,\n",
       "        0.        , 0.        , 0.        , 0.        , 0.        ,\n",
       "        0.        , 0.        , 0.73872761, 0.        , 0.        ,\n",
       "        0.        ],\n",
       "       [0.        , 0.        , 0.        , 0.        , 0.        ,\n",
       "        0.        , 0.        , 0.        , 0.        , 0.        ,\n",
       "        0.80481779, 0.        , 0.        , 0.        , 0.        ,\n",
       "        0.80481779],\n",
       "       [0.        , 0.        , 0.        , 0.        , 0.69363805,\n",
       "        0.        , 0.        , 0.        , 0.        , 0.        ,\n",
       "        0.        , 0.        , 0.        , 0.        , 0.69363805,\n",
       "        0.        ],\n",
       "       [0.81593576, 0.        , 0.        , 0.        , 0.        ,\n",
       "        0.        , 0.81593576, 0.        , 0.        , 0.        ,\n",
       "        0.        , 0.        , 0.        , 0.        , 0.        ,\n",
       "        0.        ],\n",
       "       [0.        , 0.        , 0.        , 0.61581223, 0.        ,\n",
       "        0.        , 0.        , 0.        , 0.        , 0.        ,\n",
       "        0.        , 0.61581223, 0.        , 0.        , 0.        ,\n",
       "        0.        ],\n",
       "       [0.        , 0.        , 0.        , 0.        , 0.        ,\n",
       "        0.        , 0.        , 0.62445954, 0.        , 0.62445954,\n",
       "        0.        , 0.        , 0.        , 0.        , 0.        ,\n",
       "        0.        ],\n",
       "       [0.        , 0.70043237, 0.        , 0.        , 0.        ,\n",
       "        0.        , 0.        , 0.        , 0.        , 0.        ,\n",
       "        0.        , 0.        , 0.        , 0.70043237, 0.        ,\n",
       "        0.        ]])"
      ]
     },
     "execution_count": 9,
     "metadata": {},
     "output_type": "execute_result"
    }
   ],
   "source": [
    "clf.m_score"
   ]
  },
  {
   "cell_type": "code",
   "execution_count": 10,
   "metadata": {},
   "outputs": [
    {
     "data": {
      "text/plain": [
       "8"
      ]
     },
     "execution_count": 10,
     "metadata": {},
     "output_type": "execute_result"
    }
   ],
   "source": [
    "len(clf.m_list)"
   ]
  },
  {
   "cell_type": "code",
   "execution_count": 11,
   "metadata": {},
   "outputs": [],
   "source": [
    "q_idx = 16\n",
    "q_code = q_codes[q_idx]"
   ]
  },
  {
   "cell_type": "raw",
   "metadata": {},
   "source": [
    "q_idx = 0\n",
    "q_code = q_codes[q_idx]"
   ]
  },
  {
   "cell_type": "code",
   "execution_count": 12,
   "metadata": {},
   "outputs": [],
   "source": [
    "test = df.values\n",
    "test = test.astype(float)\n",
    "target_ids = get_att(q_code, kind=\"targ\").tolist()\n",
    "\n",
    "y_true = test[:, target_ids].copy()  # Extract ground truth\n",
    "test[\n",
    "    :, target_ids\n",
    "] = np.nan  # Ensure the answers never enter the algorithm"
   ]
  },
  {
   "cell_type": "code",
   "execution_count": 13,
   "metadata": {},
   "outputs": [
    {
     "name": "stdout",
     "output_type": "stream",
     "text": [
      " "
     ]
    },
    {
     "data": {
      "text/plain": [
       "         7432 function calls (7169 primitive calls) in 0.021 seconds\n",
       "\n",
       "   Ordered by: internal time\n",
       "\n",
       "   ncalls  tottime  percall  cumtime  percall filename:lineno(function)\n",
       "       76    0.003    0.000    0.003    0.000 {method 'reduce' of 'numpy.ufunc' objects}\n",
       "  327/199    0.002    0.000    0.008    0.000 {built-in method numpy.core._multiarray_umath.implement_array_function}\n",
       "       62    0.001    0.000    0.001    0.000 arraysetops.py:297(_unique1d)\n",
       "       32    0.001    0.000    0.001    0.000 {method 'take' of 'numpy.ndarray' objects}\n",
       "       18    0.001    0.000    0.001    0.000 arraysetops.py:483(in1d)\n",
       "        6    0.001    0.000    0.001    0.000 {method 'predict' of 'sklearn.tree._tree.Tree' objects}\n",
       "        8    0.001    0.000    0.004    0.000 _base.py:368(transform)\n",
       "      343    0.001    0.000    0.001    0.000 graph.py:663(nodes)\n",
       "      298    0.001    0.000    0.001    0.000 {built-in method numpy.array}\n",
       "       18    0.000    0.000    0.001    0.000 vector_prediction.py:227(criterion)\n",
       "     93/1    0.000    0.000    0.013    0.013 inference_v3.py:158(compute)\n",
       "       14    0.000    0.000    0.002    0.000 validation.py:36(_assert_all_finite)\n",
       "       14    0.000    0.000    0.003    0.000 validation.py:332(check_array)\n",
       "        8    0.000    0.000    0.001    0.000 inference_v3.py:106(nominal_data_node)\n",
       "        6    0.000    0.000    0.000    0.000 vector_prediction.py:275(_greedy_pick)\n",
       "        1    0.000    0.000    0.002    0.002 inference_v3.py:17(inference_algorithm)\n",
       "      340    0.000    0.000    0.000    0.000 reportviews.py:177(__getitem__)\n",
       "        1    0.000    0.000    0.001    0.001 tree.py:819(predict_proba)\n",
       "       62    0.000    0.000    0.000    0.000 {method 'sort' of 'numpy.ndarray' objects}\n",
       "        8    0.000    0.000    0.000    0.000 {method 'repeat' of 'numpy.ndarray' objects}\n",
       "       88    0.000    0.000    0.000    0.000 {built-in method numpy.empty}\n",
       "        1    0.000    0.000    0.006    0.006 vector_prediction.py:70(it)\n",
       "        6    0.000    0.000    0.000    0.000 digraph.py:643(add_edges_from)\n",
       "       48    0.000    0.000    0.002    0.000 fromnumeric.py:73(_wrapreduction)\n",
       "        6    0.000    0.000    0.002    0.000 vector_prediction.py:23(mrai)\n",
       "       62    0.000    0.000    0.002    0.000 arraysetops.py:151(unique)\n",
       "        1    0.000    0.000    0.023    0.023 Mercs.py:185(predict)\n",
       "       24    0.000    0.000    0.000    0.000 __init__.py:708(is_scalar_nan)\n",
       "       62    0.000    0.000    0.000    0.000 {method 'flatten' of 'numpy.ndarray' objects}\n",
       "        8    0.000    0.000    0.000    0.000 {method 'argmax' of 'numpy.ndarray' objects}\n",
       "      190    0.000    0.000    0.000    0.000 {built-in method builtins.hasattr}\n",
       "       42    0.000    0.000    0.002    0.000 fromnumeric.py:2045(sum)\n",
       "      219    0.000    0.000    0.000    0.000 {built-in method builtins.isinstance}\n",
       "      240    0.000    0.000    0.000    0.000 _asarray.py:88(asanyarray)\n",
       "      343    0.000    0.000    0.000    0.000 reportviews.py:167(__init__)\n",
       "      215    0.000    0.000    0.000    0.000 {method 'update' of 'dict' objects}\n",
       "        6    0.000    0.000    0.000    0.000 q_diagram.py:38(build_diagram_single_layer)\n",
       "       18    0.000    0.000    0.002    0.000 arraysetops.py:744(setdiff1d)\n",
       "       46    0.000    0.000    0.000    0.000 {built-in method _abc._abc_instancecheck}\n",
       "        9    0.000    0.000    0.000    0.000 encoding.py:48(get_att)\n",
       "       62    0.000    0.000    0.002    0.000 <__array_function__ internals>:2(unique)\n",
       "       16    0.000    0.000    0.000    0.000 _base.py:33(_get_mask)\n",
       "        1    0.000    0.000    0.023    0.023 {built-in method builtins.exec}\n",
       "      348    0.000    0.000    0.000    0.000 {built-in method builtins.len}\n",
       "        6    0.000    0.000    0.001    0.000 vector_prediction.py:250(pick)\n",
       "        6    0.000    0.000    0.000    0.000 encoding.py:52(get_att_2d)\n",
       "       60    0.000    0.000    0.001    0.000 <__array_function__ internals>:2(where)\n",
       "       60    0.000    0.000    0.000    0.000 {method 'reshape' of 'numpy.ndarray' objects}\n",
       "       14    0.000    0.000    0.001    0.000 extmath.py:663(_safe_accumulator_op)\n",
       "        1    0.000    0.000    0.000    0.000 NewCompositeModel.py:76(clean_cache)\n",
       "       42    0.000    0.000    0.002    0.000 <__array_function__ internals>:2(sum)\n",
       "       14    0.000    0.000    0.000    0.000 validation.py:866(check_is_fitted)\n",
       "        8    0.000    0.000    0.004    0.001 inference_v3.py:71(f)\n",
       "      6/1    0.000    0.000    0.012    0.012 inference_v3.py:193(<listcomp>)\n",
       "        1    0.000    0.000    0.000    0.000 inspect.py:2117(_signature_from_function)\n",
       "       14    0.000    0.000    0.000    0.000 warnings.py:474(__enter__)\n",
       "      309    0.000    0.000    0.000    0.000 {method 'get' of 'dict' objects}\n",
       "        8    0.000    0.000    0.002    0.000 _base.py:180(_validate_input)\n",
       "        6    0.000    0.000    0.001    0.000 shape_base.py:356(stack)\n",
       "        6    0.000    0.000    0.000    0.000 shape_base.py:431(<listcomp>)\n",
       "       15    0.000    0.000    0.000    0.000 {method 'astype' of 'numpy.ndarray' objects}\n",
       "      6/1    0.000    0.000    0.013    0.013 inference_v3.py:144(f2)\n",
       "       48    0.000    0.000    0.000    0.000 fromnumeric.py:74(<dictcomp>)\n",
       "      8/1    0.000    0.000    0.013    0.013 inference_v3.py:179(<listcomp>)\n",
       "       46    0.000    0.000    0.000    0.000 {built-in method _abc._abc_subclasscheck}\n",
       "       14    0.000    0.000    0.000    0.000 validation.py:131(_num_samples)\n",
       "       14    0.000    0.000    0.000    0.000 warnings.py:181(_add_filter)\n",
       "       29    0.000    0.000    0.001    0.000 <__array_function__ internals>:2(concatenate)\n",
       "        1    0.000    0.000    0.001    0.001 q_diagram.py:14(build_diagram)\n",
       "        9    0.000    0.000    0.000    0.000 shape_base.py:285(hstack)\n",
       "       14    0.000    0.000    0.000    0.000 numerictypes.py:365(issubdtype)\n",
       "       52    0.000    0.000    0.000    0.000 {method 'ravel' of 'numpy.ndarray' objects}\n",
       "       62    0.000    0.000    0.000    0.000 arraysetops.py:138(_unpack_tuple)\n",
       "        6    0.000    0.000    0.000    0.000 inference_v3.py:130(model_node)\n",
       "        1    0.000    0.000    0.000    0.000 dag.py:75(ancestors)\n",
       "        6    0.000    0.000    0.000    0.000 Mercs.py:617(_update_dictionary)\n",
       "       14    0.000    0.000    0.000    0.000 {method 'remove' of 'list' objects}\n",
       "        8    0.000    0.000    0.000    0.000 {method 'fill' of 'numpy.ndarray' objects}\n",
       "       14    0.000    0.000    0.000    0.000 numeric.py:166(ones)\n",
       "       14    0.000    0.000    0.000    0.000 warnings.py:453(__init__)\n",
       "        3    0.000    0.000    0.000    0.000 encoding.py:34(code_to_query)\n",
       "       47    0.000    0.000    0.000    0.000 {built-in method builtins.getattr}\n",
       "       50    0.000    0.000    0.000    0.000 _asarray.py:16(asarray)\n",
       "      186    0.000    0.000    0.000    0.000 q_diagram.py:70(v_name)\n",
       "        8    0.000    0.000    0.000    0.000 {built-in method builtins.sorted}\n",
       "        8    0.000    0.000    0.000    0.000 inference_v3.py:112(vote)\n",
       "       28    0.000    0.000    0.000    0.000 numerictypes.py:293(issubclass_)\n",
       "        4    0.000    0.000    0.000    0.000 {method 'argsort' of 'numpy.ndarray' objects}\n",
       "       24    0.000    0.000    0.000    0.000 fromnumeric.py:55(_wrapfunc)\n",
       "       14    0.000    0.000    0.000    0.000 warnings.py:165(simplefilter)\n",
       "        6    0.000    0.000    0.000    0.000 shape_base.py:423(<setcomp>)\n",
       "        8    0.000    0.000    0.000    0.000 numeric.py:590(flatnonzero)\n",
       "        9    0.000    0.000    0.000    0.000 inspect.py:2467(__init__)\n",
       "        6    0.000    0.000    0.000    0.000 inference_v3.py:224(<dictcomp>)\n",
       "        6    0.000    0.000    0.000    0.000 {method 'extend' of 'list' objects}\n",
       "       12    0.000    0.000    0.001    0.000 {method 'sum' of 'numpy.ndarray' objects}\n",
       "        6    0.000    0.000    0.000    0.000 shape_base.py:419(<listcomp>)\n",
       "       46    0.000    0.000    0.000    0.000 abc.py:137(__instancecheck__)\n",
       "       14    0.000    0.000    0.000    0.000 warnings.py:493(__exit__)\n",
       "        1    0.000    0.000    0.000    0.000 inspect.py:2198(_signature_from_callable)\n",
       "        1    0.000    0.000    0.000    0.000 vector_prediction.py:325(_init_thresholds)\n",
       "      6/1    0.000    0.000    0.012    0.012 inference_v3.py:192(_model_inputs)\n",
       "        6    0.000    0.000    0.000    0.000 inference_v3.py:223(_model_parents)\n",
       "       29    0.000    0.000    0.000    0.000 unweighted.py:69(_single_shortest_path_length)\n",
       "       14    0.000    0.000    0.000    0.000 reportviews.py:334(__init__)\n",
       "      130    0.000    0.000    0.000    0.000 {method 'append' of 'list' objects}\n",
       "       18    0.000    0.000    0.001    0.000 <__array_function__ internals>:2(in1d)\n",
       "        9    0.000    0.000    0.000    0.000 shape_base.py:24(atleast_1d)\n",
       "      8/1    0.000    0.000    0.013    0.013 inference_v3.py:115(F)\n",
       "        1    0.000    0.000    0.000    0.000 digraph.py:270(__init__)\n",
       "        6    0.000    0.000    0.001    0.000 tree.py:388(_validate_X_predict)\n",
       "        8    0.000    0.000    0.000    0.000 inference_v3.py:210(<listcomp>)\n",
       "        8    0.000    0.000    0.000    0.000 inference_tools.py:4(_dummy_array)\n",
       "        1    0.000    0.000    0.000    0.000 unweighted.py:25(single_source_shortest_path_length)\n",
       "        6    0.000    0.000    0.000    0.000 q_diagram.py:28(<listcomp>)\n",
       "        1    0.000    0.000    0.000    0.000 q_diagram.py:73(_prune)\n",
       "       46    0.000    0.000    0.000    0.000 abc.py:141(__subclasscheck__)\n",
       "      120    0.000    0.000    0.000    0.000 _collections_abc.py:719(__iter__)\n",
       "       42    0.000    0.000    0.000    0.000 {built-in method builtins.issubclass}\n",
       "       14    0.000    0.000    0.000    0.000 digraph.py:985(in_degree)\n",
       "       28    0.000    0.000    0.000    0.000 _collections_abc.py:672(keys)\n",
       "       55    0.000    0.000    0.000    0.000 {method 'items' of 'dict' objects}\n",
       "      8/1    0.000    0.000    0.013    0.013 inference_v3.py:119(F2)\n",
       "        8    0.000    0.000    0.000    0.000 inference_v3.py:208(_nominal_parents)\n",
       "        1    0.000    0.000    0.000    0.000 Mercs.py:553(_default_config)\n",
       "       34    0.000    0.000    0.000    0.000 base.py:1189(isspmatrix)\n",
       "       14    0.000    0.000    0.000    0.000 reportviews.py:342(__call__)\n",
       "       28    0.000    0.000    0.000    0.000 coreviews.py:80(__getitem__)\n",
       "        8    0.000    0.000    0.000    0.000 fromnumeric.py:1648(ravel)\n",
       "       14    0.000    0.000    0.000    0.000 <__array_function__ internals>:2(copyto)\n",
       "        1    0.000    0.000    0.000    0.000 NewCompositeModel.py:14(__init__)\n",
       "       60    0.000    0.000    0.000    0.000 multiarray.py:312(where)\n",
       "        8    0.000    0.000    0.000    0.000 inference_v3.py:68(imputation_node)\n",
       "       16    0.000    0.000    0.000    0.000 {method 'any' of 'numpy.ndarray' objects}\n",
       "       18    0.000    0.000    0.002    0.000 <__array_function__ internals>:2(setdiff1d)\n",
       "        1    0.000    0.000    0.000    0.000 Mercs.py:563(_update_config)\n",
       "        1    0.000    0.000    0.000    0.000 generic.py:178(shortest_path_length)\n",
       "        2    0.000    0.000    0.000    0.000 {built-in method numpy.arange}\n",
       "       14    0.000    0.000    0.000    0.000 <frozen importlib._bootstrap>:416(parent)\n",
       "       84    0.000    0.000    0.000    0.000 q_diagram.py:45(<lambda>)\n",
       "        1    0.000    0.000    0.002    0.002 Mercs.py:321(_build_q_model)\n",
       "       14    0.000    0.000    0.000    0.000 reportviews.py:482(__getitem__)\n",
       "        1    0.000    0.000    0.000    0.000 inspect.py:2750(__init__)\n",
       "        6    0.000    0.000    0.001    0.000 vector_prediction.py:316(_stopping_criterion_it)\n",
       "        1    0.000    0.000    0.000    0.000 Mercs.py:535(_reconfig_prediction)\n",
       "        6    0.000    0.000    0.000    0.000 arraysetops.py:703(union1d)\n",
       "        9    0.000    0.000    0.000    0.000 <__array_function__ internals>:2(hstack)\n",
       "       14    0.000    0.000    0.000    0.000 {method 'insert' of 'list' objects}\n",
       "        6    0.000    0.000    0.001    0.000 inference_v3.py:57(f)\n",
       "        6    0.000    0.000    0.000    0.000 inference_v3.py:56(input_data_node)\n",
       "      8/1    0.000    0.000    0.013    0.013 inference_v3.py:177(_nominal_inputs)\n",
       "        8    0.000    0.000    0.000    0.000 <__array_function__ internals>:2(flatnonzero)\n",
       "        6    0.000    0.000    0.000    0.000 fromnumeric.py:2504(amax)\n",
       "       12    0.000    0.000    0.001    0.000 _methods.py:36(_sum)\n",
       "       37    0.000    0.000    0.000    0.000 vector_prediction.py:320(_stopping_criterion_greedy_pick)\n",
       "        1    0.000    0.000    0.014    0.014 NewCompositeModel.py:43(predict)\n",
       "        6    0.000    0.000    0.000    0.000 Mercs.py:604(_parse_kwargs)\n",
       "       14    0.000    0.000    0.000    0.000 _config.py:13(get_config)\n",
       "       14    0.000    0.000    0.000    0.000 validation.py:325(_ensure_no_complex_data)\n",
       "       14    0.000    0.000    0.000    0.000 validation.py:913(<listcomp>)\n",
       "       15    0.000    0.000    0.000    0.000 shape_base.py:208(_arrays_for_stack_dispatcher)\n",
       "        8    0.000    0.000    0.000    0.000 fromnumeric.py:1091(argmax)\n",
       "       16    0.000    0.000    0.000    0.000 _methods.py:44(_any)\n",
       "       45    0.000    0.000    0.000    0.000 {built-in method builtins.iter}\n",
       "       14    0.000    0.000    0.000    0.000 {method 'copy' of 'dict' objects}\n",
       "       22    0.000    0.000    0.000    0.000 {method 'index' of 'list' objects}\n",
       "        6    0.000    0.000    0.000    0.000 inference_v3.py:226(<listcomp>)\n",
       "       16    0.000    0.000    0.000    0.000 inference_v3.py:231(rel_idx)\n",
       "       92    0.000    0.000    0.000    0.000 coreviews.py:53(__getitem__)\n",
       "        9    0.000    0.000    0.000    0.000 <__array_function__ internals>:2(atleast_1d)\n",
       "       14    0.000    0.000    0.000    0.000 {method 'rpartition' of 'str' objects}\n",
       "        8    0.000    0.000    0.000    0.000 _base.py:24(_check_inputs_dtype)\n",
       "        6    0.000    0.000    0.000    0.000 Mercs.py:606(<listcomp>)\n",
       "       14    0.000    0.000    0.000    0.000 digraph.py:816(predecessors)\n",
       "        8    0.000    0.000    0.000    0.000 <__array_function__ internals>:2(argmax)\n",
       "        8    0.000    0.000    0.000    0.000 <__array_function__ internals>:2(nonzero)\n",
       "        8    0.000    0.000    0.000    0.000 <__array_function__ internals>:2(may_share_memory)\n",
       "        1    0.000    0.000    0.023    0.023 <string>:1(<module>)\n",
       "       62    0.000    0.000    0.000    0.000 arraysetops.py:146(_unique_dispatcher)\n",
       "        8    0.000    0.000    0.000    0.000 fromnumeric.py:1759(nonzero)\n",
       "        1    0.000    0.000    0.000    0.000 inspect.py:484(unwrap)\n",
       "        9    0.000    0.000    0.000    0.000 enum.py:284(__call__)\n",
       "       28    0.000    0.000    0.000    0.000 inference_v3.py:19(<lambda>)\n",
       "        1    0.000    0.000    0.001    0.001 Mercs.py:298(_build_q_diagram)\n",
       "        1    0.000    0.000    0.000    0.000 q_diagram.py:76(<listcomp>)\n",
       "        8    0.000    0.000    0.000    0.000 {method 'nonzero' of 'numpy.ndarray' objects}\n",
       "       42    0.000    0.000    0.000    0.000 fromnumeric.py:2040(_sum_dispatcher)\n",
       "       10    0.000    0.000    0.000    0.000 inspect.py:2799(<genexpr>)\n",
       "       65    0.000    0.000    0.000    0.000 {method 'add' of 'set' objects}\n",
       "        6    0.000    0.000    0.000    0.000 Mercs.py:608(<dictcomp>)\n",
       "        1    0.000    0.000    0.000    0.000 q_diagram.py:78(<listcomp>)\n",
       "       29    0.000    0.000    0.000    0.000 coreviews.py:44(__init__)\n",
       "       28    0.000    0.000    0.000    0.000 coreviews.py:50(__iter__)\n",
       "        8    0.000    0.000    0.000    0.000 {method 'transpose' of 'numpy.ndarray' objects}\n",
       "        9    0.000    0.000    0.000    0.000 shape_base.py:219(_vhstack_dispatcher)\n",
       "        6    0.000    0.000    0.001    0.000 <__array_function__ internals>:2(stack)\n",
       "        8    0.000    0.000    0.000    0.000 fromnumeric.py:439(repeat)\n",
       "        8    0.000    0.000    0.000    0.000 <__array_function__ internals>:2(repeat)\n",
       "        6    0.000    0.000    0.000    0.000 <__array_function__ internals>:2(union1d)\n",
       "        8    0.000    0.000    0.000    0.000 <__array_function__ internals>:2(ravel)\n",
       "       29    0.000    0.000    0.000    0.000 multiarray.py:145(concatenate)\n",
       "        1    0.000    0.000    0.000    0.000 inspect.py:3081(signature)\n",
       "        6    0.000    0.000    0.000    0.000 inference_tools.py:28(select)\n",
       "        6    0.000    0.000    0.000    0.000 <__array_function__ internals>:2(amax)\n",
       "       14    0.000    0.000    0.000    0.000 {built-in method builtins.all}\n",
       "       42    0.000    0.000    0.000    0.000 {built-in method _warnings._filters_mutated}\n",
       "        8    0.000    0.000    0.000    0.000 inference_tools.py:38(select)\n",
       "        1    0.000    0.000    0.000    0.000 digraph.py:325(adj)\n",
       "        6    0.000    0.000    0.000    0.000 shape_base.py:347(_stack_dispatcher)\n",
       "        1    0.000    0.000    0.000    0.000 contextlib.py:81(__init__)\n",
       "       14    0.000    0.000    0.000    0.000 <frozen importlib._bootstrap>:1009(_handle_fromlist)\n",
       "        1    0.000    0.000    0.000    0.000 NewCompositeModel.py:42(_get_predict)\n",
       "       29    0.000    0.000    0.000    0.000 dag.py:91(<genexpr>)\n",
       "        6    0.000    0.000    0.000    0.000 {built-in method numpy.core._multiarray_umath.normalize_axis_index}\n",
       "       28    0.000    0.000    0.000    0.000 _collections_abc.py:698(__init__)\n",
       "        8    0.000    0.000    0.000    0.000 {built-in method time.perf_counter}\n",
       "       16    0.000    0.000    0.000    0.000 {method 'startswith' of 'str' objects}\n",
       "        6    0.000    0.000    0.000    0.000 inference_tools.py:27(_select_numeric)\n",
       "       18    0.000    0.000    0.000    0.000 arraysetops.py:740(_setdiff1d_dispatcher)\n",
       "        1    0.000    0.000    0.000    0.000 inspect.py:504(_is_wrapper)\n",
       "        1    0.000    0.000    0.000    0.000 inspect.py:2829(from_callable)\n",
       "        8    0.000    0.000    0.000    0.000 inference_v3.py:240(classes)\n",
       "        8    0.000    0.000    0.000    0.000 inference_tools.py:37(_select_nominal)\n",
       "        1    0.000    0.000    0.000    0.000 digraph.py:540(remove_nodes_from)\n",
       "        8    0.000    0.000    0.000    0.000 fromnumeric.py:435(_repeat_dispatcher)\n",
       "       14    0.000    0.000    0.000    0.000 multiarray.py:1043(copyto)\n",
       "        9    0.000    0.000    0.000    0.000 enum.py:526(__new__)\n",
       "       14    0.000    0.000    0.000    0.000 inference_v3.py:20(<lambda>)\n",
       "        8    0.000    0.000    0.000    0.000 inference_v3.py:110(<listcomp>)\n",
       "        2    0.000    0.000    0.000    0.000 contextmanagers.py:10(reversed)\n",
       "       18    0.000    0.000    0.000    0.000 arraysetops.py:479(_in1d_dispatcher)\n",
       "        8    0.000    0.000    0.000    0.000 fromnumeric.py:1644(_ravel_dispatcher)\n",
       "        8    0.000    0.000    0.000    0.000 multiarray.py:1309(may_share_memory)\n",
       "       14    0.000    0.000    0.000    0.000 inspect.py:2521(default)\n",
       "        1    0.000    0.000    0.000    0.000 contextlib.py:116(__exit__)\n",
       "        1    0.000    0.000    0.000    0.000 contextlib.py:237(helper)\n",
       "        2    0.000    0.000    0.000    0.000 {built-in method builtins.next}\n",
       "       12    0.000    0.000    0.000    0.000 {method 'intersection' of 'set' objects}\n",
       "        1    0.000    0.000    0.000    0.000 NewCompositeModel.py:72(<listcomp>)\n",
       "        3    0.000    0.000    0.000    0.000 reportviews.py:174(__iter__)\n",
       "        6    0.000    0.000    0.000    0.000 arraysetops.py:699(_union1d_dispatcher)\n",
       "        8    0.000    0.000    0.000    0.000 fromnumeric.py:1755(_nonzero_dispatcher)\n",
       "        6    0.000    0.000    0.000    0.000 fromnumeric.py:2499(_amax_dispatcher)\n",
       "        8    0.000    0.000    0.000    0.000 numeric.py:586(_flatnonzero_dispatcher)\n",
       "        9    0.000    0.000    0.000    0.000 inspect.py:2517(name)\n",
       "        1    0.000    0.000    0.000    0.000 contextlib.py:107(__enter__)\n",
       "        1    0.000    0.000    0.000    0.000 {method 'items' of 'mappingproxy' objects}\n",
       "        9    0.000    0.000    0.000    0.000 {method 'isidentifier' of 'str' objects}\n",
       "        2    0.000    0.000    0.000    0.000 {method 'copy' of 'set' objects}\n",
       "        1    0.000    0.000    0.013    0.013 NewCompositeModel.py:49(<listcomp>)\n",
       "        1    0.000    0.000    0.000    0.000 NewCompositeModel.py:58(_get_predict_proba)\n",
       "        1    0.000    0.000    0.000    0.000 NewCompositeModel.py:71(_get_classes_)\n",
       "       12    0.000    0.000    0.000    0.000 q_diagram.py:46(<lambda>)\n",
       "        1    0.000    0.000    0.000    0.000 q_diagram.py:75(<setcomp>)\n",
       "        9    0.000    0.000    0.000    0.000 shape_base.py:20(_atleast_1d_dispatcher)\n",
       "        1    0.000    0.000    0.000    0.000 {built-in method sys.getrecursionlimit}\n",
       "        1    0.000    0.000    0.000    0.000 {built-in method builtins.callable}\n",
       "        1    0.000    0.000    0.000    0.000 {method 'pop' of 'list' objects}\n",
       "        1    0.000    0.000    0.000    0.000 reportviews.py:189(__call__)\n",
       "        1    0.000    0.000    0.000    0.000 digraph.py:1102(is_directed)\n",
       "        1    0.000    0.000    0.000    0.000 graph.py:832(has_node)\n",
       "        8    0.000    0.000    0.000    0.000 fromnumeric.py:1087(_argmax_dispatcher)\n",
       "        1    0.000    0.000    0.000    0.000 inspect.py:2835(parameters)\n",
       "        2    0.000    0.000    0.000    0.000 inspect.py:158(isfunction)\n",
       "        1    0.000    0.000    0.000    0.000 {built-in method builtins.id}\n",
       "        8    0.000    0.000    0.000    0.000 inference_v3.py:21(<lambda>)\n",
       "        1    0.000    0.000    0.000    0.000 graph.py:417(__contains__)\n",
       "        1    0.000    0.000    0.000    0.000 {method 'disable' of '_lsprof.Profiler' objects}"
      ]
     },
     "metadata": {},
     "output_type": "display_data"
    }
   ],
   "source": [
    "%%prun\n",
    "y_pred = clf.predict(test, q_code=q_code, prediction_algorithm='it', max_steps=8)"
   ]
  },
  {
   "cell_type": "code",
   "execution_count": 14,
   "metadata": {},
   "outputs": [
    {
     "data": {
      "text/plain": [
       "{'ind_time': 2.9878607299997384,\n",
       " 'prd_time': 0.005617675999019411,\n",
       " 'dia_time': 0.0011513260014908155,\n",
       " 'infalgo_time': 0.0018166509998991387,\n",
       " 'dsk_time': 0.013697676000447245,\n",
       " 'inf_time': 0.022286442999757128}"
      ]
     },
     "execution_count": 14,
     "metadata": {},
     "output_type": "execute_result"
    }
   ],
   "source": [
    "clf.model_data"
   ]
  },
  {
   "cell_type": "code",
   "execution_count": 15,
   "metadata": {},
   "outputs": [
    {
     "ename": "AssertionError",
     "evalue": "",
     "output_type": "error",
     "traceback": [
      "\u001b[0;31m---------------------------------------------------------------------------\u001b[0m",
      "\u001b[0;31mAssertionError\u001b[0m                            Traceback (most recent call last)",
      "\u001b[0;32m<ipython-input-15-21eac452675f>\u001b[0m in \u001b[0;36m<module>\u001b[0;34m\u001b[0m\n\u001b[0;32m----> 1\u001b[0;31m \u001b[0mget_ipython\u001b[0m\u001b[0;34m(\u001b[0m\u001b[0;34m)\u001b[0m\u001b[0;34m.\u001b[0m\u001b[0mrun_cell_magic\u001b[0m\u001b[0;34m(\u001b[0m\u001b[0;34m'prun'\u001b[0m\u001b[0;34m,\u001b[0m \u001b[0;34m''\u001b[0m\u001b[0;34m,\u001b[0m \u001b[0;34m\"y_pred = clf.predict(test, q_code=q_code, prediction_algorithm='rw', max_steps=8, nb_walks=20)\\ny_pred\\n\"\u001b[0m\u001b[0;34m)\u001b[0m\u001b[0;34m\u001b[0m\u001b[0;34m\u001b[0m\u001b[0m\n\u001b[0m",
      "\u001b[0;32m~/miniconda3/envs/mercs/lib/python3.7/site-packages/IPython/core/interactiveshell.py\u001b[0m in \u001b[0;36mrun_cell_magic\u001b[0;34m(self, magic_name, line, cell)\u001b[0m\n\u001b[1;32m   2357\u001b[0m             \u001b[0;32mwith\u001b[0m \u001b[0mself\u001b[0m\u001b[0;34m.\u001b[0m\u001b[0mbuiltin_trap\u001b[0m\u001b[0;34m:\u001b[0m\u001b[0;34m\u001b[0m\u001b[0;34m\u001b[0m\u001b[0m\n\u001b[1;32m   2358\u001b[0m                 \u001b[0margs\u001b[0m \u001b[0;34m=\u001b[0m \u001b[0;34m(\u001b[0m\u001b[0mmagic_arg_s\u001b[0m\u001b[0;34m,\u001b[0m \u001b[0mcell\u001b[0m\u001b[0;34m)\u001b[0m\u001b[0;34m\u001b[0m\u001b[0;34m\u001b[0m\u001b[0m\n\u001b[0;32m-> 2359\u001b[0;31m                 \u001b[0mresult\u001b[0m \u001b[0;34m=\u001b[0m \u001b[0mfn\u001b[0m\u001b[0;34m(\u001b[0m\u001b[0;34m*\u001b[0m\u001b[0margs\u001b[0m\u001b[0;34m,\u001b[0m \u001b[0;34m**\u001b[0m\u001b[0mkwargs\u001b[0m\u001b[0;34m)\u001b[0m\u001b[0;34m\u001b[0m\u001b[0;34m\u001b[0m\u001b[0m\n\u001b[0m\u001b[1;32m   2360\u001b[0m             \u001b[0;32mreturn\u001b[0m \u001b[0mresult\u001b[0m\u001b[0;34m\u001b[0m\u001b[0;34m\u001b[0m\u001b[0m\n\u001b[1;32m   2361\u001b[0m \u001b[0;34m\u001b[0m\u001b[0m\n",
      "\u001b[0;32m</home/elia/miniconda3/envs/mercs/lib/python3.7/site-packages/decorator.py:decorator-gen-55>\u001b[0m in \u001b[0;36mprun\u001b[0;34m(self, parameter_s, cell)\u001b[0m\n",
      "\u001b[0;32m~/miniconda3/envs/mercs/lib/python3.7/site-packages/IPython/core/magic.py\u001b[0m in \u001b[0;36m<lambda>\u001b[0;34m(f, *a, **k)\u001b[0m\n\u001b[1;32m    185\u001b[0m     \u001b[0;31m# but it's overkill for just that one bit of state.\u001b[0m\u001b[0;34m\u001b[0m\u001b[0;34m\u001b[0m\u001b[0;34m\u001b[0m\u001b[0m\n\u001b[1;32m    186\u001b[0m     \u001b[0;32mdef\u001b[0m \u001b[0mmagic_deco\u001b[0m\u001b[0;34m(\u001b[0m\u001b[0marg\u001b[0m\u001b[0;34m)\u001b[0m\u001b[0;34m:\u001b[0m\u001b[0;34m\u001b[0m\u001b[0;34m\u001b[0m\u001b[0m\n\u001b[0;32m--> 187\u001b[0;31m         \u001b[0mcall\u001b[0m \u001b[0;34m=\u001b[0m \u001b[0;32mlambda\u001b[0m \u001b[0mf\u001b[0m\u001b[0;34m,\u001b[0m \u001b[0;34m*\u001b[0m\u001b[0ma\u001b[0m\u001b[0;34m,\u001b[0m \u001b[0;34m**\u001b[0m\u001b[0mk\u001b[0m\u001b[0;34m:\u001b[0m \u001b[0mf\u001b[0m\u001b[0;34m(\u001b[0m\u001b[0;34m*\u001b[0m\u001b[0ma\u001b[0m\u001b[0;34m,\u001b[0m \u001b[0;34m**\u001b[0m\u001b[0mk\u001b[0m\u001b[0;34m)\u001b[0m\u001b[0;34m\u001b[0m\u001b[0;34m\u001b[0m\u001b[0m\n\u001b[0m\u001b[1;32m    188\u001b[0m \u001b[0;34m\u001b[0m\u001b[0m\n\u001b[1;32m    189\u001b[0m         \u001b[0;32mif\u001b[0m \u001b[0mcallable\u001b[0m\u001b[0;34m(\u001b[0m\u001b[0marg\u001b[0m\u001b[0;34m)\u001b[0m\u001b[0;34m:\u001b[0m\u001b[0;34m\u001b[0m\u001b[0;34m\u001b[0m\u001b[0m\n",
      "\u001b[0;32m~/miniconda3/envs/mercs/lib/python3.7/site-packages/IPython/core/magics/execution.py\u001b[0m in \u001b[0;36mprun\u001b[0;34m(self, parameter_s, cell)\u001b[0m\n\u001b[1;32m    315\u001b[0m             \u001b[0marg_str\u001b[0m \u001b[0;34m+=\u001b[0m \u001b[0;34m'\\n'\u001b[0m \u001b[0;34m+\u001b[0m \u001b[0mcell\u001b[0m\u001b[0;34m\u001b[0m\u001b[0;34m\u001b[0m\u001b[0m\n\u001b[1;32m    316\u001b[0m         \u001b[0marg_str\u001b[0m \u001b[0;34m=\u001b[0m \u001b[0mself\u001b[0m\u001b[0;34m.\u001b[0m\u001b[0mshell\u001b[0m\u001b[0;34m.\u001b[0m\u001b[0mtransform_cell\u001b[0m\u001b[0;34m(\u001b[0m\u001b[0marg_str\u001b[0m\u001b[0;34m)\u001b[0m\u001b[0;34m\u001b[0m\u001b[0;34m\u001b[0m\u001b[0m\n\u001b[0;32m--> 317\u001b[0;31m         \u001b[0;32mreturn\u001b[0m \u001b[0mself\u001b[0m\u001b[0;34m.\u001b[0m\u001b[0m_run_with_profiler\u001b[0m\u001b[0;34m(\u001b[0m\u001b[0marg_str\u001b[0m\u001b[0;34m,\u001b[0m \u001b[0mopts\u001b[0m\u001b[0;34m,\u001b[0m \u001b[0mself\u001b[0m\u001b[0;34m.\u001b[0m\u001b[0mshell\u001b[0m\u001b[0;34m.\u001b[0m\u001b[0muser_ns\u001b[0m\u001b[0;34m)\u001b[0m\u001b[0;34m\u001b[0m\u001b[0;34m\u001b[0m\u001b[0m\n\u001b[0m\u001b[1;32m    318\u001b[0m \u001b[0;34m\u001b[0m\u001b[0m\n\u001b[1;32m    319\u001b[0m     \u001b[0;32mdef\u001b[0m \u001b[0m_run_with_profiler\u001b[0m\u001b[0;34m(\u001b[0m\u001b[0mself\u001b[0m\u001b[0;34m,\u001b[0m \u001b[0mcode\u001b[0m\u001b[0;34m,\u001b[0m \u001b[0mopts\u001b[0m\u001b[0;34m,\u001b[0m \u001b[0mnamespace\u001b[0m\u001b[0;34m)\u001b[0m\u001b[0;34m:\u001b[0m\u001b[0;34m\u001b[0m\u001b[0;34m\u001b[0m\u001b[0m\n",
      "\u001b[0;32m~/miniconda3/envs/mercs/lib/python3.7/site-packages/IPython/core/magics/execution.py\u001b[0m in \u001b[0;36m_run_with_profiler\u001b[0;34m(self, code, opts, namespace)\u001b[0m\n\u001b[1;32m    337\u001b[0m         \u001b[0mprof\u001b[0m \u001b[0;34m=\u001b[0m \u001b[0mprofile\u001b[0m\u001b[0;34m.\u001b[0m\u001b[0mProfile\u001b[0m\u001b[0;34m(\u001b[0m\u001b[0;34m)\u001b[0m\u001b[0;34m\u001b[0m\u001b[0;34m\u001b[0m\u001b[0m\n\u001b[1;32m    338\u001b[0m         \u001b[0;32mtry\u001b[0m\u001b[0;34m:\u001b[0m\u001b[0;34m\u001b[0m\u001b[0;34m\u001b[0m\u001b[0m\n\u001b[0;32m--> 339\u001b[0;31m             \u001b[0mprof\u001b[0m \u001b[0;34m=\u001b[0m \u001b[0mprof\u001b[0m\u001b[0;34m.\u001b[0m\u001b[0mrunctx\u001b[0m\u001b[0;34m(\u001b[0m\u001b[0mcode\u001b[0m\u001b[0;34m,\u001b[0m \u001b[0mnamespace\u001b[0m\u001b[0;34m,\u001b[0m \u001b[0mnamespace\u001b[0m\u001b[0;34m)\u001b[0m\u001b[0;34m\u001b[0m\u001b[0;34m\u001b[0m\u001b[0m\n\u001b[0m\u001b[1;32m    340\u001b[0m             \u001b[0msys_exit\u001b[0m \u001b[0;34m=\u001b[0m \u001b[0;34m''\u001b[0m\u001b[0;34m\u001b[0m\u001b[0;34m\u001b[0m\u001b[0m\n\u001b[1;32m    341\u001b[0m         \u001b[0;32mexcept\u001b[0m \u001b[0mSystemExit\u001b[0m\u001b[0;34m:\u001b[0m\u001b[0;34m\u001b[0m\u001b[0;34m\u001b[0m\u001b[0m\n",
      "\u001b[0;32m~/miniconda3/envs/mercs/lib/python3.7/cProfile.py\u001b[0m in \u001b[0;36mrunctx\u001b[0;34m(self, cmd, globals, locals)\u001b[0m\n\u001b[1;32m     98\u001b[0m         \u001b[0mself\u001b[0m\u001b[0;34m.\u001b[0m\u001b[0menable\u001b[0m\u001b[0;34m(\u001b[0m\u001b[0;34m)\u001b[0m\u001b[0;34m\u001b[0m\u001b[0;34m\u001b[0m\u001b[0m\n\u001b[1;32m     99\u001b[0m         \u001b[0;32mtry\u001b[0m\u001b[0;34m:\u001b[0m\u001b[0;34m\u001b[0m\u001b[0;34m\u001b[0m\u001b[0m\n\u001b[0;32m--> 100\u001b[0;31m             \u001b[0mexec\u001b[0m\u001b[0;34m(\u001b[0m\u001b[0mcmd\u001b[0m\u001b[0;34m,\u001b[0m \u001b[0mglobals\u001b[0m\u001b[0;34m,\u001b[0m \u001b[0mlocals\u001b[0m\u001b[0;34m)\u001b[0m\u001b[0;34m\u001b[0m\u001b[0;34m\u001b[0m\u001b[0m\n\u001b[0m\u001b[1;32m    101\u001b[0m         \u001b[0;32mfinally\u001b[0m\u001b[0;34m:\u001b[0m\u001b[0;34m\u001b[0m\u001b[0;34m\u001b[0m\u001b[0m\n\u001b[1;32m    102\u001b[0m             \u001b[0mself\u001b[0m\u001b[0;34m.\u001b[0m\u001b[0mdisable\u001b[0m\u001b[0;34m(\u001b[0m\u001b[0;34m)\u001b[0m\u001b[0;34m\u001b[0m\u001b[0;34m\u001b[0m\u001b[0m\n",
      "\u001b[0;32m<string>\u001b[0m in \u001b[0;36m<module>\u001b[0;34m\u001b[0m\n",
      "\u001b[0;32m/cw/dtailocal/repos/mercs/src/mercs/core/Mercs.py\u001b[0m in \u001b[0;36mpredict\u001b[0;34m(self, X, q_code, inference_algorithm, prediction_algorithm, **kwargs)\u001b[0m\n\u001b[1;32m    212\u001b[0m         \u001b[0mtic_prediction\u001b[0m \u001b[0;34m=\u001b[0m \u001b[0mdefault_timer\u001b[0m\u001b[0;34m(\u001b[0m\u001b[0;34m)\u001b[0m\u001b[0;34m\u001b[0m\u001b[0;34m\u001b[0m\u001b[0m\n\u001b[1;32m    213\u001b[0m         self.m_sel = self.prediction_algorithm(\n\u001b[0;32m--> 214\u001b[0;31m             \u001b[0mself\u001b[0m\u001b[0;34m.\u001b[0m\u001b[0mm_codes\u001b[0m\u001b[0;34m,\u001b[0m \u001b[0mself\u001b[0m\u001b[0;34m.\u001b[0m\u001b[0mm_fimps\u001b[0m\u001b[0;34m,\u001b[0m \u001b[0mself\u001b[0m\u001b[0;34m.\u001b[0m\u001b[0mm_score\u001b[0m\u001b[0;34m,\u001b[0m \u001b[0mq_code\u001b[0m\u001b[0;34m=\u001b[0m\u001b[0mself\u001b[0m\u001b[0;34m.\u001b[0m\u001b[0mq_code\u001b[0m\u001b[0;34m,\u001b[0m \u001b[0;34m**\u001b[0m\u001b[0mself\u001b[0m\u001b[0;34m.\u001b[0m\u001b[0mprd_cfg\u001b[0m\u001b[0;34m\u001b[0m\u001b[0;34m\u001b[0m\u001b[0m\n\u001b[0m\u001b[1;32m    215\u001b[0m         )\n\u001b[1;32m    216\u001b[0m         \u001b[0mtoc_prediction\u001b[0m \u001b[0;34m=\u001b[0m \u001b[0mdefault_timer\u001b[0m\u001b[0;34m(\u001b[0m\u001b[0;34m)\u001b[0m\u001b[0;34m\u001b[0m\u001b[0;34m\u001b[0m\u001b[0m\n",
      "\u001b[0;32m/cw/dtailocal/repos/mercs/src/mercs/algo/vector_prediction.py\u001b[0m in \u001b[0;36mrw\u001b[0;34m(m_codes, m_fimps, m_score, q_code, m_avl, nb_walks, max_steps, init_threshold, stepsize, random_state)\u001b[0m\n\u001b[1;32m    159\u001b[0m             \u001b[0mrandom_state\u001b[0m\u001b[0;34m=\u001b[0m\u001b[0mrandom_state\u001b[0m \u001b[0;34m+\u001b[0m \u001b[0mi\u001b[0m\u001b[0;34m,\u001b[0m  \u001b[0;31m# Otherwise you do identical walks!\u001b[0m\u001b[0;34m\u001b[0m\u001b[0;34m\u001b[0m\u001b[0m\n\u001b[1;32m    160\u001b[0m         )\n\u001b[0;32m--> 161\u001b[0;31m         \u001b[0;32mfor\u001b[0m \u001b[0mi\u001b[0m \u001b[0;32min\u001b[0m \u001b[0mrange\u001b[0m\u001b[0;34m(\u001b[0m\u001b[0mnb_walks\u001b[0m\u001b[0;34m)\u001b[0m\u001b[0;34m\u001b[0m\u001b[0;34m\u001b[0m\u001b[0m\n\u001b[0m\u001b[1;32m    162\u001b[0m     ]\n\u001b[1;32m    163\u001b[0m \u001b[0;34m\u001b[0m\u001b[0m\n",
      "\u001b[0;32m/cw/dtailocal/repos/mercs/src/mercs/algo/vector_prediction.py\u001b[0m in \u001b[0;36m<listcomp>\u001b[0;34m(.0)\u001b[0m\n\u001b[1;32m    159\u001b[0m             \u001b[0mrandom_state\u001b[0m\u001b[0;34m=\u001b[0m\u001b[0mrandom_state\u001b[0m \u001b[0;34m+\u001b[0m \u001b[0mi\u001b[0m\u001b[0;34m,\u001b[0m  \u001b[0;31m# Otherwise you do identical walks!\u001b[0m\u001b[0;34m\u001b[0m\u001b[0;34m\u001b[0m\u001b[0m\n\u001b[1;32m    160\u001b[0m         )\n\u001b[0;32m--> 161\u001b[0;31m         \u001b[0;32mfor\u001b[0m \u001b[0mi\u001b[0m \u001b[0;32min\u001b[0m \u001b[0mrange\u001b[0m\u001b[0;34m(\u001b[0m\u001b[0mnb_walks\u001b[0m\u001b[0;34m)\u001b[0m\u001b[0;34m\u001b[0m\u001b[0;34m\u001b[0m\u001b[0m\n\u001b[0m\u001b[1;32m    162\u001b[0m     ]\n\u001b[1;32m    163\u001b[0m \u001b[0;34m\u001b[0m\u001b[0m\n",
      "\u001b[0;32m/cw/dtailocal/repos/mercs/src/mercs/algo/vector_prediction.py\u001b[0m in \u001b[0;36mwalk\u001b[0;34m(m_codes, m_fimps, m_score, q_code, m_avl, max_steps, init_threshold, stepsize, random_state)\u001b[0m\n\u001b[1;32m    202\u001b[0m             \u001b[0many_target\u001b[0m\u001b[0;34m=\u001b[0m\u001b[0many_target\u001b[0m\u001b[0;34m,\u001b[0m\u001b[0;34m\u001b[0m\u001b[0;34m\u001b[0m\u001b[0m\n\u001b[1;32m    203\u001b[0m             \u001b[0mthresholds\u001b[0m\u001b[0;34m=\u001b[0m\u001b[0mthresholds\u001b[0m\u001b[0;34m,\u001b[0m\u001b[0;34m\u001b[0m\u001b[0;34m\u001b[0m\u001b[0m\n\u001b[0;32m--> 204\u001b[0;31m             \u001b[0mrandom_state\u001b[0m\u001b[0;34m=\u001b[0m\u001b[0mrandom_state\u001b[0m\u001b[0;34m,\u001b[0m\u001b[0;34m\u001b[0m\u001b[0;34m\u001b[0m\u001b[0m\n\u001b[0m\u001b[1;32m    205\u001b[0m         )\n\u001b[1;32m    206\u001b[0m \u001b[0;34m\u001b[0m\u001b[0m\n",
      "\u001b[0;32m/cw/dtailocal/repos/mercs/src/mercs/algo/vector_prediction.py\u001b[0m in \u001b[0;36mmrai\u001b[0;34m(m_codes, m_fimps, m_score, q_code, a_src, a_tgt, m_avl, init_threshold, stepsize, any_target, stochastic, thresholds, random_state)\u001b[0m\n\u001b[1;32m     61\u001b[0m         \u001b[0many_target\u001b[0m\u001b[0;34m=\u001b[0m\u001b[0many_target\u001b[0m\u001b[0;34m,\u001b[0m\u001b[0;34m\u001b[0m\u001b[0;34m\u001b[0m\u001b[0m\n\u001b[1;32m     62\u001b[0m         \u001b[0mstochastic\u001b[0m\u001b[0;34m=\u001b[0m\u001b[0mstochastic\u001b[0m\u001b[0;34m,\u001b[0m\u001b[0;34m\u001b[0m\u001b[0;34m\u001b[0m\u001b[0m\n\u001b[0;32m---> 63\u001b[0;31m         \u001b[0mrandom_state\u001b[0m\u001b[0;34m=\u001b[0m\u001b[0mrandom_state\u001b[0m\u001b[0;34m,\u001b[0m\u001b[0;34m\u001b[0m\u001b[0;34m\u001b[0m\u001b[0m\n\u001b[0m\u001b[1;32m     64\u001b[0m     )\n\u001b[1;32m     65\u001b[0m     \u001b[0mm_sel\u001b[0m \u001b[0;34m=\u001b[0m \u001b[0mm_avl\u001b[0m\u001b[0;34m[\u001b[0m\u001b[0mm_sel_idx\u001b[0m\u001b[0;34m]\u001b[0m\u001b[0;34m\u001b[0m\u001b[0;34m\u001b[0m\u001b[0m\n",
      "\u001b[0;32m/cw/dtailocal/repos/mercs/src/mercs/algo/vector_prediction.py\u001b[0m in \u001b[0;36mpick\u001b[0;34m(criteria, thresholds, any_target, stochastic, random_state)\u001b[0m\n\u001b[1;32m    266\u001b[0m             m_sel.extend(\n\u001b[1;32m    267\u001b[0m                 picking_function(\n\u001b[0;32m--> 268\u001b[0;31m                     \u001b[0mcriteria\u001b[0m\u001b[0;34m[\u001b[0m\u001b[0;34m:\u001b[0m\u001b[0;34m,\u001b[0m \u001b[0mc_idx\u001b[0m\u001b[0;34m]\u001b[0m\u001b[0;34m,\u001b[0m \u001b[0mthresholds\u001b[0m\u001b[0;34m=\u001b[0m\u001b[0mthresholds\u001b[0m\u001b[0;34m,\u001b[0m \u001b[0mrandom_state\u001b[0m\u001b[0;34m=\u001b[0m\u001b[0mrandom_state\u001b[0m\u001b[0;34m\u001b[0m\u001b[0;34m\u001b[0m\u001b[0m\n\u001b[0m\u001b[1;32m    269\u001b[0m                 )\n\u001b[1;32m    270\u001b[0m             )\n",
      "\u001b[0;32m/cw/dtailocal/repos/mercs/src/mercs/algo/vector_prediction.py\u001b[0m in \u001b[0;36m_stochastic_pick\u001b[0;34m(c_all, random_state, **kwargs)\u001b[0m\n\u001b[1;32m    284\u001b[0m \u001b[0;34m\u001b[0m\u001b[0m\n\u001b[1;32m    285\u001b[0m \u001b[0;32mdef\u001b[0m \u001b[0m_stochastic_pick\u001b[0m\u001b[0;34m(\u001b[0m\u001b[0mc_all\u001b[0m\u001b[0;34m,\u001b[0m \u001b[0mrandom_state\u001b[0m\u001b[0;34m=\u001b[0m\u001b[0;36m997\u001b[0m\u001b[0;34m,\u001b[0m \u001b[0;34m**\u001b[0m\u001b[0mkwargs\u001b[0m\u001b[0;34m)\u001b[0m\u001b[0;34m:\u001b[0m\u001b[0;34m\u001b[0m\u001b[0;34m\u001b[0m\u001b[0m\n\u001b[0;32m--> 286\u001b[0;31m     \u001b[0;32massert\u001b[0m \u001b[0mlen\u001b[0m\u001b[0;34m(\u001b[0m\u001b[0mc_all\u001b[0m\u001b[0;34m)\u001b[0m \u001b[0;34m>\u001b[0m \u001b[0;36m0\u001b[0m\u001b[0;34m\u001b[0m\u001b[0;34m\u001b[0m\u001b[0m\n\u001b[0m\u001b[1;32m    287\u001b[0m     \u001b[0mnp\u001b[0m\u001b[0;34m.\u001b[0m\u001b[0mrandom\u001b[0m\u001b[0;34m.\u001b[0m\u001b[0mseed\u001b[0m\u001b[0;34m(\u001b[0m\u001b[0mrandom_state\u001b[0m\u001b[0;34m)\u001b[0m\u001b[0;34m\u001b[0m\u001b[0;34m\u001b[0m\u001b[0m\n\u001b[1;32m    288\u001b[0m     \u001b[0mnorm\u001b[0m \u001b[0;34m=\u001b[0m \u001b[0mnp\u001b[0m\u001b[0;34m.\u001b[0m\u001b[0mlinalg\u001b[0m\u001b[0;34m.\u001b[0m\u001b[0mnorm\u001b[0m\u001b[0;34m(\u001b[0m\u001b[0mc_all\u001b[0m\u001b[0;34m,\u001b[0m \u001b[0;36m1\u001b[0m\u001b[0;34m)\u001b[0m\u001b[0;34m\u001b[0m\u001b[0;34m\u001b[0m\u001b[0m\n",
      "\u001b[0;31mAssertionError\u001b[0m: "
     ]
    }
   ],
   "source": [
    "%%prun\n",
    "y_pred = clf.predict(test, q_code=q_code, prediction_algorithm='rw', max_steps=8, nb_walks=20)\n",
    "y_pred"
   ]
  },
  {
   "cell_type": "code",
   "execution_count": null,
   "metadata": {},
   "outputs": [],
   "source": [
    "clf.model_data"
   ]
  }
 ],
 "metadata": {
  "kernelspec": {
   "display_name": "mercs",
   "language": "python",
   "name": "mercs"
  },
  "language_info": {
   "codemirror_mode": {
    "name": "ipython",
    "version": 3
   },
   "file_extension": ".py",
   "mimetype": "text/x-python",
   "name": "python",
   "nbconvert_exporter": "python",
   "pygments_lexer": "ipython3",
   "version": "3.7.4"
  }
 },
 "nbformat": 4,
 "nbformat_minor": 4
}
