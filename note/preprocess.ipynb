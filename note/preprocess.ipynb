{
 "cells": [
  {
   "cell_type": "markdown",
   "metadata": {},
   "source": [
    "# Preprocess\n",
    "\n",
    "This notebook will evolve into the preprocess script."
   ]
  },
  {
   "cell_type": "code",
   "execution_count": 15,
   "metadata": {},
   "outputs": [],
   "source": [
    "import pandas as pd\n",
    "import arff\n",
    "import os\n",
    "import numpy as np\n",
    "from os.path import dirname\n",
    "\n",
    "from sklearn.model_selection import train_test_split\n",
    "\n",
    "RANDOM_STATE = 42"
   ]
  },
  {
   "cell_type": "code",
   "execution_count": 2,
   "metadata": {},
   "outputs": [],
   "source": [
    "def original_filename(basename, extension='arff'):\n",
    "    \n",
    "    root_dir = dirname(os.getcwd())\n",
    "    true_path = os.path.join(root_dir, 'data', 'raw', 'datasets-UCI', 'UCI', \"{}.{}\".format(basename, extension))\n",
    "\n",
    "    return os.path.relpath(true_path)\n",
    "\n",
    "def filename(basename, step=1, prefix=\"\", suffix=\"\", extension=\"arff\", check=True):\n",
    "    \n",
    "    filename = \"-\".join([x for x in (prefix, basename, suffix) if len(x) > 0])+\".{}\".format(extension)\n",
    "    \n",
    "    root_dir = dirname(os.getcwd())\n",
    "    data_dir = os.path.relpath(os.path.join(root_dir, 'data'))\n",
    "    step_dir = os.path.join(data_dir, \"step-\"+str(step).zfill(2))\n",
    "\n",
    "    if check:\n",
    "        if not os.path.exists(step_dir):\n",
    "            os.makedirs(step_dir)\n",
    "    \n",
    "\n",
    "    return os.path.join(step_dir, filename)\n",
    "\n",
    "\n",
    "def arff_to_df(filename, encode_nominal=False, return_af=True):\n",
    "    with open(filename, 'r') as f:\n",
    "        af = arff.load(f, encode_nominal=encode_nominal)\n",
    "    \n",
    "    df = pd.DataFrame(af['data'])\n",
    "    \n",
    "    if return_af:\n",
    "        return df, af\n",
    "    else:\n",
    "        return df"
   ]
  },
  {
   "cell_type": "markdown",
   "metadata": {},
   "source": [
    "## 01 - Train-Test Splits"
   ]
  },
  {
   "cell_type": "code",
   "execution_count": 3,
   "metadata": {},
   "outputs": [
    {
     "data": {
      "text/html": [
       "<div>\n",
       "<style scoped>\n",
       "    .dataframe tbody tr th:only-of-type {\n",
       "        vertical-align: middle;\n",
       "    }\n",
       "\n",
       "    .dataframe tbody tr th {\n",
       "        vertical-align: top;\n",
       "    }\n",
       "\n",
       "    .dataframe thead th {\n",
       "        text-align: right;\n",
       "    }\n",
       "</style>\n",
       "<table border=\"1\" class=\"dataframe\">\n",
       "  <thead>\n",
       "    <tr style=\"text-align: right;\">\n",
       "      <th></th>\n",
       "      <th>0</th>\n",
       "      <th>1</th>\n",
       "      <th>2</th>\n",
       "      <th>3</th>\n",
       "      <th>4</th>\n",
       "    </tr>\n",
       "  </thead>\n",
       "  <tbody>\n",
       "    <tr>\n",
       "      <td>0</td>\n",
       "      <td>5.1</td>\n",
       "      <td>3.5</td>\n",
       "      <td>1.4</td>\n",
       "      <td>0.2</td>\n",
       "      <td>Iris-setosa</td>\n",
       "    </tr>\n",
       "    <tr>\n",
       "      <td>1</td>\n",
       "      <td>4.9</td>\n",
       "      <td>3.0</td>\n",
       "      <td>1.4</td>\n",
       "      <td>0.2</td>\n",
       "      <td>Iris-setosa</td>\n",
       "    </tr>\n",
       "    <tr>\n",
       "      <td>2</td>\n",
       "      <td>4.7</td>\n",
       "      <td>3.2</td>\n",
       "      <td>1.3</td>\n",
       "      <td>0.2</td>\n",
       "      <td>Iris-setosa</td>\n",
       "    </tr>\n",
       "    <tr>\n",
       "      <td>3</td>\n",
       "      <td>4.6</td>\n",
       "      <td>3.1</td>\n",
       "      <td>1.5</td>\n",
       "      <td>0.2</td>\n",
       "      <td>Iris-setosa</td>\n",
       "    </tr>\n",
       "    <tr>\n",
       "      <td>4</td>\n",
       "      <td>5.0</td>\n",
       "      <td>3.6</td>\n",
       "      <td>1.4</td>\n",
       "      <td>0.2</td>\n",
       "      <td>Iris-setosa</td>\n",
       "    </tr>\n",
       "  </tbody>\n",
       "</table>\n",
       "</div>"
      ],
      "text/plain": [
       "     0    1    2    3            4\n",
       "0  5.1  3.5  1.4  0.2  Iris-setosa\n",
       "1  4.9  3.0  1.4  0.2  Iris-setosa\n",
       "2  4.7  3.2  1.3  0.2  Iris-setosa\n",
       "3  4.6  3.1  1.5  0.2  Iris-setosa\n",
       "4  5.0  3.6  1.4  0.2  Iris-setosa"
      ]
     },
     "execution_count": 3,
     "metadata": {},
     "output_type": "execute_result"
    }
   ],
   "source": [
    "# load dataset\n",
    "dataset = 'iris'\n",
    "fn_inn = original_filename(dataset)\n",
    "\n",
    "df, af = arff_to_df(fn_inn, encode_nominal=False, return_af=True)\n",
    "df.head()"
   ]
  },
  {
   "cell_type": "code",
   "execution_count": 4,
   "metadata": {},
   "outputs": [],
   "source": [
    "# filenames\n",
    "fn_train = filename(dataset, step=1, suffix='train')\n",
    "fn_test = filename(dataset, step=1, suffix='test')\n",
    "\n",
    "# split train and test\n",
    "train, test = train_test_split(df, test_size=0.2, random_state=RANDOM_STATE, stratify=df.iloc[:, -1:])\n",
    "\n",
    "af_train = af.copy()\n",
    "af_train['data'] = train.values\n",
    "\n",
    "with open(fn_train, 'w') as f:\n",
    "    arff.dump(af_train, f)\n",
    "    \n",
    "af_test = af.copy()\n",
    "af_test['data'] = test.values\n",
    "\n",
    "with open(fn_test, 'w') as f:\n",
    "    arff.dump(af_test, f)"
   ]
  },
  {
   "cell_type": "markdown",
   "metadata": {},
   "source": [
    "### Intermediate test\n",
    "\n",
    "Now we should see if these in fact can be used to train a weka model, or if there are some fishy things going on."
   ]
  },
  {
   "cell_type": "code",
   "execution_count": 5,
   "metadata": {},
   "outputs": [
    {
     "name": "stderr",
     "output_type": "stream",
     "text": [
      "[2019-08-27 15:30:32,246] INFO - prefect.FlowRunner | Beginning Flow run for 'fit'\n",
      "[2019-08-27 15:30:32,248] INFO - prefect.FlowRunner | Starting flow run.\n",
      "[2019-08-27 15:30:32,254] INFO - prefect.TaskRunner | Task 'Constant[str]': Starting task run...\n",
      "[2019-08-27 15:30:32,255] INFO - prefect.TaskRunner | Task 'Constant[str]': finished task run for task with final state: 'Success'\n",
      "[2019-08-27 15:30:32,256] INFO - prefect.TaskRunner | Task 'ShellTask': Starting task run...\n",
      "[2019-08-27 15:30:32,819] INFO - prefect.TaskRunner | Task 'ShellTask': finished task run for task with final state: 'Success'\n",
      "[2019-08-27 15:30:32,823] INFO - prefect.FlowRunner | Flow run SUCCESS: all reference tasks succeeded\n"
     ]
    },
    {
     "name": "stdout",
     "output_type": "stream",
     "text": [
      "WARNING: An illegal reflective access operation has occurred\n",
      "WARNING: Illegal reflective access by weka.core.WekaPackageClassLoaderManager (file:/home/zissou/Software/weka/weka.jar) to method java.lang.ClassLoader.defineClass(java.lang.String,byte[],int,int,java.security.ProtectionDomain)\n",
      "WARNING: Please consider reporting this to the maintainers of weka.core.WekaPackageClassLoaderManager\n",
      "WARNING: Use --illegal-access=warn to enable warnings of further illegal reflective access operations\n",
      "WARNING: All illegal access operations will be denied in a future release\n",
      "\n",
      "Options: -C 0.25 -M 2 \n",
      "\n",
      "=== Classifier model (full training set) ===\n",
      "\n",
      "J48 pruned tree\n",
      "------------------\n",
      "\n",
      "petalwidth <= 0.6: Iris-setosa (40.0)\n",
      "petalwidth > 0.6\n",
      "|   petalwidth <= 1.6\n",
      "|   |   petallength <= 4.9: Iris-versicolor (38.0)\n",
      "|   |   petallength > 4.9: Iris-virginica (4.0/1.0)\n",
      "|   petalwidth > 1.6: Iris-virginica (38.0/1.0)\n",
      "\n",
      "Number of Leaves  : \t4\n",
      "\n",
      "Size of the tree : \t7\n",
      "\n",
      "\n",
      "Time taken to build model: 0.24 seconds\n",
      "\n",
      "Time taken to test model on training data: 0.01 seconds\n",
      "\n",
      "=== Error on training data ===\n",
      "\n",
      "Correctly Classified Instances         118               98.3333 %\n",
      "Incorrectly Classified Instances         2                1.6667 %\n",
      "Kappa statistic                          0.975 \n",
      "Mean absolute error                      0.0192\n",
      "Root mean squared error                  0.0979\n",
      "Relative absolute error                  4.3092 %\n",
      "Root relative squared error             20.7586 %\n",
      "Total Number of Instances              120     \n",
      "\n",
      "\n",
      "=== Detailed Accuracy By Class ===\n",
      "\n",
      "                 TP Rate  FP Rate  Precision  Recall   F-Measure  MCC      ROC Area  PRC Area  Class\n",
      "                 1.000    0.000    1.000      1.000    1.000      1.000    1.000     1.000     Iris-setosa\n",
      "                 0.950    0.000    1.000      0.950    0.974      0.963    0.993     0.986     Iris-versicolor\n",
      "                 1.000    0.025    0.952      1.000    0.976      0.964    0.993     0.972     Iris-virginica\n",
      "Weighted Avg.    0.983    0.008    0.984      0.983    0.983      0.975    0.995     0.986     \n",
      "\n",
      "\n",
      "=== Confusion Matrix ===\n",
      "\n",
      "  a  b  c   <-- classified as\n",
      " 40  0  0 |  a = Iris-setosa\n",
      "  0 38  2 |  b = Iris-versicolor\n",
      "  0  0 40 |  c = Iris-virginica\n",
      "\n",
      "\n"
     ]
    },
    {
     "data": {
      "text/plain": [
       "<Success: \"All reference tasks succeeded.\">"
      ]
     },
     "execution_count": 5,
     "metadata": {},
     "output_type": "execute_result"
    }
   ],
   "source": [
    "import PxW\n",
    "\n",
    "# Check if the package gets installed correctly.\n",
    "clf = PxW.J48()\n",
    "\n",
    "clf.fit(fn_train)"
   ]
  },
  {
   "cell_type": "code",
   "execution_count": 6,
   "metadata": {},
   "outputs": [
    {
     "name": "stderr",
     "output_type": "stream",
     "text": [
      "[2019-08-27 15:30:32,837] INFO - prefect.FlowRunner | Beginning Flow run for 'predict'\n",
      "[2019-08-27 15:30:32,838] INFO - prefect.FlowRunner | Starting flow run.\n",
      "[2019-08-27 15:30:32,843] INFO - prefect.TaskRunner | Task 'Constant[str]': Starting task run...\n",
      "[2019-08-27 15:30:32,847] INFO - prefect.TaskRunner | Task 'Constant[str]': finished task run for task with final state: 'Success'\n",
      "[2019-08-27 15:30:32,848] INFO - prefect.TaskRunner | Task 'ShellTask': Starting task run...\n",
      "[2019-08-27 15:30:33,079] INFO - prefect.TaskRunner | Task 'ShellTask': finished task run for task with final state: 'Success'\n",
      "[2019-08-27 15:30:33,080] INFO - prefect.FlowRunner | Flow run SUCCESS: all reference tasks succeeded\n"
     ]
    }
   ],
   "source": [
    "out = clf.predict(fn_test)"
   ]
  },
  {
   "cell_type": "markdown",
   "metadata": {},
   "source": [
    "Cf. [this stackoverflow](https://stackoverflow.com/questions/24458645/label-encoding-across-multiple-columns-in-scikit-learn) to get some insights on encoding. Here it don't matter since I just want an F1 score anyway."
   ]
  },
  {
   "cell_type": "code",
   "execution_count": 24,
   "metadata": {},
   "outputs": [],
   "source": [
    "from sklearn.preprocessing import LabelEncoder, OneHotEncoder\n",
    "from sklearn.metrics import f1_score\n",
    "\n",
    "def f1_weka(out, average='macro'):\n",
    "    out = out.apply(LabelEncoder().fit_transform)\n",
    "    f1 = f1_score(out['actual'], out['predicted'], average=average)\n",
    "    return f1\n"
   ]
  },
  {
   "cell_type": "code",
   "execution_count": 25,
   "metadata": {},
   "outputs": [
    {
     "data": {
      "text/plain": [
       "0.9665831244778613"
      ]
     },
     "execution_count": 25,
     "metadata": {},
     "output_type": "execute_result"
    }
   ],
   "source": [
    "f1_weka(out)"
   ]
  },
  {
   "cell_type": "markdown",
   "metadata": {},
   "source": [
    "## Generate Queries"
   ]
  },
  {
   "cell_type": "code",
   "execution_count": 10,
   "metadata": {},
   "outputs": [
    {
     "data": {
      "text/plain": [
       "'../data/step-02/iris-q_001.arff'"
      ]
     },
     "execution_count": 10,
     "metadata": {},
     "output_type": "execute_result"
    }
   ],
   "source": [
    "# inputs\n",
    "fn_test = filename(dataset, step=1, suffix='test')\n",
    "\n",
    "q_idx = 1\n",
    "fn_qry = filename(dataset, step=2, suffix='q_{}'.format(str(q_idx).zfill(3)))\n",
    "fn_qry"
   ]
  },
  {
   "cell_type": "code",
   "execution_count": 45,
   "metadata": {},
   "outputs": [
    {
     "name": "stderr",
     "output_type": "stream",
     "text": [
      "[2019-08-27 15:42:30,112] INFO - prefect.FlowRunner | Beginning Flow run for 'fit'\n",
      "[2019-08-27 15:42:30,113] INFO - prefect.FlowRunner | Starting flow run.\n",
      "[2019-08-27 15:42:30,119] INFO - prefect.TaskRunner | Task 'Constant[str]': Starting task run...\n",
      "[2019-08-27 15:42:30,124] INFO - prefect.TaskRunner | Task 'Constant[str]': finished task run for task with final state: 'Success'\n",
      "[2019-08-27 15:42:30,126] INFO - prefect.TaskRunner | Task 'ShellTask': Starting task run...\n"
     ]
    },
    {
     "name": "stdout",
     "output_type": "stream",
     "text": [
      "     0    1    2   3                4\n",
      "0  4.4  3.0  1.3 NaN      Iris-setosa\n",
      "1  6.1  3.0  4.9 NaN   Iris-virginica\n",
      "2  4.9  2.4  3.3 NaN  Iris-versicolor\n",
      "3  5.0  2.3  3.3 NaN  Iris-versicolor\n",
      "4  4.4  3.2  1.3 NaN      Iris-setosa\n"
     ]
    },
    {
     "name": "stderr",
     "output_type": "stream",
     "text": [
      "[2019-08-27 15:42:30,630] INFO - prefect.TaskRunner | Task 'ShellTask': finished task run for task with final state: 'Success'\n",
      "[2019-08-27 15:42:30,631] INFO - prefect.FlowRunner | Flow run SUCCESS: all reference tasks succeeded\n",
      "[2019-08-27 15:42:30,633] INFO - prefect.FlowRunner | Beginning Flow run for 'predict'\n",
      "[2019-08-27 15:42:30,634] INFO - prefect.FlowRunner | Starting flow run.\n",
      "[2019-08-27 15:42:30,639] INFO - prefect.TaskRunner | Task 'Constant[str]': Starting task run...\n",
      "[2019-08-27 15:42:30,642] INFO - prefect.TaskRunner | Task 'Constant[str]': finished task run for task with final state: 'Success'\n",
      "[2019-08-27 15:42:30,643] INFO - prefect.TaskRunner | Task 'ShellTask': Starting task run...\n"
     ]
    },
    {
     "name": "stdout",
     "output_type": "stream",
     "text": [
      "WARNING: An illegal reflective access operation has occurred\n",
      "WARNING: Illegal reflective access by weka.core.WekaPackageClassLoaderManager (file:/home/zissou/Software/weka/weka.jar) to method java.lang.ClassLoader.defineClass(java.lang.String,byte[],int,int,java.security.ProtectionDomain)\n",
      "WARNING: Please consider reporting this to the maintainers of weka.core.WekaPackageClassLoaderManager\n",
      "WARNING: Use --illegal-access=warn to enable warnings of further illegal reflective access operations\n",
      "WARNING: All illegal access operations will be denied in a future release\n",
      "\n",
      "Options: -C 0.25 -M 2 \n",
      "\n",
      "=== Classifier model (full training set) ===\n",
      "\n",
      "J48 pruned tree\n",
      "------------------\n",
      "\n",
      "petalwidth <= 0.6: Iris-setosa (40.0)\n",
      "petalwidth > 0.6\n",
      "|   petalwidth <= 1.6\n",
      "|   |   petallength <= 4.9: Iris-versicolor (38.0)\n",
      "|   |   petallength > 4.9: Iris-virginica (4.0/1.0)\n",
      "|   petalwidth > 1.6: Iris-virginica (38.0/1.0)\n",
      "\n",
      "Number of Leaves  : \t4\n",
      "\n",
      "Size of the tree : \t7\n",
      "\n",
      "\n",
      "Time taken to build model: 0.22 seconds\n",
      "\n",
      "Time taken to test model on training data: 0.01 seconds\n",
      "\n",
      "=== Error on training data ===\n",
      "\n",
      "Correctly Classified Instances         118               98.3333 %\n",
      "Incorrectly Classified Instances         2                1.6667 %\n",
      "Kappa statistic                          0.975 \n",
      "Mean absolute error                      0.0192\n",
      "Root mean squared error                  0.0979\n",
      "Relative absolute error                  4.3092 %\n",
      "Root relative squared error             20.7586 %\n",
      "Total Number of Instances              120     \n",
      "\n",
      "\n",
      "=== Detailed Accuracy By Class ===\n",
      "\n",
      "                 TP Rate  FP Rate  Precision  Recall   F-Measure  MCC      ROC Area  PRC Area  Class\n",
      "                 1.000    0.000    1.000      1.000    1.000      1.000    1.000     1.000     Iris-setosa\n",
      "                 0.950    0.000    1.000      0.950    0.974      0.963    0.993     0.986     Iris-versicolor\n",
      "                 1.000    0.025    0.952      1.000    0.976      0.964    0.993     0.972     Iris-virginica\n",
      "Weighted Avg.    0.983    0.008    0.984      0.983    0.983      0.975    0.995     0.986     \n",
      "\n",
      "\n",
      "=== Confusion Matrix ===\n",
      "\n",
      "  a  b  c   <-- classified as\n",
      " 40  0  0 |  a = Iris-setosa\n",
      "  0 38  2 |  b = Iris-versicolor\n",
      "  0  0 40 |  c = Iris-virginica\n",
      "\n",
      "\n"
     ]
    },
    {
     "name": "stderr",
     "output_type": "stream",
     "text": [
      "[2019-08-27 15:42:30,902] INFO - prefect.TaskRunner | Task 'ShellTask': finished task run for task with final state: 'Success'\n",
      "[2019-08-27 15:42:30,903] INFO - prefect.FlowRunner | Flow run SUCCESS: all reference tasks succeeded\n",
      "/home/zissou/miniconda3/envs/aaai20/lib/python3.6/site-packages/sklearn/metrics/classification.py:1143: UndefinedMetricWarning: F-score is ill-defined and being set to 0.0 in labels with no predicted samples.\n",
      "  'precision', 'predicted', average, warn_for)\n"
     ]
    },
    {
     "data": {
      "text/plain": [
       "0.2501414827391058"
      ]
     },
     "execution_count": 45,
     "metadata": {},
     "output_type": "execute_result"
    }
   ],
   "source": [
    "df_test, af_test = arff_to_df(fn_test, encode_nominal=False, return_af=True)\n",
    "\n",
    "#df_test.iloc[:, 0] = np.nan\n",
    "#df_test.iloc[:, 1] = np.nan\n",
    "#df_test.iloc[:, 2] = np.nan\n",
    "df_test.iloc[:, 3] = np.nan\n",
    "\n",
    "print(df_test.head())\n",
    "\n",
    "af_qry = af_test.copy()\n",
    "af_qry['data'] = df_test.values\n",
    "\n",
    "with open(fn_qry, 'w') as f:\n",
    "    arff.dump(af_qry, f)\n",
    "    \n",
    "\n",
    "# Check if the package gets installed correctly.\n",
    "clf = PxW.J48()\n",
    "clf.fit(fn_train)\n",
    "out = clf.predict(fn_qry)\n",
    "\n",
    "f1_weka(out, average='macro')"
   ]
  },
  {
   "cell_type": "code",
   "execution_count": 27,
   "metadata": {},
   "outputs": [],
   "source": []
  },
  {
   "cell_type": "markdown",
   "metadata": {},
   "source": [
    "### Intermediate test\n",
    "\n",
    "Let us see if Weka now can handle this dataset with the missing values."
   ]
  },
  {
   "cell_type": "code",
   "execution_count": 26,
   "metadata": {},
   "outputs": [
    {
     "name": "stderr",
     "output_type": "stream",
     "text": [
      "[2019-08-27 15:38:41,700] INFO - prefect.FlowRunner | Beginning Flow run for 'fit'\n",
      "[2019-08-27 15:38:41,702] INFO - prefect.FlowRunner | Starting flow run.\n",
      "[2019-08-27 15:38:41,711] INFO - prefect.TaskRunner | Task 'Constant[str]': Starting task run...\n",
      "[2019-08-27 15:38:41,713] INFO - prefect.TaskRunner | Task 'Constant[str]': finished task run for task with final state: 'Success'\n",
      "[2019-08-27 15:38:41,716] INFO - prefect.TaskRunner | Task 'ShellTask': Starting task run...\n",
      "[2019-08-27 15:38:42,205] INFO - prefect.TaskRunner | Task 'ShellTask': finished task run for task with final state: 'Success'\n",
      "[2019-08-27 15:38:42,207] INFO - prefect.FlowRunner | Flow run SUCCESS: all reference tasks succeeded\n",
      "[2019-08-27 15:38:42,211] INFO - prefect.FlowRunner | Beginning Flow run for 'predict'\n",
      "[2019-08-27 15:38:42,212] INFO - prefect.FlowRunner | Starting flow run.\n",
      "[2019-08-27 15:38:42,219] INFO - prefect.TaskRunner | Task 'Constant[str]': Starting task run...\n",
      "[2019-08-27 15:38:42,220] INFO - prefect.TaskRunner | Task 'Constant[str]': finished task run for task with final state: 'Success'\n",
      "[2019-08-27 15:38:42,221] INFO - prefect.TaskRunner | Task 'ShellTask': Starting task run...\n"
     ]
    },
    {
     "name": "stdout",
     "output_type": "stream",
     "text": [
      "WARNING: An illegal reflective access operation has occurred\n",
      "WARNING: Illegal reflective access by weka.core.WekaPackageClassLoaderManager (file:/home/zissou/Software/weka/weka.jar) to method java.lang.ClassLoader.defineClass(java.lang.String,byte[],int,int,java.security.ProtectionDomain)\n",
      "WARNING: Please consider reporting this to the maintainers of weka.core.WekaPackageClassLoaderManager\n",
      "WARNING: Use --illegal-access=warn to enable warnings of further illegal reflective access operations\n",
      "WARNING: All illegal access operations will be denied in a future release\n",
      "\n",
      "Options: -C 0.25 -M 2 \n",
      "\n",
      "=== Classifier model (full training set) ===\n",
      "\n",
      "J48 pruned tree\n",
      "------------------\n",
      "\n",
      "petalwidth <= 0.6: Iris-setosa (40.0)\n",
      "petalwidth > 0.6\n",
      "|   petalwidth <= 1.6\n",
      "|   |   petallength <= 4.9: Iris-versicolor (38.0)\n",
      "|   |   petallength > 4.9: Iris-virginica (4.0/1.0)\n",
      "|   petalwidth > 1.6: Iris-virginica (38.0/1.0)\n",
      "\n",
      "Number of Leaves  : \t4\n",
      "\n",
      "Size of the tree : \t7\n",
      "\n",
      "\n",
      "Time taken to build model: 0.21 seconds\n",
      "\n",
      "Time taken to test model on training data: 0 seconds\n",
      "\n",
      "=== Error on training data ===\n",
      "\n",
      "Correctly Classified Instances         118               98.3333 %\n",
      "Incorrectly Classified Instances         2                1.6667 %\n",
      "Kappa statistic                          0.975 \n",
      "Mean absolute error                      0.0192\n",
      "Root mean squared error                  0.0979\n",
      "Relative absolute error                  4.3092 %\n",
      "Root relative squared error             20.7586 %\n",
      "Total Number of Instances              120     \n",
      "\n",
      "\n",
      "=== Detailed Accuracy By Class ===\n",
      "\n",
      "                 TP Rate  FP Rate  Precision  Recall   F-Measure  MCC      ROC Area  PRC Area  Class\n",
      "                 1.000    0.000    1.000      1.000    1.000      1.000    1.000     1.000     Iris-setosa\n",
      "                 0.950    0.000    1.000      0.950    0.974      0.963    0.993     0.986     Iris-versicolor\n",
      "                 1.000    0.025    0.952      1.000    0.976      0.964    0.993     0.972     Iris-virginica\n",
      "Weighted Avg.    0.983    0.008    0.984      0.983    0.983      0.975    0.995     0.986     \n",
      "\n",
      "\n",
      "=== Confusion Matrix ===\n",
      "\n",
      "  a  b  c   <-- classified as\n",
      " 40  0  0 |  a = Iris-setosa\n",
      "  0 38  2 |  b = Iris-versicolor\n",
      "  0  0 40 |  c = Iris-virginica\n",
      "\n",
      "\n"
     ]
    },
    {
     "name": "stderr",
     "output_type": "stream",
     "text": [
      "[2019-08-27 15:38:42,451] INFO - prefect.TaskRunner | Task 'ShellTask': finished task run for task with final state: 'Success'\n",
      "[2019-08-27 15:38:42,452] INFO - prefect.FlowRunner | Flow run SUCCESS: all reference tasks succeeded\n"
     ]
    },
    {
     "data": {
      "text/plain": [
       "0.9665831244778613"
      ]
     },
     "execution_count": 26,
     "metadata": {},
     "output_type": "execute_result"
    }
   ],
   "source": [
    "x\n"
   ]
  }
 ],
 "metadata": {
  "kernelspec": {
   "display_name": "aaai20-belafonte",
   "language": "python",
   "name": "aaai20-belafonte"
  },
  "language_info": {
   "codemirror_mode": {
    "name": "ipython",
    "version": 3
   },
   "file_extension": ".py",
   "mimetype": "text/x-python",
   "name": "python",
   "nbconvert_exporter": "python",
   "pygments_lexer": "ipython3",
   "version": "3.6.9"
  }
 },
 "nbformat": 4,
 "nbformat_minor": 2
}
