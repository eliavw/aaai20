{
 "cells": [
  {
   "cell_type": "markdown",
   "metadata": {},
   "source": [
    "# Data Wrangling\n",
    "\n",
    "In setting up the experiments, we are starting from some Weka datasets. Those have to get into python for analysis."
   ]
  },
  {
   "cell_type": "code",
   "execution_count": 1,
   "metadata": {},
   "outputs": [],
   "source": [
    "import PxW"
   ]
  },
  {
   "cell_type": "code",
   "execution_count": 2,
   "metadata": {},
   "outputs": [],
   "source": [
    "# Check if the package gets installed correctly.\n",
    "clf = PxW.J48()"
   ]
  },
  {
   "cell_type": "code",
   "execution_count": 3,
   "metadata": {},
   "outputs": [],
   "source": [
    "data_fn = \"../data/raw/iris.arff\""
   ]
  },
  {
   "cell_type": "code",
   "execution_count": 4,
   "metadata": {},
   "outputs": [
    {
     "name": "stderr",
     "output_type": "stream",
     "text": [
      "[2019-08-26 15:05:18,005] INFO - prefect.FlowRunner | Beginning Flow run for 'fit'\n",
      "[2019-08-26 15:05:18,006] INFO - prefect.FlowRunner | Starting flow run.\n",
      "[2019-08-26 15:05:18,009] INFO - prefect.TaskRunner | Task 'Constant[str]': Starting task run...\n",
      "[2019-08-26 15:05:18,009] INFO - prefect.TaskRunner | Task 'Constant[str]': finished task run for task with final state: 'Success'\n",
      "[2019-08-26 15:05:18,010] INFO - prefect.TaskRunner | Task 'ShellTask': Starting task run...\n",
      "[2019-08-26 15:05:18,073] INFO - prefect.TaskRunner | Task 'ShellTask': finished task run for task with final state: 'Success'\n",
      "[2019-08-26 15:05:18,076] INFO - prefect.FlowRunner | Flow run SUCCESS: all reference tasks succeeded\n"
     ]
    },
    {
     "name": "stdout",
     "output_type": "stream",
     "text": [
      "java.lang.StringIndexOutOfBoundsException: String index out of range: 1\n",
      "\tat java.lang.String.charAt(String.java:658)\n",
      "\tat weka.core.Utils.getOptionPos(Utils.java:630)\n",
      "\tat weka.core.Utils.getFlag(Utils.java:535)\n",
      "\tat weka.classifiers.evaluation.Evaluation.evaluateModel(Evaluation.java:1292)\n",
      "\tat weka.classifiers.Evaluation.evaluateModel(Evaluation.java:668)\n",
      "\tat weka.classifiers.AbstractClassifier.runClassifier(AbstractClassifier.java:141)\n",
      "\tat weka.classifiers.trees.J48.main(J48.java:1209)\n",
      "\n"
     ]
    }
   ],
   "source": [
    "s = clf.fit(train_filename=data_fn, model_filename='tree.model', verbose=True)"
   ]
  },
  {
   "cell_type": "code",
   "execution_count": 5,
   "metadata": {},
   "outputs": [
    {
     "data": {
      "text/plain": [
       "True"
      ]
     },
     "execution_count": 5,
     "metadata": {},
     "output_type": "execute_result"
    }
   ],
   "source": [
    "s.is_successful()"
   ]
  },
  {
   "cell_type": "code",
   "execution_count": 6,
   "metadata": {},
   "outputs": [
    {
     "data": {
      "text/plain": [
       "'java -cp /home/elia/Software/weka/weka-3-8-3/weka.jar weka.classifiers.trees.J48 -C 0.25 -M 2 -no-cv - t ../data/raw/iris.arff -d tree.model'"
      ]
     },
     "execution_count": 6,
     "metadata": {},
     "output_type": "execute_result"
    }
   ],
   "source": [
    "clf.command"
   ]
  },
  {
   "cell_type": "code",
   "execution_count": null,
   "metadata": {},
   "outputs": [],
   "source": []
  },
  {
   "cell_type": "code",
   "execution_count": 7,
   "metadata": {},
   "outputs": [
    {
     "data": {
      "text/plain": [
       "b'java.lang.StringIndexOutOfBoundsException: String index out of range: 1\\n\\tat java.lang.String.charAt(String.java:658)\\n\\tat weka.core.Utils.getOptionPos(Utils.java:630)\\n\\tat weka.core.Utils.getFlag(Utils.java:535)\\n\\tat weka.classifiers.evaluation.Evaluation.evaluateModel(Evaluation.java:1292)\\n\\tat weka.classifiers.Evaluation.evaluateModel(Evaluation.java:668)\\n\\tat weka.classifiers.AbstractClassifier.runClassifier(AbstractClassifier.java:141)\\n\\tat weka.classifiers.trees.J48.main(J48.java:1209)\\n'"
      ]
     },
     "execution_count": 7,
     "metadata": {},
     "output_type": "execute_result"
    }
   ],
   "source": [
    "s.result[list(s.result.keys())[0]].result"
   ]
  },
  {
   "cell_type": "code",
   "execution_count": 8,
   "metadata": {},
   "outputs": [
    {
     "data": {
      "text/plain": [
       "prefect.engine.state.Success"
      ]
     },
     "execution_count": 8,
     "metadata": {},
     "output_type": "execute_result"
    }
   ],
   "source": [
    "type(s)"
   ]
  },
  {
   "cell_type": "code",
   "execution_count": null,
   "metadata": {},
   "outputs": [],
   "source": []
  }
 ],
 "metadata": {
  "kernelspec": {
   "display_name": "aaai20-frost",
   "language": "python",
   "name": "aaai20-frost"
  },
  "language_info": {
   "codemirror_mode": {
    "name": "ipython",
    "version": 3
   },
   "file_extension": ".py",
   "mimetype": "text/x-python",
   "name": "python",
   "nbconvert_exporter": "python",
   "pygments_lexer": "ipython3",
   "version": "3.6.9"
  }
 },
 "nbformat": 4,
 "nbformat_minor": 4
}
