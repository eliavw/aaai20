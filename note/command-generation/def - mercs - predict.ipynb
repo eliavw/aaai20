{
 "cells": [
  {
   "cell_type": "markdown",
   "metadata": {},
   "source": [
    "# Final MERCS predict commands\n"
   ]
  },
  {
   "cell_type": "code",
   "execution_count": 1,
   "metadata": {},
   "outputs": [],
   "source": [
    "from aaai20.io import (\n",
    "    build_filesystem,\n",
    "    default_prefix_exp_fn_suffix,\n",
    "    filename_config,\n",
    "    filename_cli_commands,\n",
    "    filename_script,\n",
    "    filename_logs,\n",
    "    filename_query\n",
    ")\n",
    "\n",
    "from aaai20.cmd_gen import (\n",
    "    all_fnames_in_dir,\n",
    "    generate_config_and_log_fname,\n",
    "    generate_df_commands,\n",
    "    extract_idx_from_fnames,\n",
    "    default_start_idx,\n",
    "    prepare_fs,\n",
    ")\n",
    "\n",
    "\n",
    "import json\n",
    "import os\n",
    "import pandas as pd\n",
    "import datetime\n",
    "import numpy as np\n",
    "\n",
    "from itertools import product"
   ]
  },
  {
   "cell_type": "markdown",
   "metadata": {},
   "source": [
    "# Functions"
   ]
  },
  {
   "cell_type": "code",
   "execution_count": 2,
   "metadata": {},
   "outputs": [],
   "source": [
    "def generate_mercs_prediction_config(\n",
    "    model_keyword=\"md16-basic\",\n",
    "    kind=\"SL\",\n",
    "    random_state=42,\n",
    "    script=\"run_mercs\",\n",
    "    exp_fn_fields=[\"prediction_algorithm\"],\n",
    "    timeout=1,\n",
    "    datasets=None,\n",
    "    start_idx=None,\n",
    "    parallel=False,\n",
    "):\n",
    "    default_predict_config = dict(prediction_algorithm=\"mi\", random_state=random_state)\n",
    "\n",
    "    exp_keyword = model_keyword + \"-final\"\n",
    "    nb_queries = 100\n",
    "\n",
    "    # Fixed parameters\n",
    "    fs = build_filesystem()\n",
    "    prepare_fs(exp_keyword, script, fs)\n",
    "\n",
    "    timeout = datetime.timedelta(hours=timeout).seconds\n",
    "    \n",
    "    if start_idx is None:\n",
    "        start_idx = default_start_idx(fs, script=script)\n",
    "\n",
    "    # Grid definition\n",
    "    if kind in {\"SL\"}:\n",
    "        phase_space = product(datasets, [\"mi\", \"mrai\"])\n",
    "        predict_config = dict()\n",
    "    elif kind in {\"it\"}:\n",
    "        phase_space = product(datasets, [\"it\"])\n",
    "        predict_config = dict(max_steps=8)\n",
    "    elif kind in {\"rw\"}:\n",
    "        phase_space = product(datasets, [\"rw\"])\n",
    "        predict_config = dict(max_steps=8, nb_walks=20)\n",
    "    else:\n",
    "        raise NotImplementedError(\"I do not know.\")\n",
    "\n",
    "    # Update default\n",
    "    predict_config = {**default_predict_config, **predict_config}\n",
    "\n",
    "    # Inits\n",
    "    df_commands = pd.DataFrame()\n",
    "    fn_cfg = []\n",
    "    fn_log = []\n",
    "    fn_script = filename_script(script, kind=\"predict\")\n",
    "    q_idx = None\n",
    "\n",
    "    if not parallel:\n",
    "        for p_idx, (ds, prediction_algorithm) in enumerate(phase_space):\n",
    "            # Init\n",
    "            exp_idx = start_idx + p_idx\n",
    "\n",
    "            # Generate config\n",
    "            predict_config[\"prediction_algorithm\"] = prediction_algorithm\n",
    "\n",
    "            config = dict(\n",
    "                dataset=ds,\n",
    "                script=script,\n",
    "                model_keyword=model_keyword,\n",
    "                exp_keyword=exp_keyword,\n",
    "                exp_idx=exp_idx,\n",
    "                exp_fn_fields=exp_fn_fields,\n",
    "                predict_config=predict_config,\n",
    "            )\n",
    "\n",
    "            # Save config\n",
    "            single_fn_cfg, single_fn_log = generate_config_and_log_fname(\n",
    "                config, kind=\"predict\", exp_fn_fields=exp_fn_fields\n",
    "            )\n",
    "            with open(single_fn_cfg, \"w\") as f:\n",
    "                json.dump(config, f, indent=4)\n",
    "\n",
    "            fn_cfg.append(single_fn_cfg)\n",
    "            fn_log.append(single_fn_log)\n",
    "    else:\n",
    "        q_idx = []\n",
    "        for p_idx, (ds, prediction_algorithm) in enumerate(phase_space):\n",
    "            for single_q_idx in range(nb_queries):\n",
    "                # Init\n",
    "                exp_idx = start_idx + p_idx\n",
    "\n",
    "                # Generate config\n",
    "                predict_config[\"prediction_algorithm\"] = prediction_algorithm\n",
    "\n",
    "                config = dict(\n",
    "                    dataset=ds,\n",
    "                    script=script,\n",
    "                    model_keyword=model_keyword,\n",
    "                    exp_keyword=exp_keyword,\n",
    "                    exp_idx=exp_idx,\n",
    "                    exp_fn_fields=exp_fn_fields,\n",
    "                    predict_config=predict_config,\n",
    "                )\n",
    "\n",
    "                # Save config\n",
    "                single_fn_cfg, single_fn_log = generate_config_and_log_fname(\n",
    "                    config,\n",
    "                    kind=\"predict\",\n",
    "                    exp_fn_fields=exp_fn_fields,\n",
    "                    qry_idx=single_q_idx,\n",
    "                )\n",
    "                with open(single_fn_cfg, \"w\") as f:\n",
    "                    json.dump(config, f, indent=4)\n",
    "\n",
    "                fn_cfg.append(single_fn_cfg)\n",
    "                fn_log.append(single_fn_log)\n",
    "                q_idx.append(single_q_idx)\n",
    "\n",
    "    df_commands = generate_df_commands(fn_script, fn_cfg, fn_log, timeout, q_idx=q_idx)\n",
    "\n",
    "    return df_commands"
   ]
  },
  {
   "cell_type": "code",
   "execution_count": 3,
   "metadata": {},
   "outputs": [],
   "source": [
    "def default_mercs_predict_combo(\n",
    "    datasets=None,\n",
    "    model_keyword=\"md4-base\",\n",
    "    parallel=False,\n",
    "    timeout=0.3,\n",
    "    script=\"run_mercs\",\n",
    "):\n",
    "\n",
    "    exp_keyword = model_keyword + \"-predict\"\n",
    "\n",
    "    start_idx_SL = default_start_idx(fs, script=script)\n",
    "    \n",
    "    print(start_idx_SL)\n",
    "\n",
    "    df_SL = generate_mercs_prediction_config(\n",
    "        model_keyword=model_keyword,\n",
    "        kind=\"SL\",\n",
    "        random_state=42,\n",
    "        script=script,\n",
    "        timeout=timeout,\n",
    "        datasets=datasets,\n",
    "        parallel=parallel,\n",
    "        start_idx=start_idx_SL,\n",
    "    )\n",
    "\n",
    "    start_idx_it = start_idx_SL + len(df_SL)\n",
    "    \n",
    "    print(start_idx_it)\n",
    "    \n",
    "    df_it = generate_mercs_prediction_config(\n",
    "        model_keyword=model_keyword,\n",
    "        kind=\"it\",\n",
    "        random_state=42,\n",
    "        script=script,\n",
    "        timeout=timeout,\n",
    "        datasets=datasets,\n",
    "        parallel=parallel,\n",
    "        start_idx=start_idx_it,\n",
    "    )\n",
    "\n",
    "    start_idx_rw = start_idx_it + len(df_it)\n",
    "    \n",
    "    print(start_idx_rw)\n",
    "    \n",
    "    df_rw = generate_mercs_prediction_config(\n",
    "        model_keyword=model_keyword,\n",
    "        kind=\"rw\",\n",
    "        random_state=42,\n",
    "        script=script,\n",
    "        timeout=timeout,\n",
    "        datasets=datasets,\n",
    "        parallel=parallel,\n",
    "        start_idx=start_idx_rw,\n",
    "    )\n",
    "    \n",
    "\n",
    "    df_commands = pd.concat([df_SL, df_it, df_rw])\n",
    "    #df_commands = pd.concat([df_SL, df_it])\n",
    "\n",
    "    fn_commands = filename_cli_commands(exp_keyword)\n",
    "    df_commands.to_csv(fn_commands, index=False)\n",
    "    \n",
    "    \n",
    "    return fn_commands"
   ]
  },
  {
   "cell_type": "markdown",
   "metadata": {},
   "source": [
    "# General Parameters\n",
    "\n",
    "Some things that remain constant, such as typically the datasets."
   ]
  },
  {
   "cell_type": "code",
   "execution_count": 4,
   "metadata": {},
   "outputs": [
    {
     "data": {
      "text/plain": [
       "['tretail',\n",
       " 'pumsb_star',\n",
       " 'bnetflix',\n",
       " 'kdd',\n",
       " 'bbc',\n",
       " 'nltcs',\n",
       " 'plants',\n",
       " 'kosarek',\n",
       " 'baudio',\n",
       " 'tmovie',\n",
       " 'voting',\n",
       " 'book',\n",
       " 'dna',\n",
       " 'cwebkb',\n",
       " 'jester',\n",
       " 'msnbc',\n",
       " 'msweb',\n",
       " 'cr52',\n",
       " 'c20ng',\n",
       " 'accidents',\n",
       " 'ad']"
      ]
     },
     "execution_count": 4,
     "metadata": {},
     "output_type": "execute_result"
    }
   ],
   "source": [
    "fs = build_filesystem()\n",
    "starai_ds = os.listdir(fs['datasets-starai'])\n",
    "starai_ds"
   ]
  },
  {
   "cell_type": "code",
   "execution_count": 5,
   "metadata": {},
   "outputs": [
    {
     "data": {
      "text/plain": [
       "{'root': '/cw/dtaijupiter/NoCsBack/dtai/elia/aaai20',\n",
       " 'config': '/cw/dtaijupiter/NoCsBack/dtai/elia/aaai20/config',\n",
       " 'data': '/cw/dtaijupiter/NoCsBack/dtai/elia/aaai20/data',\n",
       " 'out': '/cw/dtaijupiter/NoCsBack/dtai/elia/aaai20/out',\n",
       " 'cli': '/cw/dtaijupiter/NoCsBack/dtai/elia/aaai20/cli',\n",
       " 'query': '/cw/dtaijupiter/NoCsBack/dtai/elia/aaai20/config/query',\n",
       " 'model': '/cw/dtaijupiter/NoCsBack/dtai/elia/aaai20/config/model',\n",
       " 'fit': '/cw/dtaijupiter/NoCsBack/dtai/elia/aaai20/cli/fit',\n",
       " 'predict': '/cw/dtaijupiter/NoCsBack/dtai/elia/aaai20/cli/predict',\n",
       " 'exe': '/cw/dtaijupiter/NoCsBack/dtai/elia/aaai20/cli/exe',\n",
       " 'cli-config': '/cw/dtaijupiter/NoCsBack/dtai/elia/aaai20/cli/cli-config',\n",
       " 'run_mercs': '/cw/dtaijupiter/NoCsBack/dtai/elia/aaai20/out/run_mercs',\n",
       " 'run_pxs': '/cw/dtaijupiter/NoCsBack/dtai/elia/aaai20/out/run_pxs',\n",
       " 'fit_pxs': '/cw/dtaijupiter/NoCsBack/dtai/elia/aaai20/out/fit_pxs',\n",
       " 'fit_mercs': '/cw/dtaijupiter/NoCsBack/dtai/elia/aaai20/out/fit_mercs',\n",
       " 'raw': '/cw/dtaijupiter/NoCsBack/dtai/elia/aaai20/data/raw',\n",
       " 'datasets-UCI': '/cw/dtaijupiter/NoCsBack/dtai/elia/aaai20/data/raw/datasets-UCI',\n",
       " 'datasets-starai': '/cw/dtaijupiter/NoCsBack/dtai/elia/aaai20/data/raw/datasets-starai'}"
      ]
     },
     "execution_count": 5,
     "metadata": {},
     "output_type": "execute_result"
    }
   ],
   "source": [
    "fs"
   ]
  },
  {
   "cell_type": "markdown",
   "metadata": {},
   "source": [
    "# MD 8"
   ]
  },
  {
   "cell_type": "markdown",
   "metadata": {},
   "source": [
    "## Base"
   ]
  },
  {
   "cell_type": "code",
   "execution_count": 6,
   "metadata": {},
   "outputs": [
    {
     "name": "stdout",
     "output_type": "stream",
     "text": [
      "['0041-msweb-mrai', '0043-cr52-mrai', '0056-plants-it', '0034-cwebkb-mi', '0010-pumsb_star-mi', '0013-bnetflix-mrai', '0019-nltcs-mrai', '0045-c20ng-mrai', '0057-kosarek-it', '0024-baudio-mi', '0064-jester-it', '0015-kdd-mrai', '0042-cr52-mi', '0033-dna-mrai', '0032-dna-mi', '0059-tmovie-it', '0026-tmovie-mi', '0070-ad-it', '0036-jester-mi', '0060-voting-it', '0055-nltcs-it', '0017-bbc-mrai', '0063-cwebkb-it', '0061-book-it', '0035-cwebkb-mrai', '0031-book-mrai', '0011-pumsb_star-mrai', '0023-kosarek-mrai', '0044-c20ng-mi', '0065-msnbc-it', '0051-pumsb_star-it', '0054-bbc-it', '0014-kdd-mi', '0038-msnbc-mi', '0029-voting-mrai', '0027-tmovie-mrai', '0053-kdd-it', '0018-nltcs-mi', '0040-msweb-mi', '0039-msnbc-mrai', '0050-tretail-it', '0020-plants-mi', '0049-ad-mrai', '0025-baudio-mrai', '0058-baudio-it', '0021-plants-mrai', '0066-msweb-it', '0047-accidents-mrai', '0008-tretail-mi', '0012-bnetflix-mi', '0009-tretail-mrai', '0030-book-mi', '0052-bnetflix-it', '0016-bbc-mi', '0046-accidents-mi', '0062-dna-it', '0069-accidents-it', '0048-ad-mi', '0037-jester-mrai', '0067-cr52-it', '0068-c20ng-it', '0028-voting-mi', '0022-kosarek-mi', '0068-c20ng-it', '0030-book-mi', '0047-accidents-mrai', '0049-ad-mrai', '0062-dna-it', '0070-ad-it', '0023-kosarek-mrai', '0067-cr52-it', '0016-bbc-mi', '0027-tmovie-mrai', '0029-voting-mrai', '0066-msweb-it', '0040-msweb-mi', '0037-jester-mrai', '0051-pumsb_star-it', '0018-nltcs-mi', '0057-kosarek-it', '0045-c20ng-mrai', '0053-kdd-it', '0028-voting-mi', '0011-pumsb_star-mrai', '0020-plants-mi', '0021-plants-mrai', '0054-bbc-it', '0025-baudio-mrai', '0014-kdd-mi', '0058-baudio-it', '0041-msweb-mrai', '0038-msnbc-mi', '0019-nltcs-mrai', '0052-bnetflix-it', '0044-c20ng-mi', '0012-bnetflix-mi', '0065-msnbc-it', '0009-tretail-mrai', '0022-kosarek-mi', '0024-baudio-mi', '0064-jester-it', '0017-bbc-mrai', '0059-tmovie-it', '0048-ad-mi', '0055-nltcs-it', '0050-tretail-it', '0039-msnbc-mrai', '0043-cr52-mrai', '0056-plants-it', '0034-cwebkb-mi', '0069-accidents-it', '0061-book-it', '0008-tretail-mi', '0046-accidents-mi', '0063-cwebkb-it', '0035-cwebkb-mrai', '0032-dna-mi', '0031-book-mrai', '0015-kdd-mrai', '0033-dna-mrai', '0013-bnetflix-mrai', '0010-pumsb_star-mi', '0026-tmovie-mi', '0042-cr52-mi', '0036-jester-mi', '0060-voting-it']\n",
      "71\n",
      "113\n",
      "134\n"
     ]
    },
    {
     "data": {
      "text/plain": [
       "'/cw/dtaijupiter/NoCsBack/dtai/elia/aaai20/cli/cli-config/md8-base-predict.csv'"
      ]
     },
     "execution_count": 6,
     "metadata": {},
     "output_type": "execute_result"
    }
   ],
   "source": [
    "#default_mercs_predict_combo(datasets=starai_ds, model_keyword=\"md8-base\")"
   ]
  },
  {
   "cell_type": "markdown",
   "metadata": {},
   "source": [
    "## Random"
   ]
  },
  {
   "cell_type": "code",
   "execution_count": 7,
   "metadata": {},
   "outputs": [
    {
     "name": "stdout",
     "output_type": "stream",
     "text": [
      "['0129-msweb-it', '0092-voting-mrai', '0087-baudio-mi', '0127-jester-it', '0091-voting-mi', '0098-cwebkb-mrai', '0101-msnbc-mi', '0107-c20ng-mi', '0133-ad-it', '0124-book-it', '0142-baudio-rw', '0134-tretail-rw', '0082-nltcs-mrai', '0111-ad-mi', '0097-cwebkb-mi', '0079-bbc-mi', '0072-tretail-mrai', '0074-pumsb_star-mrai', '0090-tmovie-mrai', '0102-msnbc-mrai', '0112-ad-mrai', '0128-msnbc-it', '0084-plants-mrai', '0113-tretail-it', '0077-kdd-mi', '0152-c20ng-rw', '0103-msweb-mi', '0151-cr52-rw', '0105-cr52-mi', '0093-book-mi', '0141-kosarek-rw', '0110-accidents-mrai', '0104-msweb-mrai', '0121-baudio-it', '0109-accidents-mi', '0123-voting-it', '0080-bbc-mrai', '0120-kosarek-it', '0117-bbc-it', '0078-kdd-mrai', '0146-dna-rw', '0086-kosarek-mrai', '0132-accidents-it', '0115-bnetflix-it', '0076-bnetflix-mrai', '0118-nltcs-it', '0130-cr52-it', '0119-plants-it', '0125-dna-it', '0095-dna-mi', '0108-c20ng-mrai', '0116-kdd-it', '0096-dna-mrai', '0071-tretail-mi', '0088-baudio-mrai', '0073-pumsb_star-mi', '0106-cr52-mrai', '0089-tmovie-mi', '0094-book-mrai', '0085-kosarek-mi', '0126-cwebkb-it', '0143-tmovie-rw', '0099-jester-mi', '0100-jester-mrai', '0114-pumsb_star-it', '0075-bnetflix-mi', '0136-bnetflix-rw', '0122-tmovie-it', '0131-c20ng-it', '0138-bbc-rw', '0145-book-rw', '0081-nltcs-mi', '0147-cwebkb-rw', '0083-plants-mi', '0148-jester-rw', '0086-kosarek-mrai', '0145-book-rw', '0097-cwebkb-mi', '0132-accidents-it', '0133-ad-it', '0085-kosarek-mi', '0111-ad-mi', '0142-baudio-rw', '0138-bbc-rw', '0109-accidents-mi', '0100-jester-mrai', '0107-c20ng-mi', '0087-baudio-mi', '0101-msnbc-mi', '0127-jester-it', '0091-voting-mi', '0136-bnetflix-rw', '0075-bnetflix-mi', '0110-accidents-mrai', '0114-pumsb_star-it', '0129-msweb-it', '0123-voting-it', '0078-kdd-mrai', '0121-baudio-it', '0115-bnetflix-it', '0072-tretail-mrai', '0080-bbc-mrai', '0076-bnetflix-mrai', '0108-c20ng-mrai', '0103-msweb-mi', '0152-c20ng-rw', '0116-kdd-it', '0128-msnbc-it', '0095-dna-mi', '0071-tretail-mi', '0125-dna-it', '0073-pumsb_star-mi', '0088-baudio-mrai', '0130-cr52-it', '0102-msnbc-mrai', '0146-dna-rw', '0090-tmovie-mrai', '0117-bbc-it', '0113-tretail-it', '0106-cr52-mrai', '0084-plants-mrai', '0096-dna-mrai', '0141-kosarek-rw', '0104-msweb-mrai', '0077-kdd-mi', '0120-kosarek-it', '0093-book-mi', '0105-cr52-mi', '0151-cr52-rw', '0119-plants-it', '0112-ad-mrai', '0118-nltcs-it', '0081-nltcs-mi', '0092-voting-mrai', '0122-tmovie-it', '0079-bbc-mi', '0098-cwebkb-mrai', '0124-book-it', '0148-jester-rw', '0074-pumsb_star-mrai', '0083-plants-mi', '0147-cwebkb-rw', '0131-c20ng-it', '0134-tretail-rw', '0126-cwebkb-it', '0082-nltcs-mrai', '0089-tmovie-mi', '0094-book-mrai', '0143-tmovie-rw', '0099-jester-mi', '0041-msweb-mrai', '0043-cr52-mrai', '0056-plants-it', '0034-cwebkb-mi', '0010-pumsb_star-mi', '0013-bnetflix-mrai', '0019-nltcs-mrai', '0045-c20ng-mrai', '0057-kosarek-it', '0024-baudio-mi', '0064-jester-it', '0015-kdd-mrai', '0042-cr52-mi', '0033-dna-mrai', '0032-dna-mi', '0059-tmovie-it', '0026-tmovie-mi', '0070-ad-it', '0036-jester-mi', '0060-voting-it', '0055-nltcs-it', '0017-bbc-mrai', '0063-cwebkb-it', '0061-book-it', '0035-cwebkb-mrai', '0031-book-mrai', '0011-pumsb_star-mrai', '0023-kosarek-mrai', '0044-c20ng-mi', '0065-msnbc-it', '0051-pumsb_star-it', '0054-bbc-it', '0014-kdd-mi', '0038-msnbc-mi', '0029-voting-mrai', '0027-tmovie-mrai', '0053-kdd-it', '0018-nltcs-mi', '0040-msweb-mi', '0039-msnbc-mrai', '0050-tretail-it', '0020-plants-mi', '0049-ad-mrai', '0025-baudio-mrai', '0058-baudio-it', '0021-plants-mrai', '0066-msweb-it', '0047-accidents-mrai', '0008-tretail-mi', '0012-bnetflix-mi', '0009-tretail-mrai', '0030-book-mi', '0052-bnetflix-it', '0016-bbc-mi', '0046-accidents-mi', '0062-dna-it', '0069-accidents-it', '0048-ad-mi', '0037-jester-mrai', '0067-cr52-it', '0068-c20ng-it', '0028-voting-mi', '0022-kosarek-mi', '0068-c20ng-it', '0030-book-mi', '0047-accidents-mrai', '0049-ad-mrai', '0062-dna-it', '0070-ad-it', '0023-kosarek-mrai', '0067-cr52-it', '0016-bbc-mi', '0027-tmovie-mrai', '0029-voting-mrai', '0066-msweb-it', '0040-msweb-mi', '0037-jester-mrai', '0051-pumsb_star-it', '0018-nltcs-mi', '0057-kosarek-it', '0045-c20ng-mrai', '0053-kdd-it', '0028-voting-mi', '0011-pumsb_star-mrai', '0020-plants-mi', '0021-plants-mrai', '0054-bbc-it', '0025-baudio-mrai', '0014-kdd-mi', '0058-baudio-it', '0041-msweb-mrai', '0038-msnbc-mi', '0019-nltcs-mrai', '0052-bnetflix-it', '0044-c20ng-mi', '0012-bnetflix-mi', '0065-msnbc-it', '0009-tretail-mrai', '0022-kosarek-mi', '0024-baudio-mi', '0064-jester-it', '0017-bbc-mrai', '0059-tmovie-it', '0048-ad-mi', '0055-nltcs-it', '0050-tretail-it', '0039-msnbc-mrai', '0043-cr52-mrai', '0056-plants-it', '0034-cwebkb-mi', '0069-accidents-it', '0061-book-it', '0008-tretail-mi', '0046-accidents-mi', '0063-cwebkb-it', '0035-cwebkb-mrai', '0032-dna-mi', '0031-book-mrai', '0015-kdd-mrai', '0033-dna-mrai', '0013-bnetflix-mrai', '0010-pumsb_star-mi', '0026-tmovie-mi', '0042-cr52-mi', '0036-jester-mi', '0060-voting-it']\n",
      "153\n",
      "195\n",
      "216\n"
     ]
    },
    {
     "data": {
      "text/plain": [
       "'/cw/dtaijupiter/NoCsBack/dtai/elia/aaai20/cli/cli-config/md8-random-predict.csv'"
      ]
     },
     "execution_count": 7,
     "metadata": {},
     "output_type": "execute_result"
    }
   ],
   "source": [
    "default_mercs_predict_combo(datasets=starai_ds, model_keyword=\"md8-random\")"
   ]
  },
  {
   "cell_type": "markdown",
   "metadata": {},
   "source": [
    "# MD16\n",
    "\n",
    "Mercs Prediction with models of max depth 16"
   ]
  },
  {
   "cell_type": "markdown",
   "metadata": {},
   "source": [
    "## Base"
   ]
  },
  {
   "cell_type": "raw",
   "metadata": {},
   "source": [
    "default_mercs_predict_combo(datasets=starai_ds, model_keyword=\"md16-base\")"
   ]
  },
  {
   "cell_type": "markdown",
   "metadata": {},
   "source": [
    "## Random"
   ]
  },
  {
   "cell_type": "raw",
   "metadata": {},
   "source": [
    "default_mercs_predict_combo(datasets=starai_ds, model_keyword=\"md16-random\")"
   ]
  }
 ],
 "metadata": {
  "kernelspec": {
   "display_name": "aaai20-jup",
   "language": "python",
   "name": "aaai20-jup"
  },
  "language_info": {
   "codemirror_mode": {
    "name": "ipython",
    "version": 3
   },
   "file_extension": ".py",
   "mimetype": "text/x-python",
   "name": "python",
   "nbconvert_exporter": "python",
   "pygments_lexer": "ipython3",
   "version": "3.7.4"
  },
  "toc-autonumbering": true
 },
 "nbformat": 4,
 "nbformat_minor": 4
}
