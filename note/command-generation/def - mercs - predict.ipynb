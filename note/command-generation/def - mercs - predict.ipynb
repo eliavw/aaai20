{
 "cells": [
  {
   "cell_type": "markdown",
   "metadata": {},
   "source": [
    "# Final MERCS predict commands\n"
   ]
  },
  {
   "cell_type": "code",
   "execution_count": 1,
   "metadata": {},
   "outputs": [],
   "source": [
    "from aaai20.io import (\n",
    "    build_filesystem,\n",
    "    default_prefix_exp_fn_suffix,\n",
    "    filename_config,\n",
    "    filename_cli_commands,\n",
    "    filename_script,\n",
    "    filename_logs,\n",
    "    filename_query\n",
    ")\n",
    "\n",
    "from aaai20.cmd_gen import (\n",
    "    all_fnames_in_dir,\n",
    "    generate_config_and_log_fname,\n",
    "    generate_df_commands,\n",
    "    extract_idx_from_fnames,\n",
    "    default_start_idx,\n",
    "    prepare_fs,\n",
    ")\n",
    "\n",
    "\n",
    "import json\n",
    "import os\n",
    "import pandas as pd\n",
    "import datetime\n",
    "import numpy as np\n",
    "\n",
    "from itertools import product"
   ]
  },
  {
   "cell_type": "markdown",
   "metadata": {},
   "source": [
    "# Functions"
   ]
  },
  {
   "cell_type": "code",
   "execution_count": 2,
   "metadata": {},
   "outputs": [],
   "source": [
    "def generate_mercs_prediction_config(\n",
    "    model_keyword=\"md16-basic\",\n",
    "    kind=\"SL\",\n",
    "    random_state=42,\n",
    "    script=\"run_mercs\",\n",
    "    exp_fn_fields=[\"prediction_algorithm\"],\n",
    "    timeout=1,\n",
    "    datasets=None,\n",
    "    start_idx=None,\n",
    "    parallel=False,\n",
    "):\n",
    "    default_predict_config = dict(prediction_algorithm=\"mi\", random_state=random_state)\n",
    "\n",
    "    exp_keyword = model_keyword + \"-final\"\n",
    "    nb_queries = 100\n",
    "\n",
    "    # Fixed parameters\n",
    "    fs = build_filesystem()\n",
    "    prepare_fs(exp_keyword, script, fs)\n",
    "\n",
    "    timeout = datetime.timedelta(hours=timeout).seconds\n",
    "    \n",
    "    if start_idx is None:\n",
    "        start_idx = default_start_idx(fs, script=script)\n",
    "\n",
    "    # Grid definition\n",
    "    if kind in {\"SL\"}:\n",
    "        phase_space = product(datasets, [\"mi\", \"mrai\"])\n",
    "        predict_config = dict()\n",
    "    elif kind in {\"it\"}:\n",
    "        phase_space = product(datasets, [\"it\"])\n",
    "        predict_config = dict(max_steps=8)\n",
    "    elif kind in {\"rw\"}:\n",
    "        phase_space = product(datasets, [\"rw\"])\n",
    "        predict_config = dict(max_steps=4, nb_walks=5)\n",
    "    else:\n",
    "        raise NotImplementedError(\"I do not know.\")\n",
    "\n",
    "    # Update default\n",
    "    predict_config = {**default_predict_config, **predict_config}\n",
    "\n",
    "    # Inits\n",
    "    df_commands = pd.DataFrame()\n",
    "    fn_cfg = []\n",
    "    fn_log = []\n",
    "    fn_script = filename_script(script, kind=\"predict\")\n",
    "    q_idx = None\n",
    "\n",
    "    if not parallel:\n",
    "        for p_idx, (ds, prediction_algorithm) in enumerate(phase_space):\n",
    "            # Init\n",
    "            exp_idx = start_idx + p_idx\n",
    "\n",
    "            # Generate config\n",
    "            predict_config[\"prediction_algorithm\"] = prediction_algorithm\n",
    "\n",
    "            config = dict(\n",
    "                dataset=ds,\n",
    "                script=script,\n",
    "                model_keyword=model_keyword,\n",
    "                exp_keyword=exp_keyword,\n",
    "                exp_idx=exp_idx,\n",
    "                exp_fn_fields=exp_fn_fields,\n",
    "                predict_config=predict_config,\n",
    "            )\n",
    "\n",
    "            # Save config\n",
    "            single_fn_cfg, single_fn_log = generate_config_and_log_fname(\n",
    "                config, kind=\"predict\", exp_fn_fields=exp_fn_fields\n",
    "            )\n",
    "            with open(single_fn_cfg, \"w\") as f:\n",
    "                json.dump(config, f, indent=4)\n",
    "\n",
    "            fn_cfg.append(single_fn_cfg)\n",
    "            fn_log.append(single_fn_log)\n",
    "    else:\n",
    "        q_idx = []\n",
    "        for p_idx, (ds, prediction_algorithm) in enumerate(phase_space):\n",
    "            for single_q_idx in range(nb_queries):\n",
    "                # Init\n",
    "                exp_idx = start_idx + p_idx\n",
    "\n",
    "                # Generate config\n",
    "                predict_config[\"prediction_algorithm\"] = prediction_algorithm\n",
    "\n",
    "                config = dict(\n",
    "                    dataset=ds,\n",
    "                    script=script,\n",
    "                    model_keyword=model_keyword,\n",
    "                    exp_keyword=exp_keyword,\n",
    "                    exp_idx=exp_idx,\n",
    "                    exp_fn_fields=exp_fn_fields,\n",
    "                    predict_config=predict_config,\n",
    "                )\n",
    "\n",
    "                # Save config\n",
    "                single_fn_cfg, single_fn_log = generate_config_and_log_fname(\n",
    "                    config,\n",
    "                    kind=\"predict\",\n",
    "                    exp_fn_fields=exp_fn_fields,\n",
    "                    qry_idx=single_q_idx,\n",
    "                )\n",
    "                with open(single_fn_cfg, \"w\") as f:\n",
    "                    json.dump(config, f, indent=4)\n",
    "\n",
    "                fn_cfg.append(single_fn_cfg)\n",
    "                fn_log.append(single_fn_log)\n",
    "                q_idx.append(single_q_idx)\n",
    "\n",
    "    df_commands = generate_df_commands(fn_script, fn_cfg, fn_log, timeout, q_idx=q_idx)\n",
    "\n",
    "    return df_commands"
   ]
  },
  {
   "cell_type": "code",
   "execution_count": 3,
   "metadata": {},
   "outputs": [],
   "source": [
    "def default_mercs_predict_combo(\n",
    "    datasets=None,\n",
    "    model_keyword=\"md4-base\",\n",
    "    parallel=False,\n",
    "    timeout=0.3,\n",
    "    script=\"run_mercs\",\n",
    "):\n",
    "\n",
    "    exp_keyword = model_keyword + \"-predict\"\n",
    "\n",
    "    start_idx_SL = default_start_idx(fs, script=script)\n",
    "\n",
    "    df_SL = generate_mercs_prediction_config(\n",
    "        model_keyword=model_keyword,\n",
    "        kind=\"SL\",\n",
    "        random_state=42,\n",
    "        script=script,\n",
    "        timeout=timeout,\n",
    "        datasets=datasets,\n",
    "        parallel=parallel,\n",
    "        start_idx=start_idx_SL,\n",
    "    )\n",
    "\n",
    "    start_idx_it = start_idx_SL + len(df_SL)\n",
    "    df_it = generate_mercs_prediction_config(\n",
    "        model_keyword=model_keyword,\n",
    "        kind=\"it\",\n",
    "        random_state=42,\n",
    "        script=script,\n",
    "        timeout=timeout,\n",
    "        datasets=datasets,\n",
    "        parallel=parallel,\n",
    "        start_idx=start_idx_it,\n",
    "    )\n",
    "\n",
    "    \"\"\"\n",
    "    start_idx_rw = start_idx_it + len(df_it)\n",
    "    df_rw = generate_mercs_prediction_config(\n",
    "        model_keyword=model_keyword,\n",
    "        kind=\"rw\",\n",
    "        random_state=42,\n",
    "        script=script,\n",
    "        timeout=timeout,\n",
    "        datasets=datasets,\n",
    "        parallel=parallel,\n",
    "        start_idx=start_idx_rw,\n",
    "    )\n",
    "    \"\"\"\n",
    "\n",
    "    #df_commands = pd.concat([df_SL, df_it, df_rw])\n",
    "    df_commands = pd.concat([df_SL, df_it])\n",
    "\n",
    "    fn_commands = filename_cli_commands(exp_keyword)\n",
    "    df_commands.to_csv(fn_commands, index=False)\n",
    "    \n",
    "    \n",
    "    return fn_commands"
   ]
  },
  {
   "cell_type": "markdown",
   "metadata": {},
   "source": [
    "# General Parameters\n",
    "\n",
    "Some things that remain constant, such as typically the datasets."
   ]
  },
  {
   "cell_type": "code",
   "execution_count": 4,
   "metadata": {},
   "outputs": [
    {
     "data": {
      "text/plain": [
       "['tretail',\n",
       " 'pumsb_star',\n",
       " 'bnetflix',\n",
       " 'kdd',\n",
       " 'bbc',\n",
       " 'nltcs',\n",
       " 'plants',\n",
       " 'kosarek',\n",
       " 'baudio',\n",
       " 'tmovie',\n",
       " 'voting',\n",
       " 'book',\n",
       " 'dna',\n",
       " 'cwebkb',\n",
       " 'jester',\n",
       " 'msnbc',\n",
       " 'msweb',\n",
       " 'cr52',\n",
       " 'c20ng',\n",
       " 'accidents',\n",
       " 'ad']"
      ]
     },
     "execution_count": 4,
     "metadata": {},
     "output_type": "execute_result"
    }
   ],
   "source": [
    "fs = build_filesystem()\n",
    "starai_ds = os.listdir(fs['datasets-starai'])\n",
    "starai_ds"
   ]
  },
  {
   "cell_type": "markdown",
   "metadata": {},
   "source": [
    "# MD 8"
   ]
  },
  {
   "cell_type": "markdown",
   "metadata": {},
   "source": [
    "## Base"
   ]
  },
  {
   "cell_type": "code",
   "execution_count": 5,
   "metadata": {},
   "outputs": [
    {
     "data": {
      "text/plain": [
       "'/cw/dtaijupiter/NoCsBack/dtai/elia/aaai20/cli/cli-config/md8-base-predict.csv'"
      ]
     },
     "execution_count": 5,
     "metadata": {},
     "output_type": "execute_result"
    }
   ],
   "source": [
    "default_mercs_predict_combo(datasets=starai_ds, model_keyword=\"md8-base\")"
   ]
  },
  {
   "cell_type": "markdown",
   "metadata": {},
   "source": [
    "## Random"
   ]
  },
  {
   "cell_type": "code",
   "execution_count": 6,
   "metadata": {},
   "outputs": [
    {
     "data": {
      "text/plain": [
       "'/cw/dtaijupiter/NoCsBack/dtai/elia/aaai20/cli/cli-config/md8-random-predict.csv'"
      ]
     },
     "execution_count": 6,
     "metadata": {},
     "output_type": "execute_result"
    }
   ],
   "source": [
    "default_mercs_predict_combo(datasets=starai_ds, model_keyword=\"md8-random\")"
   ]
  },
  {
   "cell_type": "markdown",
   "metadata": {},
   "source": [
    "# MD16\n",
    "\n",
    "Mercs Prediction with models of max depth 16"
   ]
  },
  {
   "cell_type": "markdown",
   "metadata": {},
   "source": [
    "## Base"
   ]
  },
  {
   "cell_type": "markdown",
   "metadata": {},
   "source": [
    "default_mercs_predict_combo(datasets=starai_ds, model_keyword=\"md16-base\")"
   ]
  },
  {
   "cell_type": "markdown",
   "metadata": {},
   "source": [
    "## Random"
   ]
  },
  {
   "cell_type": "raw",
   "metadata": {},
   "source": [
    "default_mercs_predict_combo(datasets=starai_ds, model_keyword=\"md16-random\")"
   ]
  }
 ],
 "metadata": {
  "kernelspec": {
   "display_name": "aaai20-jup",
   "language": "python",
   "name": "aaai20-jup"
  },
  "language_info": {
   "codemirror_mode": {
    "name": "ipython",
    "version": 3
   },
   "file_extension": ".py",
   "mimetype": "text/x-python",
   "name": "python",
   "nbconvert_exporter": "python",
   "pygments_lexer": "ipython3",
   "version": "3.7.4"
  },
  "toc-autonumbering": true
 },
 "nbformat": 4,
 "nbformat_minor": 4
}
