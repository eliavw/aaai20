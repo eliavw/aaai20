{
 "cells": [
  {
   "cell_type": "markdown",
   "metadata": {},
   "source": [
    "# CLI Config Generator"
   ]
  },
  {
   "cell_type": "code",
   "execution_count": 1,
   "metadata": {},
   "outputs": [],
   "source": [
    "from aaai20.io import (\n",
    "    build_filesystem,\n",
    "    default_prefix_exp_fn_suffix,\n",
    "    filename_config,\n",
    "    filename_cli_commands,\n",
    "    filename_script,\n",
    "    filename_logs,\n",
    ")\n",
    "\n",
    "from aaai20.cmd_gen import (\n",
    "    all_fnames_in_dir,\n",
    "    generate_config,\n",
    "    generate_config_and_log_fname,\n",
    "    generate_df_commands,\n",
    "    extract_idx_from_fnames,\n",
    "    default_start_idx,\n",
    ")\n",
    "\n",
    "import json\n",
    "import os\n",
    "import pandas as pd\n",
    "import datetime"
   ]
  },
  {
   "cell_type": "markdown",
   "metadata": {},
   "source": [
    "# Functions"
   ]
  },
  {
   "cell_type": "code",
   "execution_count": 9,
   "metadata": {},
   "outputs": [],
   "source": [
    "def generate_predict_config(\n",
    "    dataset=\"nltcs\",\n",
    "    model_keyword=\"default\",\n",
    "    exp_keyword=\"test-exp\",\n",
    "    script=\"run_mercs\",\n",
    "    exp_idx=0,\n",
    "    **predict_config\n",
    "):\n",
    "\n",
    "    default_predict_config = dict(prediction_algorithm=\"mi\")\n",
    "\n",
    "    predict_config = {**default_predict_config, **predict_config}\n",
    "\n",
    "    config = dict(\n",
    "        dataset=dataset,\n",
    "        model_keyword=model_keyword,\n",
    "        exp_keyword=exp_keyword,\n",
    "        exp_idx=exp_idx,\n",
    "        predict_config=predict_config,\n",
    "        script=script,\n",
    "    )\n",
    "\n",
    "    return config\n",
    "\n",
    "def generate_fit_config(\n",
    "    dataset=\"nltcs\",\n",
    "    model_keyword=\"default\",\n",
    "    exp_keyword=\"test-exp\",\n",
    "    script=\"run_mercs\",\n",
    "    exp_idx=0,\n",
    "    **fit_config\n",
    "):\n",
    "\n",
    "    default_fit_config = dict()\n",
    "\n",
    "    fit_config = {**default_fit_config, **fit_config}\n",
    "\n",
    "    config = dict(\n",
    "        dataset=dataset,\n",
    "        model_keyword=model_keyword,\n",
    "        exp_keyword=exp_keyword,\n",
    "        exp_idx=exp_idx,\n",
    "        fit_config=fit_config,\n",
    "        script=script,\n",
    "    )\n",
    "\n",
    "    return config"
   ]
  },
  {
   "cell_type": "code",
   "execution_count": 8,
   "metadata": {},
   "outputs": [],
   "source": []
  },
  {
   "cell_type": "markdown",
   "metadata": {},
   "source": [
    "# FIT MERCS"
   ]
  },
  {
   "cell_type": "markdown",
   "metadata": {},
   "source": [
    "## Functions"
   ]
  },
  {
   "cell_type": "code",
   "execution_count": null,
   "metadata": {},
   "outputs": [],
   "source": []
  },
  {
   "cell_type": "markdown",
   "metadata": {},
   "source": [
    "## Demo"
   ]
  },
  {
   "cell_type": "code",
   "execution_count": 2,
   "metadata": {},
   "outputs": [
    {
     "name": "stdout",
     "output_type": "stream",
     "text": [
      "Nothing found, so index is 0\n"
     ]
    }
   ],
   "source": [
    "# Fixed parameters\n",
    "exp_keyword = 'demofit'\n",
    "script=\"fit_mercs\"\n",
    "fs = build_filesystem()\n",
    "\n",
    "timeout = datetime.timedelta(hours=1).seconds\n",
    "start_idx = default_start_idx(fs, script=script)\n",
    "\n",
    "# Grid definition\n",
    "phase_space = {'nltcs', 'plants'}\n",
    "\n",
    "# Inits\n",
    "df_commands = pd.DataFrame()\n",
    "fn_cfg = []\n",
    "fn_log = []\n",
    "fn_script = filename_script(script, kind='fit')\n",
    "\n",
    "for p_idx, p in enumerate(phase_space):\n",
    "    \n",
    "    # Init\n",
    "    exp_idx = start_idx + p_idx\n",
    "    \n",
    "    # Generate config\n",
    "    fit_config = dict()\n",
    "\n",
    "    config = generate_fit_config(\n",
    "        dataset=p,\n",
    "        script=script,\n",
    "        model_keyword=\"default\",\n",
    "        exp_keyword=exp_keyword,\n",
    "        exp_idx=exp_idx,\n",
    "        **fit_config\n",
    "    )\n",
    "    \n",
    "    # Save config\n",
    "    single_fn_cfg, single_fn_log = generate_config_and_log_fname(config, kind='fit')\n",
    "    with open(single_fn_cfg, 'w') as f:\n",
    "        json.dump(config, f, indent=4)\n",
    "        \n",
    "    fn_cfg.append(single_fn_cfg)\n",
    "    fn_log.append(single_fn_log)\n",
    "\n",
    "    \n",
    "df_commands = generate_df_commands(fn_script, fn_cfg, fn_log, timeout)\n",
    "\n",
    "fn_commands = filename_cli_commands(exp_keyword)\n",
    "df_commands.to_csv(fn_commands, index=False)"
   ]
  },
  {
   "cell_type": "code",
   "execution_count": 3,
   "metadata": {},
   "outputs": [
    {
     "data": {
      "text/html": [
       "<div>\n",
       "<style scoped>\n",
       "    .dataframe tbody tr th:only-of-type {\n",
       "        vertical-align: middle;\n",
       "    }\n",
       "\n",
       "    .dataframe tbody tr th {\n",
       "        vertical-align: top;\n",
       "    }\n",
       "\n",
       "    .dataframe thead th {\n",
       "        text-align: right;\n",
       "    }\n",
       "</style>\n",
       "<table border=\"1\" class=\"dataframe\">\n",
       "  <thead>\n",
       "    <tr style=\"text-align: right;\">\n",
       "      <th></th>\n",
       "      <th>script_fname</th>\n",
       "      <th>config_fname</th>\n",
       "      <th>log_fname</th>\n",
       "      <th>timeout</th>\n",
       "    </tr>\n",
       "  </thead>\n",
       "  <tbody>\n",
       "    <tr>\n",
       "      <th>0</th>\n",
       "      <td>/cw/dtailocal/repos/aaai20/cli/fit/fit_mercs.py</td>\n",
       "      <td>/cw/dtailocal/repos/aaai20/out/fit_mercs/demof...</td>\n",
       "      <td>/cw/dtailocal/repos/aaai20/out/fit_mercs/demof...</td>\n",
       "      <td>3600</td>\n",
       "    </tr>\n",
       "    <tr>\n",
       "      <th>1</th>\n",
       "      <td>/cw/dtailocal/repos/aaai20/cli/fit/fit_mercs.py</td>\n",
       "      <td>/cw/dtailocal/repos/aaai20/out/fit_mercs/demof...</td>\n",
       "      <td>/cw/dtailocal/repos/aaai20/out/fit_mercs/demof...</td>\n",
       "      <td>3600</td>\n",
       "    </tr>\n",
       "  </tbody>\n",
       "</table>\n",
       "</div>"
      ],
      "text/plain": [
       "                                      script_fname  \\\n",
       "0  /cw/dtailocal/repos/aaai20/cli/fit/fit_mercs.py   \n",
       "1  /cw/dtailocal/repos/aaai20/cli/fit/fit_mercs.py   \n",
       "\n",
       "                                        config_fname  \\\n",
       "0  /cw/dtailocal/repos/aaai20/out/fit_mercs/demof...   \n",
       "1  /cw/dtailocal/repos/aaai20/out/fit_mercs/demof...   \n",
       "\n",
       "                                           log_fname  timeout  \n",
       "0  /cw/dtailocal/repos/aaai20/out/fit_mercs/demof...     3600  \n",
       "1  /cw/dtailocal/repos/aaai20/out/fit_mercs/demof...     3600  "
      ]
     },
     "execution_count": 3,
     "metadata": {},
     "output_type": "execute_result"
    }
   ],
   "source": [
    "df_commands"
   ]
  },
  {
   "cell_type": "markdown",
   "metadata": {},
   "source": [
    "# RUN MERCS"
   ]
  },
  {
   "cell_type": "markdown",
   "metadata": {},
   "source": [
    "## Functions"
   ]
  },
  {
   "cell_type": "code",
   "execution_count": null,
   "metadata": {},
   "outputs": [],
   "source": []
  },
  {
   "cell_type": "code",
   "execution_count": null,
   "metadata": {},
   "outputs": [],
   "source": []
  },
  {
   "cell_type": "markdown",
   "metadata": {},
   "source": [
    "## Demo\n",
    "\n",
    "Local demonstration of my system. I will also use GNU Parallel."
   ]
  },
  {
   "cell_type": "code",
   "execution_count": 4,
   "metadata": {},
   "outputs": [
    {
     "data": {
      "text/plain": [
       "['cwebkb',\n",
       " 'book',\n",
       " 'bbc',\n",
       " 'kdd',\n",
       " 'ad',\n",
       " 'msnbc',\n",
       " 'tretail',\n",
       " 'msweb',\n",
       " 'jester',\n",
       " 'pumsb_star',\n",
       " 'baudio',\n",
       " 'nltcs',\n",
       " 'plants',\n",
       " 'dna',\n",
       " 'bnetflix',\n",
       " 'voting',\n",
       " 'cr52',\n",
       " 'c20ng',\n",
       " 'kosarek',\n",
       " 'accidents',\n",
       " 'tmovie']"
      ]
     },
     "execution_count": 4,
     "metadata": {},
     "output_type": "execute_result"
    }
   ],
   "source": [
    "fs = build_filesystem()\n",
    "starai_ds = os.listdir(fs['datasets-starai'])\n",
    "starai_ds"
   ]
  },
  {
   "cell_type": "code",
   "execution_count": 5,
   "metadata": {},
   "outputs": [],
   "source": [
    "start_idx = default_start_idx(fs, script=\"run_mercs\")\n",
    "df_commands = pd.DataFrame()\n",
    "exp_keyword = 'gnuparallel-test'\n",
    "script=\"run_mercs\"\n",
    "timeout = datetime.timedelta(hours=1).seconds\n",
    "\n",
    "phase_space = {'mi', 'mrai'}\n",
    "\n",
    "fn_cfg = []\n",
    "fn_log = []\n",
    "fn_script = filename_script(script, kind='predict')\n",
    "for p_idx, p in enumerate(phase_space):\n",
    "    \n",
    "    # Init\n",
    "    exp_idx = start_idx + p_idx\n",
    "    \n",
    "    # Generate config\n",
    "    predict_config = dict(prediction_algorithm=p)\n",
    "\n",
    "    config = generate_predict_config(\n",
    "        dataset=\"nltcs\",\n",
    "        script=script,\n",
    "        model_keyword=\"default\",\n",
    "        exp_keyword=exp_keyword,\n",
    "        exp_idx=exp_idx,\n",
    "        **predict_config\n",
    "    )\n",
    "    \n",
    "    # Save config\n",
    "    single_fn_cfg, single_fn_log = generate_config_and_log_fname(config, kind='predict', exp_fn_fields=\"prediction_algorithm\")\n",
    "    with open(single_fn_cfg, 'w') as f:\n",
    "        json.dump(config, f, indent=4)\n",
    "        \n",
    "    fn_cfg.append(single_fn_cfg)\n",
    "    fn_log.append(single_fn_log)\n",
    "\n",
    "    \n",
    "df_commands = generate_df_commands(fn_script, fn_cfg, fn_log, timeout, q_idx=3)\n",
    "\n",
    "fn_commands = filename_cli_commands(exp_keyword)\n",
    "df_commands.to_csv(fn_commands, index=False)\n"
   ]
  },
  {
   "cell_type": "code",
   "execution_count": 6,
   "metadata": {},
   "outputs": [
    {
     "data": {
      "text/html": [
       "<div>\n",
       "<style scoped>\n",
       "    .dataframe tbody tr th:only-of-type {\n",
       "        vertical-align: middle;\n",
       "    }\n",
       "\n",
       "    .dataframe tbody tr th {\n",
       "        vertical-align: top;\n",
       "    }\n",
       "\n",
       "    .dataframe thead th {\n",
       "        text-align: right;\n",
       "    }\n",
       "</style>\n",
       "<table border=\"1\" class=\"dataframe\">\n",
       "  <thead>\n",
       "    <tr style=\"text-align: right;\">\n",
       "      <th></th>\n",
       "      <th>script_fname</th>\n",
       "      <th>config_fname</th>\n",
       "      <th>log_fname</th>\n",
       "      <th>timeout</th>\n",
       "      <th>q_idx</th>\n",
       "    </tr>\n",
       "  </thead>\n",
       "  <tbody>\n",
       "    <tr>\n",
       "      <th>0</th>\n",
       "      <td>/cw/dtailocal/repos/aaai20/cli/predict/run_mer...</td>\n",
       "      <td>/cw/dtailocal/repos/aaai20/out/run_mercs/gnupa...</td>\n",
       "      <td>/cw/dtailocal/repos/aaai20/out/run_mercs/gnupa...</td>\n",
       "      <td>3600</td>\n",
       "      <td>3</td>\n",
       "    </tr>\n",
       "    <tr>\n",
       "      <th>1</th>\n",
       "      <td>/cw/dtailocal/repos/aaai20/cli/predict/run_mer...</td>\n",
       "      <td>/cw/dtailocal/repos/aaai20/out/run_mercs/gnupa...</td>\n",
       "      <td>/cw/dtailocal/repos/aaai20/out/run_mercs/gnupa...</td>\n",
       "      <td>3600</td>\n",
       "      <td>3</td>\n",
       "    </tr>\n",
       "  </tbody>\n",
       "</table>\n",
       "</div>"
      ],
      "text/plain": [
       "                                        script_fname  \\\n",
       "0  /cw/dtailocal/repos/aaai20/cli/predict/run_mer...   \n",
       "1  /cw/dtailocal/repos/aaai20/cli/predict/run_mer...   \n",
       "\n",
       "                                        config_fname  \\\n",
       "0  /cw/dtailocal/repos/aaai20/out/run_mercs/gnupa...   \n",
       "1  /cw/dtailocal/repos/aaai20/out/run_mercs/gnupa...   \n",
       "\n",
       "                                           log_fname  timeout  q_idx  \n",
       "0  /cw/dtailocal/repos/aaai20/out/run_mercs/gnupa...     3600      3  \n",
       "1  /cw/dtailocal/repos/aaai20/out/run_mercs/gnupa...     3600      3  "
      ]
     },
     "execution_count": 6,
     "metadata": {},
     "output_type": "execute_result"
    }
   ],
   "source": [
    "df_commands"
   ]
  }
 ],
 "metadata": {
  "kernelspec": {
   "display_name": "aaai20-frost",
   "language": "python",
   "name": "aaai20-frost"
  },
  "language_info": {
   "codemirror_mode": {
    "name": "ipython",
    "version": 3
   },
   "file_extension": ".py",
   "mimetype": "text/x-python",
   "name": "python",
   "nbconvert_exporter": "python",
   "pygments_lexer": "ipython3",
   "version": "3.6.9"
  },
  "toc-autonumbering": true
 },
 "nbformat": 4,
 "nbformat_minor": 4
}
