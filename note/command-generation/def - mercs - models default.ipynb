{
 "cells": [
  {
   "cell_type": "markdown",
   "metadata": {},
   "source": [
    "# CLI Config Generator"
   ]
  },
  {
   "cell_type": "code",
   "execution_count": 1,
   "metadata": {},
   "outputs": [],
   "source": [
    "from aaai20.io import (\n",
    "    build_filesystem,\n",
    "    default_prefix_exp_fn_suffix,\n",
    "    filename_config,\n",
    "    filename_cli_commands,\n",
    "    filename_script,\n",
    "    filename_logs,\n",
    ")\n",
    "\n",
    "from aaai20.cmd_gen import (\n",
    "    all_fnames_in_dir,\n",
    "    generate_config_and_log_fname,\n",
    "    generate_df_commands,\n",
    "    extract_idx_from_fnames,\n",
    "    default_start_idx,\n",
    "    prepare_fs,\n",
    ")\n",
    "\n",
    "\n",
    "import json\n",
    "import os\n",
    "import pandas as pd\n",
    "import datetime"
   ]
  },
  {
   "cell_type": "markdown",
   "metadata": {},
   "source": [
    "# Functions"
   ]
  },
  {
   "cell_type": "code",
   "execution_count": 2,
   "metadata": {},
   "outputs": [],
   "source": [
    "def generate_predict_config(\n",
    "    dataset=\"nltcs\",\n",
    "    model_keyword=\"default\",\n",
    "    exp_keyword=\"test-exp\",\n",
    "    script=\"run_mercs\",\n",
    "    exp_idx=0,\n",
    "    **predict_config\n",
    "):\n",
    "\n",
    "    default_predict_config = dict(prediction_algorithm=\"mi\")\n",
    "\n",
    "    predict_config = {**default_predict_config, **predict_config}\n",
    "\n",
    "    config = dict(\n",
    "        dataset=dataset,\n",
    "        model_keyword=model_keyword,\n",
    "        exp_keyword=exp_keyword,\n",
    "        exp_idx=exp_idx,\n",
    "        predict_config=predict_config,\n",
    "        script=script,\n",
    "    )\n",
    "\n",
    "    return config\n",
    "\n",
    "def generate_fit_config(\n",
    "    dataset=\"nltcs\",\n",
    "    model_keyword=\"default\",\n",
    "    exp_keyword=\"test-exp\",\n",
    "    script=\"run_mercs\",\n",
    "    exp_idx=0,\n",
    "    **fit_config\n",
    "):\n",
    "\n",
    "    default_fit_config = dict()\n",
    "\n",
    "    fit_config = {**default_fit_config, **fit_config}\n",
    "\n",
    "    config = dict(\n",
    "        dataset=dataset,\n",
    "        model_keyword=model_keyword,\n",
    "        exp_keyword=exp_keyword,\n",
    "        exp_idx=exp_idx,\n",
    "        fit_config=fit_config,\n",
    "        script=script,\n",
    "    )\n",
    "\n",
    "    return config"
   ]
  },
  {
   "cell_type": "code",
   "execution_count": 3,
   "metadata": {},
   "outputs": [],
   "source": [
    "def default_mercs_models(max_depth=4, random_state=42, selection_algorithm='base', nb_iterations=1, fraction_missing=0):\n",
    "    # Config\n",
    "    fit_config = dict(\n",
    "        random_state=random_state,\n",
    "        max_depth=max_depth,\n",
    "        selection_algorithm=selection_algorithm,\n",
    "        nb_iterations=nb_iterations,\n",
    "        fraction_missing=fraction_missing,\n",
    "    )\n",
    "\n",
    "    # Fixed parameters\n",
    "    RANDOM_STATE=random_state\n",
    "    model_keyword='md{}-{}'.format(max_depth, selection_algorithm) \n",
    "    exp_keyword = model_keyword + \"-fit\"\n",
    "    script=\"fit_mercs\"\n",
    "    \n",
    "    fs = build_filesystem()\n",
    "    prepare_fs(exp_keyword, script, fs)\n",
    "\n",
    "    timeout = datetime.timedelta(hours=1).seconds\n",
    "    start_idx = default_start_idx(fs, script=script)\n",
    "\n",
    "    # Grid definition\n",
    "    phase_space = starai_ds\n",
    "\n",
    "    # Inits\n",
    "    df_commands = pd.DataFrame()\n",
    "    fn_cfg = []\n",
    "    fn_log = []\n",
    "    fn_script = filename_script(script, kind='fit')\n",
    "\n",
    "    for p_idx, p in enumerate(phase_space):\n",
    "\n",
    "        # Init\n",
    "        exp_idx = start_idx + p_idx\n",
    "\n",
    "        # Generate config\n",
    "        config = generate_fit_config(\n",
    "            dataset=p,\n",
    "            script=script,\n",
    "            model_keyword=model_keyword,\n",
    "            exp_keyword=exp_keyword,\n",
    "            exp_idx=exp_idx,\n",
    "            **fit_config\n",
    "        )\n",
    "\n",
    "        # Save config\n",
    "        single_fn_cfg, single_fn_log = generate_config_and_log_fname(config, kind='fit')\n",
    "        with open(single_fn_cfg, 'w') as f:\n",
    "            json.dump(config, f, indent=4)\n",
    "\n",
    "        fn_cfg.append(single_fn_cfg)\n",
    "        fn_log.append(single_fn_log)\n",
    "\n",
    "\n",
    "    df_commands = generate_df_commands(fn_script, fn_cfg, fn_log, timeout)\n",
    "\n",
    "    fn_commands = filename_cli_commands(exp_keyword)\n",
    "    df_commands.to_csv(fn_commands, index=False)\n",
    "    return"
   ]
  },
  {
   "cell_type": "markdown",
   "metadata": {},
   "source": [
    "# FIT MERCS - Basic\n",
    "\n",
    "Just one model per attribute."
   ]
  },
  {
   "cell_type": "code",
   "execution_count": 4,
   "metadata": {},
   "outputs": [
    {
     "data": {
      "text/plain": [
       "{'accidents',\n",
       " 'ad',\n",
       " 'baudio',\n",
       " 'bbc',\n",
       " 'bnetflix',\n",
       " 'book',\n",
       " 'c20ng',\n",
       " 'cr52',\n",
       " 'cwebkb',\n",
       " 'dna',\n",
       " 'jester',\n",
       " 'kdd',\n",
       " 'kosarek',\n",
       " 'msnbc',\n",
       " 'msweb',\n",
       " 'nltcs',\n",
       " 'plants',\n",
       " 'pumsb_star',\n",
       " 'tmovie',\n",
       " 'tretail',\n",
       " 'voting'}"
      ]
     },
     "execution_count": 4,
     "metadata": {},
     "output_type": "execute_result"
    }
   ],
   "source": [
    "fs = build_filesystem()\n",
    "\n",
    "starai_ds = set(os.listdir(fs['datasets-starai']))\n",
    "starai_ds"
   ]
  },
  {
   "cell_type": "code",
   "execution_count": 5,
   "metadata": {},
   "outputs": [
    {
     "name": "stdout",
     "output_type": "stream",
     "text": [
      "Nothing found, so index is 0\n",
      "Nothing found, so index is 0\n",
      "Nothing found, so index is 0\n"
     ]
    }
   ],
   "source": [
    "default_mercs_models(max_depth=2, selection_algorithm='base')\n",
    "default_mercs_models(max_depth=4, selection_algorithm='base')\n",
    "default_mercs_models(max_depth=8, selection_algorithm='base')"
   ]
  },
  {
   "cell_type": "markdown",
   "metadata": {},
   "source": [
    "# FIT MERCS - Random\n",
    "\n",
    "Build the default MERCS models."
   ]
  },
  {
   "cell_type": "code",
   "execution_count": 6,
   "metadata": {},
   "outputs": [
    {
     "name": "stdout",
     "output_type": "stream",
     "text": [
      "Nothing found, so index is 0\n",
      "Nothing found, so index is 0\n",
      "Nothing found, so index is 0\n"
     ]
    }
   ],
   "source": [
    "default_mercs_models(max_depth=2, selection_algorithm='random', fraction_missing=[0,0.3])\n",
    "default_mercs_models(max_depth=4, selection_algorithm='random', fraction_missing=[0,0.3])\n",
    "default_mercs_models(max_depth=8, selection_algorithm='random', fraction_missing=[0,0.3])"
   ]
  }
 ],
 "metadata": {
  "kernelspec": {
   "display_name": "aaai20-jup",
   "language": "python",
   "name": "aaai20-jup"
  },
  "language_info": {
   "codemirror_mode": {
    "name": "ipython",
    "version": 3
   },
   "file_extension": ".py",
   "mimetype": "text/x-python",
   "name": "python",
   "nbconvert_exporter": "python",
   "pygments_lexer": "ipython3",
   "version": "3.7.4"
  },
  "toc-autonumbering": true
 },
 "nbformat": 4,
 "nbformat_minor": 4
}
