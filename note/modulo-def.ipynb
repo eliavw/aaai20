{
 "cells": [
  {
   "cell_type": "markdown",
   "metadata": {},
   "source": [
    "# Modulo Exp Def\n",
    "\n",
    "This is the final Modulo Experiment. I will make it so that the results are paper-ready."
   ]
  },
  {
   "cell_type": "markdown",
   "metadata": {},
   "source": [
    "# Preliminaries"
   ]
  },
  {
   "cell_type": "markdown",
   "metadata": {},
   "source": [
    "## Imports"
   ]
  },
  {
   "cell_type": "code",
   "execution_count": 1,
   "metadata": {},
   "outputs": [
    {
     "name": "stderr",
     "output_type": "stream",
     "text": [
      "/home/zissou/miniconda3/envs/aaai20/lib/python3.6/site-packages/distributed/utils.py:138: RuntimeWarning: Couldn't detect a suitable IP address for reaching '8.8.8.8', defaulting to '127.0.0.1': [Errno 101] Network is unreachable\n",
      "  RuntimeWarning,\n"
     ]
    }
   ],
   "source": [
    "import pandas as pd\n",
    "import arff\n",
    "import os\n",
    "import numpy as np\n",
    "import aaai20\n",
    "import PxW\n",
    "\n",
    "from os.path import dirname\n",
    "from aaai20.io import filename_dataset, filename_query\n",
    "from aaai20.exp import collect_results\n",
    "from aaai20.wrangling import arff_to_df\n",
    "from aaai20.exp import collect_results, process_outcomes, save_outcome\n",
    "from sklearn.model_selection import train_test_split\n",
    "\n",
    "from modulo.core import Modulo\n",
    "from modulo.utils.encoding import query_to_code, code_to_query, encode_attribute\n",
    "\n",
    "from sklearn.preprocessing import LabelEncoder\n",
    "from sklearn.metrics import f1_score\n",
    "\n",
    "RANDOM_STATE = 42"
   ]
  },
  {
   "cell_type": "code",
   "execution_count": 2,
   "metadata": {},
   "outputs": [],
   "source": [
    "import warnings\n",
    "from sklearn.exceptions import UndefinedMetricWarning\n",
    "\n",
    "warnings.filterwarnings(action='ignore', category=UndefinedMetricWarning)"
   ]
  },
  {
   "cell_type": "markdown",
   "metadata": {},
   "source": [
    "## Helpers"
   ]
  },
  {
   "cell_type": "code",
   "execution_count": 3,
   "metadata": {},
   "outputs": [],
   "source": [
    "def fn_to_ok_df(filename, encode=True):\n",
    "    \"\"\"\n",
    "    Convenience function. Preprocess so its ready for sklearn.\n",
    "    \"\"\"\n",
    "    \n",
    "    df = arff_to_df(filename, return_af=False, encode_nominal=False)\n",
    "    qry = qry_from_df(df)\n",
    "    \n",
    "    if encode:\n",
    "        df_nominal = df.select_dtypes(exclude=['float'])\n",
    "        \n",
    "        label_encoders = {}\n",
    "        for c in df_nominal.columns:\n",
    "            label_encoders[c] = LabelEncoder()\n",
    "            label_encoders[c].fit(df_nominal[c])\n",
    "            df_nominal[c] = label_encoders[c].transform(df_nominal[c])\n",
    "\n",
    "        df[df_nominal.columns] = df_nominal.copy()    \n",
    "        nominal = df_nominal.columns.values\n",
    "\n",
    "        return df, qry, nominal, label_encoders\n",
    "    else:\n",
    "        return df, qry\n",
    "    \n",
    "def qry_from_df(df):\n",
    "    qry = np.zeros(len(df.columns), dtype=int)\n",
    "    \n",
    "    miss_ids = df.columns[df.isna().any()].tolist()\n",
    "    targ_ids = df.columns[-1]\n",
    "    \n",
    "    qry[miss_ids] = -1\n",
    "    qry[targ_ids] = 1\n",
    "    return qry"
   ]
  },
  {
   "cell_type": "code",
   "execution_count": 4,
   "metadata": {},
   "outputs": [],
   "source": [
    "def detect_nominal(df):\n",
    "    df_nominal = df.select_dtypes(exclude=['float'])\n",
    "    \n",
    "    nominal = [idx for idx, c in enumerate(df) if c in df_nominal.columns]\n",
    "    \n",
    "    return nominal"
   ]
  },
  {
   "cell_type": "markdown",
   "metadata": {},
   "source": [
    "## Functions"
   ]
  },
  {
   "cell_type": "code",
   "execution_count": 5,
   "metadata": {},
   "outputs": [],
   "source": [
    "def fit_modulo(dataset,\n",
    "               target_idx=-1,\n",
    "               random_state=42,\n",
    "               prediction_algorithm='mi',\n",
    "               clf_criterion=\"gini\",\n",
    "               rgr_criterion=\"mse\",\n",
    "               selection_algorithm=\"base\",\n",
    "               fraction_missing=0.2,\n",
    "               nb_iterations=1,\n",
    "               min_samples_leaf=2,\n",
    "               min_impurity_decrease=0.,\n",
    "               max_steps=8,\n",
    "               max_depth=None):\n",
    "    \n",
    "    # Preliminaries\n",
    "    fn_train = filename_dataset(dataset, step=1, suffix='train', extension='csv')\n",
    "    df = pd.read_csv(fn_train, header=None, index_col=None)\n",
    "    train = df.values\n",
    "    \n",
    "    nominal = detect_nominal(df)\n",
    "    \n",
    "    msg = \"\"\"\n",
    "    Nominal attributes detected in dataset: {}\n",
    "    Nominal: {}\n",
    "    \"\"\".format(dataset, nominal)\n",
    "    print(msg)\n",
    "    \n",
    "    target_id = list(range(df.shape[1]))[target_idx] # Assumption: Last attribute is target\n",
    "    nominal_ids = set(list(nominal) + [target_id])\n",
    "    #print(nominal_ids)\n",
    "    \n",
    "    # Train\n",
    "    clf = Modulo(\n",
    "        random_state=random_state,\n",
    "        prediction_algorithm=prediction_algorithm,\n",
    "        clf_criterion=clf_criterion,\n",
    "        rgr_criterion=rgr_criterion,\n",
    "        selection_algorithm=selection_algorithm,\n",
    "        fraction_missing=fraction_missing,\n",
    "        nb_iterations=nb_iterations,\n",
    "        min_samples_leaf=min_samples_leaf,\n",
    "        min_impurity_decrease=min_impurity_decrease,\n",
    "        max_depth=max_depth,\n",
    "        max_steps=max_steps,\n",
    "    )\n",
    "    \n",
    "    clf.fit(train, nominal_attributes=nominal_ids)\n",
    "    \n",
    "    return clf"
   ]
  },
  {
   "cell_type": "code",
   "execution_count": 6,
   "metadata": {},
   "outputs": [],
   "source": [
    "def predict_modulo(dataset, classifier, target_idx=-1):\n",
    "    result = []\n",
    "    \n",
    "    # Load queries\n",
    "    fn_qry = filename_query(dataset, suffix=\"default\")\n",
    "    q_codes = np.load(fn_qry)\n",
    "    \n",
    "    for q_idx, q_code in enumerate(q_codes):\n",
    "        fn = filename_dataset(dataset, step=2, suffix='q_{}'.format(str(q_idx).zfill(3)), extension='csv')\n",
    "        df_qry = pd.read_csv(fn, header=None, index_col=None)\n",
    "        \n",
    "        #print(df_qry.head())\n",
    "        q_code_2 = qry_from_df(df_qry)\n",
    "\n",
    "        target_id = list(range(df_qry.shape[1]))[target_idx] # Assumption: Last\n",
    "        \n",
    "        msg = \"\"\"\n",
    "        q_code from file: {}\n",
    "        q_code from data: {}\n",
    "        \"\"\".format(q_code, q_code_2)\n",
    "        #print(msg)\n",
    "        \n",
    "        assert(np.array_equal(q_code, q_code_2))\n",
    "        \n",
    "        test = df_qry.values\n",
    "        y_true = test[:,target_id].copy()\n",
    "        y_true = y_true.astype(int)\n",
    "        test[:, target_id] = np.nan\n",
    "        \n",
    "        y_pred = classifier.predict(test, q_code=q_code)\n",
    "        y_pred = y_pred.astype(int).ravel()\n",
    "        f1 = f1_score(y_true, y_pred, average='macro')\n",
    "        result.append(f1)\n",
    "        \n",
    "    return q_codes, result"
   ]
  },
  {
   "cell_type": "markdown",
   "metadata": {},
   "source": [
    "# Experiment 01 - Baseline"
   ]
  },
  {
   "cell_type": "code",
   "execution_count": 7,
   "metadata": {},
   "outputs": [
    {
     "name": "stdout",
     "output_type": "stream",
     "text": [
      "17\n"
     ]
    }
   ],
   "source": [
    "FRACTION_MISSING = [0.1]\n",
    "ITERATIONS = 1\n",
    "MAX_DEPTH = 2\n",
    "MIN_SAMPLES_LEAF = 2\n",
    "\n",
    "datasets = ['glass',\n",
    "             'credit-g',\n",
    "             'ionosphere',\n",
    "             'lymph',\n",
    "             'vehicle',\n",
    "             'iris',\n",
    "             'splice',\n",
    "             'sonar',\n",
    "             'vowel',\n",
    "             'segment',\n",
    "             'zoo',\n",
    "             'heart-statlog',\n",
    "             'waveform-5000',\n",
    "             'kr-vs-kp',\n",
    "             'diabetes',\n",
    "             'letter',\n",
    "             'balance-scale']\n",
    "\n",
    "print(len(datasets))"
   ]
  },
  {
   "cell_type": "code",
   "execution_count": 8,
   "metadata": {},
   "outputs": [
    {
     "name": "stdout",
     "output_type": "stream",
     "text": [
      "glass\n",
      "\n",
      "    Nominal attributes detected in dataset: glass\n",
      "    Nominal: [9]\n",
      "    \n",
      "credit-g\n",
      "\n",
      "    Nominal attributes detected in dataset: credit-g\n",
      "    Nominal: [0, 2, 3, 5, 6, 8, 9, 11, 13, 14, 16, 18, 19, 20]\n",
      "    \n",
      "ionosphere\n",
      "\n",
      "    Nominal attributes detected in dataset: ionosphere\n",
      "    Nominal: [34]\n",
      "    \n"
     ]
    },
    {
     "name": "stderr",
     "output_type": "stream",
     "text": [
      "/home/zissou/Repos/modulo/src/modulo/composition/CompositeModel.py:61: RuntimeWarning: invalid value encountered in true_divide\n",
      "  fi = fi / norm\n",
      "/home/zissou/Repos/modulo/src/modulo/composition/CompositeModel.py:61: RuntimeWarning: invalid value encountered in true_divide\n",
      "  fi = fi / norm\n",
      "/home/zissou/Repos/modulo/src/modulo/composition/CompositeModel.py:61: RuntimeWarning: invalid value encountered in true_divide\n",
      "  fi = fi / norm\n",
      "/home/zissou/Repos/modulo/src/modulo/composition/CompositeModel.py:61: RuntimeWarning: invalid value encountered in true_divide\n",
      "  fi = fi / norm\n",
      "/home/zissou/Repos/modulo/src/modulo/composition/CompositeModel.py:61: RuntimeWarning: invalid value encountered in true_divide\n",
      "  fi = fi / norm\n",
      "/home/zissou/Repos/modulo/src/modulo/composition/CompositeModel.py:61: RuntimeWarning: invalid value encountered in true_divide\n",
      "  fi = fi / norm\n"
     ]
    },
    {
     "name": "stdout",
     "output_type": "stream",
     "text": [
      "lymph\n",
      "\n",
      "    Nominal attributes detected in dataset: lymph\n",
      "    Nominal: [0, 1, 2, 3, 4, 5, 6, 7, 8, 9, 10, 11, 12, 13, 14, 15, 16, 17, 18]\n",
      "    \n",
      "vehicle\n",
      "\n",
      "    Nominal attributes detected in dataset: vehicle\n",
      "    Nominal: [18]\n",
      "    \n",
      "iris\n",
      "\n",
      "    Nominal attributes detected in dataset: iris\n",
      "    Nominal: [4]\n",
      "    \n",
      "splice\n",
      "\n",
      "    Nominal attributes detected in dataset: splice\n",
      "    Nominal: [0, 1, 2, 3, 4, 5, 6, 7, 8, 9, 10, 11, 12, 13, 14, 15, 16, 17, 18, 19, 20, 21, 22, 23, 24, 25, 26, 27, 28, 29, 30, 31, 32, 33, 34, 35, 36, 37, 38, 39, 40, 41, 42, 43, 44, 45, 46, 47, 48, 49, 50, 51, 52, 53, 54, 55, 56, 57, 58, 59, 60, 61]\n",
      "    \n"
     ]
    },
    {
     "name": "stderr",
     "output_type": "stream",
     "text": [
      "/home/zissou/Repos/modulo/src/modulo/composition/CompositeModel.py:61: RuntimeWarning: invalid value encountered in true_divide\n",
      "  fi = fi / norm\n",
      "/home/zissou/Repos/modulo/src/modulo/composition/CompositeModel.py:61: RuntimeWarning: invalid value encountered in true_divide\n",
      "  fi = fi / norm\n",
      "/home/zissou/Repos/modulo/src/modulo/composition/CompositeModel.py:61: RuntimeWarning: invalid value encountered in true_divide\n",
      "  fi = fi / norm\n",
      "/home/zissou/Repos/modulo/src/modulo/composition/CompositeModel.py:61: RuntimeWarning: invalid value encountered in true_divide\n",
      "  fi = fi / norm\n",
      "/home/zissou/Repos/modulo/src/modulo/composition/CompositeModel.py:61: RuntimeWarning: invalid value encountered in true_divide\n",
      "  fi = fi / norm\n",
      "/home/zissou/Repos/modulo/src/modulo/composition/CompositeModel.py:61: RuntimeWarning: invalid value encountered in true_divide\n",
      "  fi = fi / norm\n",
      "/home/zissou/Repos/modulo/src/modulo/composition/CompositeModel.py:61: RuntimeWarning: invalid value encountered in true_divide\n",
      "  fi = fi / norm\n",
      "/home/zissou/Repos/modulo/src/modulo/composition/CompositeModel.py:61: RuntimeWarning: invalid value encountered in true_divide\n",
      "  fi = fi / norm\n",
      "/home/zissou/Repos/modulo/src/modulo/composition/CompositeModel.py:61: RuntimeWarning: invalid value encountered in true_divide\n",
      "  fi = fi / norm\n",
      "/home/zissou/Repos/modulo/src/modulo/composition/CompositeModel.py:61: RuntimeWarning: invalid value encountered in true_divide\n",
      "  fi = fi / norm\n"
     ]
    },
    {
     "name": "stdout",
     "output_type": "stream",
     "text": [
      "sonar\n",
      "\n",
      "    Nominal attributes detected in dataset: sonar\n",
      "    Nominal: [60]\n",
      "    \n"
     ]
    },
    {
     "name": "stderr",
     "output_type": "stream",
     "text": [
      "/home/zissou/Repos/modulo/src/modulo/composition/CompositeModel.py:61: RuntimeWarning: invalid value encountered in true_divide\n",
      "  fi = fi / norm\n",
      "/home/zissou/Repos/modulo/src/modulo/composition/CompositeModel.py:61: RuntimeWarning: invalid value encountered in true_divide\n",
      "  fi = fi / norm\n",
      "/home/zissou/Repos/modulo/src/modulo/composition/CompositeModel.py:61: RuntimeWarning: invalid value encountered in true_divide\n",
      "  fi = fi / norm\n"
     ]
    },
    {
     "name": "stdout",
     "output_type": "stream",
     "text": [
      "vowel\n",
      "\n",
      "    Nominal attributes detected in dataset: vowel\n",
      "    Nominal: [0, 1, 2, 13]\n",
      "    \n",
      "segment\n",
      "\n",
      "    Nominal attributes detected in dataset: segment\n",
      "    Nominal: [19]\n",
      "    \n"
     ]
    },
    {
     "name": "stderr",
     "output_type": "stream",
     "text": [
      "/home/zissou/Repos/modulo/src/modulo/composition/CompositeModel.py:61: RuntimeWarning: invalid value encountered in true_divide\n",
      "  fi = fi / norm\n",
      "/home/zissou/Repos/modulo/src/modulo/composition/CompositeModel.py:61: RuntimeWarning: invalid value encountered in true_divide\n",
      "  fi = fi / norm\n",
      "/home/zissou/Repos/modulo/src/modulo/composition/CompositeModel.py:61: RuntimeWarning: invalid value encountered in true_divide\n",
      "  fi = fi / norm\n",
      "/home/zissou/Repos/modulo/src/modulo/composition/CompositeModel.py:61: RuntimeWarning: invalid value encountered in true_divide\n",
      "  fi = fi / norm\n"
     ]
    },
    {
     "name": "stdout",
     "output_type": "stream",
     "text": [
      "zoo\n",
      "\n",
      "    Nominal attributes detected in dataset: zoo\n",
      "    Nominal: [0, 1, 2, 3, 4, 5, 6, 7, 8, 9, 10, 11, 12, 13, 14, 15, 16, 17]\n",
      "    \n",
      "heart-statlog\n",
      "\n",
      "    Nominal attributes detected in dataset: heart-statlog\n",
      "    Nominal: [13]\n",
      "    \n",
      "waveform-5000\n",
      "\n",
      "    Nominal attributes detected in dataset: waveform-5000\n",
      "    Nominal: [40]\n",
      "    \n"
     ]
    },
    {
     "name": "stderr",
     "output_type": "stream",
     "text": [
      "/home/zissou/Repos/modulo/src/modulo/composition/CompositeModel.py:61: RuntimeWarning: invalid value encountered in true_divide\n",
      "  fi = fi / norm\n"
     ]
    },
    {
     "name": "stdout",
     "output_type": "stream",
     "text": [
      "kr-vs-kp\n",
      "\n",
      "    Nominal attributes detected in dataset: kr-vs-kp\n",
      "    Nominal: [0, 1, 2, 3, 4, 5, 6, 7, 8, 9, 10, 11, 12, 13, 14, 15, 16, 17, 18, 19, 20, 21, 22, 23, 24, 25, 26, 27, 28, 29, 30, 31, 32, 33, 34, 35, 36]\n",
      "    \n"
     ]
    },
    {
     "name": "stderr",
     "output_type": "stream",
     "text": [
      "/home/zissou/Repos/modulo/src/modulo/composition/CompositeModel.py:61: RuntimeWarning: invalid value encountered in true_divide\n",
      "  fi = fi / norm\n",
      "/home/zissou/Repos/modulo/src/modulo/composition/CompositeModel.py:61: RuntimeWarning: invalid value encountered in true_divide\n",
      "  fi = fi / norm\n"
     ]
    },
    {
     "name": "stdout",
     "output_type": "stream",
     "text": [
      "diabetes\n",
      "\n",
      "    Nominal attributes detected in dataset: diabetes\n",
      "    Nominal: [8]\n",
      "    \n",
      "letter\n",
      "\n",
      "    Nominal attributes detected in dataset: letter\n",
      "    Nominal: [0, 1, 2, 3, 4, 5, 6, 7, 8, 9, 10, 11, 12, 13, 14, 15, 16]\n",
      "    \n",
      "balance-scale\n",
      "\n",
      "    Nominal attributes detected in dataset: balance-scale\n",
      "    Nominal: [4]\n",
      "    \n"
     ]
    }
   ],
   "source": [
    "dataframes = {k:[] for k in datasets}\n",
    "\n",
    "for ds in datasets:\n",
    "    print(ds)\n",
    "    clf = fit_modulo(ds,\n",
    "                     target_idx=-1,\n",
    "                     random_state=RANDOM_STATE,\n",
    "                     prediction_algorithm='mi',\n",
    "                     clf_criterion=\"gini\",\n",
    "                     rgr_criterion=\"friedman_mse\",\n",
    "                     selection_algorithm=\"random\",\n",
    "                     nb_iterations=ITERATIONS,\n",
    "                     fraction_missing=FRACTION_MISSING,\n",
    "                     min_samples_leaf=MIN_SAMPLES_LEAF,\n",
    "                     max_depth=MAX_DEPTH)\n",
    "    \n",
    "    q_codes, results = predict_modulo(ds, clf)\n",
    "    \n",
    "    dataframes[ds] = collect_results(ds, q_codes, results, algorithm='sklearn')\n",
    "    \n",
    "df = process_outcomes(dataframes)\n",
    "save_outcome(df, filename='sklearn')"
   ]
  },
  {
   "cell_type": "markdown",
   "metadata": {},
   "source": [
    "# Experiment 02 - SL"
   ]
  },
  {
   "cell_type": "code",
   "execution_count": 9,
   "metadata": {},
   "outputs": [
    {
     "name": "stdout",
     "output_type": "stream",
     "text": [
      "glass\n",
      "\n",
      "    Nominal attributes detected in dataset: glass\n",
      "    Nominal: [9]\n",
      "    \n",
      "credit-g\n",
      "\n",
      "    Nominal attributes detected in dataset: credit-g\n",
      "    Nominal: [0, 2, 3, 5, 6, 8, 9, 11, 13, 14, 16, 18, 19, 20]\n",
      "    \n"
     ]
    },
    {
     "name": "stderr",
     "output_type": "stream",
     "text": [
      "/home/zissou/Repos/modulo/src/modulo/composition/CompositeModel.py:61: RuntimeWarning: invalid value encountered in true_divide\n",
      "  fi = fi / norm\n",
      "/home/zissou/Repos/modulo/src/modulo/composition/CompositeModel.py:61: RuntimeWarning: invalid value encountered in true_divide\n",
      "  fi = fi / norm\n",
      "/home/zissou/Repos/modulo/src/modulo/composition/CompositeModel.py:61: RuntimeWarning: invalid value encountered in true_divide\n",
      "  fi = fi / norm\n",
      "/home/zissou/Repos/modulo/src/modulo/composition/CompositeModel.py:61: RuntimeWarning: invalid value encountered in true_divide\n",
      "  fi = fi / norm\n",
      "/home/zissou/Repos/modulo/src/modulo/composition/CompositeModel.py:61: RuntimeWarning: invalid value encountered in true_divide\n",
      "  fi = fi / norm\n",
      "/home/zissou/Repos/modulo/src/modulo/composition/CompositeModel.py:61: RuntimeWarning: invalid value encountered in true_divide\n",
      "  fi = fi / norm\n"
     ]
    },
    {
     "name": "stdout",
     "output_type": "stream",
     "text": [
      "ionosphere\n",
      "\n",
      "    Nominal attributes detected in dataset: ionosphere\n",
      "    Nominal: [34]\n",
      "    \n",
      "lymph\n",
      "\n",
      "    Nominal attributes detected in dataset: lymph\n",
      "    Nominal: [0, 1, 2, 3, 4, 5, 6, 7, 8, 9, 10, 11, 12, 13, 14, 15, 16, 17, 18]\n",
      "    \n",
      "vehicle\n",
      "\n",
      "    Nominal attributes detected in dataset: vehicle\n",
      "    Nominal: [18]\n",
      "    \n",
      "iris\n",
      "\n",
      "    Nominal attributes detected in dataset: iris\n",
      "    Nominal: [4]\n",
      "    \n",
      "splice\n",
      "\n",
      "    Nominal attributes detected in dataset: splice\n",
      "    Nominal: [0, 1, 2, 3, 4, 5, 6, 7, 8, 9, 10, 11, 12, 13, 14, 15, 16, 17, 18, 19, 20, 21, 22, 23, 24, 25, 26, 27, 28, 29, 30, 31, 32, 33, 34, 35, 36, 37, 38, 39, 40, 41, 42, 43, 44, 45, 46, 47, 48, 49, 50, 51, 52, 53, 54, 55, 56, 57, 58, 59, 60, 61]\n",
      "    \n"
     ]
    },
    {
     "name": "stderr",
     "output_type": "stream",
     "text": [
      "/home/zissou/Repos/modulo/src/modulo/composition/CompositeModel.py:61: RuntimeWarning: invalid value encountered in true_divide\n",
      "  fi = fi / norm\n",
      "/home/zissou/Repos/modulo/src/modulo/composition/CompositeModel.py:61: RuntimeWarning: invalid value encountered in true_divide\n",
      "  fi = fi / norm\n",
      "/home/zissou/Repos/modulo/src/modulo/composition/CompositeModel.py:61: RuntimeWarning: invalid value encountered in true_divide\n",
      "  fi = fi / norm\n",
      "/home/zissou/Repos/modulo/src/modulo/composition/CompositeModel.py:61: RuntimeWarning: invalid value encountered in true_divide\n",
      "  fi = fi / norm\n",
      "/home/zissou/Repos/modulo/src/modulo/composition/CompositeModel.py:61: RuntimeWarning: invalid value encountered in true_divide\n",
      "  fi = fi / norm\n",
      "/home/zissou/Repos/modulo/src/modulo/composition/CompositeModel.py:61: RuntimeWarning: invalid value encountered in true_divide\n",
      "  fi = fi / norm\n",
      "/home/zissou/Repos/modulo/src/modulo/composition/CompositeModel.py:61: RuntimeWarning: invalid value encountered in true_divide\n",
      "  fi = fi / norm\n",
      "/home/zissou/Repos/modulo/src/modulo/composition/CompositeModel.py:61: RuntimeWarning: invalid value encountered in true_divide\n",
      "  fi = fi / norm\n",
      "/home/zissou/Repos/modulo/src/modulo/composition/CompositeModel.py:61: RuntimeWarning: invalid value encountered in true_divide\n",
      "  fi = fi / norm\n",
      "/home/zissou/Repos/modulo/src/modulo/composition/CompositeModel.py:61: RuntimeWarning: invalid value encountered in true_divide\n",
      "  fi = fi / norm\n"
     ]
    },
    {
     "name": "stdout",
     "output_type": "stream",
     "text": [
      "sonar\n",
      "\n",
      "    Nominal attributes detected in dataset: sonar\n",
      "    Nominal: [60]\n",
      "    \n"
     ]
    },
    {
     "name": "stderr",
     "output_type": "stream",
     "text": [
      "/home/zissou/Repos/modulo/src/modulo/composition/CompositeModel.py:61: RuntimeWarning: invalid value encountered in true_divide\n",
      "  fi = fi / norm\n",
      "/home/zissou/Repos/modulo/src/modulo/composition/CompositeModel.py:61: RuntimeWarning: invalid value encountered in true_divide\n",
      "  fi = fi / norm\n",
      "/home/zissou/Repos/modulo/src/modulo/composition/CompositeModel.py:61: RuntimeWarning: invalid value encountered in true_divide\n",
      "  fi = fi / norm\n"
     ]
    },
    {
     "name": "stdout",
     "output_type": "stream",
     "text": [
      "vowel\n",
      "\n",
      "    Nominal attributes detected in dataset: vowel\n",
      "    Nominal: [0, 1, 2, 13]\n",
      "    \n",
      "segment\n",
      "\n",
      "    Nominal attributes detected in dataset: segment\n",
      "    Nominal: [19]\n",
      "    \n"
     ]
    },
    {
     "name": "stderr",
     "output_type": "stream",
     "text": [
      "/home/zissou/Repos/modulo/src/modulo/composition/CompositeModel.py:61: RuntimeWarning: invalid value encountered in true_divide\n",
      "  fi = fi / norm\n",
      "/home/zissou/Repos/modulo/src/modulo/composition/CompositeModel.py:61: RuntimeWarning: invalid value encountered in true_divide\n",
      "  fi = fi / norm\n",
      "/home/zissou/Repos/modulo/src/modulo/composition/CompositeModel.py:61: RuntimeWarning: invalid value encountered in true_divide\n",
      "  fi = fi / norm\n",
      "/home/zissou/Repos/modulo/src/modulo/composition/CompositeModel.py:61: RuntimeWarning: invalid value encountered in true_divide\n",
      "  fi = fi / norm\n"
     ]
    },
    {
     "name": "stdout",
     "output_type": "stream",
     "text": [
      "zoo\n",
      "\n",
      "    Nominal attributes detected in dataset: zoo\n",
      "    Nominal: [0, 1, 2, 3, 4, 5, 6, 7, 8, 9, 10, 11, 12, 13, 14, 15, 16, 17]\n",
      "    \n",
      "heart-statlog\n",
      "\n",
      "    Nominal attributes detected in dataset: heart-statlog\n",
      "    Nominal: [13]\n",
      "    \n",
      "waveform-5000\n",
      "\n",
      "    Nominal attributes detected in dataset: waveform-5000\n",
      "    Nominal: [40]\n",
      "    \n"
     ]
    },
    {
     "name": "stderr",
     "output_type": "stream",
     "text": [
      "/home/zissou/Repos/modulo/src/modulo/composition/CompositeModel.py:61: RuntimeWarning: invalid value encountered in true_divide\n",
      "  fi = fi / norm\n"
     ]
    },
    {
     "name": "stdout",
     "output_type": "stream",
     "text": [
      "kr-vs-kp\n",
      "\n",
      "    Nominal attributes detected in dataset: kr-vs-kp\n",
      "    Nominal: [0, 1, 2, 3, 4, 5, 6, 7, 8, 9, 10, 11, 12, 13, 14, 15, 16, 17, 18, 19, 20, 21, 22, 23, 24, 25, 26, 27, 28, 29, 30, 31, 32, 33, 34, 35, 36]\n",
      "    \n"
     ]
    },
    {
     "name": "stderr",
     "output_type": "stream",
     "text": [
      "/home/zissou/Repos/modulo/src/modulo/composition/CompositeModel.py:61: RuntimeWarning: invalid value encountered in true_divide\n",
      "  fi = fi / norm\n",
      "/home/zissou/Repos/modulo/src/modulo/composition/CompositeModel.py:61: RuntimeWarning: invalid value encountered in true_divide\n",
      "  fi = fi / norm\n"
     ]
    },
    {
     "name": "stdout",
     "output_type": "stream",
     "text": [
      "diabetes\n",
      "\n",
      "    Nominal attributes detected in dataset: diabetes\n",
      "    Nominal: [8]\n",
      "    \n",
      "letter\n",
      "\n",
      "    Nominal attributes detected in dataset: letter\n",
      "    Nominal: [0, 1, 2, 3, 4, 5, 6, 7, 8, 9, 10, 11, 12, 13, 14, 15, 16]\n",
      "    \n",
      "balance-scale\n",
      "\n",
      "    Nominal attributes detected in dataset: balance-scale\n",
      "    Nominal: [4]\n",
      "    \n"
     ]
    }
   ],
   "source": [
    "dataframes_SL = {k:[] for k in datasets}\n",
    "\n",
    "for ds in datasets:\n",
    "    print(ds)\n",
    "    clf = fit_modulo(ds,\n",
    "                     target_idx=-1,\n",
    "                     random_state=RANDOM_STATE,\n",
    "                     prediction_algorithm='mrai',\n",
    "                     clf_criterion=\"gini\",\n",
    "                     rgr_criterion=\"friedman_mse\",\n",
    "                     selection_algorithm=\"random\",\n",
    "                     nb_iterations=ITERATIONS,\n",
    "                     fraction_missing=FRACTION_MISSING,\n",
    "                     min_samples_leaf=MIN_SAMPLES_LEAF,\n",
    "                     max_depth=MAX_DEPTH)\n",
    "    \n",
    "    q_codes, results = predict_modulo(ds, clf)\n",
    "    \n",
    "    dataframes_SL[ds] = collect_results(ds, q_codes, results, algorithm='mrai')\n",
    "    \n",
    "df = process_outcomes(dataframes_SL)\n",
    "save_outcome(df, filename='SL')"
   ]
  },
  {
   "cell_type": "markdown",
   "metadata": {},
   "source": [
    "# Experiment 03 - ML"
   ]
  },
  {
   "cell_type": "code",
   "execution_count": 10,
   "metadata": {},
   "outputs": [
    {
     "data": {
      "text/plain": [
       "array([[0.        , 0.        , 0.15801984, 0.        , 0.84198016],\n",
       "       [0.11936633, 0.        , 0.        , 0.08058187, 0.8000518 ],\n",
       "       [0.        , 0.17489482, 0.46006017, 0.365045  , 0.        ],\n",
       "       [0.04406213, 0.        , 0.10383953, 0.        , 0.85209834],\n",
       "       [0.08341903, 0.        , 0.        , 0.07965067, 0.83693029]])"
      ]
     },
     "execution_count": 10,
     "metadata": {},
     "output_type": "execute_result"
    }
   ],
   "source": [
    "FI = clf.fi\n",
    "FI"
   ]
  },
  {
   "cell_type": "code",
   "execution_count": 22,
   "metadata": {},
   "outputs": [
    {
     "data": {
      "text/plain": [
       "(5, 5)"
      ]
     },
     "execution_count": 22,
     "metadata": {},
     "output_type": "execute_result"
    }
   ],
   "source": [
    "FI.shape"
   ]
  },
  {
   "cell_type": "code",
   "execution_count": 24,
   "metadata": {},
   "outputs": [
    {
     "data": {
      "text/plain": [
       "array([[0.15801984],\n",
       "       [0.        ],\n",
       "       [0.634955  ],\n",
       "       [0.10383953],\n",
       "       [0.        ]])"
      ]
     },
     "execution_count": 24,
     "metadata": {},
     "output_type": "execute_result"
    }
   ],
   "source": [
    "avl_desc = np.array([0,1,1,0,0]).reshape(-1,1)\n",
    "desc_appr = np.dot(FI, desc_ids)\n",
    "\n",
    "desc_appr"
   ]
  },
  {
   "cell_type": "code",
   "execution_count": 25,
   "metadata": {},
   "outputs": [
    {
     "data": {
      "text/plain": [
       "array([[0],\n",
       "       [0],\n",
       "       [1],\n",
       "       [1],\n",
       "       [0]])"
      ]
     },
     "execution_count": 25,
     "metadata": {},
     "output_type": "execute_result"
    }
   ],
   "source": [
    "avl_targ = np.array([0, 0, 0 ,1,  1]).reshape(-1, 1)\n",
    "targ_appr = np.dot(clf.targ_ids, avl_targ)\n",
    "\n",
    "targ_appr"
   ]
  },
  {
   "cell_type": "code",
   "execution_count": 32,
   "metadata": {},
   "outputs": [
    {
     "data": {
      "text/plain": [
       "array([[0.10383953],\n",
       "       [0.        ]])"
      ]
     },
     "execution_count": 32,
     "metadata": {},
     "output_type": "execute_result"
    }
   ],
   "source": [
    "(desc_appr * targ_appr)[[3,4], :]"
   ]
  },
  {
   "cell_type": "code",
   "execution_count": 45,
   "metadata": {},
   "outputs": [],
   "source": [
    "g = clf.g_list[4]"
   ]
  },
  {
   "cell_type": "code",
   "execution_count": 47,
   "metadata": {},
   "outputs": [],
   "source": [
    "g_ids = g.graph['id']"
   ]
  },
  {
   "cell_type": "code",
   "execution_count": null,
   "metadata": {},
   "outputs": [],
   "source": []
  },
  {
   "cell_type": "code",
   "execution_count": null,
   "metadata": {},
   "outputs": [],
   "source": []
  },
  {
   "cell_type": "code",
   "execution_count": 16,
   "metadata": {},
   "outputs": [
    {
     "data": {
      "text/plain": [
       "(5, 1)"
      ]
     },
     "execution_count": 16,
     "metadata": {},
     "output_type": "execute_result"
    }
   ],
   "source": [
    "desc_ids = \n",
    "desc_ids = desc_ids.reshape(-1,1)\n",
    "desc_ids.shape"
   ]
  },
  {
   "cell_type": "code",
   "execution_count": 20,
   "metadata": {},
   "outputs": [],
   "source": []
  },
  {
   "cell_type": "code",
   "execution_count": 21,
   "metadata": {},
   "outputs": [
    {
     "data": {
      "text/plain": [
       "array([[0],\n",
       "       [0],\n",
       "       [1],\n",
       "       [1],\n",
       "       [0]])"
      ]
     },
     "execution_count": 21,
     "metadata": {},
     "output_type": "execute_result"
    }
   ],
   "source": [
    "targ_appr = np.dot(clf.targ_ids, avl_targ)\n"
   ]
  },
  {
   "cell_type": "code",
   "execution_count": null,
   "metadata": {},
   "outputs": [],
   "source": []
  },
  {
   "cell_type": "code",
   "execution_count": 14,
   "metadata": {},
   "outputs": [
    {
     "data": {
      "text/plain": [
       "array([[0.15801984],\n",
       "       [0.        ],\n",
       "       [0.634955  ],\n",
       "       [0.10383953],\n",
       "       [0.        ]])"
      ]
     },
     "execution_count": 14,
     "metadata": {},
     "output_type": "execute_result"
    }
   ],
   "source": []
  },
  {
   "cell_type": "code",
   "execution_count": null,
   "metadata": {},
   "outputs": [],
   "source": []
  },
  {
   "cell_type": "code",
   "execution_count": 15,
   "metadata": {},
   "outputs": [
    {
     "name": "stdout",
     "output_type": "stream",
     "text": [
      "glass\n",
      "\n",
      "    Nominal attributes detected in dataset: glass\n",
      "    Nominal: [9]\n",
      "    \n",
      "credit-g\n",
      "\n",
      "    Nominal attributes detected in dataset: credit-g\n",
      "    Nominal: [0, 2, 3, 5, 6, 8, 9, 11, 13, 14, 16, 18, 19, 20]\n",
      "    \n",
      "ionosphere\n",
      "\n",
      "    Nominal attributes detected in dataset: ionosphere\n",
      "    Nominal: [34]\n",
      "    \n",
      "lymph\n",
      "\n",
      "    Nominal attributes detected in dataset: lymph\n",
      "    Nominal: [0, 1, 2, 3, 4, 5, 6, 7, 8, 9, 10, 11, 12, 13, 14, 15, 16, 17, 18]\n",
      "    \n",
      "vehicle\n",
      "\n",
      "    Nominal attributes detected in dataset: vehicle\n",
      "    Nominal: [18]\n",
      "    \n",
      "iris\n",
      "\n",
      "    Nominal attributes detected in dataset: iris\n",
      "    Nominal: [4]\n",
      "    \n",
      "splice\n",
      "\n",
      "    Nominal attributes detected in dataset: splice\n",
      "    Nominal: [0, 1, 2, 3, 4, 5, 6, 7, 8, 9, 10, 11, 12, 13, 14, 15, 16, 17, 18, 19, 20, 21, 22, 23, 24, 25, 26, 27, 28, 29, 30, 31, 32, 33, 34, 35, 36, 37, 38, 39, 40, 41, 42, 43, 44, 45, 46, 47, 48, 49, 50, 51, 52, 53, 54, 55, 56, 57, 58, 59, 60, 61]\n",
      "    \n"
     ]
    },
    {
     "name": "stderr",
     "output_type": "stream",
     "text": [
      "/home/zissou/Repos/modulo/src/modulo/composition/CompositeModel.py:61: RuntimeWarning: invalid value encountered in true_divide\n",
      "  fi = fi / norm\n"
     ]
    },
    {
     "name": "stdout",
     "output_type": "stream",
     "text": [
      "sonar\n",
      "\n",
      "    Nominal attributes detected in dataset: sonar\n",
      "    Nominal: [60]\n",
      "    \n",
      "vowel\n",
      "\n",
      "    Nominal attributes detected in dataset: vowel\n",
      "    Nominal: [0, 1, 2, 13]\n",
      "    \n",
      "segment\n"
     ]
    },
    {
     "name": "stderr",
     "output_type": "stream",
     "text": [
      "/home/zissou/Repos/modulo/src/modulo/composition/CompositeModel.py:61: RuntimeWarning: invalid value encountered in true_divide\n",
      "  fi = fi / norm\n"
     ]
    },
    {
     "name": "stdout",
     "output_type": "stream",
     "text": [
      "\n",
      "    Nominal attributes detected in dataset: segment\n",
      "    Nominal: [19]\n",
      "    \n"
     ]
    },
    {
     "name": "stderr",
     "output_type": "stream",
     "text": [
      "/home/zissou/Repos/modulo/src/modulo/composition/CompositeModel.py:61: RuntimeWarning: invalid value encountered in true_divide\n",
      "  fi = fi / norm\n",
      "/home/zissou/Repos/modulo/src/modulo/composition/CompositeModel.py:61: RuntimeWarning: invalid value encountered in true_divide\n",
      "  fi = fi / norm\n",
      "/home/zissou/Repos/modulo/src/modulo/composition/CompositeModel.py:61: RuntimeWarning: invalid value encountered in true_divide\n",
      "  fi = fi / norm\n"
     ]
    },
    {
     "name": "stdout",
     "output_type": "stream",
     "text": [
      "zoo\n",
      "\n",
      "    Nominal attributes detected in dataset: zoo\n",
      "    Nominal: [0, 1, 2, 3, 4, 5, 6, 7, 8, 9, 10, 11, 12, 13, 14, 15, 16, 17]\n",
      "    \n"
     ]
    },
    {
     "name": "stderr",
     "output_type": "stream",
     "text": [
      "/home/zissou/Repos/modulo/src/modulo/composition/CompositeModel.py:61: RuntimeWarning: invalid value encountered in true_divide\n",
      "  fi = fi / norm\n"
     ]
    },
    {
     "name": "stdout",
     "output_type": "stream",
     "text": [
      "heart-statlog\n",
      "\n",
      "    Nominal attributes detected in dataset: heart-statlog\n",
      "    Nominal: [13]\n",
      "    \n",
      "waveform-5000\n",
      "\n",
      "    Nominal attributes detected in dataset: waveform-5000\n",
      "    Nominal: [40]\n",
      "    \n",
      "kr-vs-kp\n",
      "\n",
      "    Nominal attributes detected in dataset: kr-vs-kp\n",
      "    Nominal: [0, 1, 2, 3, 4, 5, 6, 7, 8, 9, 10, 11, 12, 13, 14, 15, 16, 17, 18, 19, 20, 21, 22, 23, 24, 25, 26, 27, 28, 29, 30, 31, 32, 33, 34, 35, 36]\n",
      "    \n"
     ]
    },
    {
     "name": "stderr",
     "output_type": "stream",
     "text": [
      "/home/zissou/Repos/modulo/src/modulo/composition/CompositeModel.py:61: RuntimeWarning: invalid value encountered in true_divide\n",
      "  fi = fi / norm\n",
      "/home/zissou/Repos/modulo/src/modulo/composition/CompositeModel.py:61: RuntimeWarning: invalid value encountered in true_divide\n",
      "  fi = fi / norm\n"
     ]
    },
    {
     "name": "stdout",
     "output_type": "stream",
     "text": [
      "diabetes\n",
      "\n",
      "    Nominal attributes detected in dataset: diabetes\n",
      "    Nominal: [8]\n",
      "    \n",
      "letter\n",
      "\n",
      "    Nominal attributes detected in dataset: letter\n",
      "    Nominal: [0, 1, 2, 3, 4, 5, 6, 7, 8, 9, 10, 11, 12, 13, 14, 15, 16]\n",
      "    \n",
      "balance-scale\n",
      "\n",
      "    Nominal attributes detected in dataset: balance-scale\n",
      "    Nominal: [4]\n",
      "    \n"
     ]
    }
   ],
   "source": [
    "dataframes_ML = {k:[] for k in datasets}\n",
    "\n",
    "for ds in datasets:\n",
    "    print(ds)\n",
    "    clf = fit_modulo(ds,\n",
    "                     target_idx=-1,\n",
    "                     random_state=RANDOM_STATE,\n",
    "                     prediction_algorithm='it',\n",
    "                     clf_criterion=\"gini\",\n",
    "                     rgr_criterion=\"friedman_mse\",\n",
    "                     selection_algorithm=\"random\",\n",
    "                     nb_iterations=ITERATIONS,\n",
    "                     fraction_missing=FRACTION_MISSING,\n",
    "                     min_samples_leaf=MIN_SAMPLES_LEAF,\n",
    "                     max_depth=MAX_DEPTH,\n",
    "                     max_steps=2)\n",
    "    \n",
    "    q_codes, results = predict_modulo(ds, clf)\n",
    "    \n",
    "    dataframes_ML[ds] = collect_results(ds, q_codes, results, algorithm='it')\n",
    "    \n",
    "df = process_outcomes(dataframes_ML)\n",
    "save_outcome(df, filename='ML')"
   ]
  }
 ],
 "metadata": {
  "kernelspec": {
   "display_name": "aaai20-belafonte",
   "language": "python",
   "name": "aaai20-belafonte"
  },
  "language_info": {
   "codemirror_mode": {
    "name": "ipython",
    "version": 3
   },
   "file_extension": ".py",
   "mimetype": "text/x-python",
   "name": "python",
   "nbconvert_exporter": "python",
   "pygments_lexer": "ipython3",
   "version": "3.6.9"
  }
 },
 "nbformat": 4,
 "nbformat_minor": 2
}
