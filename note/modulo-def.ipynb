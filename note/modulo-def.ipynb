{
 "cells": [
  {
   "cell_type": "markdown",
   "metadata": {},
   "source": [
    "# Modulo Exp Def\n",
    "\n",
    "This is the final Modulo Experiment. I will make it so that the results are paper-ready."
   ]
  },
  {
   "cell_type": "markdown",
   "metadata": {},
   "source": [
    "# Preliminaries"
   ]
  },
  {
   "cell_type": "markdown",
   "metadata": {},
   "source": [
    "## Imports"
   ]
  },
  {
   "cell_type": "code",
   "execution_count": 1,
   "metadata": {},
   "outputs": [],
   "source": [
    "import pandas as pd\n",
    "import arff\n",
    "import os\n",
    "import numpy as np\n",
    "import aaai20\n",
    "import PxW\n",
    "\n",
    "from os.path import dirname\n",
    "from aaai20.io import filename_dataset, filename_query\n",
    "from aaai20.exp import collect_results\n",
    "from aaai20.wrangling import arff_to_df\n",
    "from aaai20.exp import collect_results, process_outcomes, save_outcome\n",
    "from sklearn.model_selection import train_test_split\n",
    "\n",
    "from modulo.core import Modulo\n",
    "from modulo.utils.encoding import query_to_code, code_to_query, encode_attribute\n",
    "\n",
    "from sklearn.preprocessing import LabelEncoder\n",
    "from sklearn.metrics import f1_score\n",
    "\n",
    "RANDOM_STATE = 42"
   ]
  },
  {
   "cell_type": "code",
   "execution_count": 2,
   "metadata": {},
   "outputs": [],
   "source": [
    "import warnings\n",
    "from sklearn.exceptions import UndefinedMetricWarning\n",
    "\n",
    "warnings.filterwarnings(action='ignore', category=UndefinedMetricWarning)"
   ]
  },
  {
   "cell_type": "markdown",
   "metadata": {},
   "source": [
    "## Helpers"
   ]
  },
  {
   "cell_type": "code",
   "execution_count": 3,
   "metadata": {},
   "outputs": [],
   "source": [
    "def fn_to_ok_df(filename, encode=True):\n",
    "    \"\"\"\n",
    "    Convenience function. Preprocess so its ready for sklearn.\n",
    "    \"\"\"\n",
    "    \n",
    "    df = arff_to_df(filename, return_af=False, encode_nominal=False)\n",
    "    qry = qry_from_df(df)\n",
    "    \n",
    "    if encode:\n",
    "        df_nominal = df.select_dtypes(exclude=['float'])\n",
    "        \n",
    "        label_encoders = {}\n",
    "        for c in df_nominal.columns:\n",
    "            label_encoders[c] = LabelEncoder()\n",
    "            label_encoders[c].fit(df_nominal[c])\n",
    "            df_nominal[c] = label_encoders[c].transform(df_nominal[c])\n",
    "\n",
    "        df[df_nominal.columns] = df_nominal.copy()    \n",
    "        nominal = df_nominal.columns.values\n",
    "\n",
    "        return df, qry, nominal, label_encoders\n",
    "    else:\n",
    "        return df, qry\n",
    "    \n",
    "def qry_from_df(df):\n",
    "    qry = np.zeros(len(df.columns), dtype=int)\n",
    "    \n",
    "    miss_ids = df.columns[df.isna().any()].tolist()\n",
    "    targ_ids = df.columns[-1]\n",
    "    \n",
    "    qry[miss_ids] = -1\n",
    "    qry[targ_ids] = 1\n",
    "    return qry"
   ]
  },
  {
   "cell_type": "code",
   "execution_count": 4,
   "metadata": {},
   "outputs": [],
   "source": [
    "def detect_nominal(df):\n",
    "    df_nominal = df.select_dtypes(exclude=['float'])\n",
    "    \n",
    "    nominal = [idx for idx, c in enumerate(df) if c in df_nominal.columns]\n",
    "    \n",
    "    return nominal"
   ]
  },
  {
   "cell_type": "markdown",
   "metadata": {},
   "source": [
    "## Functions"
   ]
  },
  {
   "cell_type": "code",
   "execution_count": 5,
   "metadata": {},
   "outputs": [],
   "source": [
    "def fit_modulo(dataset,\n",
    "               target_idx=-1,\n",
    "               random_state=42,\n",
    "               prediction_algorithm='mi',\n",
    "               clf_criterion=\"gini\",\n",
    "               rgr_criterion=\"mse\",\n",
    "               selection_algorithm=\"base\",\n",
    "               fraction_missing=0.2,\n",
    "               nb_iterations=1,\n",
    "               min_samples_leaf=2,\n",
    "               min_impurity_decrease=0.,\n",
    "               max_steps=8,\n",
    "               max_depth=None):\n",
    "    \n",
    "    # Preliminaries\n",
    "    fn_train = filename_dataset(dataset, step=1, suffix='train', extension='csv')\n",
    "    df = pd.read_csv(fn_train, header=None, index_col=None)\n",
    "    train = df.values\n",
    "    \n",
    "    nominal = detect_nominal(df)\n",
    "    \n",
    "    msg = \"\"\"\n",
    "    Nominal attributes detected in dataset: {}\n",
    "    Nominal: {}\n",
    "    \"\"\".format(dataset, nominal)\n",
    "    #print(msg)\n",
    "    \n",
    "    target_id = list(range(df.shape[1]))[target_idx] # Assumption: Last attribute is target\n",
    "    nominal_ids = set(list(nominal) + [target_id])\n",
    "    #print(nominal_ids)\n",
    "    \n",
    "    # Train\n",
    "    clf = Modulo(\n",
    "        random_state=random_state,\n",
    "        prediction_algorithm=prediction_algorithm,\n",
    "        clf_criterion=clf_criterion,\n",
    "        rgr_criterion=rgr_criterion,\n",
    "        selection_algorithm=selection_algorithm,\n",
    "        fraction_missing=fraction_missing,\n",
    "        nb_iterations=nb_iterations,\n",
    "        min_samples_leaf=min_samples_leaf,\n",
    "        min_impurity_decrease=min_impurity_decrease,\n",
    "        max_depth=max_depth,\n",
    "        max_steps=max_steps,\n",
    "    )\n",
    "    \n",
    "    clf.fit(train, nominal_attributes=nominal_ids)\n",
    "    \n",
    "    return clf"
   ]
  },
  {
   "cell_type": "code",
   "execution_count": 6,
   "metadata": {},
   "outputs": [],
   "source": [
    "def predict_modulo(dataset, classifier, target_idx=-1, prediction_algorithm=None, **prediction_kwargs):\n",
    "    result = []\n",
    "    \n",
    "    # Load queries\n",
    "    fn_qry = filename_query(dataset, suffix=\"default\")\n",
    "    q_codes = np.load(fn_qry)\n",
    "    \n",
    "    for q_idx, q_code in enumerate(q_codes):\n",
    "        fn = filename_dataset(dataset, step=2, suffix='q_{}'.format(str(q_idx).zfill(3)), extension='csv')\n",
    "        df_qry = pd.read_csv(fn, header=None, index_col=None)\n",
    "        \n",
    "        #print(df_qry.head())\n",
    "        q_code_2 = qry_from_df(df_qry)\n",
    "\n",
    "        target_id = list(range(df_qry.shape[1]))[target_idx] # Assumption: Last\n",
    "        \n",
    "        msg = \"\"\"\n",
    "        q_code from file: {}\n",
    "        q_code from data: {}\n",
    "        \"\"\".format(q_code, q_code_2)\n",
    "        #print(msg)\n",
    "        \n",
    "        assert(np.array_equal(q_code, q_code_2))\n",
    "        \n",
    "        test = df_qry.values\n",
    "        y_true = test[:,target_id].copy()\n",
    "        #y_true = y_true.astype(int)\n",
    "        test[:, target_id] = np.nan\n",
    "        \n",
    "        if prediction_algorithm is None:\n",
    "            y_pred = classifier.predict(test, q_code=q_code)\n",
    "        else:\n",
    "            y_pred = classifier.predict(test, q_code=q_code, prediction_algorithm=prediction_algorithm, **prediction_kwargs)\n",
    "        \n",
    "        #y_pred = y_pred.astype(int).ravel()\n",
    "        f1 = f1_score(y_true, y_pred, average='macro')\n",
    "        result.append(f1)\n",
    "        \n",
    "    return q_codes, result"
   ]
  },
  {
   "cell_type": "markdown",
   "metadata": {},
   "source": [
    "# Experiment"
   ]
  },
  {
   "cell_type": "code",
   "execution_count": 7,
   "metadata": {},
   "outputs": [
    {
     "name": "stdout",
     "output_type": "stream",
     "text": [
      "17\n"
     ]
    }
   ],
   "source": [
    "FRACTION_MISSING = [0.1, 0.3]\n",
    "ITERATIONS = 1\n",
    "MAX_DEPTH = 16\n",
    "MIN_SAMPLES_LEAF = 10\n",
    "\n",
    "datasets = ['glass',\n",
    "             'credit-g',\n",
    "             'ionosphere',\n",
    "             'lymph',\n",
    "             'vehicle',\n",
    "             'iris',\n",
    "             'splice',\n",
    "             'sonar',\n",
    "             'vowel',\n",
    "             'segment',\n",
    "             'zoo',\n",
    "             'heart-statlog',\n",
    "             'waveform-5000',\n",
    "             'kr-vs-kp',\n",
    "             'diabetes',\n",
    "             'letter',\n",
    "             'balance-scale']\n",
    "\n",
    "#datasets = ['vehicle']\n",
    "\n",
    "\n",
    "print(len(datasets))"
   ]
  },
  {
   "cell_type": "code",
   "execution_count": 8,
   "metadata": {},
   "outputs": [
    {
     "name": "stdout",
     "output_type": "stream",
     "text": [
      "glass\n",
      "mi done\n",
      "mrai done\n",
      "it done\n",
      "credit-g\n",
      "mi done\n",
      "mrai done\n",
      "it done\n",
      "ionosphere\n",
      "mi done\n",
      "mrai done\n",
      "it done\n",
      "lymph\n",
      "mi done\n",
      "mrai done\n",
      "it done\n",
      "vehicle\n",
      "mi done\n",
      "mrai done\n",
      "it done\n",
      "iris\n",
      "mi done\n",
      "mrai done\n",
      "it done\n",
      "splice\n"
     ]
    },
    {
     "name": "stderr",
     "output_type": "stream",
     "text": [
      "/home/zissou/Repos/modulo/src/modulo/composition/CompositeModel.py:61: RuntimeWarning: invalid value encountered in true_divide\n",
      "  fi = fi / norm\n",
      "/home/zissou/Repos/modulo/src/modulo/composition/CompositeModel.py:61: RuntimeWarning: invalid value encountered in true_divide\n",
      "  fi = fi / norm\n",
      "/home/zissou/Repos/modulo/src/modulo/composition/CompositeModel.py:61: RuntimeWarning: invalid value encountered in true_divide\n",
      "  fi = fi / norm\n",
      "/home/zissou/Repos/modulo/src/modulo/composition/CompositeModel.py:61: RuntimeWarning: invalid value encountered in true_divide\n",
      "  fi = fi / norm\n",
      "/home/zissou/Repos/modulo/src/modulo/composition/CompositeModel.py:61: RuntimeWarning: invalid value encountered in true_divide\n",
      "  fi = fi / norm\n",
      "/home/zissou/Repos/modulo/src/modulo/composition/CompositeModel.py:61: RuntimeWarning: invalid value encountered in true_divide\n",
      "  fi = fi / norm\n",
      "/home/zissou/Repos/modulo/src/modulo/composition/CompositeModel.py:61: RuntimeWarning: invalid value encountered in true_divide\n",
      "  fi = fi / norm\n",
      "/home/zissou/Repos/modulo/src/modulo/composition/CompositeModel.py:61: RuntimeWarning: invalid value encountered in true_divide\n",
      "  fi = fi / norm\n",
      "/home/zissou/Repos/modulo/src/modulo/composition/CompositeModel.py:61: RuntimeWarning: invalid value encountered in true_divide\n",
      "  fi = fi / norm\n"
     ]
    },
    {
     "name": "stdout",
     "output_type": "stream",
     "text": [
      "mi done\n"
     ]
    },
    {
     "name": "stderr",
     "output_type": "stream",
     "text": [
      "/home/zissou/Repos/modulo/src/modulo/composition/CompositeModel.py:61: RuntimeWarning: invalid value encountered in true_divide\n",
      "  fi = fi / norm\n",
      "/home/zissou/Repos/modulo/src/modulo/composition/CompositeModel.py:61: RuntimeWarning: invalid value encountered in true_divide\n",
      "  fi = fi / norm\n",
      "/home/zissou/Repos/modulo/src/modulo/composition/CompositeModel.py:61: RuntimeWarning: invalid value encountered in true_divide\n",
      "  fi = fi / norm\n",
      "/home/zissou/Repos/modulo/src/modulo/composition/CompositeModel.py:61: RuntimeWarning: invalid value encountered in true_divide\n",
      "  fi = fi / norm\n",
      "/home/zissou/Repos/modulo/src/modulo/composition/CompositeModel.py:61: RuntimeWarning: invalid value encountered in true_divide\n",
      "  fi = fi / norm\n",
      "/home/zissou/Repos/modulo/src/modulo/composition/CompositeModel.py:61: RuntimeWarning: invalid value encountered in true_divide\n",
      "  fi = fi / norm\n",
      "/home/zissou/Repos/modulo/src/modulo/composition/CompositeModel.py:61: RuntimeWarning: invalid value encountered in true_divide\n",
      "  fi = fi / norm\n",
      "/home/zissou/Repos/modulo/src/modulo/composition/CompositeModel.py:61: RuntimeWarning: invalid value encountered in true_divide\n",
      "  fi = fi / norm\n",
      "/home/zissou/Repos/modulo/src/modulo/composition/CompositeModel.py:61: RuntimeWarning: invalid value encountered in true_divide\n",
      "  fi = fi / norm\n"
     ]
    },
    {
     "name": "stdout",
     "output_type": "stream",
     "text": [
      "mrai done\n"
     ]
    },
    {
     "name": "stderr",
     "output_type": "stream",
     "text": [
      "/home/zissou/Repos/modulo/src/modulo/composition/CompositeModel.py:61: RuntimeWarning: invalid value encountered in true_divide\n",
      "  fi = fi / norm\n",
      "/home/zissou/Repos/modulo/src/modulo/composition/CompositeModel.py:61: RuntimeWarning: invalid value encountered in true_divide\n",
      "  fi = fi / norm\n",
      "/home/zissou/Repos/modulo/src/modulo/composition/CompositeModel.py:61: RuntimeWarning: invalid value encountered in true_divide\n",
      "  fi = fi / norm\n",
      "/home/zissou/Repos/modulo/src/modulo/composition/CompositeModel.py:61: RuntimeWarning: invalid value encountered in true_divide\n",
      "  fi = fi / norm\n"
     ]
    },
    {
     "name": "stdout",
     "output_type": "stream",
     "text": [
      "it done\n",
      "sonar\n",
      "mi done\n",
      "mrai done\n",
      "it done\n",
      "vowel\n",
      "mi done\n",
      "mrai done\n",
      "it done\n",
      "segment\n",
      "mi done\n",
      "mrai done\n",
      "it done\n",
      "zoo\n",
      "mi done\n"
     ]
    },
    {
     "name": "stderr",
     "output_type": "stream",
     "text": [
      "/home/zissou/Repos/modulo/src/modulo/composition/CompositeModel.py:61: RuntimeWarning: invalid value encountered in true_divide\n",
      "  fi = fi / norm\n",
      "/home/zissou/Repos/modulo/src/modulo/composition/CompositeModel.py:61: RuntimeWarning: invalid value encountered in true_divide\n",
      "  fi = fi / norm\n",
      "/home/zissou/Repos/modulo/src/modulo/composition/CompositeModel.py:61: RuntimeWarning: invalid value encountered in true_divide\n",
      "  fi = fi / norm\n",
      "/home/zissou/Repos/modulo/src/modulo/composition/CompositeModel.py:61: RuntimeWarning: invalid value encountered in true_divide\n",
      "  fi = fi / norm\n",
      "/home/zissou/Repos/modulo/src/modulo/composition/CompositeModel.py:61: RuntimeWarning: invalid value encountered in true_divide\n",
      "  fi = fi / norm\n",
      "/home/zissou/Repos/modulo/src/modulo/composition/CompositeModel.py:61: RuntimeWarning: invalid value encountered in true_divide\n",
      "  fi = fi / norm\n"
     ]
    },
    {
     "name": "stdout",
     "output_type": "stream",
     "text": [
      "mrai done\n"
     ]
    },
    {
     "name": "stderr",
     "output_type": "stream",
     "text": [
      "/home/zissou/Repos/modulo/src/modulo/composition/CompositeModel.py:61: RuntimeWarning: invalid value encountered in true_divide\n",
      "  fi = fi / norm\n",
      "/home/zissou/Repos/modulo/src/modulo/composition/CompositeModel.py:61: RuntimeWarning: invalid value encountered in true_divide\n",
      "  fi = fi / norm\n",
      "/home/zissou/Repos/modulo/src/modulo/composition/CompositeModel.py:61: RuntimeWarning: invalid value encountered in true_divide\n",
      "  fi = fi / norm\n"
     ]
    },
    {
     "name": "stdout",
     "output_type": "stream",
     "text": [
      "it done\n",
      "heart-statlog\n",
      "mi done\n",
      "mrai done\n",
      "it done\n",
      "waveform-5000\n",
      "mi done\n",
      "mrai done\n",
      "it done\n",
      "kr-vs-kp\n",
      "mi done\n",
      "mrai done\n",
      "it done\n",
      "diabetes\n",
      "mi done\n",
      "mrai done\n",
      "it done\n",
      "letter\n",
      "mi done\n",
      "mrai done\n",
      "it done\n",
      "balance-scale\n",
      "mi done\n",
      "mrai done\n",
      "it done\n"
     ]
    }
   ],
   "source": [
    "dfs_01 = {k:[] for k in datasets}\n",
    "dfs_02 = {k:[] for k in datasets}\n",
    "dfs_03 = {k:[] for k in datasets}\n",
    "\n",
    "for ds in datasets:\n",
    "    print(ds)\n",
    "    clf = fit_modulo(ds,\n",
    "                     target_idx=-1,\n",
    "                     random_state=RANDOM_STATE,\n",
    "                     clf_criterion=\"gini\",\n",
    "                     rgr_criterion=\"friedman_mse\",\n",
    "                     selection_algorithm=\"random\",\n",
    "                     nb_iterations=ITERATIONS,\n",
    "                     fraction_missing=FRACTION_MISSING,\n",
    "                     min_samples_leaf=MIN_SAMPLES_LEAF,\n",
    "                     max_depth=MAX_DEPTH)\n",
    "    \n",
    "    q_codes, results = predict_modulo(ds, clf, prediction_algorithm='mi')\n",
    "    dfs_01[ds] = collect_results(ds, q_codes, results, algorithm='sklearn')\n",
    "    print(\"mi done\")\n",
    "    \n",
    "    q_codes, results = predict_modulo(ds, clf, prediction_algorithm='mrai',)\n",
    "    dfs_02[ds] = collect_results(ds, q_codes, results, algorithm='mrai')\n",
    "    print(\"mrai done\")\n",
    "    \n",
    "    q_codes, results = predict_modulo(ds, clf, prediction_algorithm='it', max_steps=4)\n",
    "    dfs_03[ds] = collect_results(ds, q_codes, results, algorithm='it')\n",
    "    print(\"it done\")\n",
    "\n",
    "for dfs, algo in zip((dfs_01, dfs_02, dfs_03), ('mi', 'mrai', 'it')):\n",
    "    df = process_outcomes(dfs)\n",
    "    save_outcome(df, filename=algo)"
   ]
  }
 ],
 "metadata": {
  "kernelspec": {
   "display_name": "aaai20-belafonte",
   "language": "python",
   "name": "aaai20-belafonte"
  },
  "language_info": {
   "codemirror_mode": {
    "name": "ipython",
    "version": 3
   },
   "file_extension": ".py",
   "mimetype": "text/x-python",
   "name": "python",
   "nbconvert_exporter": "python",
   "pygments_lexer": "ipython3",
   "version": "3.6.9"
  }
 },
 "nbformat": 4,
 "nbformat_minor": 2
}
