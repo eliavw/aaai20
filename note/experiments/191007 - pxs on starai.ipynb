{
 "cells": [
  {
   "cell_type": "markdown",
   "metadata": {},
   "source": [
    "# PxS on StarAI\n",
    "\n",
    "Getting BayesFusion to work. It should."
   ]
  },
  {
   "cell_type": "markdown",
   "metadata": {},
   "source": [
    "# Preliminaries"
   ]
  },
  {
   "cell_type": "markdown",
   "metadata": {},
   "source": [
    "## Imports"
   ]
  },
  {
   "cell_type": "code",
   "execution_count": 17,
   "metadata": {},
   "outputs": [],
   "source": [
    "import dill as pkl\n",
    "import pandas as pd\n",
    "import os\n",
    "import numpy as np\n",
    "\n",
    "import aaai20\n",
    "\n",
    "from os.path import dirname\n",
    "from aaai20.io import (\n",
    "    filename_dataset,\n",
    "    filename_query,\n",
    "    filename_model,\n",
    "    filename_results,\n",
    "    build_code_string,\n",
    "    experiment_suffix,\n",
    ")\n",
    "from aaai20.exp import collect_results, process_outcomes, save_outcome\n",
    "\n",
    "from pxs.core.PxS import PxS\n",
    "\n",
    "from sklearn.metrics import f1_score\n",
    "\n",
    "RANDOM_STATE = 42\n",
    "from mercs.utils.encoding import query_to_code, code_to_query, encode_attribute, get_att"
   ]
  },
  {
   "cell_type": "markdown",
   "metadata": {},
   "source": [
    "# Functions"
   ]
  },
  {
   "cell_type": "markdown",
   "metadata": {},
   "source": [
    "## Fit"
   ]
  },
  {
   "cell_type": "code",
   "execution_count": 2,
   "metadata": {},
   "outputs": [],
   "source": [
    "fit_config = dict()"
   ]
  },
  {
   "cell_type": "code",
   "execution_count": 3,
   "metadata": {},
   "outputs": [],
   "source": [
    "def fit_pxs(dataset, model_keyword=\"default\", **fit_config):\n",
    "\n",
    "    # Load data\n",
    "    suffix = \"train-pxs\"\n",
    "    fn_train = filename_dataset(dataset, step=2, suffix=suffix, extension=\"csv\")\n",
    "\n",
    "    # Train\n",
    "    suffix = \"pxs-{}\".format(model_keyword)\n",
    "    fn_mod = filename_model(dataset, suffix=suffix, extension=\"xdsl\")\n",
    "\n",
    "    clf = PxS()\n",
    "    clf.fit(fn_train, model_fname=fn_mod, **fit_config)\n",
    "\n",
    "    return clf"
   ]
  },
  {
   "cell_type": "code",
   "execution_count": 4,
   "metadata": {},
   "outputs": [],
   "source": [
    "def save_pxs(dataset, classifier, keyword=\"default\"):\n",
    "\n",
    "    suffix = \"pxs-{}\".format(keyword)\n",
    "    fn_mod = filename_model(dataset, suffix=suffix)\n",
    "\n",
    "    with open(fn_mod, \"wb\") as f:\n",
    "        pkl.dump(classifier, f)\n",
    "    return\n",
    "\n",
    "\n",
    "def load_pxs(dataset, keyword=\"default\"):\n",
    "    suffix = \"pxs-{}\".format(keyword)\n",
    "    fn_mod = filename_model(dataset, suffix=suffix)\n",
    "\n",
    "    with open(fn_mod, \"rb\") as f:\n",
    "        clf = pkl.load(f)\n",
    "    return clf"
   ]
  },
  {
   "cell_type": "markdown",
   "metadata": {},
   "source": [
    "### Tests"
   ]
  },
  {
   "cell_type": "code",
   "execution_count": 5,
   "metadata": {},
   "outputs": [],
   "source": [
    "ds = \"nltcs\"\n",
    "clf = fit_pxs(ds)"
   ]
  },
  {
   "cell_type": "code",
   "execution_count": 6,
   "metadata": {},
   "outputs": [],
   "source": [
    "save_pxs(ds, clf, keyword=\"default\")"
   ]
  },
  {
   "cell_type": "code",
   "execution_count": 7,
   "metadata": {},
   "outputs": [],
   "source": [
    "clf = load_pxs(ds,keyword=\"default\")"
   ]
  },
  {
   "cell_type": "markdown",
   "metadata": {},
   "source": [
    "## Predict"
   ]
  },
  {
   "cell_type": "code",
   "execution_count": 30,
   "metadata": {},
   "outputs": [],
   "source": [
    "predict_config = dict(prediction_algorithm=\"mi\")\n",
    "\n",
    "\n",
    "def predict_pxs(dataset, classifier, q_idx=None, **predict_config):\n",
    "    # Init\n",
    "    f1_micro = []\n",
    "    f1_macro = []\n",
    "    q_codes_return = []\n",
    "    q_idx_return = []\n",
    "\n",
    "    default_predict_config = dict(inference_algorithm=\"EPIS_sampling\")\n",
    "    predict_config = {**default_predict_config, **predict_config}\n",
    "\n",
    "    # Load queries\n",
    "    fn_qry = filename_query(dataset, suffix=\"default\")\n",
    "    q_codes = np.load(fn_qry)\n",
    "\n",
    "    # Load data\n",
    "    suffix = \"test-pxs\"\n",
    "    fn_test = filename_dataset(dataset, step=2, suffix=suffix, extension=\"csv\")\n",
    "    df = pd.read_csv(fn_test, index_col=None)\n",
    "    test = df.values\n",
    "    test = test.astype(float)\n",
    "\n",
    "    # Filter for query_idx\n",
    "    include = {\n",
    "        type(None): lambda x: True,\n",
    "        list: lambda x: x in q_idx,\n",
    "        int: lambda x: x == q_idx,\n",
    "    }\n",
    "    ok = include[type(q_idx)]\n",
    "    \n",
    "    for query_idx, q_code in enumerate(q_codes):\n",
    "        if ok(query_idx):\n",
    "            q_idx_return.append(query_idx)\n",
    "            q_codes_return.append(q_code)\n",
    "            \n",
    "            q_f1_micro, q_f1_macro = single_query_predict(\n",
    "                classifier, test, fn_test, query_idx, q_code, **predict_config\n",
    "            )\n",
    "            f1_micro.append(q_f1_micro)\n",
    "            f1_macro.append(q_f1_macro)\n",
    "\n",
    "    q_codes_return = np.vstack(q_codes_return)\n",
    "    results = dict(f1_micro=f1_micro, f1_macro=f1_macro)\n",
    "\n",
    "    return q_idx_return, q_codes_return, results\n",
    "\n",
    "\n",
    "def single_query_predict(classifier, test, fn_test, q_idx, q_code, **predict_config):\n",
    "    query_config = dict(\n",
    "        miss_idx=get_att(q_code, kind=\"miss\").tolist(),\n",
    "        targ_idx=get_att(q_code, kind=\"targ\").tolist(),\n",
    "        q_idx=q_idx,\n",
    "    )\n",
    "\n",
    "    y_true = test[:, query_config[\"targ_idx\"]]\n",
    "    y_pred = classifier.predict(fn_test, **query_config, **predict_config)\n",
    "\n",
    "    f1_micro = f1_score(y_true, y_pred, average=\"micro\")\n",
    "    f1_macro = f1_score(y_true, y_pred, average=\"macro\")\n",
    "    return f1_micro, f1_macro"
   ]
  },
  {
   "cell_type": "markdown",
   "metadata": {},
   "source": [
    "### Test"
   ]
  },
  {
   "cell_type": "code",
   "execution_count": 9,
   "metadata": {},
   "outputs": [
    {
     "name": "stdout",
     "output_type": "stream",
     "text": [
      "{'inference_algorithm': 'lauritzen'}\n",
      "{'inference_algorithm': 'lauritzen'}\n"
     ]
    }
   ],
   "source": [
    "dataset = \"nltcs\"\n",
    "q_idx, q_codes, results = predict_pxs(ds, clf, query_idx=[3,4], inference_algorithm=\"lauritzen\")"
   ]
  },
  {
   "cell_type": "code",
   "execution_count": 10,
   "metadata": {},
   "outputs": [],
   "source": [
    "df = collect_results(ds, q_codes, results, q_idx=q_idx, identifier=\"pxs\", exp_idx=1)"
   ]
  },
  {
   "cell_type": "code",
   "execution_count": 11,
   "metadata": {},
   "outputs": [
    {
     "data": {
      "text/html": [
       "<div>\n",
       "<style scoped>\n",
       "    .dataframe tbody tr th:only-of-type {\n",
       "        vertical-align: middle;\n",
       "    }\n",
       "\n",
       "    .dataframe tbody tr th {\n",
       "        vertical-align: top;\n",
       "    }\n",
       "\n",
       "    .dataframe thead th {\n",
       "        text-align: right;\n",
       "    }\n",
       "</style>\n",
       "<table border=\"1\" class=\"dataframe\">\n",
       "  <thead>\n",
       "    <tr style=\"text-align: right;\">\n",
       "      <th></th>\n",
       "      <th>missing_percentage</th>\n",
       "      <th>difficulty</th>\n",
       "      <th>q_idx</th>\n",
       "      <th>f1_micro</th>\n",
       "      <th>f1_macro</th>\n",
       "      <th>identifier</th>\n",
       "      <th>dataset</th>\n",
       "      <th>exp_idx</th>\n",
       "    </tr>\n",
       "  </thead>\n",
       "  <tbody>\n",
       "    <tr>\n",
       "      <th>0</th>\n",
       "      <td>0.250</td>\n",
       "      <td>3</td>\n",
       "      <td>3</td>\n",
       "      <td>0.894005</td>\n",
       "      <td>0.754598</td>\n",
       "      <td>pxs</td>\n",
       "      <td>nltcs</td>\n",
       "      <td>1</td>\n",
       "    </tr>\n",
       "    <tr>\n",
       "      <th>1</th>\n",
       "      <td>0.375</td>\n",
       "      <td>4</td>\n",
       "      <td>4</td>\n",
       "      <td>0.894005</td>\n",
       "      <td>0.754598</td>\n",
       "      <td>pxs</td>\n",
       "      <td>nltcs</td>\n",
       "      <td>1</td>\n",
       "    </tr>\n",
       "  </tbody>\n",
       "</table>\n",
       "</div>"
      ],
      "text/plain": [
       "   missing_percentage  difficulty  q_idx  f1_micro  f1_macro identifier  \\\n",
       "0               0.250           3      3  0.894005  0.754598        pxs   \n",
       "1               0.375           4      4  0.894005  0.754598        pxs   \n",
       "\n",
       "  dataset  exp_idx  \n",
       "0   nltcs        1  \n",
       "1   nltcs        1  "
      ]
     },
     "execution_count": 11,
     "metadata": {},
     "output_type": "execute_result"
    }
   ],
   "source": [
    "df"
   ]
  },
  {
   "cell_type": "code",
   "execution_count": 12,
   "metadata": {},
   "outputs": [],
   "source": [
    "fn_results = filename_results(\"test\", exp_idx=0)"
   ]
  },
  {
   "cell_type": "code",
   "execution_count": 13,
   "metadata": {},
   "outputs": [
    {
     "data": {
      "text/plain": [
       "'../../out/exp-0000/results/test.csv'"
      ]
     },
     "execution_count": 13,
     "metadata": {},
     "output_type": "execute_result"
    }
   ],
   "source": [
    "fn_results"
   ]
  },
  {
   "cell_type": "code",
   "execution_count": null,
   "metadata": {},
   "outputs": [],
   "source": []
  },
  {
   "cell_type": "markdown",
   "metadata": {},
   "source": [
    "# Flows"
   ]
  },
  {
   "cell_type": "markdown",
   "metadata": {},
   "source": [
    "## Model-Building"
   ]
  },
  {
   "cell_type": "code",
   "execution_count": 14,
   "metadata": {},
   "outputs": [],
   "source": [
    "def flow_build_pxs_model(dataset, model_keyword=\"default\", **fit_config):\n",
    "    \n",
    "    # Build model\n",
    "    model = fit_pxs(dataset, **fit_config)\n",
    "    \n",
    "    # Save model\n",
    "    save_pxs(dataset, model, keyword=model_keyword)\n",
    "\n",
    "    return"
   ]
  },
  {
   "cell_type": "markdown",
   "metadata": {},
   "source": [
    "### Test"
   ]
  },
  {
   "cell_type": "code",
   "execution_count": 15,
   "metadata": {},
   "outputs": [],
   "source": [
    "flow_build_pxs_model(\"nltcs\", model_keyword=\"default\")"
   ]
  },
  {
   "cell_type": "code",
   "execution_count": null,
   "metadata": {},
   "outputs": [],
   "source": []
  },
  {
   "cell_type": "markdown",
   "metadata": {},
   "source": [
    "## Predictions"
   ]
  },
  {
   "cell_type": "code",
   "execution_count": 38,
   "metadata": {},
   "outputs": [],
   "source": [
    "def flow_pxs_predict(\n",
    "    dataset,\n",
    "    exp_idx=0,\n",
    "    qry_idx=None,\n",
    "    exp_keyword=\"pxs\",\n",
    "    model_keyword=\"default\",\n",
    "    **predict_config\n",
    "):\n",
    "    # Load model\n",
    "    clf = load_pxs(dataset, keyword=model_keyword)\n",
    "\n",
    "    # Do predictions\n",
    "    q_idx_return, q_codes_return, results = predict_pxs(\n",
    "        ds, clf, q_idx=qry_idx, **predict_config\n",
    "    )\n",
    "\n",
    "    # Get and save results\n",
    "    df = collect_results(\n",
    "        ds,\n",
    "        q_codes_return,\n",
    "        results,\n",
    "        q_idx=q_idx_return,\n",
    "        identifier=exp_keyword,\n",
    "        exp_idx=exp_idx,\n",
    "    )\n",
    "    \n",
    "    suffix = experiment_suffix(qry_idx)\n",
    "    fn_res = filename_results(exp_identifier, suffix=suffix, exp_idx=exp_idx)\n",
    "\n",
    "    df.to_csv(fn_res)\n",
    "\n",
    "    return"
   ]
  },
  {
   "cell_type": "code",
   "execution_count": 40,
   "metadata": {},
   "outputs": [],
   "source": [
    "options = {\n",
    "    None: 'a',\n",
    "    3: 'b'\n",
    "}"
   ]
  },
  {
   "cell_type": "code",
   "execution_count": 43,
   "metadata": {},
   "outputs": [
    {
     "data": {
      "text/plain": [
       "'a'"
      ]
     },
     "execution_count": 43,
     "metadata": {},
     "output_type": "execute_result"
    }
   ],
   "source": [
    "options[None]"
   ]
  },
  {
   "cell_type": "code",
   "execution_count": 34,
   "metadata": {},
   "outputs": [
    {
     "name": "stdout",
     "output_type": "stream",
     "text": [
      "{'inference_algorithm': 'EPIS_sampling', 'prediction_algorithm': 'mi'}\n",
      "{'inference_algorithm': 'EPIS_sampling', 'prediction_algorithm': 'mi'}\n",
      "{'inference_algorithm': 'EPIS_sampling', 'prediction_algorithm': 'mi'}\n"
     ]
    }
   ],
   "source": [
    "flow_pxs_predict(\"nltcs\", exp_idx=0, q_idx=[2,3,4], exp_identifier=\"pxs\", model_keyword=\"default\", **predict_config)"
   ]
  },
  {
   "cell_type": "code",
   "execution_count": 22,
   "metadata": {},
   "outputs": [],
   "source": [
    "d = dict(a=1)"
   ]
  },
  {
   "cell_type": "code",
   "execution_count": 23,
   "metadata": {},
   "outputs": [
    {
     "name": "stdout",
     "output_type": "stream",
     "text": [
      "yeah\n"
     ]
    }
   ],
   "source": [
    "if d:\n",
    "    print('yeah')"
   ]
  }
 ],
 "metadata": {
  "kernelspec": {
   "display_name": "aaai20-frost",
   "language": "python",
   "name": "aaai20-frost"
  },
  "language_info": {
   "codemirror_mode": {
    "name": "ipython",
    "version": 3
   },
   "file_extension": ".py",
   "mimetype": "text/x-python",
   "name": "python",
   "nbconvert_exporter": "python",
   "pygments_lexer": "ipython3",
   "version": "3.6.9"
  }
 },
 "nbformat": 4,
 "nbformat_minor": 4
}
