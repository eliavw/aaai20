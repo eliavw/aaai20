{
 "cells": [
  {
   "cell_type": "markdown",
   "metadata": {},
   "source": [
    "# Mercs on StarAI\n",
    "\n",
    "Renewed version of the eternal experiment on starai benchmark. This experiment assesses the multi-directionality of mercs and compares this to Bayesian networks. Ultimately, this shows that in terms of flexibility, Mercs can get basically equivalent performance (if we consider MAP, at least) to classical BN. The eternal criticism is, of course, that these BN approaches are not state of the art. But that does not matter. What matters is that such a multi-directional ensemble can, in fact, be used in this kind of changing prediction task, and still keep up."
   ]
  },
  {
   "cell_type": "markdown",
   "metadata": {},
   "source": [
    "# Preliminaries"
   ]
  },
  {
   "cell_type": "markdown",
   "metadata": {},
   "source": [
    "## Imports"
   ]
  },
  {
   "cell_type": "code",
   "execution_count": 1,
   "metadata": {},
   "outputs": [
    {
     "ename": "KeyboardInterrupt",
     "evalue": "",
     "output_type": "error",
     "traceback": [
      "\u001b[0;31m---------------------------------------------------------------------------\u001b[0m",
      "\u001b[0;31mKeyboardInterrupt\u001b[0m                         Traceback (most recent call last)",
      "\u001b[0;32m<ipython-input-1-772030dae830>\u001b[0m in \u001b[0;36m<module>\u001b[0;34m\u001b[0m\n\u001b[1;32m      3\u001b[0m \u001b[0;32mimport\u001b[0m \u001b[0mnumpy\u001b[0m \u001b[0;32mas\u001b[0m \u001b[0mnp\u001b[0m\u001b[0;34m\u001b[0m\u001b[0;34m\u001b[0m\u001b[0m\n\u001b[1;32m      4\u001b[0m \u001b[0;32mimport\u001b[0m \u001b[0maaai20\u001b[0m\u001b[0;34m\u001b[0m\u001b[0;34m\u001b[0m\u001b[0m\n\u001b[0;32m----> 5\u001b[0;31m \u001b[0;32mimport\u001b[0m \u001b[0mmercs\u001b[0m\u001b[0;34m\u001b[0m\u001b[0;34m\u001b[0m\u001b[0m\n\u001b[0m\u001b[1;32m      6\u001b[0m \u001b[0;34m\u001b[0m\u001b[0m\n\u001b[1;32m      7\u001b[0m \u001b[0;32mfrom\u001b[0m \u001b[0mos\u001b[0m\u001b[0;34m.\u001b[0m\u001b[0mpath\u001b[0m \u001b[0;32mimport\u001b[0m \u001b[0mdirname\u001b[0m\u001b[0;34m\u001b[0m\u001b[0;34m\u001b[0m\u001b[0m\n",
      "\u001b[0;32m/cw/dtaijupiter/NoCsBack/dtai/elia/mercs/src/mercs/__init__.py\u001b[0m in \u001b[0;36m<module>\u001b[0;34m\u001b[0m\n\u001b[1;32m      1\u001b[0m \u001b[0;32mfrom\u001b[0m \u001b[0mpkg_resources\u001b[0m \u001b[0;32mimport\u001b[0m \u001b[0mget_distribution\u001b[0m\u001b[0;34m,\u001b[0m \u001b[0mDistributionNotFound\u001b[0m\u001b[0;34m\u001b[0m\u001b[0;34m\u001b[0m\u001b[0m\n\u001b[0;32m----> 2\u001b[0;31m \u001b[0;32mfrom\u001b[0m \u001b[0;34m.\u001b[0m\u001b[0mcore\u001b[0m \u001b[0;32mimport\u001b[0m \u001b[0mMercs\u001b[0m\u001b[0;34m\u001b[0m\u001b[0;34m\u001b[0m\u001b[0m\n\u001b[0m\u001b[1;32m      3\u001b[0m \u001b[0;34m\u001b[0m\u001b[0m\n\u001b[1;32m      4\u001b[0m \u001b[0;32mtry\u001b[0m\u001b[0;34m:\u001b[0m\u001b[0;34m\u001b[0m\u001b[0;34m\u001b[0m\u001b[0m\n\u001b[1;32m      5\u001b[0m     \u001b[0;31m# Change here if project is renamed and does not equal the package name\u001b[0m\u001b[0;34m\u001b[0m\u001b[0;34m\u001b[0m\u001b[0;34m\u001b[0m\u001b[0m\n",
      "\u001b[0;32m/cw/dtaijupiter/NoCsBack/dtai/elia/mercs/src/mercs/core/__init__.py\u001b[0m in \u001b[0;36m<module>\u001b[0;34m\u001b[0m\n\u001b[0;32m----> 1\u001b[0;31m \u001b[0;32mfrom\u001b[0m \u001b[0;34m.\u001b[0m\u001b[0mMercs\u001b[0m \u001b[0;32mimport\u001b[0m \u001b[0mMercs\u001b[0m\u001b[0;34m\u001b[0m\u001b[0;34m\u001b[0m\u001b[0m\n\u001b[0m",
      "\u001b[0;32m/cw/dtaijupiter/NoCsBack/dtai/elia/mercs/src/mercs/core/Mercs.py\u001b[0m in \u001b[0;36m<module>\u001b[0;34m\u001b[0m\n\u001b[1;32m      6\u001b[0m \u001b[0;32mfrom\u001b[0m \u001b[0mdask\u001b[0m \u001b[0;32mimport\u001b[0m \u001b[0mdelayed\u001b[0m\u001b[0;34m\u001b[0m\u001b[0;34m\u001b[0m\u001b[0m\n\u001b[1;32m      7\u001b[0m \u001b[0;32mfrom\u001b[0m \u001b[0mnetworkx\u001b[0m \u001b[0;32mimport\u001b[0m \u001b[0mNetworkXUnfeasible\u001b[0m\u001b[0;34m,\u001b[0m \u001b[0mfind_cycle\u001b[0m\u001b[0;34m,\u001b[0m \u001b[0mtopological_sort\u001b[0m\u001b[0;34m\u001b[0m\u001b[0;34m\u001b[0m\u001b[0m\n\u001b[0;32m----> 8\u001b[0;31m \u001b[0;32mfrom\u001b[0m \u001b[0msklearn\u001b[0m\u001b[0;34m.\u001b[0m\u001b[0mensemble\u001b[0m \u001b[0;32mimport\u001b[0m \u001b[0mRandomForestClassifier\u001b[0m\u001b[0;34m,\u001b[0m \u001b[0mRandomForestRegressor\u001b[0m\u001b[0;34m\u001b[0m\u001b[0;34m\u001b[0m\u001b[0m\n\u001b[0m\u001b[1;32m      9\u001b[0m \u001b[0;32mfrom\u001b[0m \u001b[0msklearn\u001b[0m\u001b[0;34m.\u001b[0m\u001b[0mimpute\u001b[0m \u001b[0;32mimport\u001b[0m \u001b[0mSimpleImputer\u001b[0m\u001b[0;34m\u001b[0m\u001b[0;34m\u001b[0m\u001b[0m\n\u001b[1;32m     10\u001b[0m \u001b[0;32mfrom\u001b[0m \u001b[0msklearn\u001b[0m\u001b[0;34m.\u001b[0m\u001b[0mtree\u001b[0m \u001b[0;32mimport\u001b[0m \u001b[0mDecisionTreeClassifier\u001b[0m\u001b[0;34m,\u001b[0m \u001b[0mDecisionTreeRegressor\u001b[0m\u001b[0;34m\u001b[0m\u001b[0;34m\u001b[0m\u001b[0m\n",
      "\u001b[0;32m/cw/dtaijupiter/NoCsBack/dtai/elia/00_Software/anaconda/envs/aaai20/lib/python3.7/site-packages/sklearn/__init__.py\u001b[0m in \u001b[0;36m<module>\u001b[0;34m\u001b[0m\n\u001b[1;32m     74\u001b[0m \u001b[0;32melse\u001b[0m\u001b[0;34m:\u001b[0m\u001b[0;34m\u001b[0m\u001b[0;34m\u001b[0m\u001b[0m\n\u001b[1;32m     75\u001b[0m     \u001b[0;32mfrom\u001b[0m \u001b[0;34m.\u001b[0m \u001b[0;32mimport\u001b[0m \u001b[0m__check_build\u001b[0m\u001b[0;34m\u001b[0m\u001b[0;34m\u001b[0m\u001b[0m\n\u001b[0;32m---> 76\u001b[0;31m     \u001b[0;32mfrom\u001b[0m \u001b[0;34m.\u001b[0m\u001b[0mbase\u001b[0m \u001b[0;32mimport\u001b[0m \u001b[0mclone\u001b[0m\u001b[0;34m\u001b[0m\u001b[0;34m\u001b[0m\u001b[0m\n\u001b[0m\u001b[1;32m     77\u001b[0m     \u001b[0;32mfrom\u001b[0m \u001b[0;34m.\u001b[0m\u001b[0mutils\u001b[0m\u001b[0;34m.\u001b[0m\u001b[0m_show_versions\u001b[0m \u001b[0;32mimport\u001b[0m \u001b[0mshow_versions\u001b[0m\u001b[0;34m\u001b[0m\u001b[0;34m\u001b[0m\u001b[0m\n\u001b[1;32m     78\u001b[0m \u001b[0;34m\u001b[0m\u001b[0m\n",
      "\u001b[0;32m/cw/dtaijupiter/NoCsBack/dtai/elia/00_Software/anaconda/envs/aaai20/lib/python3.7/site-packages/sklearn/base.py\u001b[0m in \u001b[0;36m<module>\u001b[0;34m\u001b[0m\n\u001b[1;32m     14\u001b[0m \u001b[0;34m\u001b[0m\u001b[0m\n\u001b[1;32m     15\u001b[0m \u001b[0;32mfrom\u001b[0m \u001b[0;34m.\u001b[0m \u001b[0;32mimport\u001b[0m \u001b[0m__version__\u001b[0m\u001b[0;34m\u001b[0m\u001b[0;34m\u001b[0m\u001b[0m\n\u001b[0;32m---> 16\u001b[0;31m \u001b[0;32mfrom\u001b[0m \u001b[0;34m.\u001b[0m\u001b[0mutils\u001b[0m \u001b[0;32mimport\u001b[0m \u001b[0m_IS_32BIT\u001b[0m\u001b[0;34m\u001b[0m\u001b[0;34m\u001b[0m\u001b[0m\n\u001b[0m\u001b[1;32m     17\u001b[0m \u001b[0;34m\u001b[0m\u001b[0m\n\u001b[1;32m     18\u001b[0m _DEFAULT_TAGS = {\n",
      "\u001b[0;32m/cw/dtaijupiter/NoCsBack/dtai/elia/00_Software/anaconda/envs/aaai20/lib/python3.7/site-packages/sklearn/utils/__init__.py\u001b[0m in \u001b[0;36m<module>\u001b[0;34m\u001b[0m\n\u001b[1;32m     18\u001b[0m \u001b[0;32mfrom\u001b[0m \u001b[0;34m.\u001b[0m\u001b[0;34m.\u001b[0m\u001b[0mexceptions\u001b[0m \u001b[0;32mimport\u001b[0m \u001b[0mDataConversionWarning\u001b[0m\u001b[0;34m\u001b[0m\u001b[0;34m\u001b[0m\u001b[0m\n\u001b[1;32m     19\u001b[0m \u001b[0;32mfrom\u001b[0m \u001b[0;34m.\u001b[0m\u001b[0mdeprecation\u001b[0m \u001b[0;32mimport\u001b[0m \u001b[0mdeprecated\u001b[0m\u001b[0;34m\u001b[0m\u001b[0;34m\u001b[0m\u001b[0m\n\u001b[0;32m---> 20\u001b[0;31m from .validation import (as_float_array,\n\u001b[0m\u001b[1;32m     21\u001b[0m                          \u001b[0massert_all_finite\u001b[0m\u001b[0;34m,\u001b[0m\u001b[0;34m\u001b[0m\u001b[0;34m\u001b[0m\u001b[0m\n\u001b[1;32m     22\u001b[0m                          \u001b[0mcheck_random_state\u001b[0m\u001b[0;34m,\u001b[0m \u001b[0mcolumn_or_1d\u001b[0m\u001b[0;34m,\u001b[0m \u001b[0mcheck_array\u001b[0m\u001b[0;34m,\u001b[0m\u001b[0;34m\u001b[0m\u001b[0;34m\u001b[0m\u001b[0m\n",
      "\u001b[0;32m/cw/dtaijupiter/NoCsBack/dtai/elia/00_Software/anaconda/envs/aaai20/lib/python3.7/site-packages/sklearn/utils/validation.py\u001b[0m in \u001b[0;36m<module>\u001b[0;34m\u001b[0m\n\u001b[1;32m     19\u001b[0m \u001b[0;32mfrom\u001b[0m \u001b[0mnumpy\u001b[0m\u001b[0;34m.\u001b[0m\u001b[0mcore\u001b[0m\u001b[0;34m.\u001b[0m\u001b[0mnumeric\u001b[0m \u001b[0;32mimport\u001b[0m \u001b[0mComplexWarning\u001b[0m\u001b[0;34m\u001b[0m\u001b[0;34m\u001b[0m\u001b[0m\n\u001b[1;32m     20\u001b[0m \u001b[0;34m\u001b[0m\u001b[0m\n\u001b[0;32m---> 21\u001b[0;31m \u001b[0;32mfrom\u001b[0m \u001b[0;34m.\u001b[0m\u001b[0mfixes\u001b[0m \u001b[0;32mimport\u001b[0m \u001b[0m_object_dtype_isnan\u001b[0m\u001b[0;34m\u001b[0m\u001b[0;34m\u001b[0m\u001b[0m\n\u001b[0m\u001b[1;32m     22\u001b[0m \u001b[0;32mfrom\u001b[0m \u001b[0;34m.\u001b[0m\u001b[0;34m.\u001b[0m \u001b[0;32mimport\u001b[0m \u001b[0mget_config\u001b[0m \u001b[0;32mas\u001b[0m \u001b[0m_get_config\u001b[0m\u001b[0;34m\u001b[0m\u001b[0;34m\u001b[0m\u001b[0m\n\u001b[1;32m     23\u001b[0m \u001b[0;32mfrom\u001b[0m \u001b[0;34m.\u001b[0m\u001b[0;34m.\u001b[0m\u001b[0mexceptions\u001b[0m \u001b[0;32mimport\u001b[0m \u001b[0mNonBLASDotWarning\u001b[0m\u001b[0;34m\u001b[0m\u001b[0;34m\u001b[0m\u001b[0m\n",
      "\u001b[0;32m/cw/dtaijupiter/NoCsBack/dtai/elia/00_Software/anaconda/envs/aaai20/lib/python3.7/site-packages/sklearn/utils/fixes.py\u001b[0m in \u001b[0;36m<module>\u001b[0;34m\u001b[0m\n\u001b[1;32m     43\u001b[0m     \u001b[0;31m# Preserves earlier default choice of pinvh cutoff `cond` value.\u001b[0m\u001b[0;34m\u001b[0m\u001b[0;34m\u001b[0m\u001b[0;34m\u001b[0m\u001b[0m\n\u001b[1;32m     44\u001b[0m     \u001b[0;31m# Can be removed once issue #14055 is fully addressed.\u001b[0m\u001b[0;34m\u001b[0m\u001b[0;34m\u001b[0m\u001b[0;34m\u001b[0m\u001b[0m\n\u001b[0;32m---> 45\u001b[0;31m     \u001b[0;32mfrom\u001b[0m \u001b[0;34m.\u001b[0m\u001b[0;34m.\u001b[0m\u001b[0mexternals\u001b[0m\u001b[0;34m.\u001b[0m\u001b[0m_scipy_linalg\u001b[0m \u001b[0;32mimport\u001b[0m \u001b[0mpinvh\u001b[0m\u001b[0;34m\u001b[0m\u001b[0;34m\u001b[0m\u001b[0m\n\u001b[0m\u001b[1;32m     46\u001b[0m \u001b[0;32melse\u001b[0m\u001b[0;34m:\u001b[0m\u001b[0;34m\u001b[0m\u001b[0;34m\u001b[0m\u001b[0m\n\u001b[1;32m     47\u001b[0m     \u001b[0;32mfrom\u001b[0m \u001b[0mscipy\u001b[0m\u001b[0;34m.\u001b[0m\u001b[0mlinalg\u001b[0m \u001b[0;32mimport\u001b[0m \u001b[0mpinvh\u001b[0m \u001b[0;31m# noqa\u001b[0m\u001b[0;34m\u001b[0m\u001b[0;34m\u001b[0m\u001b[0m\n",
      "\u001b[0;32m/cw/dtaijupiter/NoCsBack/dtai/elia/00_Software/anaconda/envs/aaai20/lib/python3.7/importlib/_bootstrap.py\u001b[0m in \u001b[0;36m_find_and_load\u001b[0;34m(name, import_)\u001b[0m\n",
      "\u001b[0;32m/cw/dtaijupiter/NoCsBack/dtai/elia/00_Software/anaconda/envs/aaai20/lib/python3.7/importlib/_bootstrap.py\u001b[0m in \u001b[0;36m_find_and_load_unlocked\u001b[0;34m(name, import_)\u001b[0m\n",
      "\u001b[0;32m/cw/dtaijupiter/NoCsBack/dtai/elia/00_Software/anaconda/envs/aaai20/lib/python3.7/importlib/_bootstrap.py\u001b[0m in \u001b[0;36m_load_unlocked\u001b[0;34m(spec)\u001b[0m\n",
      "\u001b[0;32m/cw/dtaijupiter/NoCsBack/dtai/elia/00_Software/anaconda/envs/aaai20/lib/python3.7/importlib/_bootstrap_external.py\u001b[0m in \u001b[0;36mexec_module\u001b[0;34m(self, module)\u001b[0m\n",
      "\u001b[0;32m/cw/dtaijupiter/NoCsBack/dtai/elia/00_Software/anaconda/envs/aaai20/lib/python3.7/importlib/_bootstrap_external.py\u001b[0m in \u001b[0;36mget_code\u001b[0;34m(self, fullname)\u001b[0m\n",
      "\u001b[0;32m/cw/dtaijupiter/NoCsBack/dtai/elia/00_Software/anaconda/envs/aaai20/lib/python3.7/importlib/_bootstrap_external.py\u001b[0m in \u001b[0;36mget_data\u001b[0;34m(self, path)\u001b[0m\n",
      "\u001b[0;31mKeyboardInterrupt\u001b[0m: "
     ]
    }
   ],
   "source": [
    "import pandas as pd\n",
    "import os\n",
    "import numpy as np\n",
    "import aaai20\n",
    "import mercs\n",
    "\n",
    "from os.path import dirname\n",
    "from aaai20.io import filename_dataset, filename_query, filename_model, experiment_suffix, filename_results\n",
    "from aaai20.exp import collect_results, process_outcomes, save_outcome\n",
    "\n",
    "from sklearn.metrics import f1_score\n",
    "\n",
    "RANDOM_STATE = 42"
   ]
  },
  {
   "cell_type": "code",
   "execution_count": null,
   "metadata": {},
   "outputs": [],
   "source": [
    "import mercs"
   ]
  },
  {
   "cell_type": "code",
   "execution_count": null,
   "metadata": {},
   "outputs": [],
   "source": [
    "from mercs.core import Mercs\n",
    "from mercs.utils.encoding import query_to_code, code_to_query, encode_attribute, get_att"
   ]
  },
  {
   "cell_type": "code",
   "execution_count": null,
   "metadata": {},
   "outputs": [],
   "source": [
    "import dill as pkl "
   ]
  },
  {
   "cell_type": "code",
   "execution_count": null,
   "metadata": {},
   "outputs": [],
   "source": [
    "import warnings\n",
    "from sklearn.exceptions import UndefinedMetricWarning\n",
    "warnings.filterwarnings(\"ignore\", category=UndefinedMetricWarning)"
   ]
  },
  {
   "cell_type": "markdown",
   "metadata": {},
   "source": [
    "# Functions"
   ]
  },
  {
   "cell_type": "markdown",
   "metadata": {},
   "source": [
    "## Fit"
   ]
  },
  {
   "cell_type": "code",
   "execution_count": null,
   "metadata": {},
   "outputs": [],
   "source": [
    "fit_config = dict(\n",
    "    random_state=42,\n",
    "    classifier_algorithm=\"DT\",\n",
    "    regressor_algorithm=\"DT\",\n",
    "    clf_criterion=\"gini\",\n",
    "    rgr_criterion=\"mse\",\n",
    "    selection_algorithm=\"base\",\n",
    "    nb_targets=1,\n",
    "    fraction_missing=0.2,\n",
    "    nb_iterations=1,\n",
    "    min_samples_leaf=2,\n",
    "    max_depth=None,\n",
    ")"
   ]
  },
  {
   "cell_type": "code",
   "execution_count": null,
   "metadata": {},
   "outputs": [],
   "source": [
    "def fit_mercs(dataset, **fit_config):\n",
    "\n",
    "    # Load data\n",
    "    fn_train = filename_dataset(dataset, step=2, suffix=\"train\", extension=\"csv\")\n",
    "    df = pd.read_csv(fn_train, header=None, index_col=None)\n",
    "    train = df.values\n",
    "    train = train.astype(float)\n",
    "\n",
    "    # Everything is nominal here\n",
    "    nominal_ids = set(range(train.shape[1]))\n",
    "\n",
    "    # Train\n",
    "    clf = Mercs(**fit_config)\n",
    "    clf.fit(train, nominal_attributes=nominal_ids)\n",
    "\n",
    "    return clf"
   ]
  },
  {
   "cell_type": "code",
   "execution_count": null,
   "metadata": {},
   "outputs": [],
   "source": [
    "def save_mercs(dataset, classifier, keyword=\"default\"):\n",
    "    \n",
    "    suffix = \"mercs-{}\".format(keyword)\n",
    "    fn_mod = filename_model(dataset, suffix=suffix)\n",
    "    \n",
    "    with open(fn_mod, 'wb') as f:\n",
    "        pkl.dump(classifier, f)\n",
    "    return\n",
    "\n",
    "def load_mercs(dataset, keyword=\"default\"):\n",
    "    suffix = \"mercs-{}\".format(keyword)\n",
    "    fn_mod = filename_model(dataset, suffix=suffix)\n",
    "    \n",
    "    with open(fn_mod, 'rb') as f:\n",
    "        clf = pkl.load(f)\n",
    "    return clf"
   ]
  },
  {
   "cell_type": "markdown",
   "metadata": {},
   "source": [
    "## Predict"
   ]
  },
  {
   "cell_type": "code",
   "execution_count": null,
   "metadata": {},
   "outputs": [],
   "source": [
    "predict_config = dict(prediction_algorithm=\"mi\")\n",
    "\n",
    "\n",
    "def predict_mercs(dataset, classifier, q_idx=None, **predict_config):\n",
    "    result = []\n",
    "    f1_micro = []\n",
    "    f1_macro = []\n",
    "    q_codes_return = []\n",
    "    q_idx_return = []\n",
    "    inf_time = []\n",
    "\n",
    "    # Load queries\n",
    "    fn_qry = filename_query(dataset, suffix=\"default\")\n",
    "    q_codes = np.load(fn_qry)\n",
    "    \n",
    "    # Load data\n",
    "    fn_test = filename_dataset(dataset, step=2, suffix=\"test\", extension=\"csv\")\n",
    "    df = pd.read_csv(fn_test, header=None, index_col=None)\n",
    "    \n",
    "    # Load ind_time\n",
    "    ind_time = classifier.model_data.get('ind_time')\n",
    "    \n",
    "    # Filter for query_idx\n",
    "    include = {\n",
    "        type(None): lambda x: True,\n",
    "        list: lambda x: x in q_idx,\n",
    "        int: lambda x: x == q_idx,\n",
    "    }\n",
    "    ok = include[type(q_idx)]\n",
    "    \n",
    "    for query_idx, q_code in enumerate(q_codes):\n",
    "        if ok(query_idx):\n",
    "            q_idx_return.append(query_idx)\n",
    "            q_codes_return.append(q_code)\n",
    "    \n",
    "            # Preprocessing\n",
    "            test = df.values\n",
    "            test = test.astype(float)\n",
    "            target_ids = get_att(q_code, kind='targ').tolist()\n",
    "            y_true = test[:, target_ids].copy() # Extract ground truth\n",
    "            test[:, target_ids] = np.nan        # Ensure the answers do never touch the algorithm even\n",
    "            \n",
    "            # Predictions and evaluation\n",
    "            y_pred = classifier.predict(test, q_code=q_code, **predict_config)\n",
    "            q_inf_time = classifier.model_data['inf_time']\n",
    "\n",
    "            q_f1_micro, q_f1_macro = f1_score(y_true, y_pred, average='micro'), f1_score(y_true, y_pred, average='macro')\n",
    "            \n",
    "            inf_time.append(q_inf_time)\n",
    "            f1_micro.append(q_f1_micro)\n",
    "            f1_macro.append(q_f1_macro)\n",
    "\n",
    "    q_codes_return = np.vstack(q_codes_return)\n",
    "    results = dict(f1_micro=f1_micro, f1_macro=f1_macro)\n",
    "    timings = dict(ind_time=ind_time, inf_time=inf_time)\n",
    "\n",
    "    return q_idx_return, q_codes_return, results, timings"
   ]
  },
  {
   "cell_type": "raw",
   "metadata": {},
   "source": [
    "fit_config = dict(\n",
    "    random_state=42,\n",
    "    classifier_algorithm=\"DT\",\n",
    "    regressor_algorithm=\"DT\",\n",
    "    clf_criterion=\"gini\",\n",
    "    rgr_criterion=\"mse\",\n",
    "    selection_algorithm=\"base\",\n",
    "    nb_targets=1,\n",
    "    fraction_missing=0.2,\n",
    "    nb_iterations=1,\n",
    "    min_samples_leaf=2,\n",
    "    max_depth=None,\n",
    ")\n",
    "\n",
    "predict_config = dict(prediction_algorithm=\"mi\")\n",
    "\n",
    "dataset = 'nltcs'\n",
    "\n",
    "clf = fit_mercs(dataset, **fit_config)\n",
    "\n",
    "q_codes_return, result =  predict_mercs(dataset, clf, **predict_config)"
   ]
  },
  {
   "cell_type": "markdown",
   "metadata": {},
   "source": [
    "# Flows"
   ]
  },
  {
   "cell_type": "markdown",
   "metadata": {},
   "source": [
    "## Model-Building"
   ]
  },
  {
   "cell_type": "code",
   "execution_count": null,
   "metadata": {},
   "outputs": [],
   "source": [
    "def flow_build_mercs_model(dataset, model_keyword=\"default\", **fit_config):\n",
    "\n",
    "    default_fit_config = dict(\n",
    "        random_state=42,\n",
    "        classifier_algorithm=\"DT\",\n",
    "        regressor_algorithm=\"DT\",\n",
    "        clf_criterion=\"gini\",\n",
    "        rgr_criterion=\"mse\",\n",
    "        selection_algorithm=\"base\",\n",
    "        nb_targets=1,\n",
    "        fraction_missing=0.2,\n",
    "        nb_iterations=1,\n",
    "        min_samples_leaf=2,\n",
    "        max_depth=None,\n",
    "    )\n",
    "    \n",
    "    fit_config = {**default_fit_config, **fit_config}\n",
    "    \n",
    "    # Build model\n",
    "    clf = fit_mercs(dataset, **fit_config)\n",
    "    \n",
    "    # Save model\n",
    "    save_mercs(dataset, clf, keyword=model_keyword)\n",
    "\n",
    "    return"
   ]
  },
  {
   "cell_type": "markdown",
   "metadata": {},
   "source": [
    "### Test"
   ]
  },
  {
   "cell_type": "code",
   "execution_count": null,
   "metadata": {},
   "outputs": [],
   "source": [
    "flow_build_mercs_model(\"nltcs\", model_keyword=\"default\", **fit_config)"
   ]
  },
  {
   "cell_type": "markdown",
   "metadata": {},
   "source": [
    "## Predictions"
   ]
  },
  {
   "cell_type": "code",
   "execution_count": null,
   "metadata": {},
   "outputs": [],
   "source": [
    "def flow_mercs_predict(\n",
    "    dataset,\n",
    "    exp_idx=0,\n",
    "    qry_idx=None,\n",
    "    model_keyword=\"default\",\n",
    "    exp_keyword=None,\n",
    "    **predict_config\n",
    "):\n",
    "\n",
    "    default_predict_config = dict(prediction_algorithm=\"mi\")\n",
    "\n",
    "    predict_config = {**default_predict_config, **predict_config}\n",
    "\n",
    "    # Load model\n",
    "    clf = load_mercs(dataset, keyword=model_keyword)\n",
    "\n",
    "    # Do predictions\n",
    "    q_idx_return, q_codes_return, results = predict_mercs(\n",
    "        dataset, clf, q_idx=qry_idx, **predict_config\n",
    "    )\n",
    "\n",
    "    # Get and save results\n",
    "    if exp_keyword is None:\n",
    "        exp_keyword = \"mercs-{}\".format(predict_config.get(\"prediction_algorithm\", \"UNKNOWN\"))\n",
    "\n",
    "    df = collect_results(\n",
    "        dataset,\n",
    "        q_codes_return,\n",
    "        results,\n",
    "        q_idx=q_idx_return,\n",
    "        identifier=exp_keyword,\n",
    "        exp_idx=exp_idx,\n",
    "    )\n",
    "\n",
    "    suffix = experiment_suffix(qry_idx)\n",
    "    fn_res = filename_results(exp_keyword, suffix=suffix, exp_idx=exp_idx)\n",
    "    \n",
    "    df.to_csv(fn_res)\n",
    "\n",
    "    return clf\n",
    "    "
   ]
  },
  {
   "cell_type": "raw",
   "metadata": {},
   "source": [
    "df = process_outcomes(dfs)\n",
    "save_outcome(df, filename=algo)"
   ]
  },
  {
   "cell_type": "code",
   "execution_count": null,
   "metadata": {},
   "outputs": [],
   "source": [
    "clf = flow_mercs_predict(\"voting\", exp_keyword=\"mercs-rw\", prediction_algorithm=\"rw\", max_steps=8, model_keyword=\"md4-base\")\n",
    "\n",
    "df.head()"
   ]
  },
  {
   "cell_type": "code",
   "execution_count": null,
   "metadata": {},
   "outputs": [],
   "source": [
    "clf.model_data['ind_time']"
   ]
  },
  {
   "cell_type": "code",
   "execution_count": null,
   "metadata": {},
   "outputs": [],
   "source": [
    "a = 5"
   ]
  },
  {
   "cell_type": "code",
   "execution_count": null,
   "metadata": {},
   "outputs": [],
   "source": [
    "a = 3 if a is None else a\n",
    "a"
   ]
  },
  {
   "cell_type": "code",
   "execution_count": null,
   "metadata": {},
   "outputs": [],
   "source": []
  }
 ],
 "metadata": {
  "kernelspec": {
   "display_name": "aaai20-jup",
   "language": "python",
   "name": "aaai20-jup"
  },
  "language_info": {
   "codemirror_mode": {
    "name": "ipython",
    "version": 3
   },
   "file_extension": ".py",
   "mimetype": "text/x-python",
   "name": "python",
   "nbconvert_exporter": "python",
   "pygments_lexer": "ipython3",
   "version": "3.7.4"
  }
 },
 "nbformat": 4,
 "nbformat_minor": 4
}
