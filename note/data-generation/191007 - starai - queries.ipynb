{
 "cells": [
  {
   "cell_type": "markdown",
   "metadata": {},
   "source": [
    "# Generate Queries\n",
    "\n",
    "More in general query generation. For the Bayesian Networks experiment, we are not going to generate custom datasets for each query."
   ]
  },
  {
   "cell_type": "markdown",
   "metadata": {},
   "source": [
    "# Preliminaries"
   ]
  },
  {
   "cell_type": "code",
   "execution_count": 1,
   "metadata": {},
   "outputs": [],
   "source": [
    "import numpy as np\n",
    "import pandas as pd\n",
    "import os\n",
    "from os.path import dirname\n"
   ]
  },
  {
   "cell_type": "code",
   "execution_count": 2,
   "metadata": {},
   "outputs": [],
   "source": [
    "from aaai20.io import filename_dataset, filename_query, original_filename\n",
    "from mercs.utils.encoding import query_to_code, code_to_query"
   ]
  },
  {
   "cell_type": "markdown",
   "metadata": {},
   "source": [
    "## Helpers"
   ]
  },
  {
   "cell_type": "code",
   "execution_count": 3,
   "metadata": {},
   "outputs": [],
   "source": [
    "def generate_query(nb_atts, targ_idx=-1, nb_qry=10, random_state=42):\n",
    "    # init ids\n",
    "    attr_ids = list(range(nb_atts))\n",
    "    targ_ids = [attr_ids[targ_idx]] # Last attribute by default\n",
    "    desc_ids = [e for e in attr_ids if e not in targ_ids]\n",
    "    miss_ids = []\n",
    "\n",
    "    q_targ = [targ_ids]\n",
    "    q_desc = [desc_ids]\n",
    "    q_miss = [miss_ids]\n",
    "\n",
    "    # Start query buiding\n",
    "    nb_of_attributes_to_make_missing = np.linspace(0, nb_atts-1, nb_qry, endpoint=False, dtype=int)\n",
    "    nb_items_to_transfer = np.ediff1d(nb_of_attributes_to_make_missing)\n",
    "\n",
    "    for qry_id, e in enumerate(nb_items_to_transfer):\n",
    "        desc_ids, miss_ids = transfer_contents(desc_ids, miss_ids, nb_items_to_transfer=e, random_state=random_state)\n",
    "\n",
    "        #print(desc_ids, miss_ids, targ_ids)\n",
    "        q_targ.append(targ_ids)\n",
    "        q_desc.append(desc_ids)\n",
    "        q_miss.append(miss_ids)\n",
    "    \n",
    "    return q_desc, q_targ, q_miss\n",
    "\n",
    "def transfer_contents(list_one, list_two, nb_items_to_transfer=1, random_state=42):\n",
    "    np.random.seed(random_state)\n",
    "    \n",
    "    list_one, list_two = list_one.copy(), list_two.copy() \n",
    "    \n",
    "    idx_to_transfer = np.random.choice(range(len(list_one)), nb_items_to_transfer, replace=False)\n",
    "    content_to_transfer = [e for idx, e in enumerate(list_one) if idx in idx_to_transfer]\n",
    "    \n",
    "    for e in content_to_transfer:\n",
    "        list_one.remove(e)\n",
    "        list_two.append(e)\n",
    "    \n",
    "    return list_one, list_two"
   ]
  },
  {
   "cell_type": "markdown",
   "metadata": {},
   "source": [
    "# Functions"
   ]
  },
  {
   "cell_type": "code",
   "execution_count": 4,
   "metadata": {},
   "outputs": [],
   "source": [
    "def query_batch(nb_attributes, nb_queries, target_idx=-1, random_state=42):\n",
    "    # Init\n",
    "    q_codes = []\n",
    "    \n",
    "    # Actions\n",
    "    q_desc, q_targ, q_miss = generate_query(\n",
    "        nb_attributes, targ_idx=target_idx, nb_qry=nb_queries, random_state=random_state\n",
    "    )\n",
    "\n",
    "    for q_idx in range(nb_queries):\n",
    "        q_codes.append(query_to_code(q_desc[q_idx], q_targ[q_idx], q_miss[q_idx]))\n",
    "\n",
    "    q_codes = np.vstack([q_codes])  # Convert to proper np.ndarray\n",
    "    return q_codes"
   ]
  },
  {
   "cell_type": "code",
   "execution_count": 5,
   "metadata": {},
   "outputs": [],
   "source": [
    "def generate_queries(dataset, max_nb_queries=10, nb_targets=10, random_state=42):\n",
    "    q_codes = []\n",
    "    \n",
    "    # Derive Parameters\n",
    "    fn_test = filename_dataset(dataset, step=2, suffix='test', extension=\"csv\")\n",
    "    df_test = pd.read_csv(fn_test, header=None)\n",
    "\n",
    "    nb_atts = len(df_test.columns)\n",
    "    nb_qry = min(nb_atts-1, max_nb_queries)\n",
    "    \n",
    "    np.random.seed(random_state)\n",
    "    target_indices = np.random.choice(np.arange(nb_atts), nb_targets ,replace=False)\n",
    "    \n",
    "    for target_idx in target_indices:\n",
    "        q_codes.append(query_batch(nb_atts, nb_qry, target_idx=target_idx, random_state=random_state))\n",
    "    \n",
    "    q_codes = np.vstack([q_codes])\n",
    "    q_codes = q_codes.reshape(-1, nb_atts)\n",
    "    \n",
    "    # Save\n",
    "    fn_qry = filename_query(dataset, suffix=\"default\")\n",
    "    np.save(fn_qry, q_codes)\n",
    "    \n",
    "    return"
   ]
  },
  {
   "cell_type": "markdown",
   "metadata": {},
   "source": [
    "# Sandbox"
   ]
  },
  {
   "cell_type": "code",
   "execution_count": 6,
   "metadata": {},
   "outputs": [
    {
     "name": "stdout",
     "output_type": "stream",
     "text": [
      "['cwebkb', 'book', 'bbc', 'kdd', 'ad', 'msnbc', 'tretail', 'msweb', 'jester', 'pumsb_star', 'baudio', 'nltcs', 'plants', 'dna', 'bnetflix', 'voting', 'cr52', 'c20ng', 'kosarek', 'accidents', 'tmovie']\n"
     ]
    }
   ],
   "source": [
    "from joblib import Parallel, delayed\n",
    "\n",
    "starai_datasets = os.listdir(dirname(dirname(original_filename('nltcs', category='starai'))))\n",
    "print(starai_datasets)"
   ]
  },
  {
   "cell_type": "code",
   "execution_count": 7,
   "metadata": {},
   "outputs": [
    {
     "data": {
      "text/plain": [
       "[None,\n",
       " None,\n",
       " None,\n",
       " None,\n",
       " None,\n",
       " None,\n",
       " None,\n",
       " None,\n",
       " None,\n",
       " None,\n",
       " None,\n",
       " None,\n",
       " None,\n",
       " None,\n",
       " None,\n",
       " None,\n",
       " None,\n",
       " None,\n",
       " None,\n",
       " None,\n",
       " None]"
      ]
     },
     "execution_count": 7,
     "metadata": {},
     "output_type": "execute_result"
    }
   ],
   "source": [
    "Parallel(n_jobs=7)(delayed(generate_queries)(ds, max_nb_queries=10, nb_targets=10, random_state=42) for ds in starai_datasets)"
   ]
  },
  {
   "cell_type": "code",
   "execution_count": null,
   "metadata": {},
   "outputs": [],
   "source": []
  }
 ],
 "metadata": {
  "kernelspec": {
   "display_name": "aaai20-frost",
   "language": "python",
   "name": "aaai20-frost"
  },
  "language_info": {
   "codemirror_mode": {
    "name": "ipython",
    "version": 3
   },
   "file_extension": ".py",
   "mimetype": "text/x-python",
   "name": "python",
   "nbconvert_exporter": "python",
   "pygments_lexer": "ipython3",
   "version": "3.6.9"
  }
 },
 "nbformat": 4,
 "nbformat_minor": 4
}
