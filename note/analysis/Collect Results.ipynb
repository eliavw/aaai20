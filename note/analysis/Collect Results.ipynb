{
 "cells": [
  {
   "cell_type": "markdown",
   "metadata": {},
   "source": [
    "# Analysis\n",
    "\n",
    "Collect results of a given experiment and summarize in standardized dataframe."
   ]
  },
  {
   "cell_type": "code",
   "execution_count": null,
   "metadata": {},
   "outputs": [],
   "source": [
    "import pandas as pd\n",
    "from aaai20.io import filename_results\n",
    "\n",
    "import matplotlib.style as style\n",
    "style.use('fivethirtyeight')\n",
    "import matplotlib.pyplot as plt\n",
    "\n",
    "from aaai20.io import (\n",
    "    build_filesystem,\n",
    "    default_prefix_exp_fn_suffix,\n",
    "    filename_config,\n",
    "    filename_cli_commands,\n",
    "    filename_script,\n",
    "    filename_logs,\n",
    "    exp_directory\n",
    ")\n",
    "\n",
    "from aaai20.cmd_gen import (\n",
    "    all_fnames_in_dir,\n",
    "    generate_config_and_log_fname,\n",
    "    generate_df_commands,\n",
    "    extract_idx_from_fnames,\n",
    "    default_start_idx,\n",
    "    prepare_fs,\n",
    ")\n",
    "\n",
    "import os"
   ]
  },
  {
   "cell_type": "code",
   "execution_count": null,
   "metadata": {},
   "outputs": [],
   "source": [
    "def convert_json_to_df(fn):\n",
    "    exp_idx = pd.read_json(fn, typ='series').exp_idx\n",
    "    predict_config = pd.read_json(fn, typ='series').predict_config\n",
    "\n",
    "    for k in predict_config:\n",
    "        predict_config[k] = [predict_config[k]]\n",
    "\n",
    "    df = pd.DataFrame()\n",
    "    df = df.from_dict(predict_config)\n",
    "    df['exp_idx'] = exp_idx\n",
    "    \n",
    "    return df\n",
    "    "
   ]
  },
  {
   "cell_type": "code",
   "execution_count": null,
   "metadata": {},
   "outputs": [],
   "source": [
    "def collect_results_in_directory(exp_keyword=None, script=None, add_config=True):\n",
    "    # Obtain correct exp directory\n",
    "    d = exp_directory(exp_dname=exp_keyword, script=script, fs=None)\n",
    "\n",
    "    dn_res = d.get(\"results\")\n",
    "    dn_tmg = d.get(\"timings\")\n",
    "    dn_cfg = d.get(\"config\")\n",
    "\n",
    "    # Collect results\n",
    "    fn_res = [os.path.relpath(os.path.join(dn_res, f)) for f in os.listdir(dn_res)]\n",
    "    fn_res.sort()\n",
    "\n",
    "    df_res = pd.concat([pd.read_csv(fn) for fn in fn_res])\n",
    "\n",
    "    # Collect timings\n",
    "    fn_tmg = [os.path.relpath(os.path.join(dn_tmg, f)) for f in os.listdir(dn_tmg)]\n",
    "    fn_tmg.sort()\n",
    "\n",
    "    df_tmg = pd.concat([pd.read_csv(fn) for fn in fn_tmg])\n",
    "    \n",
    "    # Collect configs\n",
    "    fn_cfg = [os.path.relpath(os.path.join(dn_cfg, f)) for f in os.listdir(dn_cfg)]\n",
    "    fn_cfg.sort()\n",
    "\n",
    "    df_cfg = pd.concat([convert_json_to_df(fn) for fn in fn_cfg])\n",
    "\n",
    "    # Join\n",
    "    df = df_res.copy()\n",
    "    df[df_tmg.columns] = df_tmg[df_tmg.columns]\n",
    "\n",
    "    if add_config:\n",
    "        df = pd.merge(left=df, right=df_cfg, left_on=\"exp_idx\", right_on=\"exp_idx\")\n",
    "\n",
    "    # Save in proper location\n",
    "    fn = os.path.join(d[\"current_exp\"], \"out.csv\")\n",
    "    df.to_csv(fn, index=False)\n",
    "\n",
    "    return df"
   ]
  },
  {
   "cell_type": "code",
   "execution_count": null,
   "metadata": {},
   "outputs": [],
   "source": [
    "def plot(df):\n",
    "    df_plot = df[['dataset', 'f1_macro', 'difficulty', 'identifier']].groupby(by=['identifier', 'difficulty']).mean()\n",
    "\n",
    "    # Visuals\n",
    "    identifiers = df_plot.index.levels[0].unique().values.tolist()\n",
    "\n",
    "    x = df_plot.index.levels[1].values.tolist()\n",
    "\n",
    "    y = dict()\n",
    "    labels = []\n",
    "\n",
    "    fig=plt.figure(figsize=(12, 8))\n",
    "    for trace in identifiers:\n",
    "        y[trace] = df_plot.loc[trace].values\n",
    "        plt.plot(x, y[trace])\n",
    "        labels.append(trace)\n",
    "\n",
    "\n",
    "    plt.legend(labels, loc='lower left')\n",
    "    plt.show()\n",
    "    return"
   ]
  },
  {
   "cell_type": "code",
   "execution_count": null,
   "metadata": {},
   "outputs": [],
   "source": [
    "script = 'run_pxs'\n",
    "exp_keyword = 'predict-pxs'"
   ]
  },
  {
   "cell_type": "code",
   "execution_count": null,
   "metadata": {},
   "outputs": [],
   "source": [
    "df_pxs = collect_results_in_directory(exp_keyword='predict-pxs', script='run_pxs')"
   ]
  },
  {
   "cell_type": "code",
   "execution_count": null,
   "metadata": {},
   "outputs": [],
   "source": [
    "df_mercs = collect_results_in_directory(exp_keyword='md12-random-final', script='run_mercs', add_config=True)"
   ]
  },
  {
   "cell_type": "code",
   "execution_count": null,
   "metadata": {},
   "outputs": [],
   "source": [
    "df_pxs['identifier'] = df_pxs['inference_algorithm']\n",
    "df_mercs['identifier'] += df_mercs['prediction_algorithm']"
   ]
  },
  {
   "cell_type": "code",
   "execution_count": null,
   "metadata": {},
   "outputs": [],
   "source": [
    "dfs = [df_pxs, df_mercs]\n",
    "df = pd.concat(dfs)"
   ]
  },
  {
   "cell_type": "code",
   "execution_count": null,
   "metadata": {},
   "outputs": [],
   "source": []
  },
  {
   "cell_type": "code",
   "execution_count": null,
   "metadata": {},
   "outputs": [],
   "source": [
    "plot(df)"
   ]
  },
  {
   "cell_type": "markdown",
   "metadata": {},
   "source": [
    "# Collect configs"
   ]
  },
  {
   "cell_type": "code",
   "execution_count": null,
   "metadata": {},
   "outputs": [],
   "source": [
    "exp_keyword='mercs-basic-SL'\n",
    "script='run_mercs'\n",
    "\n",
    "d = exp_directory(exp_dname=exp_keyword, script=script, fs=None)\n",
    "\n",
    "dn_res = d.get('results')\n",
    "dn_tmg = d.get('timings')\n",
    "dn_cfg = d.get('config')"
   ]
  },
  {
   "cell_type": "code",
   "execution_count": null,
   "metadata": {},
   "outputs": [],
   "source": [
    "dn_cfg"
   ]
  },
  {
   "cell_type": "code",
   "execution_count": null,
   "metadata": {},
   "outputs": [],
   "source": [
    "# Collect configs\n",
    "fn_cfg = [os.path.relpath(os.path.join(dn_cfg, f)) for f in os.listdir(dn_cfg)]\n",
    "fn_cfg.sort()\n",
    "\n",
    "df_cfg = pd.concat([convert_json_to_df(fn) for fn in fn_cfg])"
   ]
  },
  {
   "cell_type": "code",
   "execution_count": null,
   "metadata": {},
   "outputs": [],
   "source": [
    "df_cfg.head()"
   ]
  },
  {
   "cell_type": "code",
   "execution_count": null,
   "metadata": {},
   "outputs": [],
   "source": [
    "tuple([1,2,3])"
   ]
  },
  {
   "cell_type": "code",
   "execution_count": null,
   "metadata": {},
   "outputs": [],
   "source": []
  },
  {
   "cell_type": "code",
   "execution_count": null,
   "metadata": {},
   "outputs": [],
   "source": [
    "df_merge"
   ]
  }
 ],
 "metadata": {
  "kernelspec": {
   "display_name": "aaai20-jup",
   "language": "python",
   "name": "aaai20-jup"
  },
  "language_info": {
   "codemirror_mode": {
    "name": "ipython",
    "version": 3
   },
   "file_extension": ".py",
   "mimetype": "text/x-python",
   "name": "python",
   "nbconvert_exporter": "python",
   "pygments_lexer": "ipython3",
   "version": "3.7.4"
  }
 },
 "nbformat": 4,
 "nbformat_minor": 4
}
