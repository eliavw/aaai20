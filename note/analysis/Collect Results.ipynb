{
 "cells": [
  {
   "cell_type": "markdown",
   "metadata": {},
   "source": [
    "# Analysis\n",
    "\n",
    "Collect results of a given experiment and summarize in standardized dataframe."
   ]
  },
  {
   "cell_type": "code",
   "execution_count": 1,
   "metadata": {},
   "outputs": [],
   "source": [
    "import pandas as pd\n",
    "from aaai20.io import filename_results\n",
    "\n",
    "import matplotlib.style as style\n",
    "style.use('fivethirtyeight')\n",
    "import matplotlib.pyplot as plt\n",
    "\n",
    "from aaai20.io import (\n",
    "    build_filesystem,\n",
    "    default_prefix_exp_fn_suffix,\n",
    "    filename_config,\n",
    "    filename_cli_commands,\n",
    "    filename_script,\n",
    "    filename_logs,\n",
    "    exp_directory\n",
    ")\n",
    "\n",
    "from aaai20.cmd_gen import (\n",
    "    all_fnames_in_dir,\n",
    "    generate_config_and_log_fname,\n",
    "    generate_df_commands,\n",
    "    extract_idx_from_fnames,\n",
    "    default_start_idx,\n",
    "    prepare_fs,\n",
    ")\n",
    "\n",
    "import os"
   ]
  },
  {
   "cell_type": "code",
   "execution_count": 2,
   "metadata": {},
   "outputs": [],
   "source": [
    "def convert_json_to_df(fn):\n",
    "    exp_idx = pd.read_json(fn, typ='series').exp_idx\n",
    "    predict_config = pd.read_json(fn, typ='series').predict_config\n",
    "\n",
    "    for k in predict_config:\n",
    "        predict_config[k] = [predict_config[k]]\n",
    "\n",
    "    df = pd.DataFrame()\n",
    "    df = df.from_dict(predict_config)\n",
    "    df['exp_idx'] = exp_idx\n",
    "    \n",
    "    return df\n",
    "    "
   ]
  },
  {
   "cell_type": "code",
   "execution_count": 3,
   "metadata": {},
   "outputs": [],
   "source": [
    "def collect_results_in_directory(exp_keyword=None, script=None, add_config=True):\n",
    "    # Obtain correct exp directory\n",
    "    d = exp_directory(exp_dname=exp_keyword, script=script, fs=None)\n",
    "\n",
    "    dn_res = d.get(\"results\")\n",
    "    dn_tmg = d.get(\"timings\")\n",
    "    dn_cfg = d.get(\"config\")\n",
    "\n",
    "    # Collect results\n",
    "    fn_res = [os.path.relpath(os.path.join(dn_res, f)) for f in os.listdir(dn_res)]\n",
    "    fn_res.sort()\n",
    "\n",
    "    df_res = pd.concat([pd.read_csv(fn) for fn in fn_res])\n",
    "\n",
    "    # Collect timings\n",
    "    fn_tmg = [os.path.relpath(os.path.join(dn_tmg, f)) for f in os.listdir(dn_tmg)]\n",
    "    fn_tmg.sort()\n",
    "\n",
    "    df_tmg = pd.concat([pd.read_csv(fn) for fn in fn_tmg])\n",
    "    \n",
    "    # Collect configs\n",
    "    fn_cfg = [os.path.relpath(os.path.join(dn_cfg, f)) for f in os.listdir(dn_cfg)]\n",
    "    fn_cfg.sort()\n",
    "\n",
    "    df_cfg = pd.concat([convert_json_to_df(fn) for fn in fn_cfg])\n",
    "\n",
    "    # Join\n",
    "    df = df_res.copy()\n",
    "    df[df_tmg.columns] = df_tmg[df_tmg.columns]\n",
    "\n",
    "    if add_config:\n",
    "        df = pd.merge(left=df, right=df_cfg, left_on=\"exp_idx\", right_on=\"exp_idx\")\n",
    "\n",
    "    # Save in proper location\n",
    "    fn = os.path.join(d[\"current_exp\"], \"out.csv\")\n",
    "    df.to_csv(fn, index=False)\n",
    "\n",
    "    return df"
   ]
  },
  {
   "cell_type": "code",
   "execution_count": 4,
   "metadata": {},
   "outputs": [],
   "source": [
    "def plot(dfs):\n",
    "\n",
    "    dfs = [df_pxs, df_mercs]\n",
    "    df = pd.concat(dfs)\n",
    "    df_plot = df[['dataset', 'f1_macro', 'difficulty', 'identifier']].groupby(by=['identifier', 'difficulty']).mean()\n",
    "\n",
    "    # Visuals\n",
    "    identifiers = df_plot.index.levels[0].unique().values.tolist()\n",
    "\n",
    "    x = df_plot.index.levels[1].values.tolist()\n",
    "\n",
    "    y = dict()\n",
    "    labels = []\n",
    "\n",
    "    fig=plt.figure(figsize=(12, 8))\n",
    "    for trace in identifiers:\n",
    "        y[trace] = df_plot.loc[trace].values\n",
    "        plt.plot(x, y[trace])\n",
    "        labels.append(trace)\n",
    "\n",
    "\n",
    "    plt.legend(labels, loc='lower left')\n",
    "    plt.show()\n",
    "    return"
   ]
  },
  {
   "cell_type": "code",
   "execution_count": 5,
   "metadata": {},
   "outputs": [],
   "source": [
    "script = 'run_pxs'\n",
    "exp_keyword = 'predict-pxs'"
   ]
  },
  {
   "cell_type": "code",
   "execution_count": 6,
   "metadata": {},
   "outputs": [],
   "source": [
    "df_pxs = collect_results_in_directory(exp_keyword='predict-pxs', script='run_pxs')"
   ]
  },
  {
   "cell_type": "code",
   "execution_count": 14,
   "metadata": {},
   "outputs": [
    {
     "data": {
      "text/html": [
       "<div>\n",
       "<style scoped>\n",
       "    .dataframe tbody tr th:only-of-type {\n",
       "        vertical-align: middle;\n",
       "    }\n",
       "\n",
       "    .dataframe tbody tr th {\n",
       "        vertical-align: top;\n",
       "    }\n",
       "\n",
       "    .dataframe thead th {\n",
       "        text-align: right;\n",
       "    }\n",
       "</style>\n",
       "<table border=\"1\" class=\"dataframe\">\n",
       "  <thead>\n",
       "    <tr style=\"text-align: right;\">\n",
       "      <th></th>\n",
       "      <th>missing_percentage</th>\n",
       "      <th>difficulty</th>\n",
       "      <th>q_idx</th>\n",
       "      <th>f1_micro</th>\n",
       "      <th>f1_macro</th>\n",
       "      <th>identifier</th>\n",
       "      <th>dataset</th>\n",
       "      <th>exp_idx</th>\n",
       "      <th>ind_time</th>\n",
       "      <th>inf_time</th>\n",
       "      <th>inferce_algorithm</th>\n",
       "      <th>inference_algorithm</th>\n",
       "    </tr>\n",
       "  </thead>\n",
       "  <tbody>\n",
       "    <tr>\n",
       "      <td>0</td>\n",
       "      <td>0.000000</td>\n",
       "      <td>0</td>\n",
       "      <td>0</td>\n",
       "      <td>0.995805</td>\n",
       "      <td>0.498949</td>\n",
       "      <td>predict-pxs</td>\n",
       "      <td>kosarek</td>\n",
       "      <td>0</td>\n",
       "      <td>235.726913</td>\n",
       "      <td>235.726913</td>\n",
       "      <td>EPIS_sampling</td>\n",
       "      <td>EPIS_sampling</td>\n",
       "    </tr>\n",
       "    <tr>\n",
       "      <td>1</td>\n",
       "      <td>0.094737</td>\n",
       "      <td>1</td>\n",
       "      <td>1</td>\n",
       "      <td>0.995805</td>\n",
       "      <td>0.498949</td>\n",
       "      <td>predict-pxs</td>\n",
       "      <td>kosarek</td>\n",
       "      <td>0</td>\n",
       "      <td>235.726913</td>\n",
       "      <td>235.726913</td>\n",
       "      <td>EPIS_sampling</td>\n",
       "      <td>EPIS_sampling</td>\n",
       "    </tr>\n",
       "    <tr>\n",
       "      <td>2</td>\n",
       "      <td>0.194737</td>\n",
       "      <td>2</td>\n",
       "      <td>2</td>\n",
       "      <td>0.995805</td>\n",
       "      <td>0.498949</td>\n",
       "      <td>predict-pxs</td>\n",
       "      <td>kosarek</td>\n",
       "      <td>0</td>\n",
       "      <td>235.726913</td>\n",
       "      <td>235.726913</td>\n",
       "      <td>EPIS_sampling</td>\n",
       "      <td>EPIS_sampling</td>\n",
       "    </tr>\n",
       "    <tr>\n",
       "      <td>3</td>\n",
       "      <td>0.294737</td>\n",
       "      <td>3</td>\n",
       "      <td>3</td>\n",
       "      <td>0.995805</td>\n",
       "      <td>0.498949</td>\n",
       "      <td>predict-pxs</td>\n",
       "      <td>kosarek</td>\n",
       "      <td>0</td>\n",
       "      <td>235.726913</td>\n",
       "      <td>235.726913</td>\n",
       "      <td>EPIS_sampling</td>\n",
       "      <td>EPIS_sampling</td>\n",
       "    </tr>\n",
       "    <tr>\n",
       "      <td>4</td>\n",
       "      <td>0.394737</td>\n",
       "      <td>4</td>\n",
       "      <td>4</td>\n",
       "      <td>0.995805</td>\n",
       "      <td>0.498949</td>\n",
       "      <td>predict-pxs</td>\n",
       "      <td>kosarek</td>\n",
       "      <td>0</td>\n",
       "      <td>235.726913</td>\n",
       "      <td>235.726913</td>\n",
       "      <td>EPIS_sampling</td>\n",
       "      <td>EPIS_sampling</td>\n",
       "    </tr>\n",
       "    <tr>\n",
       "      <td>5</td>\n",
       "      <td>0.494737</td>\n",
       "      <td>5</td>\n",
       "      <td>5</td>\n",
       "      <td>0.995805</td>\n",
       "      <td>0.498949</td>\n",
       "      <td>predict-pxs</td>\n",
       "      <td>kosarek</td>\n",
       "      <td>0</td>\n",
       "      <td>235.726913</td>\n",
       "      <td>235.726913</td>\n",
       "      <td>EPIS_sampling</td>\n",
       "      <td>EPIS_sampling</td>\n",
       "    </tr>\n",
       "    <tr>\n",
       "      <td>6</td>\n",
       "      <td>0.594737</td>\n",
       "      <td>6</td>\n",
       "      <td>6</td>\n",
       "      <td>0.995805</td>\n",
       "      <td>0.498949</td>\n",
       "      <td>predict-pxs</td>\n",
       "      <td>kosarek</td>\n",
       "      <td>0</td>\n",
       "      <td>235.726913</td>\n",
       "      <td>235.726913</td>\n",
       "      <td>EPIS_sampling</td>\n",
       "      <td>EPIS_sampling</td>\n",
       "    </tr>\n",
       "    <tr>\n",
       "      <td>7</td>\n",
       "      <td>0.694737</td>\n",
       "      <td>7</td>\n",
       "      <td>7</td>\n",
       "      <td>0.995805</td>\n",
       "      <td>0.498949</td>\n",
       "      <td>predict-pxs</td>\n",
       "      <td>kosarek</td>\n",
       "      <td>0</td>\n",
       "      <td>235.726913</td>\n",
       "      <td>235.726913</td>\n",
       "      <td>EPIS_sampling</td>\n",
       "      <td>EPIS_sampling</td>\n",
       "    </tr>\n",
       "    <tr>\n",
       "      <td>8</td>\n",
       "      <td>0.794737</td>\n",
       "      <td>8</td>\n",
       "      <td>8</td>\n",
       "      <td>0.995805</td>\n",
       "      <td>0.498949</td>\n",
       "      <td>predict-pxs</td>\n",
       "      <td>kosarek</td>\n",
       "      <td>0</td>\n",
       "      <td>235.726913</td>\n",
       "      <td>235.726913</td>\n",
       "      <td>EPIS_sampling</td>\n",
       "      <td>EPIS_sampling</td>\n",
       "    </tr>\n",
       "    <tr>\n",
       "      <td>9</td>\n",
       "      <td>0.894737</td>\n",
       "      <td>9</td>\n",
       "      <td>9</td>\n",
       "      <td>0.995805</td>\n",
       "      <td>0.498949</td>\n",
       "      <td>predict-pxs</td>\n",
       "      <td>kosarek</td>\n",
       "      <td>0</td>\n",
       "      <td>235.726913</td>\n",
       "      <td>235.726913</td>\n",
       "      <td>EPIS_sampling</td>\n",
       "      <td>EPIS_sampling</td>\n",
       "    </tr>\n",
       "  </tbody>\n",
       "</table>\n",
       "</div>"
      ],
      "text/plain": [
       "   missing_percentage  difficulty  q_idx  f1_micro  f1_macro   identifier  \\\n",
       "0            0.000000           0      0  0.995805  0.498949  predict-pxs   \n",
       "1            0.094737           1      1  0.995805  0.498949  predict-pxs   \n",
       "2            0.194737           2      2  0.995805  0.498949  predict-pxs   \n",
       "3            0.294737           3      3  0.995805  0.498949  predict-pxs   \n",
       "4            0.394737           4      4  0.995805  0.498949  predict-pxs   \n",
       "5            0.494737           5      5  0.995805  0.498949  predict-pxs   \n",
       "6            0.594737           6      6  0.995805  0.498949  predict-pxs   \n",
       "7            0.694737           7      7  0.995805  0.498949  predict-pxs   \n",
       "8            0.794737           8      8  0.995805  0.498949  predict-pxs   \n",
       "9            0.894737           9      9  0.995805  0.498949  predict-pxs   \n",
       "\n",
       "   dataset  exp_idx    ind_time    inf_time inferce_algorithm  \\\n",
       "0  kosarek        0  235.726913  235.726913     EPIS_sampling   \n",
       "1  kosarek        0  235.726913  235.726913     EPIS_sampling   \n",
       "2  kosarek        0  235.726913  235.726913     EPIS_sampling   \n",
       "3  kosarek        0  235.726913  235.726913     EPIS_sampling   \n",
       "4  kosarek        0  235.726913  235.726913     EPIS_sampling   \n",
       "5  kosarek        0  235.726913  235.726913     EPIS_sampling   \n",
       "6  kosarek        0  235.726913  235.726913     EPIS_sampling   \n",
       "7  kosarek        0  235.726913  235.726913     EPIS_sampling   \n",
       "8  kosarek        0  235.726913  235.726913     EPIS_sampling   \n",
       "9  kosarek        0  235.726913  235.726913     EPIS_sampling   \n",
       "\n",
       "  inference_algorithm  \n",
       "0       EPIS_sampling  \n",
       "1       EPIS_sampling  \n",
       "2       EPIS_sampling  \n",
       "3       EPIS_sampling  \n",
       "4       EPIS_sampling  \n",
       "5       EPIS_sampling  \n",
       "6       EPIS_sampling  \n",
       "7       EPIS_sampling  \n",
       "8       EPIS_sampling  \n",
       "9       EPIS_sampling  "
      ]
     },
     "execution_count": 14,
     "metadata": {},
     "output_type": "execute_result"
    }
   ],
   "source": [
    "df_pxs.head(10)"
   ]
  },
  {
   "cell_type": "code",
   "execution_count": 8,
   "metadata": {},
   "outputs": [
    {
     "name": "stderr",
     "output_type": "stream",
     "text": [
      "/cw/dtaijupiter/NoCsBack/dtai/elia/00_Software/anaconda/envs/aaai20/lib/python3.7/site-packages/ipykernel_launcher.py:25: FutureWarning: Sorting because non-concatenation axis is not aligned. A future version\n",
      "of pandas will change to not sort by default.\n",
      "\n",
      "To accept the future behavior, pass 'sort=False'.\n",
      "\n",
      "To retain the current behavior and silence the warning, pass 'sort=True'.\n",
      "\n"
     ]
    }
   ],
   "source": [
    "df_mercs = collect_results_in_directory(exp_keyword='md4-base-final', script='run_mercs', add_config=True)"
   ]
  },
  {
   "cell_type": "code",
   "execution_count": 18,
   "metadata": {},
   "outputs": [],
   "source": [
    "df_pxs['identifier'] = df_pxs['inference_algorithm']\n",
    "df_mercs['identifier'] = df_mercs['prediction_algorithm']"
   ]
  },
  {
   "cell_type": "code",
   "execution_count": 20,
   "metadata": {},
   "outputs": [],
   "source": [
    "df_pxs = df_pxs[df_pxs['dataset']!='ad']\n",
    "df_mercs = df_mercs[df_mercs['dataset']!='ad']\n",
    "\n",
    "df_pxs = df_pxs[df_pxs['dataset']!='voting']\n",
    "df_mercs = df_mercs[df_mercs['dataset']!='voting']"
   ]
  },
  {
   "cell_type": "code",
   "execution_count": 21,
   "metadata": {},
   "outputs": [
    {
     "name": "stderr",
     "output_type": "stream",
     "text": [
      "/cw/dtaijupiter/NoCsBack/dtai/elia/00_Software/anaconda/envs/aaai20/lib/python3.7/site-packages/ipykernel_launcher.py:4: FutureWarning: Sorting because non-concatenation axis is not aligned. A future version\n",
      "of pandas will change to not sort by default.\n",
      "\n",
      "To accept the future behavior, pass 'sort=False'.\n",
      "\n",
      "To retain the current behavior and silence the warning, pass 'sort=True'.\n",
      "\n",
      "  after removing the cwd from sys.path.\n"
     ]
    },
    {
     "data": {
      "image/png": "[encoded data removed]",
      "text/plain": [
       "<Figure size 864x576 with 1 Axes>"
      ]
     },
     "metadata": {
      "needs_background": "light"
     },
     "output_type": "display_data"
    }
   ],
   "source": [
    "dfs = [df_pxs, df_mercs]\n",
    "plot(dfs)"
   ]
  },
  {
   "cell_type": "markdown",
   "metadata": {},
   "source": [
    "# Collect configs"
   ]
  },
  {
   "cell_type": "code",
   "execution_count": 11,
   "metadata": {},
   "outputs": [],
   "source": [
    "exp_keyword='mercs-basic-SL'\n",
    "script='run_mercs'\n",
    "\n",
    "d = exp_directory(exp_dname=exp_keyword, script=script, fs=None)\n",
    "\n",
    "dn_res = d.get('results')\n",
    "dn_tmg = d.get('timings')\n",
    "dn_cfg = d.get('config')"
   ]
  },
  {
   "cell_type": "code",
   "execution_count": 12,
   "metadata": {},
   "outputs": [
    {
     "data": {
      "text/plain": [
       "'/cw/dtaijupiter/NoCsBack/dtai/elia/aaai20/out/run_mercs/mercs-basic-SL/config'"
      ]
     },
     "execution_count": 12,
     "metadata": {},
     "output_type": "execute_result"
    }
   ],
   "source": [
    "dn_cfg"
   ]
  },
  {
   "cell_type": "code",
   "execution_count": 13,
   "metadata": {},
   "outputs": [
    {
     "ename": "FileNotFoundError",
     "evalue": "[Errno 2] No such file or directory: '/cw/dtaijupiter/NoCsBack/dtai/elia/aaai20/out/run_mercs/mercs-basic-SL/config'",
     "output_type": "error",
     "traceback": [
      "\u001b[0;31m---------------------------------------------------------------------------\u001b[0m",
      "\u001b[0;31mFileNotFoundError\u001b[0m                         Traceback (most recent call last)",
      "\u001b[0;32m<ipython-input-13-68298afc5103>\u001b[0m in \u001b[0;36m<module>\u001b[0;34m\u001b[0m\n\u001b[1;32m      1\u001b[0m \u001b[0;31m# Collect configs\u001b[0m\u001b[0;34m\u001b[0m\u001b[0;34m\u001b[0m\u001b[0;34m\u001b[0m\u001b[0m\n\u001b[0;32m----> 2\u001b[0;31m \u001b[0mfn_cfg\u001b[0m \u001b[0;34m=\u001b[0m \u001b[0;34m[\u001b[0m\u001b[0mos\u001b[0m\u001b[0;34m.\u001b[0m\u001b[0mpath\u001b[0m\u001b[0;34m.\u001b[0m\u001b[0mrelpath\u001b[0m\u001b[0;34m(\u001b[0m\u001b[0mos\u001b[0m\u001b[0;34m.\u001b[0m\u001b[0mpath\u001b[0m\u001b[0;34m.\u001b[0m\u001b[0mjoin\u001b[0m\u001b[0;34m(\u001b[0m\u001b[0mdn_cfg\u001b[0m\u001b[0;34m,\u001b[0m \u001b[0mf\u001b[0m\u001b[0;34m)\u001b[0m\u001b[0;34m)\u001b[0m \u001b[0;32mfor\u001b[0m \u001b[0mf\u001b[0m \u001b[0;32min\u001b[0m \u001b[0mos\u001b[0m\u001b[0;34m.\u001b[0m\u001b[0mlistdir\u001b[0m\u001b[0;34m(\u001b[0m\u001b[0mdn_cfg\u001b[0m\u001b[0;34m)\u001b[0m\u001b[0;34m]\u001b[0m\u001b[0;34m\u001b[0m\u001b[0;34m\u001b[0m\u001b[0m\n\u001b[0m\u001b[1;32m      3\u001b[0m \u001b[0mfn_cfg\u001b[0m\u001b[0;34m.\u001b[0m\u001b[0msort\u001b[0m\u001b[0;34m(\u001b[0m\u001b[0;34m)\u001b[0m\u001b[0;34m\u001b[0m\u001b[0;34m\u001b[0m\u001b[0m\n\u001b[1;32m      4\u001b[0m \u001b[0;34m\u001b[0m\u001b[0m\n\u001b[1;32m      5\u001b[0m \u001b[0mdf_cfg\u001b[0m \u001b[0;34m=\u001b[0m \u001b[0mpd\u001b[0m\u001b[0;34m.\u001b[0m\u001b[0mconcat\u001b[0m\u001b[0;34m(\u001b[0m\u001b[0;34m[\u001b[0m\u001b[0mconvert_json_to_df\u001b[0m\u001b[0;34m(\u001b[0m\u001b[0mfn\u001b[0m\u001b[0;34m)\u001b[0m \u001b[0;32mfor\u001b[0m \u001b[0mfn\u001b[0m \u001b[0;32min\u001b[0m \u001b[0mfn_cfg\u001b[0m\u001b[0;34m]\u001b[0m\u001b[0;34m)\u001b[0m\u001b[0;34m\u001b[0m\u001b[0;34m\u001b[0m\u001b[0m\n",
      "\u001b[0;31mFileNotFoundError\u001b[0m: [Errno 2] No such file or directory: '/cw/dtaijupiter/NoCsBack/dtai/elia/aaai20/out/run_mercs/mercs-basic-SL/config'"
     ]
    }
   ],
   "source": [
    "# Collect configs\n",
    "fn_cfg = [os.path.relpath(os.path.join(dn_cfg, f)) for f in os.listdir(dn_cfg)]\n",
    "fn_cfg.sort()\n",
    "\n",
    "df_cfg = pd.concat([convert_json_to_df(fn) for fn in fn_cfg])"
   ]
  },
  {
   "cell_type": "code",
   "execution_count": null,
   "metadata": {},
   "outputs": [],
   "source": [
    "df_cfg.head()"
   ]
  },
  {
   "cell_type": "code",
   "execution_count": null,
   "metadata": {},
   "outputs": [],
   "source": []
  },
  {
   "cell_type": "code",
   "execution_count": null,
   "metadata": {},
   "outputs": [],
   "source": [
    "df_merge"
   ]
  }
 ],
 "metadata": {
  "kernelspec": {
   "display_name": "aaai20-jup",
   "language": "python",
   "name": "aaai20-jup"
  },
  "language_info": {
   "codemirror_mode": {
    "name": "ipython",
    "version": 3
   },
   "file_extension": ".py",
   "mimetype": "text/x-python",
   "name": "python",
   "nbconvert_exporter": "python",
   "pygments_lexer": "ipython3",
   "version": "3.7.4"
  }
 },
 "nbformat": 4,
 "nbformat_minor": 4
}
