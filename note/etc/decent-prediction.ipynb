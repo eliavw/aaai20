{
 "cells": [
  {
   "cell_type": "markdown",
   "metadata": {},
   "source": [
    "# Decent Vectorized Prediction Algo \n",
    "\n",
    "No more white milk."
   ]
  },
  {
   "cell_type": "code",
   "execution_count": 3,
   "metadata": {},
   "outputs": [],
   "source": [
    "from functools import partial\n",
    "import numpy as np\n"
   ]
  },
  {
   "cell_type": "code",
   "execution_count": null,
   "metadata": {},
   "outputs": [],
   "source": []
  },
  {
   "cell_type": "code",
   "execution_count": 72,
   "metadata": {},
   "outputs": [],
   "source": [
    "def criterion(m_matrix, m_filter=slice(None,None), a_filter=slice(None,None), aggregation=partial(np.sum, axis=1)):\n",
    "    \"\"\"\n",
    "    Typical usecase \n",
    "    \n",
    "    m_matrix = m_fimps\n",
    "    \n",
    "    m_filter = available models\n",
    "    a_filter = available attributes.\n",
    "    \n",
    "    \"\"\"\n",
    "    \n",
    "    \n",
    "    c_matrix = np.ones(m_matrix.shape[0])*-1\n",
    "    c_matrix[m_filter] = aggregation(m_matrix[m_filter,a_filter])\n",
    "    return c_matrix"
   ]
  },
  {
   "cell_type": "code",
   "execution_count": 56,
   "metadata": {},
   "outputs": [
    {
     "data": {
      "text/plain": [
       "slice(1, -1, None)"
      ]
     },
     "execution_count": 56,
     "metadata": {},
     "output_type": "execute_result"
    }
   ],
   "source": [
    "slice(1,-1)"
   ]
  },
  {
   "cell_type": "code",
   "execution_count": 70,
   "metadata": {},
   "outputs": [],
   "source": [
    "a = np.array([1,2,3,4,5,6,7,8,9])"
   ]
  },
  {
   "cell_type": "code",
   "execution_count": 65,
   "metadata": {},
   "outputs": [
    {
     "data": {
      "text/plain": [
       "(10,)"
      ]
     },
     "execution_count": 65,
     "metadata": {},
     "output_type": "execute_result"
    }
   ],
   "source": [
    "a.shape"
   ]
  },
  {
   "cell_type": "code",
   "execution_count": 71,
   "metadata": {},
   "outputs": [
    {
     "data": {
      "text/plain": [
       "array([1, 2, 3, 4, 5, 6, 7, 8, 9])"
      ]
     },
     "execution_count": 71,
     "metadata": {},
     "output_type": "execute_result"
    }
   ],
   "source": [
    "a[slice(None,None)]"
   ]
  },
  {
   "cell_type": "code",
   "execution_count": 88,
   "metadata": {},
   "outputs": [],
   "source": [
    "def mrai(m_fimps):\n",
    "    return m_sel"
   ]
  },
  {
   "cell_type": "code",
   "execution_count": 89,
   "metadata": {},
   "outputs": [],
   "source": [
    "m_codes = np.array(\n",
    "[\n",
    "    [0,0,0,1],\n",
    "    [0,0,1,-1],\n",
    "    [-1,0,0,1]\n",
    "]\n",
    ")"
   ]
  },
  {
   "cell_type": "code",
   "execution_count": 111,
   "metadata": {},
   "outputs": [
    {
     "data": {
      "text/plain": [
       "array([[ 0,  0, -1, ...,  1, -1, -1],\n",
       "       [-1,  1, -1, ..., -1, -1, -1],\n",
       "       [-1,  0,  0, ...,  1,  0,  1],\n",
       "       ...,\n",
       "       [-1, -1,  0, ...,  1, -1, -1],\n",
       "       [ 1, -1,  0, ...,  0,  0,  1],\n",
       "       [ 0, -1, -1, ...,  0, -1,  1]])"
      ]
     },
     "execution_count": 111,
     "metadata": {},
     "output_type": "execute_result"
    }
   ],
   "source": [
    "m_codes = np.random.randint(-1,2, size=(100,100))"
   ]
  },
  {
   "cell_type": "code",
   "execution_count": 119,
   "metadata": {},
   "outputs": [],
   "source": [
    "size = 10**4\n",
    "m_codes = np.random.randint(-1,2, size=(10*size,size))\n",
    "\n",
    "m_fimps = np.zeros(m_codes.shape)\n",
    "m_fimps[np.where(m_codes == 0)] = np.random.rand(len(m_fimps[np.where(m_codes == 0)]))\n",
    "\n",
    "m_score = np.zeros(m_codes.shape)\n",
    "#m_score[np.where(m_codes == 1)] = np.random.rand(len(m_score[np.where(m_codes == 1)]))\n",
    "m_score[np.where(m_codes == 1)] = 1\n",
    "\n",
    "#m_fimps, m_score\n",
    "\n"
   ]
  },
  {
   "cell_type": "code",
   "execution_count": 120,
   "metadata": {},
   "outputs": [
    {
     "name": "stdout",
     "output_type": "stream",
     "text": [
      "8.5 ms ± 667 µs per loop (mean ± std. dev. of 7 runs, 1 loop each)\n"
     ]
    }
   ],
   "source": [
    "%%timeit\n",
    "src_crit = criterion(m_fimps, a_filter=[0,1])\n",
    "tgt_crit = criterion(m_score, a_filter=[3])\n",
    "src_crit * tgt_crit"
   ]
  },
  {
   "cell_type": "code",
   "execution_count": 87,
   "metadata": {},
   "outputs": [
    {
     "data": {
      "text/plain": [
       "array([1.31102792, 0.        , 0.00394713])"
      ]
     },
     "execution_count": 87,
     "metadata": {},
     "output_type": "execute_result"
    }
   ],
   "source": [
    "src_crit * tgt_crit"
   ]
  },
  {
   "cell_type": "code",
   "execution_count": null,
   "metadata": {},
   "outputs": [],
   "source": []
  },
  {
   "cell_type": "code",
   "execution_count": null,
   "metadata": {},
   "outputs": [],
   "source": [
    "m_fimps = "
   ]
  },
  {
   "cell_type": "code",
   "execution_count": null,
   "metadata": {},
   "outputs": [],
   "source": [
    "c_matrix"
   ]
  },
  {
   "cell_type": "code",
   "execution_count": 37,
   "metadata": {},
   "outputs": [
    {
     "data": {
      "text/plain": [
       "1"
      ]
     },
     "execution_count": 37,
     "metadata": {},
     "output_type": "execute_result"
    }
   ],
   "source": [
    "np.random.randint(3)"
   ]
  },
  {
   "cell_type": "code",
   "execution_count": null,
   "metadata": {},
   "outputs": [],
   "source": []
  }
 ],
 "metadata": {
  "kernelspec": {
   "display_name": "aaai20-jup",
   "language": "python",
   "name": "aaai20-jup"
  },
  "language_info": {
   "codemirror_mode": {
    "name": "ipython",
    "version": 3
   },
   "file_extension": ".py",
   "mimetype": "text/x-python",
   "name": "python",
   "nbconvert_exporter": "python",
   "pygments_lexer": "ipython3",
   "version": "3.7.4"
  }
 },
 "nbformat": 4,
 "nbformat_minor": 4
}
