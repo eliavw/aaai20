{
 "cells": [
  {
   "cell_type": "markdown",
   "metadata": {},
   "source": [
    "# Decent Vectorized Prediction Algo \n",
    "\n",
    "No more white milk."
   ]
  },
  {
   "cell_type": "code",
   "execution_count": 2,
   "metadata": {},
   "outputs": [],
   "source": [
    "from functools import partial\n",
    "import numpy as np\n"
   ]
  },
  {
   "cell_type": "code",
   "execution_count": 4,
   "metadata": {},
   "outputs": [],
   "source": [
    "def criterion(m_matrix, m_filter=None, a_filter=None, aggregation=partial(np.sum, axis=1)):\n",
    "    \"\"\"\n",
    "    Typical usecase \n",
    "    \n",
    "    m_matrix = m_fimps\n",
    "    \n",
    "    m_filter = available models\n",
    "    a_filter = available attributes.\n",
    "    \n",
    "    \"\"\"\n",
    "    if m_filter is None:\n",
    "        slice(None,None)\n",
    "    if a_filter is None:\n",
    "        slice(None,None)\n",
    "    \n",
    "    c_matrix = np.ones(m_matrix.shape[0])*-1\n",
    "    c_matrix[m_filter] = aggregation(m_matrix[m_filter,a_filter])\n",
    "    return c_matrix\n",
    "\n",
    "def _atts(m_codes, m_filter, value=0):\n",
    "    return np.unique(np.where(m_codes[m_filter, :]==value)[1])\n",
    "\n",
    "\n",
    "def mrai(m_codes, m_fimps, m_score, q_code, m_avl=None, **kwargs):\n",
    "    # Init\n",
    "    a_src = q_desc\n",
    "    a_tgt = q_tgt\n",
    "    \n",
    "    # Criterion\n",
    "    c_src = criterion(m_fimps, a_filter=a_src, m_filter=m_avl)\n",
    "    c_tgt = criterion(m_score, a_filter=a_tgt, m_filter=m_avl)\n",
    "    c_all = (c_src * c_tgt) + c_tgt\n",
    "    \n",
    "    # Pick\n",
    "    m_sel = pick(c_all, m_avl, thresholds)\n",
    "    \n",
    "    return m_sel\n",
    "\n",
    "\n",
    "def it(m_codes, m_fimps, m_score, q_code, m_avl=None, **kwargs):\n",
    "    m_sel = []\n",
    "    a_src = q_desc\n",
    "    a_tgt = q_tgt + q_miss\n",
    "    \n",
    "    for step in range(nb_steps):\n",
    "        q_code = None # TODO: q_code from a_src and a_tgt\n",
    "        step_m_sel = mrai(m_codes, m_fimps, m_score, q_code, m_avl=None, **kwargs)\n",
    "        \n",
    "        a_prd = _atts(m_codes, step_m_sel, value=TARG_ENCODING)\n",
    "        a_src = np.union1d(a_src, a_prd)\n",
    "        a_tgt = np.setdiff1d(a_tgt, a_prd)\n",
    "        \n",
    "        m_sel.append(step_m_sel)\n",
    "    \n",
    "    return m_sel"
   ]
  },
  {
   "cell_type": "code",
   "execution_count": 119,
   "metadata": {},
   "outputs": [],
   "source": [
    "size = 10**2\n",
    "m_codes = np.random.randint(-1,2, size=(10*size,size))\n",
    "\n",
    "m_fimps = np.zeros(m_codes.shape)\n",
    "m_fimps[np.where(m_codes == 0)] = np.random.rand(len(m_fimps[np.where(m_codes == 0)]))\n",
    "\n",
    "m_score = np.zeros(m_codes.shape)\n",
    "#m_score[np.where(m_codes == 1)] = np.random.rand(len(m_score[np.where(m_codes == 1)]))\n",
    "m_score[np.where(m_codes == 1)] = 1\n",
    "\n",
    "#m_fimps, m_score\n",
    "\n"
   ]
  },
  {
   "cell_type": "code",
   "execution_count": 120,
   "metadata": {},
   "outputs": [
    {
     "name": "stdout",
     "output_type": "stream",
     "text": [
      "8.5 ms ± 667 µs per loop (mean ± std. dev. of 7 runs, 1 loop each)\n"
     ]
    }
   ],
   "source": [
    "%%timeit\n",
    "src_crit = criterion(m_fimps, a_filter=[0,1])\n",
    "tgt_crit = criterion(m_score, a_filter=[3])\n",
    "src_crit * tgt_crit"
   ]
  },
  {
   "cell_type": "markdown",
   "metadata": {},
   "source": [
    "Now, the next thing to do are:\n",
    "    \n",
    "    1. Standarization of models in MERCS. This sklearn bullshit has lasted for far too long. One format to rule them all.\n",
    "    2. Composite Models own implementation + careful will data leakage? You still have much of the code and with clean models it should not be this awful.\n",
    "    3. Drop in back in MERCS. The graphs are something optional.\n",
    "    "
   ]
  },
  {
   "cell_type": "code",
   "execution_count": null,
   "metadata": {},
   "outputs": [],
   "source": []
  },
  {
   "cell_type": "code",
   "execution_count": null,
   "metadata": {},
   "outputs": [],
   "source": [
    "m_fimps = "
   ]
  },
  {
   "cell_type": "code",
   "execution_count": null,
   "metadata": {},
   "outputs": [],
   "source": [
    "c_matrix"
   ]
  },
  {
   "cell_type": "code",
   "execution_count": 37,
   "metadata": {},
   "outputs": [
    {
     "data": {
      "text/plain": [
       "1"
      ]
     },
     "execution_count": 37,
     "metadata": {},
     "output_type": "execute_result"
    }
   ],
   "source": [
    "np.random.randint(3)"
   ]
  },
  {
   "cell_type": "code",
   "execution_count": null,
   "metadata": {},
   "outputs": [],
   "source": []
  }
 ],
 "metadata": {
  "kernelspec": {
   "display_name": "aaai20-jup",
   "language": "python",
   "name": "aaai20-jup"
  },
  "language_info": {
   "codemirror_mode": {
    "name": "ipython",
    "version": 3
   },
   "file_extension": ".py",
   "mimetype": "text/x-python",
   "name": "python",
   "nbconvert_exporter": "python",
   "pygments_lexer": "ipython3",
   "version": "3.7.4"
  }
 },
 "nbformat": 4,
 "nbformat_minor": 4
}
