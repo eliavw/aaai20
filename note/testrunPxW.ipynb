{
 "cells": [
  {
   "cell_type": "markdown",
   "metadata": {},
   "source": [
    "# Data Wrangling\n",
    "\n",
    "In setting up the experiments, we are starting from some Weka datasets. Those have to get into python for analysis."
   ]
  },
  {
   "cell_type": "code",
   "execution_count": 1,
   "metadata": {},
   "outputs": [],
   "source": [
    "import PxW\n",
    "\n",
    "# Check if the package gets installed correctly.\n",
    "clf = PxW.J48()"
   ]
  },
  {
   "cell_type": "code",
   "execution_count": 11,
   "metadata": {},
   "outputs": [],
   "source": []
  },
  {
   "cell_type": "markdown",
   "metadata": {},
   "source": [
    "## Fit"
   ]
  },
  {
   "cell_type": "code",
   "execution_count": 3,
   "metadata": {},
   "outputs": [
    {
     "name": "stderr",
     "output_type": "stream",
     "text": [
      "[2019-08-27 12:32:25,190] INFO - prefect.FlowRunner | Beginning Flow run for 'fit'\n",
      "[2019-08-27 12:32:25,191] INFO - prefect.FlowRunner | Starting flow run.\n",
      "[2019-08-27 12:32:25,199] INFO - prefect.TaskRunner | Task 'Constant[str]': Starting task run...\n",
      "[2019-08-27 12:32:25,200] INFO - prefect.TaskRunner | Task 'Constant[str]': finished task run for task with final state: 'Success'\n",
      "[2019-08-27 12:32:25,201] INFO - prefect.TaskRunner | Task 'ShellTask': Starting task run...\n",
      "[2019-08-27 12:32:25,657] INFO - prefect.TaskRunner | Task 'ShellTask': finished task run for task with final state: 'Success'\n",
      "[2019-08-27 12:32:25,660] INFO - prefect.FlowRunner | Flow run SUCCESS: all reference tasks succeeded\n"
     ]
    },
    {
     "name": "stdout",
     "output_type": "stream",
     "text": [
      "WARNING: An illegal reflective access operation has occurred\n",
      "WARNING: Illegal reflective access by weka.core.WekaPackageClassLoaderManager (file:/home/zissou/Software/weka/weka.jar) to method java.lang.ClassLoader.defineClass(java.lang.String,byte[],int,int,java.security.ProtectionDomain)\n",
      "WARNING: Please consider reporting this to the maintainers of weka.core.WekaPackageClassLoaderManager\n",
      "WARNING: Use --illegal-access=warn to enable warnings of further illegal reflective access operations\n",
      "WARNING: All illegal access operations will be denied in a future release\n",
      "\n",
      "Options: -C 0.25 -M 2 \n",
      "\n",
      "=== Classifier model (full training set) ===\n",
      "\n",
      "J48 pruned tree\n",
      "------------------\n",
      "\n",
      "petalwidth <= 0.6: Iris-setosa (50.0)\n",
      "petalwidth > 0.6\n",
      "|   petalwidth <= 1.7\n",
      "|   |   petallength <= 4.9: Iris-versicolor (48.0/1.0)\n",
      "|   |   petallength > 4.9\n",
      "|   |   |   petalwidth <= 1.5: Iris-virginica (3.0)\n",
      "|   |   |   petalwidth > 1.5: Iris-versicolor (3.0/1.0)\n",
      "|   petalwidth > 1.7: Iris-virginica (46.0/1.0)\n",
      "\n",
      "Number of Leaves  : \t5\n",
      "\n",
      "Size of the tree : \t9\n",
      "\n",
      "\n",
      "Time taken to build model: 0.2 seconds\n",
      "\n",
      "Time taken to test model on training data: 0.01 seconds\n",
      "\n",
      "=== Error on training data ===\n",
      "\n",
      "Correctly Classified Instances         147               98      %\n",
      "Incorrectly Classified Instances         3                2      %\n",
      "Kappa statistic                          0.97  \n",
      "Mean absolute error                      0.0233\n",
      "Root mean squared error                  0.108 \n",
      "Relative absolute error                  5.2482 %\n",
      "Root relative squared error             22.9089 %\n",
      "Total Number of Instances              150     \n",
      "\n",
      "\n",
      "=== Detailed Accuracy By Class ===\n",
      "\n",
      "                 TP Rate  FP Rate  Precision  Recall   F-Measure  MCC      ROC Area  PRC Area  Class\n",
      "                 1.000    0.000    1.000      1.000    1.000      1.000    1.000     1.000     Iris-setosa\n",
      "                 0.980    0.020    0.961      0.980    0.970      0.955    0.990     0.969     Iris-versicolor\n",
      "                 0.960    0.010    0.980      0.960    0.970      0.955    0.990     0.970     Iris-virginica\n",
      "Weighted Avg.    0.980    0.010    0.980      0.980    0.980      0.970    0.993     0.980     \n",
      "\n",
      "\n",
      "=== Confusion Matrix ===\n",
      "\n",
      "  a  b  c   <-- classified as\n",
      " 50  0  0 |  a = Iris-setosa\n",
      "  0 49  1 |  b = Iris-versicolor\n",
      "  0  2 48 |  c = Iris-virginica\n",
      "\n",
      "\n"
     ]
    }
   ],
   "source": [
    "train_fn = \"../data/step-01/iris.arff\"\n",
    "\n",
    "s = clf.fit(train_fn, model_filename='tree.model', verbose=True)"
   ]
  },
  {
   "cell_type": "code",
   "execution_count": 4,
   "metadata": {},
   "outputs": [
    {
     "data": {
      "text/plain": [
       "'java -cp /home/zissou/Software/weka/weka.jar weka.classifiers.trees.J48 -C 0.25 -M 2 -no-cv -t ../data/step-01/iris.arff -d tree.model'"
      ]
     },
     "execution_count": 4,
     "metadata": {},
     "output_type": "execute_result"
    }
   ],
   "source": [
    "clf.command"
   ]
  },
  {
   "cell_type": "code",
   "execution_count": 5,
   "metadata": {},
   "outputs": [
    {
     "data": {
      "text/plain": [
       "prefect.engine.state.Success"
      ]
     },
     "execution_count": 5,
     "metadata": {},
     "output_type": "execute_result"
    }
   ],
   "source": [
    "type(s)"
   ]
  },
  {
   "cell_type": "markdown",
   "metadata": {},
   "source": [
    "## Predict"
   ]
  },
  {
   "cell_type": "code",
   "execution_count": 6,
   "metadata": {},
   "outputs": [
    {
     "name": "stderr",
     "output_type": "stream",
     "text": [
      "[2019-08-27 12:32:25,697] INFO - prefect.FlowRunner | Beginning Flow run for 'predict'\n",
      "[2019-08-27 12:32:25,699] INFO - prefect.FlowRunner | Starting flow run.\n",
      "[2019-08-27 12:32:25,707] INFO - prefect.TaskRunner | Task 'Constant[str]': Starting task run...\n",
      "[2019-08-27 12:32:25,709] INFO - prefect.TaskRunner | Task 'Constant[str]': finished task run for task with final state: 'Success'\n",
      "[2019-08-27 12:32:25,710] INFO - prefect.TaskRunner | Task 'ShellTask': Starting task run...\n",
      "[2019-08-27 12:32:25,946] INFO - prefect.TaskRunner | Task 'ShellTask': finished task run for task with final state: 'Success'\n",
      "[2019-08-27 12:32:25,947] INFO - prefect.FlowRunner | Flow run SUCCESS: all reference tasks succeeded\n"
     ]
    }
   ],
   "source": [
    "test_fn = \"../data/step-01/iris.arff\"\n",
    "\n",
    "df = clf.predict(test_fn, model_filename='tree.model', verbose=True)"
   ]
  },
  {
   "cell_type": "code",
   "execution_count": 12,
   "metadata": {},
   "outputs": [
    {
     "data": {
      "text/html": [
       "<div>\n",
       "<style scoped>\n",
       "    .dataframe tbody tr th:only-of-type {\n",
       "        vertical-align: middle;\n",
       "    }\n",
       "\n",
       "    .dataframe tbody tr th {\n",
       "        vertical-align: top;\n",
       "    }\n",
       "\n",
       "    .dataframe thead th {\n",
       "        text-align: right;\n",
       "    }\n",
       "</style>\n",
       "<table border=\"1\" class=\"dataframe\">\n",
       "  <thead>\n",
       "    <tr style=\"text-align: right;\">\n",
       "      <th></th>\n",
       "      <th>predicted</th>\n",
       "    </tr>\n",
       "    <tr>\n",
       "      <th>inst#</th>\n",
       "      <th></th>\n",
       "    </tr>\n",
       "  </thead>\n",
       "  <tbody>\n",
       "    <tr>\n",
       "      <td>1</td>\n",
       "      <td>1:Iris-setosa</td>\n",
       "    </tr>\n",
       "    <tr>\n",
       "      <td>2</td>\n",
       "      <td>1:Iris-setosa</td>\n",
       "    </tr>\n",
       "    <tr>\n",
       "      <td>3</td>\n",
       "      <td>1:Iris-setosa</td>\n",
       "    </tr>\n",
       "    <tr>\n",
       "      <td>4</td>\n",
       "      <td>1:Iris-setosa</td>\n",
       "    </tr>\n",
       "    <tr>\n",
       "      <td>5</td>\n",
       "      <td>1:Iris-setosa</td>\n",
       "    </tr>\n",
       "  </tbody>\n",
       "</table>\n",
       "</div>"
      ],
      "text/plain": [
       "           predicted\n",
       "inst#               \n",
       "1      1:Iris-setosa\n",
       "2      1:Iris-setosa\n",
       "3      1:Iris-setosa\n",
       "4      1:Iris-setosa\n",
       "5      1:Iris-setosa"
      ]
     },
     "execution_count": 12,
     "metadata": {},
     "output_type": "execute_result"
    }
   ],
   "source": [
    "df.head()"
   ]
  },
  {
   "cell_type": "markdown",
   "metadata": {},
   "source": [
    "## Queries\n",
    "\n",
    "So, some steps that need to occur.\n",
    "\n",
    "1. Load arff dataset\n",
    "2. Replace some entries with missing values\n",
    "3. Save as new arff"
   ]
  },
  {
   "cell_type": "code",
   "execution_count": null,
   "metadata": {},
   "outputs": [],
   "source": []
  }
 ],
 "metadata": {
  "kernelspec": {
   "display_name": "aaai20-belafonte",
   "language": "python",
   "name": "aaai20-belafonte"
  },
  "language_info": {
   "codemirror_mode": {
    "name": "ipython",
    "version": 3
   },
   "file_extension": ".py",
   "mimetype": "text/x-python",
   "name": "python",
   "nbconvert_exporter": "python",
   "pygments_lexer": "ipython3",
   "version": "3.6.9"
  }
 },
 "nbformat": 4,
 "nbformat_minor": 4
}
