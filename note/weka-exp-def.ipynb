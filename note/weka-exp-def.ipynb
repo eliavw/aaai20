{
 "cells": [
  {
   "cell_type": "markdown",
   "metadata": {},
   "source": [
    "# Weka Experiment\n",
    "\n",
    "The definitive notebook."
   ]
  },
  {
   "cell_type": "markdown",
   "metadata": {},
   "source": [
    "# Preliminaries"
   ]
  },
  {
   "cell_type": "markdown",
   "metadata": {},
   "source": [
    "## Imports"
   ]
  },
  {
   "cell_type": "code",
   "execution_count": 1,
   "metadata": {},
   "outputs": [],
   "source": [
    "import pandas as pd\n",
    "import arff\n",
    "import os\n",
    "import numpy as np\n",
    "import aaai20\n",
    "import PxW\n",
    "\n",
    "from os.path import dirname\n",
    "from aaai20.io import filename_dataset, filename_query\n",
    "from aaai20.exp import collect_results, process_outcomes, save_outcome\n",
    "from sklearn.model_selection import train_test_split\n",
    "from modulo.utils.encoding import query_to_code, code_to_query, encode_attribute\n",
    "\n",
    "from sklearn.preprocessing import LabelEncoder\n",
    "from sklearn.metrics import f1_score\n",
    "\n",
    "RANDOM_STATE = 42"
   ]
  },
  {
   "cell_type": "markdown",
   "metadata": {},
   "source": [
    "## Helpers"
   ]
  },
  {
   "cell_type": "code",
   "execution_count": 2,
   "metadata": {},
   "outputs": [],
   "source": [
    "def f1_weka(out, average='macro'):\n",
    "    # Each label gets encoded.\n",
    "    le = LabelEncoder().fit(out.values.reshape(-1,))\n",
    "    \n",
    "    out = out.apply(le.transform)\n",
    "    f1 = f1_score(out['actual'], out['predicted'], average=average)\n",
    "    return f1"
   ]
  },
  {
   "cell_type": "markdown",
   "metadata": {},
   "source": [
    "## Functions"
   ]
  },
  {
   "cell_type": "code",
   "execution_count": 4,
   "metadata": {},
   "outputs": [],
   "source": [
    "def fit_weka(ds):\n",
    "    # Preliminaries\n",
    "    fn_train = filename_dataset(ds, step=1, suffix='train')\n",
    "    \n",
    "    # Train\n",
    "    clf = PxW.J48()\n",
    "    clf.fit(fn_train, verbose=False)\n",
    "    return clf"
   ]
  },
  {
   "cell_type": "code",
   "execution_count": 5,
   "metadata": {},
   "outputs": [],
   "source": [
    "def predict_weka(dataset, classifier, f1_average='macro'):\n",
    "    result = []\n",
    "    \n",
    "    # Get queries\n",
    "    fn_qry = filename_query(dataset, suffix=\"default\")\n",
    "    q_codes = np.load(fn_qry)\n",
    "    \n",
    "    for q_idx, q_code in enumerate(q_codes):\n",
    "        fn = filename_dataset(dataset, step=2, suffix='q_{}'.format(str(q_idx).zfill(3)))\n",
    "        \n",
    "        out = clf.predict(fn, verbose=True)\n",
    "        \n",
    "        #print(ds)\n",
    "        #print(out.head())\n",
    "        \n",
    "        f1 = f1_weka(out, average=f1_average)\n",
    "        result.append(f1)\n",
    "    \n",
    "    return q_codes, result"
   ]
  },
  {
   "cell_type": "markdown",
   "metadata": {},
   "source": [
    "# Actual Flow"
   ]
  },
  {
   "cell_type": "code",
   "execution_count": 6,
   "metadata": {},
   "outputs": [
    {
     "name": "stderr",
     "output_type": "stream",
     "text": [
      "[2019-09-03 16:48:39,553] INFO - prefect.FlowRunner | Beginning Flow run for 'fit'\n",
      "[2019-09-03 16:48:39,555] INFO - prefect.FlowRunner | Starting flow run.\n",
      "[2019-09-03 16:48:39,561] INFO - prefect.TaskRunner | Task 'Constant[str]': Starting task run...\n",
      "[2019-09-03 16:48:39,563] INFO - prefect.TaskRunner | Task 'Constant[str]': finished task run for task with final state: 'Success'\n",
      "[2019-09-03 16:48:39,564] INFO - prefect.TaskRunner | Task 'ShellTask': Starting task run...\n"
     ]
    },
    {
     "name": "stdout",
     "output_type": "stream",
     "text": [
      "17\n",
      "glass\n"
     ]
    },
    {
     "name": "stderr",
     "output_type": "stream",
     "text": [
      "[2019-09-03 16:48:40,105] INFO - prefect.TaskRunner | Task 'ShellTask': finished task run for task with final state: 'Success'\n",
      "[2019-09-03 16:48:40,109] INFO - prefect.FlowRunner | Flow run SUCCESS: all reference tasks succeeded\n",
      "[2019-09-03 16:48:40,112] INFO - prefect.FlowRunner | Beginning Flow run for 'predict'\n",
      "[2019-09-03 16:48:40,113] INFO - prefect.FlowRunner | Starting flow run.\n",
      "[2019-09-03 16:48:40,117] INFO - prefect.TaskRunner | Task 'Constant[str]': Starting task run...\n",
      "[2019-09-03 16:48:40,118] INFO - prefect.TaskRunner | Task 'Constant[str]': finished task run for task with final state: 'Success'\n",
      "[2019-09-03 16:48:40,120] INFO - prefect.TaskRunner | Task 'ShellTask': Starting task run...\n",
      "[2019-09-03 16:48:40,356] INFO - prefect.TaskRunner | Task 'ShellTask': finished task run for task with final state: 'Success'\n",
      "[2019-09-03 16:48:40,357] INFO - prefect.FlowRunner | Flow run SUCCESS: all reference tasks succeeded\n",
      "/home/zissou/miniconda3/envs/aaai20/lib/python3.6/site-packages/sklearn/metrics/classification.py:1143: UndefinedMetricWarning: F-score is ill-defined and being set to 0.0 in labels with no predicted samples.\n",
      "  'precision', 'predicted', average, warn_for)\n",
      "/home/zissou/miniconda3/envs/aaai20/lib/python3.6/site-packages/sklearn/metrics/classification.py:1145: UndefinedMetricWarning: F-score is ill-defined and being set to 0.0 in labels with no true samples.\n",
      "  'recall', 'true', average, warn_for)\n",
      "[2019-09-03 16:48:40,384] INFO - prefect.FlowRunner | Beginning Flow run for 'predict'\n",
      "[2019-09-03 16:48:40,385] INFO - prefect.FlowRunner | Starting flow run.\n",
      "[2019-09-03 16:48:40,393] INFO - prefect.TaskRunner | Task 'Constant[str]': Starting task run...\n",
      "[2019-09-03 16:48:40,395] INFO - prefect.TaskRunner | Task 'Constant[str]': finished task run for task with final state: 'Success'\n",
      "[2019-09-03 16:48:40,396] INFO - prefect.TaskRunner | Task 'ShellTask': Starting task run...\n"
     ]
    },
    {
     "name": "stdout",
     "output_type": "stream",
     "text": [
      "glass\n",
      "                         actual               predicted\n",
      "inst#                                                  \n",
      "1          1:'build wind float'      1:build wind float\n",
      "2                   6:tableware             6:tableware\n",
      "3      2:'build wind non-float'             6:tableware\n",
      "4      2:'build wind non-float'  2:build wind non-float\n",
      "5          1:'build wind float'      1:build wind float\n"
     ]
    },
    {
     "name": "stderr",
     "output_type": "stream",
     "text": [
      "[2019-09-03 16:48:40,648] INFO - prefect.TaskRunner | Task 'ShellTask': finished task run for task with final state: 'Success'\n",
      "[2019-09-03 16:48:40,650] INFO - prefect.FlowRunner | Flow run SUCCESS: all reference tasks succeeded\n",
      "/home/zissou/miniconda3/envs/aaai20/lib/python3.6/site-packages/sklearn/metrics/classification.py:1143: UndefinedMetricWarning: F-score is ill-defined and being set to 0.0 in labels with no predicted samples.\n",
      "  'precision', 'predicted', average, warn_for)\n",
      "/home/zissou/miniconda3/envs/aaai20/lib/python3.6/site-packages/sklearn/metrics/classification.py:1145: UndefinedMetricWarning: F-score is ill-defined and being set to 0.0 in labels with no true samples.\n",
      "  'recall', 'true', average, warn_for)\n",
      "[2019-09-03 16:48:40,670] INFO - prefect.FlowRunner | Beginning Flow run for 'predict'\n",
      "[2019-09-03 16:48:40,671] INFO - prefect.FlowRunner | Starting flow run.\n",
      "[2019-09-03 16:48:40,679] INFO - prefect.TaskRunner | Task 'Constant[str]': Starting task run...\n",
      "[2019-09-03 16:48:40,680] INFO - prefect.TaskRunner | Task 'Constant[str]': finished task run for task with final state: 'Success'\n",
      "[2019-09-03 16:48:40,682] INFO - prefect.TaskRunner | Task 'ShellTask': Starting task run...\n"
     ]
    },
    {
     "name": "stdout",
     "output_type": "stream",
     "text": [
      "glass\n",
      "                         actual               predicted\n",
      "inst#                                                  \n",
      "1          1:'build wind float'      1:build wind float\n",
      "2                   6:tableware             6:tableware\n",
      "3      2:'build wind non-float'             6:tableware\n",
      "4      2:'build wind non-float'  2:build wind non-float\n",
      "5          1:'build wind float'      1:build wind float\n"
     ]
    },
    {
     "name": "stderr",
     "output_type": "stream",
     "text": [
      "[2019-09-03 16:48:40,946] INFO - prefect.TaskRunner | Task 'ShellTask': finished task run for task with final state: 'Success'\n",
      "[2019-09-03 16:48:40,948] INFO - prefect.FlowRunner | Flow run SUCCESS: all reference tasks succeeded\n",
      "/home/zissou/miniconda3/envs/aaai20/lib/python3.6/site-packages/sklearn/metrics/classification.py:1143: UndefinedMetricWarning: F-score is ill-defined and being set to 0.0 in labels with no predicted samples.\n",
      "  'precision', 'predicted', average, warn_for)\n",
      "/home/zissou/miniconda3/envs/aaai20/lib/python3.6/site-packages/sklearn/metrics/classification.py:1145: UndefinedMetricWarning: F-score is ill-defined and being set to 0.0 in labels with no true samples.\n",
      "  'recall', 'true', average, warn_for)\n",
      "[2019-09-03 16:48:40,962] INFO - prefect.FlowRunner | Beginning Flow run for 'predict'\n",
      "[2019-09-03 16:48:40,963] INFO - prefect.FlowRunner | Starting flow run.\n",
      "[2019-09-03 16:48:40,967] INFO - prefect.TaskRunner | Task 'Constant[str]': Starting task run...\n",
      "[2019-09-03 16:48:40,968] INFO - prefect.TaskRunner | Task 'Constant[str]': finished task run for task with final state: 'Success'\n",
      "[2019-09-03 16:48:40,970] INFO - prefect.TaskRunner | Task 'ShellTask': Starting task run...\n"
     ]
    },
    {
     "name": "stdout",
     "output_type": "stream",
     "text": [
      "glass\n",
      "                         actual               predicted\n",
      "inst#                                                  \n",
      "1          1:'build wind float'      1:build wind float\n",
      "2                   6:tableware             6:tableware\n",
      "3      2:'build wind non-float'             6:tableware\n",
      "4      2:'build wind non-float'  2:build wind non-float\n",
      "5          1:'build wind float'      1:build wind float\n"
     ]
    },
    {
     "name": "stderr",
     "output_type": "stream",
     "text": [
      "[2019-09-03 16:48:41,208] INFO - prefect.TaskRunner | Task 'ShellTask': finished task run for task with final state: 'Success'\n",
      "[2019-09-03 16:48:41,209] INFO - prefect.FlowRunner | Flow run SUCCESS: all reference tasks succeeded\n",
      "/home/zissou/miniconda3/envs/aaai20/lib/python3.6/site-packages/sklearn/metrics/classification.py:1143: UndefinedMetricWarning: F-score is ill-defined and being set to 0.0 in labels with no predicted samples.\n",
      "  'precision', 'predicted', average, warn_for)\n",
      "/home/zissou/miniconda3/envs/aaai20/lib/python3.6/site-packages/sklearn/metrics/classification.py:1145: UndefinedMetricWarning: F-score is ill-defined and being set to 0.0 in labels with no true samples.\n",
      "  'recall', 'true', average, warn_for)\n",
      "[2019-09-03 16:48:41,224] INFO - prefect.FlowRunner | Beginning Flow run for 'predict'\n",
      "[2019-09-03 16:48:41,225] INFO - prefect.FlowRunner | Starting flow run.\n",
      "[2019-09-03 16:48:41,232] INFO - prefect.TaskRunner | Task 'Constant[str]': Starting task run...\n",
      "[2019-09-03 16:48:41,233] INFO - prefect.TaskRunner | Task 'Constant[str]': finished task run for task with final state: 'Success'\n",
      "[2019-09-03 16:48:41,234] INFO - prefect.TaskRunner | Task 'ShellTask': Starting task run...\n"
     ]
    },
    {
     "name": "stdout",
     "output_type": "stream",
     "text": [
      "glass\n",
      "                         actual               predicted\n",
      "inst#                                                  \n",
      "1          1:'build wind float'      1:build wind float\n",
      "2                   6:tableware             6:tableware\n",
      "3      2:'build wind non-float'             6:tableware\n",
      "4      2:'build wind non-float'  2:build wind non-float\n",
      "5          1:'build wind float'      1:build wind float\n"
     ]
    },
    {
     "name": "stderr",
     "output_type": "stream",
     "text": [
      "[2019-09-03 16:48:41,512] INFO - prefect.TaskRunner | Task 'ShellTask': finished task run for task with final state: 'Success'\n",
      "[2019-09-03 16:48:41,513] INFO - prefect.FlowRunner | Flow run SUCCESS: all reference tasks succeeded\n",
      "/home/zissou/miniconda3/envs/aaai20/lib/python3.6/site-packages/sklearn/metrics/classification.py:1143: UndefinedMetricWarning: F-score is ill-defined and being set to 0.0 in labels with no predicted samples.\n",
      "  'precision', 'predicted', average, warn_for)\n",
      "/home/zissou/miniconda3/envs/aaai20/lib/python3.6/site-packages/sklearn/metrics/classification.py:1145: UndefinedMetricWarning: F-score is ill-defined and being set to 0.0 in labels with no true samples.\n",
      "  'recall', 'true', average, warn_for)\n",
      "[2019-09-03 16:48:41,528] INFO - prefect.FlowRunner | Beginning Flow run for 'predict'\n",
      "[2019-09-03 16:48:41,529] INFO - prefect.FlowRunner | Starting flow run.\n",
      "[2019-09-03 16:48:41,533] INFO - prefect.TaskRunner | Task 'Constant[str]': Starting task run...\n",
      "[2019-09-03 16:48:41,535] INFO - prefect.TaskRunner | Task 'Constant[str]': finished task run for task with final state: 'Success'\n",
      "[2019-09-03 16:48:41,537] INFO - prefect.TaskRunner | Task 'ShellTask': Starting task run...\n"
     ]
    },
    {
     "name": "stdout",
     "output_type": "stream",
     "text": [
      "glass\n",
      "                         actual               predicted\n",
      "inst#                                                  \n",
      "1          1:'build wind float'      1:build wind float\n",
      "2                   6:tableware      3:vehic wind float\n",
      "3      2:'build wind non-float'      3:vehic wind float\n",
      "4      2:'build wind non-float'  2:build wind non-float\n",
      "5          1:'build wind float'      1:build wind float\n"
     ]
    },
    {
     "name": "stderr",
     "output_type": "stream",
     "text": [
      "[2019-09-03 16:48:41,767] INFO - prefect.TaskRunner | Task 'ShellTask': finished task run for task with final state: 'Success'\n",
      "[2019-09-03 16:48:41,768] INFO - prefect.FlowRunner | Flow run SUCCESS: all reference tasks succeeded\n",
      "/home/zissou/miniconda3/envs/aaai20/lib/python3.6/site-packages/sklearn/metrics/classification.py:1143: UndefinedMetricWarning: F-score is ill-defined and being set to 0.0 in labels with no predicted samples.\n",
      "  'precision', 'predicted', average, warn_for)\n",
      "/home/zissou/miniconda3/envs/aaai20/lib/python3.6/site-packages/sklearn/metrics/classification.py:1145: UndefinedMetricWarning: F-score is ill-defined and being set to 0.0 in labels with no true samples.\n",
      "  'recall', 'true', average, warn_for)\n",
      "[2019-09-03 16:48:41,781] INFO - prefect.FlowRunner | Beginning Flow run for 'predict'\n",
      "[2019-09-03 16:48:41,781] INFO - prefect.FlowRunner | Starting flow run.\n",
      "[2019-09-03 16:48:41,787] INFO - prefect.TaskRunner | Task 'Constant[str]': Starting task run...\n",
      "[2019-09-03 16:48:41,790] INFO - prefect.TaskRunner | Task 'Constant[str]': finished task run for task with final state: 'Success'\n",
      "[2019-09-03 16:48:41,791] INFO - prefect.TaskRunner | Task 'ShellTask': Starting task run...\n"
     ]
    },
    {
     "name": "stdout",
     "output_type": "stream",
     "text": [
      "glass\n",
      "                         actual               predicted\n",
      "inst#                                                  \n",
      "1          1:'build wind float'      1:build wind float\n",
      "2                   6:tableware      3:vehic wind float\n",
      "3      2:'build wind non-float'      3:vehic wind float\n",
      "4      2:'build wind non-float'  2:build wind non-float\n",
      "5          1:'build wind float'      1:build wind float\n"
     ]
    },
    {
     "name": "stderr",
     "output_type": "stream",
     "text": [
      "[2019-09-03 16:48:42,030] INFO - prefect.TaskRunner | Task 'ShellTask': finished task run for task with final state: 'Success'\n",
      "[2019-09-03 16:48:42,032] INFO - prefect.FlowRunner | Flow run SUCCESS: all reference tasks succeeded\n",
      "/home/zissou/miniconda3/envs/aaai20/lib/python3.6/site-packages/sklearn/metrics/classification.py:1143: UndefinedMetricWarning: F-score is ill-defined and being set to 0.0 in labels with no predicted samples.\n",
      "  'precision', 'predicted', average, warn_for)\n",
      "/home/zissou/miniconda3/envs/aaai20/lib/python3.6/site-packages/sklearn/metrics/classification.py:1145: UndefinedMetricWarning: F-score is ill-defined and being set to 0.0 in labels with no true samples.\n",
      "  'recall', 'true', average, warn_for)\n",
      "[2019-09-03 16:48:42,047] INFO - prefect.FlowRunner | Beginning Flow run for 'predict'\n",
      "[2019-09-03 16:48:42,048] INFO - prefect.FlowRunner | Starting flow run.\n",
      "[2019-09-03 16:48:42,053] INFO - prefect.TaskRunner | Task 'Constant[str]': Starting task run...\n",
      "[2019-09-03 16:48:42,055] INFO - prefect.TaskRunner | Task 'Constant[str]': finished task run for task with final state: 'Success'\n",
      "[2019-09-03 16:48:42,056] INFO - prefect.TaskRunner | Task 'ShellTask': Starting task run...\n"
     ]
    },
    {
     "name": "stdout",
     "output_type": "stream",
     "text": [
      "glass\n",
      "                         actual               predicted\n",
      "inst#                                                  \n",
      "1          1:'build wind float'      1:build wind float\n",
      "2                   6:tableware      1:build wind float\n",
      "3      2:'build wind non-float'      1:build wind float\n",
      "4      2:'build wind non-float'  2:build wind non-float\n",
      "5          1:'build wind float'      1:build wind float\n"
     ]
    },
    {
     "name": "stderr",
     "output_type": "stream",
     "text": [
      "[2019-09-03 16:48:42,280] INFO - prefect.TaskRunner | Task 'ShellTask': finished task run for task with final state: 'Success'\n",
      "[2019-09-03 16:48:42,281] INFO - prefect.FlowRunner | Flow run SUCCESS: all reference tasks succeeded\n",
      "/home/zissou/miniconda3/envs/aaai20/lib/python3.6/site-packages/sklearn/metrics/classification.py:1143: UndefinedMetricWarning: F-score is ill-defined and being set to 0.0 in labels with no predicted samples.\n",
      "  'precision', 'predicted', average, warn_for)\n",
      "/home/zissou/miniconda3/envs/aaai20/lib/python3.6/site-packages/sklearn/metrics/classification.py:1145: UndefinedMetricWarning: F-score is ill-defined and being set to 0.0 in labels with no true samples.\n",
      "  'recall', 'true', average, warn_for)\n",
      "[2019-09-03 16:48:42,293] INFO - prefect.FlowRunner | Beginning Flow run for 'predict'\n",
      "[2019-09-03 16:48:42,294] INFO - prefect.FlowRunner | Starting flow run.\n",
      "[2019-09-03 16:48:42,298] INFO - prefect.TaskRunner | Task 'Constant[str]': Starting task run...\n",
      "[2019-09-03 16:48:42,299] INFO - prefect.TaskRunner | Task 'Constant[str]': finished task run for task with final state: 'Success'\n",
      "[2019-09-03 16:48:42,300] INFO - prefect.TaskRunner | Task 'ShellTask': Starting task run...\n"
     ]
    },
    {
     "name": "stdout",
     "output_type": "stream",
     "text": [
      "glass\n",
      "                         actual               predicted\n",
      "inst#                                                  \n",
      "1          1:'build wind float'  2:build wind non-float\n",
      "2                   6:tableware  2:build wind non-float\n",
      "3      2:'build wind non-float'  2:build wind non-float\n",
      "4      2:'build wind non-float'  2:build wind non-float\n",
      "5          1:'build wind float'  2:build wind non-float\n"
     ]
    },
    {
     "name": "stderr",
     "output_type": "stream",
     "text": [
      "[2019-09-03 16:48:42,535] INFO - prefect.TaskRunner | Task 'ShellTask': finished task run for task with final state: 'Success'\n",
      "[2019-09-03 16:48:42,536] INFO - prefect.FlowRunner | Flow run SUCCESS: all reference tasks succeeded\n",
      "/home/zissou/miniconda3/envs/aaai20/lib/python3.6/site-packages/sklearn/metrics/classification.py:1143: UndefinedMetricWarning: F-score is ill-defined and being set to 0.0 in labels with no predicted samples.\n",
      "  'precision', 'predicted', average, warn_for)\n",
      "/home/zissou/miniconda3/envs/aaai20/lib/python3.6/site-packages/sklearn/metrics/classification.py:1145: UndefinedMetricWarning: F-score is ill-defined and being set to 0.0 in labels with no true samples.\n",
      "  'recall', 'true', average, warn_for)\n",
      "[2019-09-03 16:48:42,552] INFO - prefect.FlowRunner | Beginning Flow run for 'fit'\n",
      "[2019-09-03 16:48:42,553] INFO - prefect.FlowRunner | Starting flow run.\n",
      "[2019-09-03 16:48:42,556] INFO - prefect.TaskRunner | Task 'Constant[str]': Starting task run...\n",
      "[2019-09-03 16:48:42,558] INFO - prefect.TaskRunner | Task 'Constant[str]': finished task run for task with final state: 'Success'\n",
      "[2019-09-03 16:48:42,559] INFO - prefect.TaskRunner | Task 'ShellTask': Starting task run...\n"
     ]
    },
    {
     "name": "stdout",
     "output_type": "stream",
     "text": [
      "glass\n",
      "                         actual               predicted\n",
      "inst#                                                  \n",
      "1          1:'build wind float'  2:build wind non-float\n",
      "2                   6:tableware  2:build wind non-float\n",
      "3      2:'build wind non-float'  2:build wind non-float\n",
      "4      2:'build wind non-float'  2:build wind non-float\n",
      "5          1:'build wind float'  2:build wind non-float\n",
      "credit-g\n"
     ]
    },
    {
     "name": "stderr",
     "output_type": "stream",
     "text": [
      "[2019-09-03 16:48:43,206] INFO - prefect.TaskRunner | Task 'ShellTask': finished task run for task with final state: 'Success'\n",
      "[2019-09-03 16:48:43,207] INFO - prefect.FlowRunner | Flow run SUCCESS: all reference tasks succeeded\n",
      "[2019-09-03 16:48:43,211] INFO - prefect.FlowRunner | Beginning Flow run for 'predict'\n",
      "[2019-09-03 16:48:43,212] INFO - prefect.FlowRunner | Starting flow run.\n",
      "[2019-09-03 16:48:43,217] INFO - prefect.TaskRunner | Task 'Constant[str]': Starting task run...\n",
      "[2019-09-03 16:48:43,218] INFO - prefect.TaskRunner | Task 'Constant[str]': finished task run for task with final state: 'Success'\n",
      "[2019-09-03 16:48:43,220] INFO - prefect.TaskRunner | Task 'ShellTask': Starting task run...\n",
      "[2019-09-03 16:48:43,468] INFO - prefect.TaskRunner | Task 'ShellTask': finished task run for task with final state: 'Success'\n",
      "[2019-09-03 16:48:43,470] INFO - prefect.FlowRunner | Flow run SUCCESS: all reference tasks succeeded\n",
      "[2019-09-03 16:48:43,482] INFO - prefect.FlowRunner | Beginning Flow run for 'predict'\n",
      "[2019-09-03 16:48:43,483] INFO - prefect.FlowRunner | Starting flow run.\n",
      "[2019-09-03 16:48:43,488] INFO - prefect.TaskRunner | Task 'Constant[str]': Starting task run...\n",
      "[2019-09-03 16:48:43,490] INFO - prefect.TaskRunner | Task 'Constant[str]': finished task run for task with final state: 'Success'\n",
      "[2019-09-03 16:48:43,491] INFO - prefect.TaskRunner | Task 'ShellTask': Starting task run...\n"
     ]
    },
    {
     "name": "stdout",
     "output_type": "stream",
     "text": [
      "credit-g\n",
      "       actual predicted\n",
      "inst#                  \n",
      "1      1:good    1:good\n",
      "2      1:good    1:good\n",
      "3      1:good    1:good\n",
      "4      1:good    1:good\n",
      "5       2:bad    1:good\n"
     ]
    },
    {
     "name": "stderr",
     "output_type": "stream",
     "text": [
      "[2019-09-03 16:48:43,763] INFO - prefect.TaskRunner | Task 'ShellTask': finished task run for task with final state: 'Success'\n",
      "[2019-09-03 16:48:43,764] INFO - prefect.FlowRunner | Flow run SUCCESS: all reference tasks succeeded\n",
      "[2019-09-03 16:48:43,780] INFO - prefect.FlowRunner | Beginning Flow run for 'predict'\n",
      "[2019-09-03 16:48:43,781] INFO - prefect.FlowRunner | Starting flow run.\n",
      "[2019-09-03 16:48:43,784] INFO - prefect.TaskRunner | Task 'Constant[str]': Starting task run...\n",
      "[2019-09-03 16:48:43,786] INFO - prefect.TaskRunner | Task 'Constant[str]': finished task run for task with final state: 'Success'\n",
      "[2019-09-03 16:48:43,788] INFO - prefect.TaskRunner | Task 'ShellTask': Starting task run...\n"
     ]
    },
    {
     "name": "stdout",
     "output_type": "stream",
     "text": [
      "credit-g\n",
      "       actual predicted\n",
      "inst#                  \n",
      "1      1:good    1:good\n",
      "2      1:good    1:good\n",
      "3      1:good    1:good\n",
      "4      1:good    1:good\n",
      "5       2:bad    1:good\n"
     ]
    },
    {
     "name": "stderr",
     "output_type": "stream",
     "text": [
      "[2019-09-03 16:48:44,063] INFO - prefect.TaskRunner | Task 'ShellTask': finished task run for task with final state: 'Success'\n",
      "[2019-09-03 16:48:44,064] INFO - prefect.FlowRunner | Flow run SUCCESS: all reference tasks succeeded\n",
      "[2019-09-03 16:48:44,080] INFO - prefect.FlowRunner | Beginning Flow run for 'predict'\n",
      "[2019-09-03 16:48:44,081] INFO - prefect.FlowRunner | Starting flow run.\n",
      "[2019-09-03 16:48:44,086] INFO - prefect.TaskRunner | Task 'Constant[str]': Starting task run...\n",
      "[2019-09-03 16:48:44,089] INFO - prefect.TaskRunner | Task 'Constant[str]': finished task run for task with final state: 'Success'\n",
      "[2019-09-03 16:48:44,090] INFO - prefect.TaskRunner | Task 'ShellTask': Starting task run...\n"
     ]
    },
    {
     "name": "stdout",
     "output_type": "stream",
     "text": [
      "credit-g\n",
      "       actual predicted\n",
      "inst#                  \n",
      "1      1:good    1:good\n",
      "2      1:good    1:good\n",
      "3      1:good    1:good\n",
      "4      1:good    1:good\n",
      "5       2:bad    1:good\n"
     ]
    },
    {
     "name": "stderr",
     "output_type": "stream",
     "text": [
      "[2019-09-03 16:48:44,353] INFO - prefect.TaskRunner | Task 'ShellTask': finished task run for task with final state: 'Success'\n",
      "[2019-09-03 16:48:44,354] INFO - prefect.FlowRunner | Flow run SUCCESS: all reference tasks succeeded\n",
      "/home/zissou/miniconda3/envs/aaai20/lib/python3.6/site-packages/sklearn/metrics/classification.py:1143: UndefinedMetricWarning: F-score is ill-defined and being set to 0.0 in labels with no predicted samples.\n",
      "  'precision', 'predicted', average, warn_for)\n",
      "[2019-09-03 16:48:44,366] INFO - prefect.FlowRunner | Beginning Flow run for 'predict'\n",
      "[2019-09-03 16:48:44,368] INFO - prefect.FlowRunner | Starting flow run.\n",
      "[2019-09-03 16:48:44,376] INFO - prefect.TaskRunner | Task 'Constant[str]': Starting task run...\n",
      "[2019-09-03 16:48:44,378] INFO - prefect.TaskRunner | Task 'Constant[str]': finished task run for task with final state: 'Success'\n",
      "[2019-09-03 16:48:44,379] INFO - prefect.TaskRunner | Task 'ShellTask': Starting task run...\n"
     ]
    },
    {
     "name": "stdout",
     "output_type": "stream",
     "text": [
      "credit-g\n",
      "       actual predicted\n",
      "inst#                  \n",
      "1      1:good    1:good\n",
      "2      1:good    1:good\n",
      "3      1:good    1:good\n",
      "4      1:good    1:good\n",
      "5       2:bad    1:good\n"
     ]
    },
    {
     "name": "stderr",
     "output_type": "stream",
     "text": [
      "[2019-09-03 16:48:44,658] INFO - prefect.TaskRunner | Task 'ShellTask': finished task run for task with final state: 'Success'\n",
      "[2019-09-03 16:48:44,659] INFO - prefect.FlowRunner | Flow run SUCCESS: all reference tasks succeeded\n",
      "/home/zissou/miniconda3/envs/aaai20/lib/python3.6/site-packages/sklearn/metrics/classification.py:1143: UndefinedMetricWarning: F-score is ill-defined and being set to 0.0 in labels with no predicted samples.\n",
      "  'precision', 'predicted', average, warn_for)\n",
      "[2019-09-03 16:48:44,671] INFO - prefect.FlowRunner | Beginning Flow run for 'predict'\n",
      "[2019-09-03 16:48:44,672] INFO - prefect.FlowRunner | Starting flow run.\n",
      "[2019-09-03 16:48:44,677] INFO - prefect.TaskRunner | Task 'Constant[str]': Starting task run...\n",
      "[2019-09-03 16:48:44,679] INFO - prefect.TaskRunner | Task 'Constant[str]': finished task run for task with final state: 'Success'\n",
      "[2019-09-03 16:48:44,679] INFO - prefect.TaskRunner | Task 'ShellTask': Starting task run...\n"
     ]
    },
    {
     "name": "stdout",
     "output_type": "stream",
     "text": [
      "credit-g\n",
      "       actual predicted\n",
      "inst#                  \n",
      "1      1:good    1:good\n",
      "2      1:good    1:good\n",
      "3      1:good    1:good\n",
      "4      1:good    1:good\n",
      "5       2:bad    1:good\n"
     ]
    },
    {
     "name": "stderr",
     "output_type": "stream",
     "text": [
      "[2019-09-03 16:48:44,955] INFO - prefect.TaskRunner | Task 'ShellTask': finished task run for task with final state: 'Success'\n",
      "[2019-09-03 16:48:44,956] INFO - prefect.FlowRunner | Flow run SUCCESS: all reference tasks succeeded\n",
      "/home/zissou/miniconda3/envs/aaai20/lib/python3.6/site-packages/sklearn/metrics/classification.py:1143: UndefinedMetricWarning: F-score is ill-defined and being set to 0.0 in labels with no predicted samples.\n",
      "  'precision', 'predicted', average, warn_for)\n",
      "[2019-09-03 16:48:44,968] INFO - prefect.FlowRunner | Beginning Flow run for 'predict'\n",
      "[2019-09-03 16:48:44,969] INFO - prefect.FlowRunner | Starting flow run.\n",
      "[2019-09-03 16:48:44,975] INFO - prefect.TaskRunner | Task 'Constant[str]': Starting task run...\n",
      "[2019-09-03 16:48:44,977] INFO - prefect.TaskRunner | Task 'Constant[str]': finished task run for task with final state: 'Success'\n",
      "[2019-09-03 16:48:44,979] INFO - prefect.TaskRunner | Task 'ShellTask': Starting task run...\n"
     ]
    },
    {
     "name": "stdout",
     "output_type": "stream",
     "text": [
      "credit-g\n",
      "       actual predicted\n",
      "inst#                  \n",
      "1      1:good    1:good\n",
      "2      1:good    1:good\n",
      "3      1:good    1:good\n",
      "4      1:good    1:good\n",
      "5       2:bad    1:good\n"
     ]
    },
    {
     "name": "stderr",
     "output_type": "stream",
     "text": [
      "[2019-09-03 16:48:45,242] INFO - prefect.TaskRunner | Task 'ShellTask': finished task run for task with final state: 'Success'\n",
      "[2019-09-03 16:48:45,243] INFO - prefect.FlowRunner | Flow run SUCCESS: all reference tasks succeeded\n",
      "/home/zissou/miniconda3/envs/aaai20/lib/python3.6/site-packages/sklearn/metrics/classification.py:1143: UndefinedMetricWarning: F-score is ill-defined and being set to 0.0 in labels with no predicted samples.\n",
      "  'precision', 'predicted', average, warn_for)\n",
      "[2019-09-03 16:48:45,256] INFO - prefect.FlowRunner | Beginning Flow run for 'predict'\n",
      "[2019-09-03 16:48:45,257] INFO - prefect.FlowRunner | Starting flow run.\n",
      "[2019-09-03 16:48:45,262] INFO - prefect.TaskRunner | Task 'Constant[str]': Starting task run...\n",
      "[2019-09-03 16:48:45,264] INFO - prefect.TaskRunner | Task 'Constant[str]': finished task run for task with final state: 'Success'\n",
      "[2019-09-03 16:48:45,265] INFO - prefect.TaskRunner | Task 'ShellTask': Starting task run...\n"
     ]
    },
    {
     "name": "stdout",
     "output_type": "stream",
     "text": [
      "credit-g\n",
      "       actual predicted\n",
      "inst#                  \n",
      "1      1:good    1:good\n",
      "2      1:good    1:good\n",
      "3      1:good    1:good\n",
      "4      1:good    1:good\n",
      "5       2:bad    1:good\n"
     ]
    },
    {
     "name": "stderr",
     "output_type": "stream",
     "text": [
      "[2019-09-03 16:48:45,535] INFO - prefect.TaskRunner | Task 'ShellTask': finished task run for task with final state: 'Success'\n",
      "[2019-09-03 16:48:45,537] INFO - prefect.FlowRunner | Flow run SUCCESS: all reference tasks succeeded\n",
      "/home/zissou/miniconda3/envs/aaai20/lib/python3.6/site-packages/sklearn/metrics/classification.py:1143: UndefinedMetricWarning: F-score is ill-defined and being set to 0.0 in labels with no predicted samples.\n",
      "  'precision', 'predicted', average, warn_for)\n",
      "[2019-09-03 16:48:45,549] INFO - prefect.FlowRunner | Beginning Flow run for 'predict'\n",
      "[2019-09-03 16:48:45,550] INFO - prefect.FlowRunner | Starting flow run.\n",
      "[2019-09-03 16:48:45,555] INFO - prefect.TaskRunner | Task 'Constant[str]': Starting task run...\n",
      "[2019-09-03 16:48:45,557] INFO - prefect.TaskRunner | Task 'Constant[str]': finished task run for task with final state: 'Success'\n",
      "[2019-09-03 16:48:45,558] INFO - prefect.TaskRunner | Task 'ShellTask': Starting task run...\n"
     ]
    },
    {
     "name": "stdout",
     "output_type": "stream",
     "text": [
      "credit-g\n",
      "       actual predicted\n",
      "inst#                  \n",
      "1      1:good    1:good\n",
      "2      1:good    1:good\n",
      "3      1:good    1:good\n",
      "4      1:good    1:good\n",
      "5       2:bad    1:good\n"
     ]
    },
    {
     "name": "stderr",
     "output_type": "stream",
     "text": [
      "[2019-09-03 16:48:45,835] INFO - prefect.TaskRunner | Task 'ShellTask': finished task run for task with final state: 'Success'\n",
      "[2019-09-03 16:48:45,836] INFO - prefect.FlowRunner | Flow run SUCCESS: all reference tasks succeeded\n",
      "/home/zissou/miniconda3/envs/aaai20/lib/python3.6/site-packages/sklearn/metrics/classification.py:1143: UndefinedMetricWarning: F-score is ill-defined and being set to 0.0 in labels with no predicted samples.\n",
      "  'precision', 'predicted', average, warn_for)\n",
      "[2019-09-03 16:48:45,848] INFO - prefect.FlowRunner | Beginning Flow run for 'predict'\n",
      "[2019-09-03 16:48:45,849] INFO - prefect.FlowRunner | Starting flow run.\n",
      "[2019-09-03 16:48:45,853] INFO - prefect.TaskRunner | Task 'Constant[str]': Starting task run...\n",
      "[2019-09-03 16:48:45,856] INFO - prefect.TaskRunner | Task 'Constant[str]': finished task run for task with final state: 'Success'\n",
      "[2019-09-03 16:48:45,857] INFO - prefect.TaskRunner | Task 'ShellTask': Starting task run...\n"
     ]
    },
    {
     "name": "stdout",
     "output_type": "stream",
     "text": [
      "credit-g\n",
      "       actual predicted\n",
      "inst#                  \n",
      "1      1:good    1:good\n",
      "2      1:good    1:good\n",
      "3      1:good    1:good\n",
      "4      1:good    1:good\n",
      "5       2:bad    1:good\n"
     ]
    },
    {
     "name": "stderr",
     "output_type": "stream",
     "text": [
      "[2019-09-03 16:48:46,134] INFO - prefect.TaskRunner | Task 'ShellTask': finished task run for task with final state: 'Success'\n",
      "[2019-09-03 16:48:46,135] INFO - prefect.FlowRunner | Flow run SUCCESS: all reference tasks succeeded\n",
      "/home/zissou/miniconda3/envs/aaai20/lib/python3.6/site-packages/sklearn/metrics/classification.py:1143: UndefinedMetricWarning: F-score is ill-defined and being set to 0.0 in labels with no predicted samples.\n",
      "  'precision', 'predicted', average, warn_for)\n",
      "[2019-09-03 16:48:46,150] INFO - prefect.FlowRunner | Beginning Flow run for 'fit'\n",
      "[2019-09-03 16:48:46,151] INFO - prefect.FlowRunner | Starting flow run.\n",
      "[2019-09-03 16:48:46,157] INFO - prefect.TaskRunner | Task 'Constant[str]': Starting task run...\n",
      "[2019-09-03 16:48:46,159] INFO - prefect.TaskRunner | Task 'Constant[str]': finished task run for task with final state: 'Success'\n",
      "[2019-09-03 16:48:46,160] INFO - prefect.TaskRunner | Task 'ShellTask': Starting task run...\n"
     ]
    },
    {
     "name": "stdout",
     "output_type": "stream",
     "text": [
      "credit-g\n",
      "       actual predicted\n",
      "inst#                  \n",
      "1      1:good    1:good\n",
      "2      1:good    1:good\n",
      "3      1:good    1:good\n",
      "4      1:good    1:good\n",
      "5       2:bad    1:good\n",
      "ionosphere\n"
     ]
    },
    {
     "name": "stderr",
     "output_type": "stream",
     "text": [
      "[2019-09-03 16:48:46,715] INFO - prefect.TaskRunner | Task 'ShellTask': finished task run for task with final state: 'Success'\n",
      "[2019-09-03 16:48:46,717] INFO - prefect.FlowRunner | Flow run SUCCESS: all reference tasks succeeded\n",
      "[2019-09-03 16:48:46,720] INFO - prefect.FlowRunner | Beginning Flow run for 'predict'\n",
      "[2019-09-03 16:48:46,721] INFO - prefect.FlowRunner | Starting flow run.\n",
      "[2019-09-03 16:48:46,725] INFO - prefect.TaskRunner | Task 'Constant[str]': Starting task run...\n",
      "[2019-09-03 16:48:46,726] INFO - prefect.TaskRunner | Task 'Constant[str]': finished task run for task with final state: 'Success'\n",
      "[2019-09-03 16:48:46,728] INFO - prefect.TaskRunner | Task 'ShellTask': Starting task run...\n",
      "[2019-09-03 16:48:46,955] INFO - prefect.TaskRunner | Task 'ShellTask': finished task run for task with final state: 'Success'\n",
      "[2019-09-03 16:48:46,957] INFO - prefect.FlowRunner | Flow run SUCCESS: all reference tasks succeeded\n",
      "[2019-09-03 16:48:46,969] INFO - prefect.FlowRunner | Beginning Flow run for 'predict'\n",
      "[2019-09-03 16:48:46,970] INFO - prefect.FlowRunner | Starting flow run.\n",
      "[2019-09-03 16:48:46,977] INFO - prefect.TaskRunner | Task 'Constant[str]': Starting task run...\n",
      "[2019-09-03 16:48:46,980] INFO - prefect.TaskRunner | Task 'Constant[str]': finished task run for task with final state: 'Success'\n",
      "[2019-09-03 16:48:46,982] INFO - prefect.TaskRunner | Task 'ShellTask': Starting task run...\n"
     ]
    },
    {
     "name": "stdout",
     "output_type": "stream",
     "text": [
      "ionosphere\n",
      "      actual predicted\n",
      "inst#                 \n",
      "1        2:g       2:g\n",
      "2        2:g       2:g\n",
      "3        2:g       2:g\n",
      "4        2:g       2:g\n",
      "5        2:g       1:b\n"
     ]
    },
    {
     "name": "stderr",
     "output_type": "stream",
     "text": [
      "[2019-09-03 16:48:47,216] INFO - prefect.TaskRunner | Task 'ShellTask': finished task run for task with final state: 'Success'\n",
      "[2019-09-03 16:48:47,217] INFO - prefect.FlowRunner | Flow run SUCCESS: all reference tasks succeeded\n",
      "[2019-09-03 16:48:47,229] INFO - prefect.FlowRunner | Beginning Flow run for 'predict'\n",
      "[2019-09-03 16:48:47,230] INFO - prefect.FlowRunner | Starting flow run.\n",
      "[2019-09-03 16:48:47,234] INFO - prefect.TaskRunner | Task 'Constant[str]': Starting task run...\n",
      "[2019-09-03 16:48:47,235] INFO - prefect.TaskRunner | Task 'Constant[str]': finished task run for task with final state: 'Success'\n",
      "[2019-09-03 16:48:47,237] INFO - prefect.TaskRunner | Task 'ShellTask': Starting task run...\n"
     ]
    },
    {
     "name": "stdout",
     "output_type": "stream",
     "text": [
      "ionosphere\n",
      "      actual predicted\n",
      "inst#                 \n",
      "1        2:g       2:g\n",
      "2        2:g       2:g\n",
      "3        2:g       2:g\n",
      "4        2:g       2:g\n",
      "5        2:g       1:b\n"
     ]
    },
    {
     "name": "stderr",
     "output_type": "stream",
     "text": [
      "[2019-09-03 16:48:47,483] INFO - prefect.TaskRunner | Task 'ShellTask': finished task run for task with final state: 'Success'\n",
      "[2019-09-03 16:48:47,484] INFO - prefect.FlowRunner | Flow run SUCCESS: all reference tasks succeeded\n",
      "[2019-09-03 16:48:47,496] INFO - prefect.FlowRunner | Beginning Flow run for 'predict'\n",
      "[2019-09-03 16:48:47,497] INFO - prefect.FlowRunner | Starting flow run.\n",
      "[2019-09-03 16:48:47,501] INFO - prefect.TaskRunner | Task 'Constant[str]': Starting task run...\n",
      "[2019-09-03 16:48:47,503] INFO - prefect.TaskRunner | Task 'Constant[str]': finished task run for task with final state: 'Success'\n",
      "[2019-09-03 16:48:47,504] INFO - prefect.TaskRunner | Task 'ShellTask': Starting task run...\n"
     ]
    },
    {
     "name": "stdout",
     "output_type": "stream",
     "text": [
      "ionosphere\n",
      "      actual predicted\n",
      "inst#                 \n",
      "1        2:g       2:g\n",
      "2        2:g       2:g\n",
      "3        2:g       2:g\n",
      "4        2:g       2:g\n",
      "5        2:g       1:b\n"
     ]
    },
    {
     "name": "stderr",
     "output_type": "stream",
     "text": [
      "[2019-09-03 16:48:47,739] INFO - prefect.TaskRunner | Task 'ShellTask': finished task run for task with final state: 'Success'\n",
      "[2019-09-03 16:48:47,741] INFO - prefect.FlowRunner | Flow run SUCCESS: all reference tasks succeeded\n",
      "[2019-09-03 16:48:47,753] INFO - prefect.FlowRunner | Beginning Flow run for 'predict'\n",
      "[2019-09-03 16:48:47,754] INFO - prefect.FlowRunner | Starting flow run.\n",
      "[2019-09-03 16:48:47,759] INFO - prefect.TaskRunner | Task 'Constant[str]': Starting task run...\n",
      "[2019-09-03 16:48:47,761] INFO - prefect.TaskRunner | Task 'Constant[str]': finished task run for task with final state: 'Success'\n",
      "[2019-09-03 16:48:47,763] INFO - prefect.TaskRunner | Task 'ShellTask': Starting task run...\n"
     ]
    },
    {
     "name": "stdout",
     "output_type": "stream",
     "text": [
      "ionosphere\n",
      "      actual predicted\n",
      "inst#                 \n",
      "1        2:g       2:g\n",
      "2        2:g       2:g\n",
      "3        2:g       2:g\n",
      "4        2:g       2:g\n",
      "5        2:g       2:g\n"
     ]
    },
    {
     "name": "stderr",
     "output_type": "stream",
     "text": [
      "[2019-09-03 16:48:48,013] INFO - prefect.TaskRunner | Task 'ShellTask': finished task run for task with final state: 'Success'\n",
      "[2019-09-03 16:48:48,014] INFO - prefect.FlowRunner | Flow run SUCCESS: all reference tasks succeeded\n",
      "[2019-09-03 16:48:48,027] INFO - prefect.FlowRunner | Beginning Flow run for 'predict'\n",
      "[2019-09-03 16:48:48,028] INFO - prefect.FlowRunner | Starting flow run.\n",
      "[2019-09-03 16:48:48,033] INFO - prefect.TaskRunner | Task 'Constant[str]': Starting task run...\n",
      "[2019-09-03 16:48:48,035] INFO - prefect.TaskRunner | Task 'Constant[str]': finished task run for task with final state: 'Success'\n",
      "[2019-09-03 16:48:48,037] INFO - prefect.TaskRunner | Task 'ShellTask': Starting task run...\n"
     ]
    },
    {
     "name": "stdout",
     "output_type": "stream",
     "text": [
      "ionosphere\n",
      "      actual predicted\n",
      "inst#                 \n",
      "1        2:g       2:g\n",
      "2        2:g       2:g\n",
      "3        2:g       2:g\n",
      "4        2:g       2:g\n",
      "5        2:g       1:b\n"
     ]
    },
    {
     "name": "stderr",
     "output_type": "stream",
     "text": [
      "[2019-09-03 16:48:48,276] INFO - prefect.TaskRunner | Task 'ShellTask': finished task run for task with final state: 'Success'\n",
      "[2019-09-03 16:48:48,278] INFO - prefect.FlowRunner | Flow run SUCCESS: all reference tasks succeeded\n",
      "[2019-09-03 16:48:48,290] INFO - prefect.FlowRunner | Beginning Flow run for 'predict'\n",
      "[2019-09-03 16:48:48,291] INFO - prefect.FlowRunner | Starting flow run.\n",
      "[2019-09-03 16:48:48,297] INFO - prefect.TaskRunner | Task 'Constant[str]': Starting task run...\n",
      "[2019-09-03 16:48:48,298] INFO - prefect.TaskRunner | Task 'Constant[str]': finished task run for task with final state: 'Success'\n",
      "[2019-09-03 16:48:48,299] INFO - prefect.TaskRunner | Task 'ShellTask': Starting task run...\n"
     ]
    },
    {
     "name": "stdout",
     "output_type": "stream",
     "text": [
      "ionosphere\n",
      "      actual predicted\n",
      "inst#                 \n",
      "1        2:g       2:g\n",
      "2        2:g       2:g\n",
      "3        2:g       2:g\n",
      "4        2:g       2:g\n",
      "5        2:g       1:b\n"
     ]
    },
    {
     "name": "stderr",
     "output_type": "stream",
     "text": [
      "[2019-09-03 16:48:48,543] INFO - prefect.TaskRunner | Task 'ShellTask': finished task run for task with final state: 'Success'\n",
      "[2019-09-03 16:48:48,544] INFO - prefect.FlowRunner | Flow run SUCCESS: all reference tasks succeeded\n",
      "[2019-09-03 16:48:48,556] INFO - prefect.FlowRunner | Beginning Flow run for 'predict'\n",
      "[2019-09-03 16:48:48,557] INFO - prefect.FlowRunner | Starting flow run.\n",
      "[2019-09-03 16:48:48,563] INFO - prefect.TaskRunner | Task 'Constant[str]': Starting task run...\n",
      "[2019-09-03 16:48:48,564] INFO - prefect.TaskRunner | Task 'Constant[str]': finished task run for task with final state: 'Success'\n",
      "[2019-09-03 16:48:48,567] INFO - prefect.TaskRunner | Task 'ShellTask': Starting task run...\n"
     ]
    },
    {
     "name": "stdout",
     "output_type": "stream",
     "text": [
      "ionosphere\n",
      "      actual predicted\n",
      "inst#                 \n",
      "1        2:g       2:g\n",
      "2        2:g       2:g\n",
      "3        2:g       2:g\n",
      "4        2:g       2:g\n",
      "5        2:g       1:b\n"
     ]
    },
    {
     "name": "stderr",
     "output_type": "stream",
     "text": [
      "[2019-09-03 16:48:48,818] INFO - prefect.TaskRunner | Task 'ShellTask': finished task run for task with final state: 'Success'\n",
      "[2019-09-03 16:48:48,819] INFO - prefect.FlowRunner | Flow run SUCCESS: all reference tasks succeeded\n",
      "[2019-09-03 16:48:48,831] INFO - prefect.FlowRunner | Beginning Flow run for 'predict'\n",
      "[2019-09-03 16:48:48,832] INFO - prefect.FlowRunner | Starting flow run.\n",
      "[2019-09-03 16:48:48,837] INFO - prefect.TaskRunner | Task 'Constant[str]': Starting task run...\n",
      "[2019-09-03 16:48:48,839] INFO - prefect.TaskRunner | Task 'Constant[str]': finished task run for task with final state: 'Success'\n",
      "[2019-09-03 16:48:48,840] INFO - prefect.TaskRunner | Task 'ShellTask': Starting task run...\n"
     ]
    },
    {
     "name": "stdout",
     "output_type": "stream",
     "text": [
      "ionosphere\n",
      "      actual predicted\n",
      "inst#                 \n",
      "1        2:g       2:g\n",
      "2        2:g       2:g\n",
      "3        2:g       2:g\n",
      "4        2:g       2:g\n",
      "5        2:g       1:b\n"
     ]
    },
    {
     "name": "stderr",
     "output_type": "stream",
     "text": [
      "[2019-09-03 16:48:49,076] INFO - prefect.TaskRunner | Task 'ShellTask': finished task run for task with final state: 'Success'\n",
      "[2019-09-03 16:48:49,077] INFO - prefect.FlowRunner | Flow run SUCCESS: all reference tasks succeeded\n",
      "[2019-09-03 16:48:49,089] INFO - prefect.FlowRunner | Beginning Flow run for 'predict'\n",
      "[2019-09-03 16:48:49,090] INFO - prefect.FlowRunner | Starting flow run.\n",
      "[2019-09-03 16:48:49,095] INFO - prefect.TaskRunner | Task 'Constant[str]': Starting task run...\n",
      "[2019-09-03 16:48:49,096] INFO - prefect.TaskRunner | Task 'Constant[str]': finished task run for task with final state: 'Success'\n",
      "[2019-09-03 16:48:49,098] INFO - prefect.TaskRunner | Task 'ShellTask': Starting task run...\n"
     ]
    },
    {
     "name": "stdout",
     "output_type": "stream",
     "text": [
      "ionosphere\n",
      "      actual predicted\n",
      "inst#                 \n",
      "1        2:g       2:g\n",
      "2        2:g       2:g\n",
      "3        2:g       2:g\n",
      "4        2:g       2:g\n",
      "5        2:g       1:b\n"
     ]
    },
    {
     "name": "stderr",
     "output_type": "stream",
     "text": [
      "[2019-09-03 16:48:49,341] INFO - prefect.TaskRunner | Task 'ShellTask': finished task run for task with final state: 'Success'\n",
      "[2019-09-03 16:48:49,342] INFO - prefect.FlowRunner | Flow run SUCCESS: all reference tasks succeeded\n",
      "[2019-09-03 16:48:49,357] INFO - prefect.FlowRunner | Beginning Flow run for 'fit'\n",
      "[2019-09-03 16:48:49,358] INFO - prefect.FlowRunner | Starting flow run.\n",
      "[2019-09-03 16:48:49,363] INFO - prefect.TaskRunner | Task 'Constant[str]': Starting task run...\n",
      "[2019-09-03 16:48:49,365] INFO - prefect.TaskRunner | Task 'Constant[str]': finished task run for task with final state: 'Success'\n",
      "[2019-09-03 16:48:49,367] INFO - prefect.TaskRunner | Task 'ShellTask': Starting task run...\n"
     ]
    },
    {
     "name": "stdout",
     "output_type": "stream",
     "text": [
      "ionosphere\n",
      "      actual predicted\n",
      "inst#                 \n",
      "1        2:g       2:g\n",
      "2        2:g       2:g\n",
      "3        2:g       2:g\n",
      "4        2:g       2:g\n",
      "5        2:g       1:b\n",
      "lymph\n"
     ]
    },
    {
     "name": "stderr",
     "output_type": "stream",
     "text": [
      "[2019-09-03 16:48:49,881] INFO - prefect.TaskRunner | Task 'ShellTask': finished task run for task with final state: 'Success'\n",
      "[2019-09-03 16:48:49,882] INFO - prefect.FlowRunner | Flow run SUCCESS: all reference tasks succeeded\n",
      "[2019-09-03 16:48:49,885] INFO - prefect.FlowRunner | Beginning Flow run for 'predict'\n",
      "[2019-09-03 16:48:49,886] INFO - prefect.FlowRunner | Starting flow run.\n",
      "[2019-09-03 16:48:49,892] INFO - prefect.TaskRunner | Task 'Constant[str]': Starting task run...\n",
      "[2019-09-03 16:48:49,893] INFO - prefect.TaskRunner | Task 'Constant[str]': finished task run for task with final state: 'Success'\n",
      "[2019-09-03 16:48:49,894] INFO - prefect.TaskRunner | Task 'ShellTask': Starting task run...\n",
      "[2019-09-03 16:48:50,116] INFO - prefect.TaskRunner | Task 'ShellTask': finished task run for task with final state: 'Success'\n",
      "[2019-09-03 16:48:50,118] INFO - prefect.FlowRunner | Flow run SUCCESS: all reference tasks succeeded\n",
      "/home/zissou/miniconda3/envs/aaai20/lib/python3.6/site-packages/sklearn/metrics/classification.py:1145: UndefinedMetricWarning: F-score is ill-defined and being set to 0.0 in labels with no true samples.\n",
      "  'recall', 'true', average, warn_for)\n",
      "[2019-09-03 16:48:50,131] INFO - prefect.FlowRunner | Beginning Flow run for 'predict'\n",
      "[2019-09-03 16:48:50,131] INFO - prefect.FlowRunner | Starting flow run.\n",
      "[2019-09-03 16:48:50,135] INFO - prefect.TaskRunner | Task 'Constant[str]': Starting task run...\n",
      "[2019-09-03 16:48:50,138] INFO - prefect.TaskRunner | Task 'Constant[str]': finished task run for task with final state: 'Success'\n",
      "[2019-09-03 16:48:50,139] INFO - prefect.TaskRunner | Task 'ShellTask': Starting task run...\n"
     ]
    },
    {
     "name": "stdout",
     "output_type": "stream",
     "text": [
      "lymph\n",
      "               actual     predicted\n",
      "inst#                              \n",
      "1        2:metastases  2:metastases\n",
      "2        2:metastases  2:metastases\n",
      "3        2:metastases  2:metastases\n",
      "4        2:metastases  2:metastases\n",
      "5      3:malign_lymph      1:normal\n"
     ]
    },
    {
     "name": "stderr",
     "output_type": "stream",
     "text": [
      "[2019-09-03 16:48:50,364] INFO - prefect.TaskRunner | Task 'ShellTask': finished task run for task with final state: 'Success'\n",
      "[2019-09-03 16:48:50,365] INFO - prefect.FlowRunner | Flow run SUCCESS: all reference tasks succeeded\n",
      "/home/zissou/miniconda3/envs/aaai20/lib/python3.6/site-packages/sklearn/metrics/classification.py:1145: UndefinedMetricWarning: F-score is ill-defined and being set to 0.0 in labels with no true samples.\n",
      "  'recall', 'true', average, warn_for)\n",
      "[2019-09-03 16:48:50,383] INFO - prefect.FlowRunner | Beginning Flow run for 'predict'\n",
      "[2019-09-03 16:48:50,383] INFO - prefect.FlowRunner | Starting flow run.\n",
      "[2019-09-03 16:48:50,390] INFO - prefect.TaskRunner | Task 'Constant[str]': Starting task run...\n",
      "[2019-09-03 16:48:50,391] INFO - prefect.TaskRunner | Task 'Constant[str]': finished task run for task with final state: 'Success'\n",
      "[2019-09-03 16:48:50,393] INFO - prefect.TaskRunner | Task 'ShellTask': Starting task run...\n"
     ]
    },
    {
     "name": "stdout",
     "output_type": "stream",
     "text": [
      "lymph\n",
      "               actual     predicted\n",
      "inst#                              \n",
      "1        2:metastases  2:metastases\n",
      "2        2:metastases  2:metastases\n",
      "3        2:metastases  2:metastases\n",
      "4        2:metastases  2:metastases\n",
      "5      3:malign_lymph      1:normal\n"
     ]
    },
    {
     "name": "stderr",
     "output_type": "stream",
     "text": [
      "[2019-09-03 16:48:50,635] INFO - prefect.TaskRunner | Task 'ShellTask': finished task run for task with final state: 'Success'\n",
      "[2019-09-03 16:48:50,636] INFO - prefect.FlowRunner | Flow run SUCCESS: all reference tasks succeeded\n",
      "[2019-09-03 16:48:50,648] INFO - prefect.FlowRunner | Beginning Flow run for 'predict'\n",
      "[2019-09-03 16:48:50,649] INFO - prefect.FlowRunner | Starting flow run.\n",
      "[2019-09-03 16:48:50,655] INFO - prefect.TaskRunner | Task 'Constant[str]': Starting task run...\n",
      "[2019-09-03 16:48:50,657] INFO - prefect.TaskRunner | Task 'Constant[str]': finished task run for task with final state: 'Success'\n",
      "[2019-09-03 16:48:50,658] INFO - prefect.TaskRunner | Task 'ShellTask': Starting task run...\n"
     ]
    },
    {
     "name": "stdout",
     "output_type": "stream",
     "text": [
      "lymph\n",
      "               actual       predicted\n",
      "inst#                                \n",
      "1        2:metastases    2:metastases\n",
      "2        2:metastases    2:metastases\n",
      "3        2:metastases    2:metastases\n",
      "4        2:metastases    2:metastases\n",
      "5      3:malign_lymph  3:malign_lymph\n"
     ]
    },
    {
     "name": "stderr",
     "output_type": "stream",
     "text": [
      "[2019-09-03 16:48:50,890] INFO - prefect.TaskRunner | Task 'ShellTask': finished task run for task with final state: 'Success'\n",
      "[2019-09-03 16:48:50,891] INFO - prefect.FlowRunner | Flow run SUCCESS: all reference tasks succeeded\n",
      "[2019-09-03 16:48:50,902] INFO - prefect.FlowRunner | Beginning Flow run for 'predict'\n",
      "[2019-09-03 16:48:50,904] INFO - prefect.FlowRunner | Starting flow run.\n",
      "[2019-09-03 16:48:50,910] INFO - prefect.TaskRunner | Task 'Constant[str]': Starting task run...\n",
      "[2019-09-03 16:48:50,912] INFO - prefect.TaskRunner | Task 'Constant[str]': finished task run for task with final state: 'Success'\n",
      "[2019-09-03 16:48:50,914] INFO - prefect.TaskRunner | Task 'ShellTask': Starting task run...\n"
     ]
    },
    {
     "name": "stdout",
     "output_type": "stream",
     "text": [
      "lymph\n",
      "               actual     predicted\n",
      "inst#                              \n",
      "1        2:metastases  2:metastases\n",
      "2        2:metastases  2:metastases\n",
      "3        2:metastases  2:metastases\n",
      "4        2:metastases  2:metastases\n",
      "5      3:malign_lymph  2:metastases\n"
     ]
    },
    {
     "name": "stderr",
     "output_type": "stream",
     "text": [
      "[2019-09-03 16:48:51,156] INFO - prefect.TaskRunner | Task 'ShellTask': finished task run for task with final state: 'Success'\n",
      "[2019-09-03 16:48:51,157] INFO - prefect.FlowRunner | Flow run SUCCESS: all reference tasks succeeded\n",
      "[2019-09-03 16:48:51,169] INFO - prefect.FlowRunner | Beginning Flow run for 'predict'\n",
      "[2019-09-03 16:48:51,170] INFO - prefect.FlowRunner | Starting flow run.\n",
      "[2019-09-03 16:48:51,174] INFO - prefect.TaskRunner | Task 'Constant[str]': Starting task run...\n",
      "[2019-09-03 16:48:51,175] INFO - prefect.TaskRunner | Task 'Constant[str]': finished task run for task with final state: 'Success'\n",
      "[2019-09-03 16:48:51,176] INFO - prefect.TaskRunner | Task 'ShellTask': Starting task run...\n"
     ]
    },
    {
     "name": "stdout",
     "output_type": "stream",
     "text": [
      "lymph\n",
      "               actual     predicted\n",
      "inst#                              \n",
      "1        2:metastases  2:metastases\n",
      "2        2:metastases  2:metastases\n",
      "3        2:metastases  2:metastases\n",
      "4        2:metastases  2:metastases\n",
      "5      3:malign_lymph  2:metastases\n"
     ]
    },
    {
     "name": "stderr",
     "output_type": "stream",
     "text": [
      "[2019-09-03 16:48:51,430] INFO - prefect.TaskRunner | Task 'ShellTask': finished task run for task with final state: 'Success'\n",
      "[2019-09-03 16:48:51,431] INFO - prefect.FlowRunner | Flow run SUCCESS: all reference tasks succeeded\n",
      "[2019-09-03 16:48:51,445] INFO - prefect.FlowRunner | Beginning Flow run for 'predict'\n",
      "[2019-09-03 16:48:51,446] INFO - prefect.FlowRunner | Starting flow run.\n",
      "[2019-09-03 16:48:51,451] INFO - prefect.TaskRunner | Task 'Constant[str]': Starting task run...\n",
      "[2019-09-03 16:48:51,452] INFO - prefect.TaskRunner | Task 'Constant[str]': finished task run for task with final state: 'Success'\n",
      "[2019-09-03 16:48:51,454] INFO - prefect.TaskRunner | Task 'ShellTask': Starting task run...\n"
     ]
    },
    {
     "name": "stdout",
     "output_type": "stream",
     "text": [
      "lymph\n",
      "               actual     predicted\n",
      "inst#                              \n",
      "1        2:metastases  2:metastases\n",
      "2        2:metastases  2:metastases\n",
      "3        2:metastases  2:metastases\n",
      "4        2:metastases  2:metastases\n",
      "5      3:malign_lymph  2:metastases\n"
     ]
    },
    {
     "name": "stderr",
     "output_type": "stream",
     "text": [
      "[2019-09-03 16:48:51,704] INFO - prefect.TaskRunner | Task 'ShellTask': finished task run for task with final state: 'Success'\n",
      "[2019-09-03 16:48:51,705] INFO - prefect.FlowRunner | Flow run SUCCESS: all reference tasks succeeded\n",
      "[2019-09-03 16:48:51,716] INFO - prefect.FlowRunner | Beginning Flow run for 'predict'\n",
      "[2019-09-03 16:48:51,717] INFO - prefect.FlowRunner | Starting flow run.\n",
      "[2019-09-03 16:48:51,721] INFO - prefect.TaskRunner | Task 'Constant[str]': Starting task run...\n",
      "[2019-09-03 16:48:51,723] INFO - prefect.TaskRunner | Task 'Constant[str]': finished task run for task with final state: 'Success'\n",
      "[2019-09-03 16:48:51,724] INFO - prefect.TaskRunner | Task 'ShellTask': Starting task run...\n"
     ]
    },
    {
     "name": "stdout",
     "output_type": "stream",
     "text": [
      "lymph\n",
      "               actual     predicted\n",
      "inst#                              \n",
      "1        2:metastases  2:metastases\n",
      "2        2:metastases  2:metastases\n",
      "3        2:metastases  2:metastases\n",
      "4        2:metastases  2:metastases\n",
      "5      3:malign_lymph  2:metastases\n"
     ]
    },
    {
     "name": "stderr",
     "output_type": "stream",
     "text": [
      "[2019-09-03 16:48:51,963] INFO - prefect.TaskRunner | Task 'ShellTask': finished task run for task with final state: 'Success'\n",
      "[2019-09-03 16:48:51,964] INFO - prefect.FlowRunner | Flow run SUCCESS: all reference tasks succeeded\n",
      "[2019-09-03 16:48:51,977] INFO - prefect.FlowRunner | Beginning Flow run for 'predict'\n",
      "[2019-09-03 16:48:51,978] INFO - prefect.FlowRunner | Starting flow run.\n",
      "[2019-09-03 16:48:51,981] INFO - prefect.TaskRunner | Task 'Constant[str]': Starting task run...\n",
      "[2019-09-03 16:48:51,983] INFO - prefect.TaskRunner | Task 'Constant[str]': finished task run for task with final state: 'Success'\n",
      "[2019-09-03 16:48:51,984] INFO - prefect.TaskRunner | Task 'ShellTask': Starting task run...\n"
     ]
    },
    {
     "name": "stdout",
     "output_type": "stream",
     "text": [
      "lymph\n",
      "               actual     predicted\n",
      "inst#                              \n",
      "1        2:metastases  2:metastases\n",
      "2        2:metastases  2:metastases\n",
      "3        2:metastases  2:metastases\n",
      "4        2:metastases  2:metastases\n",
      "5      3:malign_lymph  2:metastases\n"
     ]
    },
    {
     "name": "stderr",
     "output_type": "stream",
     "text": [
      "[2019-09-03 16:48:52,240] INFO - prefect.TaskRunner | Task 'ShellTask': finished task run for task with final state: 'Success'\n",
      "[2019-09-03 16:48:52,241] INFO - prefect.FlowRunner | Flow run SUCCESS: all reference tasks succeeded\n",
      "[2019-09-03 16:48:52,253] INFO - prefect.FlowRunner | Beginning Flow run for 'predict'\n",
      "[2019-09-03 16:48:52,254] INFO - prefect.FlowRunner | Starting flow run.\n",
      "[2019-09-03 16:48:52,260] INFO - prefect.TaskRunner | Task 'Constant[str]': Starting task run...\n",
      "[2019-09-03 16:48:52,263] INFO - prefect.TaskRunner | Task 'Constant[str]': finished task run for task with final state: 'Success'\n",
      "[2019-09-03 16:48:52,264] INFO - prefect.TaskRunner | Task 'ShellTask': Starting task run...\n"
     ]
    },
    {
     "name": "stdout",
     "output_type": "stream",
     "text": [
      "lymph\n",
      "               actual     predicted\n",
      "inst#                              \n",
      "1        2:metastases  2:metastases\n",
      "2        2:metastases  2:metastases\n",
      "3        2:metastases  2:metastases\n",
      "4        2:metastases  2:metastases\n",
      "5      3:malign_lymph  2:metastases\n"
     ]
    },
    {
     "name": "stderr",
     "output_type": "stream",
     "text": [
      "[2019-09-03 16:48:52,508] INFO - prefect.TaskRunner | Task 'ShellTask': finished task run for task with final state: 'Success'\n",
      "[2019-09-03 16:48:52,509] INFO - prefect.FlowRunner | Flow run SUCCESS: all reference tasks succeeded\n",
      "/home/zissou/miniconda3/envs/aaai20/lib/python3.6/site-packages/sklearn/metrics/classification.py:1143: UndefinedMetricWarning: F-score is ill-defined and being set to 0.0 in labels with no predicted samples.\n",
      "  'precision', 'predicted', average, warn_for)\n",
      "[2019-09-03 16:48:52,526] INFO - prefect.FlowRunner | Beginning Flow run for 'fit'\n",
      "[2019-09-03 16:48:52,527] INFO - prefect.FlowRunner | Starting flow run.\n",
      "[2019-09-03 16:48:52,532] INFO - prefect.TaskRunner | Task 'Constant[str]': Starting task run...\n",
      "[2019-09-03 16:48:52,533] INFO - prefect.TaskRunner | Task 'Constant[str]': finished task run for task with final state: 'Success'\n",
      "[2019-09-03 16:48:52,534] INFO - prefect.TaskRunner | Task 'ShellTask': Starting task run...\n"
     ]
    },
    {
     "name": "stdout",
     "output_type": "stream",
     "text": [
      "lymph\n",
      "               actual     predicted\n",
      "inst#                              \n",
      "1        2:metastases  2:metastases\n",
      "2        2:metastases  2:metastases\n",
      "3        2:metastases  2:metastases\n",
      "4        2:metastases  2:metastases\n",
      "5      3:malign_lymph  2:metastases\n",
      "vehicle\n"
     ]
    },
    {
     "name": "stderr",
     "output_type": "stream",
     "text": [
      "[2019-09-03 16:48:53,273] INFO - prefect.TaskRunner | Task 'ShellTask': finished task run for task with final state: 'Success'\n",
      "[2019-09-03 16:48:53,274] INFO - prefect.FlowRunner | Flow run SUCCESS: all reference tasks succeeded\n",
      "[2019-09-03 16:48:53,277] INFO - prefect.FlowRunner | Beginning Flow run for 'predict'\n",
      "[2019-09-03 16:48:53,278] INFO - prefect.FlowRunner | Starting flow run.\n",
      "[2019-09-03 16:48:53,283] INFO - prefect.TaskRunner | Task 'Constant[str]': Starting task run...\n",
      "[2019-09-03 16:48:53,284] INFO - prefect.TaskRunner | Task 'Constant[str]': finished task run for task with final state: 'Success'\n",
      "[2019-09-03 16:48:53,285] INFO - prefect.TaskRunner | Task 'ShellTask': Starting task run...\n",
      "[2019-09-03 16:48:53,572] INFO - prefect.TaskRunner | Task 'ShellTask': finished task run for task with final state: 'Success'\n",
      "[2019-09-03 16:48:53,574] INFO - prefect.FlowRunner | Flow run SUCCESS: all reference tasks succeeded\n",
      "[2019-09-03 16:48:53,587] INFO - prefect.FlowRunner | Beginning Flow run for 'predict'\n",
      "[2019-09-03 16:48:53,589] INFO - prefect.FlowRunner | Starting flow run.\n",
      "[2019-09-03 16:48:53,594] INFO - prefect.TaskRunner | Task 'Constant[str]': Starting task run...\n",
      "[2019-09-03 16:48:53,596] INFO - prefect.TaskRunner | Task 'Constant[str]': finished task run for task with final state: 'Success'\n",
      "[2019-09-03 16:48:53,598] INFO - prefect.TaskRunner | Task 'ShellTask': Starting task run...\n"
     ]
    },
    {
     "name": "stdout",
     "output_type": "stream",
     "text": [
      "vehicle\n",
      "       actual predicted\n",
      "inst#                  \n",
      "1       3:bus     3:bus\n",
      "2      2:saab    1:opel\n",
      "3      2:saab    2:saab\n",
      "4      1:opel    1:opel\n",
      "5      1:opel    1:opel\n"
     ]
    },
    {
     "name": "stderr",
     "output_type": "stream",
     "text": [
      "[2019-09-03 16:48:53,893] INFO - prefect.TaskRunner | Task 'ShellTask': finished task run for task with final state: 'Success'\n",
      "[2019-09-03 16:48:53,894] INFO - prefect.FlowRunner | Flow run SUCCESS: all reference tasks succeeded\n",
      "[2019-09-03 16:48:53,906] INFO - prefect.FlowRunner | Beginning Flow run for 'predict'\n",
      "[2019-09-03 16:48:53,908] INFO - prefect.FlowRunner | Starting flow run.\n",
      "[2019-09-03 16:48:53,913] INFO - prefect.TaskRunner | Task 'Constant[str]': Starting task run...\n",
      "[2019-09-03 16:48:53,915] INFO - prefect.TaskRunner | Task 'Constant[str]': finished task run for task with final state: 'Success'\n",
      "[2019-09-03 16:48:53,916] INFO - prefect.TaskRunner | Task 'ShellTask': Starting task run...\n"
     ]
    },
    {
     "name": "stdout",
     "output_type": "stream",
     "text": [
      "vehicle\n",
      "       actual predicted\n",
      "inst#                  \n",
      "1       3:bus     3:bus\n",
      "2      2:saab    1:opel\n",
      "3      2:saab    1:opel\n",
      "4      1:opel    1:opel\n",
      "5      1:opel    1:opel\n"
     ]
    },
    {
     "name": "stderr",
     "output_type": "stream",
     "text": [
      "[2019-09-03 16:48:54,169] INFO - prefect.TaskRunner | Task 'ShellTask': finished task run for task with final state: 'Success'\n",
      "[2019-09-03 16:48:54,171] INFO - prefect.FlowRunner | Flow run SUCCESS: all reference tasks succeeded\n",
      "[2019-09-03 16:48:54,182] INFO - prefect.FlowRunner | Beginning Flow run for 'predict'\n",
      "[2019-09-03 16:48:54,183] INFO - prefect.FlowRunner | Starting flow run.\n",
      "[2019-09-03 16:48:54,188] INFO - prefect.TaskRunner | Task 'Constant[str]': Starting task run...\n",
      "[2019-09-03 16:48:54,189] INFO - prefect.TaskRunner | Task 'Constant[str]': finished task run for task with final state: 'Success'\n",
      "[2019-09-03 16:48:54,191] INFO - prefect.TaskRunner | Task 'ShellTask': Starting task run...\n"
     ]
    },
    {
     "name": "stdout",
     "output_type": "stream",
     "text": [
      "vehicle\n",
      "       actual predicted\n",
      "inst#                  \n",
      "1       3:bus     3:bus\n",
      "2      2:saab    1:opel\n",
      "3      2:saab    1:opel\n",
      "4      1:opel    1:opel\n",
      "5      1:opel    1:opel\n"
     ]
    },
    {
     "name": "stderr",
     "output_type": "stream",
     "text": [
      "[2019-09-03 16:48:54,451] INFO - prefect.TaskRunner | Task 'ShellTask': finished task run for task with final state: 'Success'\n",
      "[2019-09-03 16:48:54,452] INFO - prefect.FlowRunner | Flow run SUCCESS: all reference tasks succeeded\n",
      "[2019-09-03 16:48:54,464] INFO - prefect.FlowRunner | Beginning Flow run for 'predict'\n",
      "[2019-09-03 16:48:54,465] INFO - prefect.FlowRunner | Starting flow run.\n",
      "[2019-09-03 16:48:54,470] INFO - prefect.TaskRunner | Task 'Constant[str]': Starting task run...\n",
      "[2019-09-03 16:48:54,472] INFO - prefect.TaskRunner | Task 'Constant[str]': finished task run for task with final state: 'Success'\n",
      "[2019-09-03 16:48:54,473] INFO - prefect.TaskRunner | Task 'ShellTask': Starting task run...\n"
     ]
    },
    {
     "name": "stdout",
     "output_type": "stream",
     "text": [
      "vehicle\n",
      "       actual predicted\n",
      "inst#                  \n",
      "1       3:bus     3:bus\n",
      "2      2:saab    1:opel\n",
      "3      2:saab    1:opel\n",
      "4      1:opel    1:opel\n",
      "5      1:opel    1:opel\n"
     ]
    },
    {
     "name": "stderr",
     "output_type": "stream",
     "text": [
      "[2019-09-03 16:48:54,734] INFO - prefect.TaskRunner | Task 'ShellTask': finished task run for task with final state: 'Success'\n",
      "[2019-09-03 16:48:54,735] INFO - prefect.FlowRunner | Flow run SUCCESS: all reference tasks succeeded\n",
      "[2019-09-03 16:48:54,747] INFO - prefect.FlowRunner | Beginning Flow run for 'predict'\n",
      "[2019-09-03 16:48:54,748] INFO - prefect.FlowRunner | Starting flow run.\n",
      "[2019-09-03 16:48:54,751] INFO - prefect.TaskRunner | Task 'Constant[str]': Starting task run...\n",
      "[2019-09-03 16:48:54,753] INFO - prefect.TaskRunner | Task 'Constant[str]': finished task run for task with final state: 'Success'\n",
      "[2019-09-03 16:48:54,754] INFO - prefect.TaskRunner | Task 'ShellTask': Starting task run...\n"
     ]
    },
    {
     "name": "stdout",
     "output_type": "stream",
     "text": [
      "vehicle\n",
      "       actual predicted\n",
      "inst#                  \n",
      "1       3:bus     3:bus\n",
      "2      2:saab    2:saab\n",
      "3      2:saab    2:saab\n",
      "4      1:opel    1:opel\n",
      "5      1:opel    2:saab\n"
     ]
    },
    {
     "name": "stderr",
     "output_type": "stream",
     "text": [
      "[2019-09-03 16:48:55,020] INFO - prefect.TaskRunner | Task 'ShellTask': finished task run for task with final state: 'Success'\n",
      "[2019-09-03 16:48:55,022] INFO - prefect.FlowRunner | Flow run SUCCESS: all reference tasks succeeded\n",
      "[2019-09-03 16:48:55,034] INFO - prefect.FlowRunner | Beginning Flow run for 'predict'\n",
      "[2019-09-03 16:48:55,035] INFO - prefect.FlowRunner | Starting flow run.\n",
      "[2019-09-03 16:48:55,042] INFO - prefect.TaskRunner | Task 'Constant[str]': Starting task run...\n",
      "[2019-09-03 16:48:55,044] INFO - prefect.TaskRunner | Task 'Constant[str]': finished task run for task with final state: 'Success'\n",
      "[2019-09-03 16:48:55,045] INFO - prefect.TaskRunner | Task 'ShellTask': Starting task run...\n"
     ]
    },
    {
     "name": "stdout",
     "output_type": "stream",
     "text": [
      "vehicle\n",
      "       actual predicted\n",
      "inst#                  \n",
      "1       3:bus     3:bus\n",
      "2      2:saab    2:saab\n",
      "3      2:saab    2:saab\n",
      "4      1:opel    1:opel\n",
      "5      1:opel    2:saab\n"
     ]
    },
    {
     "name": "stderr",
     "output_type": "stream",
     "text": [
      "[2019-09-03 16:48:55,313] INFO - prefect.TaskRunner | Task 'ShellTask': finished task run for task with final state: 'Success'\n",
      "[2019-09-03 16:48:55,314] INFO - prefect.FlowRunner | Flow run SUCCESS: all reference tasks succeeded\n",
      "[2019-09-03 16:48:55,326] INFO - prefect.FlowRunner | Beginning Flow run for 'predict'\n",
      "[2019-09-03 16:48:55,327] INFO - prefect.FlowRunner | Starting flow run.\n",
      "[2019-09-03 16:48:55,331] INFO - prefect.TaskRunner | Task 'Constant[str]': Starting task run...\n",
      "[2019-09-03 16:48:55,332] INFO - prefect.TaskRunner | Task 'Constant[str]': finished task run for task with final state: 'Success'\n",
      "[2019-09-03 16:48:55,334] INFO - prefect.TaskRunner | Task 'ShellTask': Starting task run...\n"
     ]
    },
    {
     "name": "stdout",
     "output_type": "stream",
     "text": [
      "vehicle\n",
      "       actual predicted\n",
      "inst#                  \n",
      "1       3:bus     3:bus\n",
      "2      2:saab    2:saab\n",
      "3      2:saab    2:saab\n",
      "4      1:opel    1:opel\n",
      "5      1:opel    2:saab\n"
     ]
    },
    {
     "name": "stderr",
     "output_type": "stream",
     "text": [
      "[2019-09-03 16:48:55,610] INFO - prefect.TaskRunner | Task 'ShellTask': finished task run for task with final state: 'Success'\n",
      "[2019-09-03 16:48:55,611] INFO - prefect.FlowRunner | Flow run SUCCESS: all reference tasks succeeded\n",
      "[2019-09-03 16:48:55,624] INFO - prefect.FlowRunner | Beginning Flow run for 'predict'\n",
      "[2019-09-03 16:48:55,625] INFO - prefect.FlowRunner | Starting flow run.\n",
      "[2019-09-03 16:48:55,631] INFO - prefect.TaskRunner | Task 'Constant[str]': Starting task run...\n",
      "[2019-09-03 16:48:55,632] INFO - prefect.TaskRunner | Task 'Constant[str]': finished task run for task with final state: 'Success'\n",
      "[2019-09-03 16:48:55,633] INFO - prefect.TaskRunner | Task 'ShellTask': Starting task run...\n"
     ]
    },
    {
     "name": "stdout",
     "output_type": "stream",
     "text": [
      "vehicle\n",
      "       actual predicted\n",
      "inst#                  \n",
      "1       3:bus     3:bus\n",
      "2      2:saab    2:saab\n",
      "3      2:saab    2:saab\n",
      "4      1:opel    1:opel\n",
      "5      1:opel    2:saab\n"
     ]
    },
    {
     "name": "stderr",
     "output_type": "stream",
     "text": [
      "[2019-09-03 16:48:55,893] INFO - prefect.TaskRunner | Task 'ShellTask': finished task run for task with final state: 'Success'\n",
      "[2019-09-03 16:48:55,894] INFO - prefect.FlowRunner | Flow run SUCCESS: all reference tasks succeeded\n",
      "[2019-09-03 16:48:55,907] INFO - prefect.FlowRunner | Beginning Flow run for 'predict'\n",
      "[2019-09-03 16:48:55,908] INFO - prefect.FlowRunner | Starting flow run.\n",
      "[2019-09-03 16:48:55,915] INFO - prefect.TaskRunner | Task 'Constant[str]': Starting task run...\n",
      "[2019-09-03 16:48:55,916] INFO - prefect.TaskRunner | Task 'Constant[str]': finished task run for task with final state: 'Success'\n",
      "[2019-09-03 16:48:55,917] INFO - prefect.TaskRunner | Task 'ShellTask': Starting task run...\n"
     ]
    },
    {
     "name": "stdout",
     "output_type": "stream",
     "text": [
      "vehicle\n",
      "       actual predicted\n",
      "inst#                  \n",
      "1       3:bus     3:bus\n",
      "2      2:saab    2:saab\n",
      "3      2:saab    2:saab\n",
      "4      1:opel    1:opel\n",
      "5      1:opel    2:saab\n"
     ]
    },
    {
     "name": "stderr",
     "output_type": "stream",
     "text": [
      "[2019-09-03 16:48:56,180] INFO - prefect.TaskRunner | Task 'ShellTask': finished task run for task with final state: 'Success'\n",
      "[2019-09-03 16:48:56,181] INFO - prefect.FlowRunner | Flow run SUCCESS: all reference tasks succeeded\n",
      "[2019-09-03 16:48:56,198] INFO - prefect.FlowRunner | Beginning Flow run for 'fit'\n",
      "[2019-09-03 16:48:56,199] INFO - prefect.FlowRunner | Starting flow run.\n",
      "[2019-09-03 16:48:56,205] INFO - prefect.TaskRunner | Task 'Constant[str]': Starting task run...\n",
      "[2019-09-03 16:48:56,207] INFO - prefect.TaskRunner | Task 'Constant[str]': finished task run for task with final state: 'Success'\n",
      "[2019-09-03 16:48:56,208] INFO - prefect.TaskRunner | Task 'ShellTask': Starting task run...\n"
     ]
    },
    {
     "name": "stdout",
     "output_type": "stream",
     "text": [
      "vehicle\n",
      "       actual predicted\n",
      "inst#                  \n",
      "1       3:bus     3:bus\n",
      "2      2:saab    2:saab\n",
      "3      2:saab    2:saab\n",
      "4      1:opel    1:opel\n",
      "5      1:opel    2:saab\n",
      "iris\n"
     ]
    },
    {
     "name": "stderr",
     "output_type": "stream",
     "text": [
      "[2019-09-03 16:48:56,740] INFO - prefect.TaskRunner | Task 'ShellTask': finished task run for task with final state: 'Success'\n",
      "[2019-09-03 16:48:56,741] INFO - prefect.FlowRunner | Flow run SUCCESS: all reference tasks succeeded\n",
      "[2019-09-03 16:48:56,746] INFO - prefect.FlowRunner | Beginning Flow run for 'predict'\n",
      "[2019-09-03 16:48:56,747] INFO - prefect.FlowRunner | Starting flow run.\n",
      "[2019-09-03 16:48:56,752] INFO - prefect.TaskRunner | Task 'Constant[str]': Starting task run...\n",
      "[2019-09-03 16:48:56,754] INFO - prefect.TaskRunner | Task 'Constant[str]': finished task run for task with final state: 'Success'\n",
      "[2019-09-03 16:48:56,756] INFO - prefect.TaskRunner | Task 'ShellTask': Starting task run...\n",
      "[2019-09-03 16:48:56,977] INFO - prefect.TaskRunner | Task 'ShellTask': finished task run for task with final state: 'Success'\n",
      "[2019-09-03 16:48:56,978] INFO - prefect.FlowRunner | Flow run SUCCESS: all reference tasks succeeded\n",
      "[2019-09-03 16:48:56,990] INFO - prefect.FlowRunner | Beginning Flow run for 'predict'\n",
      "[2019-09-03 16:48:56,991] INFO - prefect.FlowRunner | Starting flow run.\n",
      "[2019-09-03 16:48:56,996] INFO - prefect.TaskRunner | Task 'Constant[str]': Starting task run...\n",
      "[2019-09-03 16:48:56,998] INFO - prefect.TaskRunner | Task 'Constant[str]': finished task run for task with final state: 'Success'\n",
      "[2019-09-03 16:48:56,999] INFO - prefect.TaskRunner | Task 'ShellTask': Starting task run...\n"
     ]
    },
    {
     "name": "stdout",
     "output_type": "stream",
     "text": [
      "iris\n",
      "                  actual          predicted\n",
      "inst#                                      \n",
      "1          1:Iris-setosa      1:Iris-setosa\n",
      "2       3:Iris-virginica   3:Iris-virginica\n",
      "3      2:Iris-versicolor  2:Iris-versicolor\n",
      "4      2:Iris-versicolor  2:Iris-versicolor\n",
      "5          1:Iris-setosa      1:Iris-setosa\n"
     ]
    },
    {
     "name": "stderr",
     "output_type": "stream",
     "text": [
      "[2019-09-03 16:48:57,215] INFO - prefect.TaskRunner | Task 'ShellTask': finished task run for task with final state: 'Success'\n",
      "[2019-09-03 16:48:57,217] INFO - prefect.FlowRunner | Flow run SUCCESS: all reference tasks succeeded\n",
      "[2019-09-03 16:48:57,233] INFO - prefect.FlowRunner | Beginning Flow run for 'predict'\n",
      "[2019-09-03 16:48:57,234] INFO - prefect.FlowRunner | Starting flow run.\n",
      "[2019-09-03 16:48:57,242] INFO - prefect.TaskRunner | Task 'Constant[str]': Starting task run...\n",
      "[2019-09-03 16:48:57,244] INFO - prefect.TaskRunner | Task 'Constant[str]': finished task run for task with final state: 'Success'\n",
      "[2019-09-03 16:48:57,247] INFO - prefect.TaskRunner | Task 'ShellTask': Starting task run...\n"
     ]
    },
    {
     "name": "stdout",
     "output_type": "stream",
     "text": [
      "iris\n",
      "                  actual          predicted\n",
      "inst#                                      \n",
      "1          1:Iris-setosa      1:Iris-setosa\n",
      "2       3:Iris-virginica   3:Iris-virginica\n",
      "3      2:Iris-versicolor  2:Iris-versicolor\n",
      "4      2:Iris-versicolor  2:Iris-versicolor\n",
      "5          1:Iris-setosa      1:Iris-setosa\n"
     ]
    },
    {
     "name": "stderr",
     "output_type": "stream",
     "text": [
      "[2019-09-03 16:48:57,501] INFO - prefect.TaskRunner | Task 'ShellTask': finished task run for task with final state: 'Success'\n",
      "[2019-09-03 16:48:57,502] INFO - prefect.FlowRunner | Flow run SUCCESS: all reference tasks succeeded\n",
      "[2019-09-03 16:48:57,517] INFO - prefect.FlowRunner | Beginning Flow run for 'predict'\n",
      "[2019-09-03 16:48:57,518] INFO - prefect.FlowRunner | Starting flow run.\n",
      "[2019-09-03 16:48:57,524] INFO - prefect.TaskRunner | Task 'Constant[str]': Starting task run...\n",
      "[2019-09-03 16:48:57,527] INFO - prefect.TaskRunner | Task 'Constant[str]': finished task run for task with final state: 'Success'\n",
      "[2019-09-03 16:48:57,528] INFO - prefect.TaskRunner | Task 'ShellTask': Starting task run...\n"
     ]
    },
    {
     "name": "stdout",
     "output_type": "stream",
     "text": [
      "iris\n",
      "                  actual          predicted\n",
      "inst#                                      \n",
      "1          1:Iris-setosa      1:Iris-setosa\n",
      "2       3:Iris-virginica   3:Iris-virginica\n",
      "3      2:Iris-versicolor  2:Iris-versicolor\n",
      "4      2:Iris-versicolor  2:Iris-versicolor\n",
      "5          1:Iris-setosa      1:Iris-setosa\n"
     ]
    },
    {
     "name": "stderr",
     "output_type": "stream",
     "text": [
      "[2019-09-03 16:48:57,756] INFO - prefect.TaskRunner | Task 'ShellTask': finished task run for task with final state: 'Success'\n",
      "[2019-09-03 16:48:57,757] INFO - prefect.FlowRunner | Flow run SUCCESS: all reference tasks succeeded\n",
      "/home/zissou/miniconda3/envs/aaai20/lib/python3.6/site-packages/sklearn/metrics/classification.py:1143: UndefinedMetricWarning: F-score is ill-defined and being set to 0.0 in labels with no predicted samples.\n",
      "  'precision', 'predicted', average, warn_for)\n",
      "[2019-09-03 16:48:57,778] INFO - prefect.FlowRunner | Beginning Flow run for 'fit'\n",
      "[2019-09-03 16:48:57,779] INFO - prefect.FlowRunner | Starting flow run.\n",
      "[2019-09-03 16:48:57,785] INFO - prefect.TaskRunner | Task 'Constant[str]': Starting task run...\n",
      "[2019-09-03 16:48:57,787] INFO - prefect.TaskRunner | Task 'Constant[str]': finished task run for task with final state: 'Success'\n",
      "[2019-09-03 16:48:57,788] INFO - prefect.TaskRunner | Task 'ShellTask': Starting task run...\n"
     ]
    },
    {
     "name": "stdout",
     "output_type": "stream",
     "text": [
      "iris\n",
      "                  actual          predicted\n",
      "inst#                                      \n",
      "1          1:Iris-setosa  2:Iris-versicolor\n",
      "2       3:Iris-virginica  2:Iris-versicolor\n",
      "3      2:Iris-versicolor  2:Iris-versicolor\n",
      "4      2:Iris-versicolor  2:Iris-versicolor\n",
      "5          1:Iris-setosa  2:Iris-versicolor\n",
      "splice\n"
     ]
    },
    {
     "name": "stderr",
     "output_type": "stream",
     "text": [
      "[2019-09-03 16:48:58,687] INFO - prefect.TaskRunner | Task 'ShellTask': finished task run for task with final state: 'Success'\n",
      "[2019-09-03 16:48:58,689] INFO - prefect.FlowRunner | Flow run SUCCESS: all reference tasks succeeded\n",
      "[2019-09-03 16:48:58,692] INFO - prefect.FlowRunner | Beginning Flow run for 'predict'\n",
      "[2019-09-03 16:48:58,693] INFO - prefect.FlowRunner | Starting flow run.\n",
      "[2019-09-03 16:48:58,698] INFO - prefect.TaskRunner | Task 'Constant[str]': Starting task run...\n",
      "[2019-09-03 16:48:58,699] INFO - prefect.TaskRunner | Task 'Constant[str]': finished task run for task with final state: 'Success'\n",
      "[2019-09-03 16:48:58,700] INFO - prefect.TaskRunner | Task 'ShellTask': Starting task run...\n",
      "[2019-09-03 16:48:59,121] INFO - prefect.TaskRunner | Task 'ShellTask': finished task run for task with final state: 'Success'\n",
      "[2019-09-03 16:48:59,124] INFO - prefect.FlowRunner | Flow run SUCCESS: all reference tasks succeeded\n",
      "[2019-09-03 16:48:59,139] INFO - prefect.FlowRunner | Beginning Flow run for 'predict'\n",
      "[2019-09-03 16:48:59,140] INFO - prefect.FlowRunner | Starting flow run.\n",
      "[2019-09-03 16:48:59,143] INFO - prefect.TaskRunner | Task 'Constant[str]': Starting task run...\n",
      "[2019-09-03 16:48:59,145] INFO - prefect.TaskRunner | Task 'Constant[str]': finished task run for task with final state: 'Success'\n",
      "[2019-09-03 16:48:59,146] INFO - prefect.TaskRunner | Task 'ShellTask': Starting task run...\n"
     ]
    },
    {
     "name": "stdout",
     "output_type": "stream",
     "text": [
      "splice\n",
      "      actual predicted\n",
      "inst#                 \n",
      "1       2:IE      2:IE\n",
      "2       2:IE      1:EI\n",
      "3        3:N       3:N\n",
      "4       2:IE      2:IE\n",
      "5       1:EI      1:EI\n"
     ]
    },
    {
     "name": "stderr",
     "output_type": "stream",
     "text": [
      "[2019-09-03 16:48:59,563] INFO - prefect.TaskRunner | Task 'ShellTask': finished task run for task with final state: 'Success'\n",
      "[2019-09-03 16:48:59,564] INFO - prefect.FlowRunner | Flow run SUCCESS: all reference tasks succeeded\n",
      "[2019-09-03 16:48:59,576] INFO - prefect.FlowRunner | Beginning Flow run for 'predict'\n",
      "[2019-09-03 16:48:59,578] INFO - prefect.FlowRunner | Starting flow run.\n",
      "[2019-09-03 16:48:59,582] INFO - prefect.TaskRunner | Task 'Constant[str]': Starting task run...\n",
      "[2019-09-03 16:48:59,583] INFO - prefect.TaskRunner | Task 'Constant[str]': finished task run for task with final state: 'Success'\n",
      "[2019-09-03 16:48:59,584] INFO - prefect.TaskRunner | Task 'ShellTask': Starting task run...\n"
     ]
    },
    {
     "name": "stdout",
     "output_type": "stream",
     "text": [
      "splice\n",
      "      actual predicted\n",
      "inst#                 \n",
      "1       2:IE      2:IE\n",
      "2       2:IE      1:EI\n",
      "3        3:N       3:N\n",
      "4       2:IE      2:IE\n",
      "5       1:EI      1:EI\n"
     ]
    },
    {
     "name": "stderr",
     "output_type": "stream",
     "text": [
      "[2019-09-03 16:48:59,953] INFO - prefect.TaskRunner | Task 'ShellTask': finished task run for task with final state: 'Success'\n",
      "[2019-09-03 16:48:59,954] INFO - prefect.FlowRunner | Flow run SUCCESS: all reference tasks succeeded\n",
      "[2019-09-03 16:48:59,968] INFO - prefect.FlowRunner | Beginning Flow run for 'predict'\n",
      "[2019-09-03 16:48:59,969] INFO - prefect.FlowRunner | Starting flow run.\n",
      "[2019-09-03 16:48:59,975] INFO - prefect.TaskRunner | Task 'Constant[str]': Starting task run...\n",
      "[2019-09-03 16:48:59,977] INFO - prefect.TaskRunner | Task 'Constant[str]': finished task run for task with final state: 'Success'\n",
      "[2019-09-03 16:48:59,978] INFO - prefect.TaskRunner | Task 'ShellTask': Starting task run...\n"
     ]
    },
    {
     "name": "stdout",
     "output_type": "stream",
     "text": [
      "splice\n",
      "      actual predicted\n",
      "inst#                 \n",
      "1       2:IE      2:IE\n",
      "2       2:IE      1:EI\n",
      "3        3:N       3:N\n",
      "4       2:IE      2:IE\n",
      "5       1:EI      1:EI\n"
     ]
    },
    {
     "name": "stderr",
     "output_type": "stream",
     "text": [
      "[2019-09-03 16:49:00,383] INFO - prefect.TaskRunner | Task 'ShellTask': finished task run for task with final state: 'Success'\n",
      "[2019-09-03 16:49:00,385] INFO - prefect.FlowRunner | Flow run SUCCESS: all reference tasks succeeded\n",
      "[2019-09-03 16:49:00,398] INFO - prefect.FlowRunner | Beginning Flow run for 'predict'\n",
      "[2019-09-03 16:49:00,399] INFO - prefect.FlowRunner | Starting flow run.\n",
      "[2019-09-03 16:49:00,403] INFO - prefect.TaskRunner | Task 'Constant[str]': Starting task run...\n",
      "[2019-09-03 16:49:00,405] INFO - prefect.TaskRunner | Task 'Constant[str]': finished task run for task with final state: 'Success'\n",
      "[2019-09-03 16:49:00,405] INFO - prefect.TaskRunner | Task 'ShellTask': Starting task run...\n"
     ]
    },
    {
     "name": "stdout",
     "output_type": "stream",
     "text": [
      "splice\n",
      "      actual predicted\n",
      "inst#                 \n",
      "1       2:IE      2:IE\n",
      "2       2:IE      1:EI\n",
      "3        3:N       3:N\n",
      "4       2:IE      2:IE\n",
      "5       1:EI      1:EI\n"
     ]
    },
    {
     "name": "stderr",
     "output_type": "stream",
     "text": [
      "[2019-09-03 16:49:00,798] INFO - prefect.TaskRunner | Task 'ShellTask': finished task run for task with final state: 'Success'\n",
      "[2019-09-03 16:49:00,799] INFO - prefect.FlowRunner | Flow run SUCCESS: all reference tasks succeeded\n",
      "[2019-09-03 16:49:00,814] INFO - prefect.FlowRunner | Beginning Flow run for 'predict'\n",
      "[2019-09-03 16:49:00,815] INFO - prefect.FlowRunner | Starting flow run.\n",
      "[2019-09-03 16:49:00,821] INFO - prefect.TaskRunner | Task 'Constant[str]': Starting task run...\n",
      "[2019-09-03 16:49:00,823] INFO - prefect.TaskRunner | Task 'Constant[str]': finished task run for task with final state: 'Success'\n",
      "[2019-09-03 16:49:00,825] INFO - prefect.TaskRunner | Task 'ShellTask': Starting task run...\n"
     ]
    },
    {
     "name": "stdout",
     "output_type": "stream",
     "text": [
      "splice\n",
      "      actual predicted\n",
      "inst#                 \n",
      "1       2:IE      2:IE\n",
      "2       2:IE      1:EI\n",
      "3        3:N       3:N\n",
      "4       2:IE      2:IE\n",
      "5       1:EI      1:EI\n"
     ]
    },
    {
     "name": "stderr",
     "output_type": "stream",
     "text": [
      "[2019-09-03 16:49:01,223] INFO - prefect.TaskRunner | Task 'ShellTask': finished task run for task with final state: 'Success'\n",
      "[2019-09-03 16:49:01,224] INFO - prefect.FlowRunner | Flow run SUCCESS: all reference tasks succeeded\n",
      "[2019-09-03 16:49:01,238] INFO - prefect.FlowRunner | Beginning Flow run for 'predict'\n",
      "[2019-09-03 16:49:01,239] INFO - prefect.FlowRunner | Starting flow run.\n",
      "[2019-09-03 16:49:01,244] INFO - prefect.TaskRunner | Task 'Constant[str]': Starting task run...\n",
      "[2019-09-03 16:49:01,245] INFO - prefect.TaskRunner | Task 'Constant[str]': finished task run for task with final state: 'Success'\n",
      "[2019-09-03 16:49:01,246] INFO - prefect.TaskRunner | Task 'ShellTask': Starting task run...\n"
     ]
    },
    {
     "name": "stdout",
     "output_type": "stream",
     "text": [
      "splice\n",
      "      actual predicted\n",
      "inst#                 \n",
      "1       2:IE      2:IE\n",
      "2       2:IE      1:EI\n",
      "3        3:N       3:N\n",
      "4       2:IE      2:IE\n",
      "5       1:EI      1:EI\n"
     ]
    },
    {
     "name": "stderr",
     "output_type": "stream",
     "text": [
      "[2019-09-03 16:49:01,661] INFO - prefect.TaskRunner | Task 'ShellTask': finished task run for task with final state: 'Success'\n",
      "[2019-09-03 16:49:01,662] INFO - prefect.FlowRunner | Flow run SUCCESS: all reference tasks succeeded\n",
      "[2019-09-03 16:49:01,680] INFO - prefect.FlowRunner | Beginning Flow run for 'predict'\n",
      "[2019-09-03 16:49:01,681] INFO - prefect.FlowRunner | Starting flow run.\n",
      "[2019-09-03 16:49:01,688] INFO - prefect.TaskRunner | Task 'Constant[str]': Starting task run...\n",
      "[2019-09-03 16:49:01,689] INFO - prefect.TaskRunner | Task 'Constant[str]': finished task run for task with final state: 'Success'\n",
      "[2019-09-03 16:49:01,691] INFO - prefect.TaskRunner | Task 'ShellTask': Starting task run...\n"
     ]
    },
    {
     "name": "stdout",
     "output_type": "stream",
     "text": [
      "splice\n",
      "      actual predicted\n",
      "inst#                 \n",
      "1       2:IE      2:IE\n",
      "2       2:IE      1:EI\n",
      "3        3:N       3:N\n",
      "4       2:IE      2:IE\n",
      "5       1:EI      1:EI\n"
     ]
    },
    {
     "name": "stderr",
     "output_type": "stream",
     "text": [
      "[2019-09-03 16:49:02,082] INFO - prefect.TaskRunner | Task 'ShellTask': finished task run for task with final state: 'Success'\n",
      "[2019-09-03 16:49:02,083] INFO - prefect.FlowRunner | Flow run SUCCESS: all reference tasks succeeded\n",
      "[2019-09-03 16:49:02,102] INFO - prefect.FlowRunner | Beginning Flow run for 'predict'\n",
      "[2019-09-03 16:49:02,103] INFO - prefect.FlowRunner | Starting flow run.\n",
      "[2019-09-03 16:49:02,108] INFO - prefect.TaskRunner | Task 'Constant[str]': Starting task run...\n",
      "[2019-09-03 16:49:02,111] INFO - prefect.TaskRunner | Task 'Constant[str]': finished task run for task with final state: 'Success'\n",
      "[2019-09-03 16:49:02,112] INFO - prefect.TaskRunner | Task 'ShellTask': Starting task run...\n"
     ]
    },
    {
     "name": "stdout",
     "output_type": "stream",
     "text": [
      "splice\n",
      "      actual predicted\n",
      "inst#                 \n",
      "1       2:IE      2:IE\n",
      "2       2:IE      2:IE\n",
      "3        3:N       3:N\n",
      "4       2:IE      2:IE\n",
      "5       1:EI      2:IE\n"
     ]
    },
    {
     "name": "stderr",
     "output_type": "stream",
     "text": [
      "[2019-09-03 16:49:02,504] INFO - prefect.TaskRunner | Task 'ShellTask': finished task run for task with final state: 'Success'\n",
      "[2019-09-03 16:49:02,505] INFO - prefect.FlowRunner | Flow run SUCCESS: all reference tasks succeeded\n",
      "/home/zissou/miniconda3/envs/aaai20/lib/python3.6/site-packages/sklearn/metrics/classification.py:1143: UndefinedMetricWarning: F-score is ill-defined and being set to 0.0 in labels with no predicted samples.\n",
      "  'precision', 'predicted', average, warn_for)\n",
      "[2019-09-03 16:49:02,517] INFO - prefect.FlowRunner | Beginning Flow run for 'predict'\n",
      "[2019-09-03 16:49:02,518] INFO - prefect.FlowRunner | Starting flow run.\n",
      "[2019-09-03 16:49:02,523] INFO - prefect.TaskRunner | Task 'Constant[str]': Starting task run...\n",
      "[2019-09-03 16:49:02,525] INFO - prefect.TaskRunner | Task 'Constant[str]': finished task run for task with final state: 'Success'\n",
      "[2019-09-03 16:49:02,527] INFO - prefect.TaskRunner | Task 'ShellTask': Starting task run...\n"
     ]
    },
    {
     "name": "stdout",
     "output_type": "stream",
     "text": [
      "splice\n",
      "      actual predicted\n",
      "inst#                 \n",
      "1       2:IE       3:N\n",
      "2       2:IE       3:N\n",
      "3        3:N       3:N\n",
      "4       2:IE       3:N\n",
      "5       1:EI       3:N\n"
     ]
    },
    {
     "name": "stderr",
     "output_type": "stream",
     "text": [
      "[2019-09-03 16:49:02,909] INFO - prefect.TaskRunner | Task 'ShellTask': finished task run for task with final state: 'Success'\n",
      "[2019-09-03 16:49:02,910] INFO - prefect.FlowRunner | Flow run SUCCESS: all reference tasks succeeded\n",
      "/home/zissou/miniconda3/envs/aaai20/lib/python3.6/site-packages/sklearn/metrics/classification.py:1143: UndefinedMetricWarning: F-score is ill-defined and being set to 0.0 in labels with no predicted samples.\n",
      "  'precision', 'predicted', average, warn_for)\n",
      "[2019-09-03 16:49:02,931] INFO - prefect.FlowRunner | Beginning Flow run for 'fit'\n",
      "[2019-09-03 16:49:02,932] INFO - prefect.FlowRunner | Starting flow run.\n",
      "[2019-09-03 16:49:02,937] INFO - prefect.TaskRunner | Task 'Constant[str]': Starting task run...\n",
      "[2019-09-03 16:49:02,940] INFO - prefect.TaskRunner | Task 'Constant[str]': finished task run for task with final state: 'Success'\n",
      "[2019-09-03 16:49:02,941] INFO - prefect.TaskRunner | Task 'ShellTask': Starting task run...\n"
     ]
    },
    {
     "name": "stdout",
     "output_type": "stream",
     "text": [
      "splice\n",
      "      actual predicted\n",
      "inst#                 \n",
      "1       2:IE       3:N\n",
      "2       2:IE       3:N\n",
      "3        3:N       3:N\n",
      "4       2:IE       3:N\n",
      "5       1:EI       3:N\n",
      "sonar\n"
     ]
    },
    {
     "name": "stderr",
     "output_type": "stream",
     "text": [
      "[2019-09-03 16:49:03,591] INFO - prefect.TaskRunner | Task 'ShellTask': finished task run for task with final state: 'Success'\n",
      "[2019-09-03 16:49:03,592] INFO - prefect.FlowRunner | Flow run SUCCESS: all reference tasks succeeded\n",
      "[2019-09-03 16:49:03,596] INFO - prefect.FlowRunner | Beginning Flow run for 'predict'\n",
      "[2019-09-03 16:49:03,597] INFO - prefect.FlowRunner | Starting flow run.\n",
      "[2019-09-03 16:49:03,602] INFO - prefect.TaskRunner | Task 'Constant[str]': Starting task run...\n",
      "[2019-09-03 16:49:03,604] INFO - prefect.TaskRunner | Task 'Constant[str]': finished task run for task with final state: 'Success'\n",
      "[2019-09-03 16:49:03,605] INFO - prefect.TaskRunner | Task 'ShellTask': Starting task run...\n",
      "[2019-09-03 16:49:03,841] INFO - prefect.TaskRunner | Task 'ShellTask': finished task run for task with final state: 'Success'\n",
      "[2019-09-03 16:49:03,842] INFO - prefect.FlowRunner | Flow run SUCCESS: all reference tasks succeeded\n",
      "[2019-09-03 16:49:03,856] INFO - prefect.FlowRunner | Beginning Flow run for 'predict'\n",
      "[2019-09-03 16:49:03,857] INFO - prefect.FlowRunner | Starting flow run.\n",
      "[2019-09-03 16:49:03,864] INFO - prefect.TaskRunner | Task 'Constant[str]': Starting task run...\n",
      "[2019-09-03 16:49:03,866] INFO - prefect.TaskRunner | Task 'Constant[str]': finished task run for task with final state: 'Success'\n",
      "[2019-09-03 16:49:03,867] INFO - prefect.TaskRunner | Task 'ShellTask': Starting task run...\n"
     ]
    },
    {
     "name": "stdout",
     "output_type": "stream",
     "text": [
      "sonar\n",
      "       actual predicted\n",
      "inst#                  \n",
      "1      1:Rock    1:Rock\n",
      "2      1:Rock    1:Rock\n",
      "3      1:Rock    2:Mine\n",
      "4      2:Mine    1:Rock\n",
      "5      2:Mine    2:Mine\n"
     ]
    },
    {
     "name": "stderr",
     "output_type": "stream",
     "text": [
      "[2019-09-03 16:49:04,109] INFO - prefect.TaskRunner | Task 'ShellTask': finished task run for task with final state: 'Success'\n",
      "[2019-09-03 16:49:04,110] INFO - prefect.FlowRunner | Flow run SUCCESS: all reference tasks succeeded\n",
      "[2019-09-03 16:49:04,123] INFO - prefect.FlowRunner | Beginning Flow run for 'predict'\n",
      "[2019-09-03 16:49:04,124] INFO - prefect.FlowRunner | Starting flow run.\n",
      "[2019-09-03 16:49:04,128] INFO - prefect.TaskRunner | Task 'Constant[str]': Starting task run...\n",
      "[2019-09-03 16:49:04,130] INFO - prefect.TaskRunner | Task 'Constant[str]': finished task run for task with final state: 'Success'\n",
      "[2019-09-03 16:49:04,133] INFO - prefect.TaskRunner | Task 'ShellTask': Starting task run...\n"
     ]
    },
    {
     "name": "stdout",
     "output_type": "stream",
     "text": [
      "sonar\n",
      "       actual predicted\n",
      "inst#                  \n",
      "1      1:Rock    1:Rock\n",
      "2      1:Rock    1:Rock\n",
      "3      1:Rock    2:Mine\n",
      "4      2:Mine    1:Rock\n",
      "5      2:Mine    2:Mine\n"
     ]
    },
    {
     "name": "stderr",
     "output_type": "stream",
     "text": [
      "[2019-09-03 16:49:04,379] INFO - prefect.TaskRunner | Task 'ShellTask': finished task run for task with final state: 'Success'\n",
      "[2019-09-03 16:49:04,380] INFO - prefect.FlowRunner | Flow run SUCCESS: all reference tasks succeeded\n",
      "[2019-09-03 16:49:04,393] INFO - prefect.FlowRunner | Beginning Flow run for 'predict'\n",
      "[2019-09-03 16:49:04,394] INFO - prefect.FlowRunner | Starting flow run.\n",
      "[2019-09-03 16:49:04,398] INFO - prefect.TaskRunner | Task 'Constant[str]': Starting task run...\n",
      "[2019-09-03 16:49:04,399] INFO - prefect.TaskRunner | Task 'Constant[str]': finished task run for task with final state: 'Success'\n",
      "[2019-09-03 16:49:04,401] INFO - prefect.TaskRunner | Task 'ShellTask': Starting task run...\n"
     ]
    },
    {
     "name": "stdout",
     "output_type": "stream",
     "text": [
      "sonar\n",
      "       actual predicted\n",
      "inst#                  \n",
      "1      1:Rock    1:Rock\n",
      "2      1:Rock    1:Rock\n",
      "3      1:Rock    2:Mine\n",
      "4      2:Mine    1:Rock\n",
      "5      2:Mine    2:Mine\n"
     ]
    },
    {
     "name": "stderr",
     "output_type": "stream",
     "text": [
      "[2019-09-03 16:49:04,650] INFO - prefect.TaskRunner | Task 'ShellTask': finished task run for task with final state: 'Success'\n",
      "[2019-09-03 16:49:04,653] INFO - prefect.FlowRunner | Flow run SUCCESS: all reference tasks succeeded\n",
      "[2019-09-03 16:49:04,689] INFO - prefect.FlowRunner | Beginning Flow run for 'predict'\n",
      "[2019-09-03 16:49:04,691] INFO - prefect.FlowRunner | Starting flow run.\n",
      "[2019-09-03 16:49:04,698] INFO - prefect.TaskRunner | Task 'Constant[str]': Starting task run...\n",
      "[2019-09-03 16:49:04,700] INFO - prefect.TaskRunner | Task 'Constant[str]': finished task run for task with final state: 'Success'\n",
      "[2019-09-03 16:49:04,701] INFO - prefect.TaskRunner | Task 'ShellTask': Starting task run...\n"
     ]
    },
    {
     "name": "stdout",
     "output_type": "stream",
     "text": [
      "sonar\n",
      "       actual predicted\n",
      "inst#                  \n",
      "1      1:Rock    1:Rock\n",
      "2      1:Rock    1:Rock\n",
      "3      1:Rock    2:Mine\n",
      "4      2:Mine    1:Rock\n",
      "5      2:Mine    2:Mine\n"
     ]
    },
    {
     "name": "stderr",
     "output_type": "stream",
     "text": [
      "[2019-09-03 16:49:04,939] INFO - prefect.TaskRunner | Task 'ShellTask': finished task run for task with final state: 'Success'\n",
      "[2019-09-03 16:49:04,940] INFO - prefect.FlowRunner | Flow run SUCCESS: all reference tasks succeeded\n",
      "[2019-09-03 16:49:04,951] INFO - prefect.FlowRunner | Beginning Flow run for 'predict'\n",
      "[2019-09-03 16:49:04,952] INFO - prefect.FlowRunner | Starting flow run.\n",
      "[2019-09-03 16:49:04,959] INFO - prefect.TaskRunner | Task 'Constant[str]': Starting task run...\n",
      "[2019-09-03 16:49:04,960] INFO - prefect.TaskRunner | Task 'Constant[str]': finished task run for task with final state: 'Success'\n",
      "[2019-09-03 16:49:04,962] INFO - prefect.TaskRunner | Task 'ShellTask': Starting task run...\n"
     ]
    },
    {
     "name": "stdout",
     "output_type": "stream",
     "text": [
      "sonar\n",
      "       actual predicted\n",
      "inst#                  \n",
      "1      1:Rock    1:Rock\n",
      "2      1:Rock    2:Mine\n",
      "3      1:Rock    2:Mine\n",
      "4      2:Mine    2:Mine\n",
      "5      2:Mine    2:Mine\n"
     ]
    },
    {
     "name": "stderr",
     "output_type": "stream",
     "text": [
      "[2019-09-03 16:49:05,210] INFO - prefect.TaskRunner | Task 'ShellTask': finished task run for task with final state: 'Success'\n",
      "[2019-09-03 16:49:05,211] INFO - prefect.FlowRunner | Flow run SUCCESS: all reference tasks succeeded\n",
      "[2019-09-03 16:49:05,224] INFO - prefect.FlowRunner | Beginning Flow run for 'predict'\n",
      "[2019-09-03 16:49:05,225] INFO - prefect.FlowRunner | Starting flow run.\n",
      "[2019-09-03 16:49:05,231] INFO - prefect.TaskRunner | Task 'Constant[str]': Starting task run...\n",
      "[2019-09-03 16:49:05,233] INFO - prefect.TaskRunner | Task 'Constant[str]': finished task run for task with final state: 'Success'\n",
      "[2019-09-03 16:49:05,234] INFO - prefect.TaskRunner | Task 'ShellTask': Starting task run...\n"
     ]
    },
    {
     "name": "stdout",
     "output_type": "stream",
     "text": [
      "sonar\n",
      "       actual predicted\n",
      "inst#                  \n",
      "1      1:Rock    1:Rock\n",
      "2      1:Rock    1:Rock\n",
      "3      1:Rock    2:Mine\n",
      "4      2:Mine    2:Mine\n",
      "5      2:Mine    2:Mine\n"
     ]
    },
    {
     "name": "stderr",
     "output_type": "stream",
     "text": [
      "[2019-09-03 16:49:05,481] INFO - prefect.TaskRunner | Task 'ShellTask': finished task run for task with final state: 'Success'\n",
      "[2019-09-03 16:49:05,482] INFO - prefect.FlowRunner | Flow run SUCCESS: all reference tasks succeeded\n",
      "[2019-09-03 16:49:05,495] INFO - prefect.FlowRunner | Beginning Flow run for 'predict'\n",
      "[2019-09-03 16:49:05,496] INFO - prefect.FlowRunner | Starting flow run.\n",
      "[2019-09-03 16:49:05,501] INFO - prefect.TaskRunner | Task 'Constant[str]': Starting task run...\n",
      "[2019-09-03 16:49:05,503] INFO - prefect.TaskRunner | Task 'Constant[str]': finished task run for task with final state: 'Success'\n",
      "[2019-09-03 16:49:05,505] INFO - prefect.TaskRunner | Task 'ShellTask': Starting task run...\n"
     ]
    },
    {
     "name": "stdout",
     "output_type": "stream",
     "text": [
      "sonar\n",
      "       actual predicted\n",
      "inst#                  \n",
      "1      1:Rock    1:Rock\n",
      "2      1:Rock    1:Rock\n",
      "3      1:Rock    2:Mine\n",
      "4      2:Mine    2:Mine\n",
      "5      2:Mine    1:Rock\n"
     ]
    },
    {
     "name": "stderr",
     "output_type": "stream",
     "text": [
      "[2019-09-03 16:49:05,758] INFO - prefect.TaskRunner | Task 'ShellTask': finished task run for task with final state: 'Success'\n",
      "[2019-09-03 16:49:05,759] INFO - prefect.FlowRunner | Flow run SUCCESS: all reference tasks succeeded\n",
      "[2019-09-03 16:49:05,771] INFO - prefect.FlowRunner | Beginning Flow run for 'predict'\n",
      "[2019-09-03 16:49:05,772] INFO - prefect.FlowRunner | Starting flow run.\n",
      "[2019-09-03 16:49:05,776] INFO - prefect.TaskRunner | Task 'Constant[str]': Starting task run...\n",
      "[2019-09-03 16:49:05,777] INFO - prefect.TaskRunner | Task 'Constant[str]': finished task run for task with final state: 'Success'\n",
      "[2019-09-03 16:49:05,779] INFO - prefect.TaskRunner | Task 'ShellTask': Starting task run...\n"
     ]
    },
    {
     "name": "stdout",
     "output_type": "stream",
     "text": [
      "sonar\n",
      "       actual predicted\n",
      "inst#                  \n",
      "1      1:Rock    1:Rock\n",
      "2      1:Rock    1:Rock\n",
      "3      1:Rock    2:Mine\n",
      "4      2:Mine    2:Mine\n",
      "5      2:Mine    1:Rock\n"
     ]
    },
    {
     "name": "stderr",
     "output_type": "stream",
     "text": [
      "[2019-09-03 16:49:06,026] INFO - prefect.TaskRunner | Task 'ShellTask': finished task run for task with final state: 'Success'\n",
      "[2019-09-03 16:49:06,027] INFO - prefect.FlowRunner | Flow run SUCCESS: all reference tasks succeeded\n",
      "[2019-09-03 16:49:06,042] INFO - prefect.FlowRunner | Beginning Flow run for 'predict'\n",
      "[2019-09-03 16:49:06,043] INFO - prefect.FlowRunner | Starting flow run.\n",
      "[2019-09-03 16:49:06,049] INFO - prefect.TaskRunner | Task 'Constant[str]': Starting task run...\n",
      "[2019-09-03 16:49:06,051] INFO - prefect.TaskRunner | Task 'Constant[str]': finished task run for task with final state: 'Success'\n",
      "[2019-09-03 16:49:06,054] INFO - prefect.TaskRunner | Task 'ShellTask': Starting task run...\n"
     ]
    },
    {
     "name": "stdout",
     "output_type": "stream",
     "text": [
      "sonar\n",
      "       actual predicted\n",
      "inst#                  \n",
      "1      1:Rock    1:Rock\n",
      "2      1:Rock    1:Rock\n",
      "3      1:Rock    2:Mine\n",
      "4      2:Mine    2:Mine\n",
      "5      2:Mine    1:Rock\n"
     ]
    },
    {
     "name": "stderr",
     "output_type": "stream",
     "text": [
      "[2019-09-03 16:49:06,325] INFO - prefect.TaskRunner | Task 'ShellTask': finished task run for task with final state: 'Success'\n",
      "[2019-09-03 16:49:06,330] INFO - prefect.FlowRunner | Flow run SUCCESS: all reference tasks succeeded\n",
      "[2019-09-03 16:49:06,357] INFO - prefect.FlowRunner | Beginning Flow run for 'fit'\n",
      "[2019-09-03 16:49:06,359] INFO - prefect.FlowRunner | Starting flow run.\n",
      "[2019-09-03 16:49:06,363] INFO - prefect.TaskRunner | Task 'Constant[str]': Starting task run...\n",
      "[2019-09-03 16:49:06,364] INFO - prefect.TaskRunner | Task 'Constant[str]': finished task run for task with final state: 'Success'\n",
      "[2019-09-03 16:49:06,365] INFO - prefect.TaskRunner | Task 'ShellTask': Starting task run...\n"
     ]
    },
    {
     "name": "stdout",
     "output_type": "stream",
     "text": [
      "sonar\n",
      "       actual predicted\n",
      "inst#                  \n",
      "1      1:Rock    1:Rock\n",
      "2      1:Rock    1:Rock\n",
      "3      1:Rock    2:Mine\n",
      "4      2:Mine    2:Mine\n",
      "5      2:Mine    1:Rock\n",
      "vowel\n"
     ]
    },
    {
     "name": "stderr",
     "output_type": "stream",
     "text": [
      "[2019-09-03 16:49:07,133] INFO - prefect.TaskRunner | Task 'ShellTask': finished task run for task with final state: 'Success'\n",
      "[2019-09-03 16:49:07,134] INFO - prefect.FlowRunner | Flow run SUCCESS: all reference tasks succeeded\n",
      "[2019-09-03 16:49:07,138] INFO - prefect.FlowRunner | Beginning Flow run for 'predict'\n",
      "[2019-09-03 16:49:07,139] INFO - prefect.FlowRunner | Starting flow run.\n",
      "[2019-09-03 16:49:07,145] INFO - prefect.TaskRunner | Task 'Constant[str]': Starting task run...\n",
      "[2019-09-03 16:49:07,147] INFO - prefect.TaskRunner | Task 'Constant[str]': finished task run for task with final state: 'Success'\n",
      "[2019-09-03 16:49:07,148] INFO - prefect.TaskRunner | Task 'ShellTask': Starting task run...\n",
      "[2019-09-03 16:49:07,434] INFO - prefect.TaskRunner | Task 'ShellTask': finished task run for task with final state: 'Success'\n",
      "[2019-09-03 16:49:07,436] INFO - prefect.FlowRunner | Flow run SUCCESS: all reference tasks succeeded\n",
      "[2019-09-03 16:49:07,450] INFO - prefect.FlowRunner | Beginning Flow run for 'predict'\n",
      "[2019-09-03 16:49:07,451] INFO - prefect.FlowRunner | Starting flow run.\n",
      "[2019-09-03 16:49:07,455] INFO - prefect.TaskRunner | Task 'Constant[str]': Starting task run...\n",
      "[2019-09-03 16:49:07,456] INFO - prefect.TaskRunner | Task 'Constant[str]': finished task run for task with final state: 'Success'\n",
      "[2019-09-03 16:49:07,457] INFO - prefect.TaskRunner | Task 'ShellTask': Starting task run...\n"
     ]
    },
    {
     "name": "stdout",
     "output_type": "stream",
     "text": [
      "vowel\n",
      "       actual predicted\n",
      "inst#                  \n",
      "1       1:hid     1:hid\n",
      "2       7:hOd     7:hOd\n",
      "3      10:hud    10:hud\n",
      "4       8:hod     9:hUd\n",
      "5       9:hUd     9:hUd\n"
     ]
    },
    {
     "name": "stderr",
     "output_type": "stream",
     "text": [
      "[2019-09-03 16:49:07,729] INFO - prefect.TaskRunner | Task 'ShellTask': finished task run for task with final state: 'Success'\n",
      "[2019-09-03 16:49:07,731] INFO - prefect.FlowRunner | Flow run SUCCESS: all reference tasks succeeded\n",
      "[2019-09-03 16:49:07,746] INFO - prefect.FlowRunner | Beginning Flow run for 'predict'\n",
      "[2019-09-03 16:49:07,747] INFO - prefect.FlowRunner | Starting flow run.\n",
      "[2019-09-03 16:49:07,753] INFO - prefect.TaskRunner | Task 'Constant[str]': Starting task run...\n",
      "[2019-09-03 16:49:07,756] INFO - prefect.TaskRunner | Task 'Constant[str]': finished task run for task with final state: 'Success'\n",
      "[2019-09-03 16:49:07,757] INFO - prefect.TaskRunner | Task 'ShellTask': Starting task run...\n"
     ]
    },
    {
     "name": "stdout",
     "output_type": "stream",
     "text": [
      "vowel\n",
      "       actual predicted\n",
      "inst#                  \n",
      "1       1:hid     1:hid\n",
      "2       7:hOd     7:hOd\n",
      "3      10:hud    10:hud\n",
      "4       8:hod     9:hUd\n",
      "5       9:hUd     9:hUd\n"
     ]
    },
    {
     "name": "stderr",
     "output_type": "stream",
     "text": [
      "[2019-09-03 16:49:08,035] INFO - prefect.TaskRunner | Task 'ShellTask': finished task run for task with final state: 'Success'\n",
      "[2019-09-03 16:49:08,036] INFO - prefect.FlowRunner | Flow run SUCCESS: all reference tasks succeeded\n",
      "[2019-09-03 16:49:08,048] INFO - prefect.FlowRunner | Beginning Flow run for 'predict'\n",
      "[2019-09-03 16:49:08,049] INFO - prefect.FlowRunner | Starting flow run.\n",
      "[2019-09-03 16:49:08,055] INFO - prefect.TaskRunner | Task 'Constant[str]': Starting task run...\n",
      "[2019-09-03 16:49:08,057] INFO - prefect.TaskRunner | Task 'Constant[str]': finished task run for task with final state: 'Success'\n",
      "[2019-09-03 16:49:08,058] INFO - prefect.TaskRunner | Task 'ShellTask': Starting task run...\n"
     ]
    },
    {
     "name": "stdout",
     "output_type": "stream",
     "text": [
      "vowel\n",
      "       actual predicted\n",
      "inst#                  \n",
      "1       1:hid     1:hid\n",
      "2       7:hOd     7:hOd\n",
      "3      10:hud    10:hud\n",
      "4       8:hod     9:hUd\n",
      "5       9:hUd     9:hUd\n"
     ]
    },
    {
     "name": "stderr",
     "output_type": "stream",
     "text": [
      "[2019-09-03 16:49:08,340] INFO - prefect.TaskRunner | Task 'ShellTask': finished task run for task with final state: 'Success'\n",
      "[2019-09-03 16:49:08,341] INFO - prefect.FlowRunner | Flow run SUCCESS: all reference tasks succeeded\n",
      "[2019-09-03 16:49:08,356] INFO - prefect.FlowRunner | Beginning Flow run for 'predict'\n",
      "[2019-09-03 16:49:08,357] INFO - prefect.FlowRunner | Starting flow run.\n",
      "[2019-09-03 16:49:08,364] INFO - prefect.TaskRunner | Task 'Constant[str]': Starting task run...\n",
      "[2019-09-03 16:49:08,366] INFO - prefect.TaskRunner | Task 'Constant[str]': finished task run for task with final state: 'Success'\n",
      "[2019-09-03 16:49:08,368] INFO - prefect.TaskRunner | Task 'ShellTask': Starting task run...\n"
     ]
    },
    {
     "name": "stdout",
     "output_type": "stream",
     "text": [
      "vowel\n",
      "       actual predicted\n",
      "inst#                  \n",
      "1       1:hid     1:hid\n",
      "2       7:hOd     7:hOd\n",
      "3      10:hud    10:hud\n",
      "4       8:hod     9:hUd\n",
      "5       9:hUd     9:hUd\n"
     ]
    },
    {
     "name": "stderr",
     "output_type": "stream",
     "text": [
      "[2019-09-03 16:49:08,662] INFO - prefect.TaskRunner | Task 'ShellTask': finished task run for task with final state: 'Success'\n",
      "[2019-09-03 16:49:08,663] INFO - prefect.FlowRunner | Flow run SUCCESS: all reference tasks succeeded\n",
      "[2019-09-03 16:49:08,677] INFO - prefect.FlowRunner | Beginning Flow run for 'predict'\n",
      "[2019-09-03 16:49:08,678] INFO - prefect.FlowRunner | Starting flow run.\n",
      "[2019-09-03 16:49:08,685] INFO - prefect.TaskRunner | Task 'Constant[str]': Starting task run...\n",
      "[2019-09-03 16:49:08,688] INFO - prefect.TaskRunner | Task 'Constant[str]': finished task run for task with final state: 'Success'\n",
      "[2019-09-03 16:49:08,689] INFO - prefect.TaskRunner | Task 'ShellTask': Starting task run...\n"
     ]
    },
    {
     "name": "stdout",
     "output_type": "stream",
     "text": [
      "vowel\n",
      "       actual predicted\n",
      "inst#                  \n",
      "1       1:hid     1:hid\n",
      "2       7:hOd     7:hOd\n",
      "3      10:hud    10:hud\n",
      "4       8:hod     9:hUd\n",
      "5       9:hUd     9:hUd\n"
     ]
    },
    {
     "name": "stderr",
     "output_type": "stream",
     "text": [
      "[2019-09-03 16:49:08,963] INFO - prefect.TaskRunner | Task 'ShellTask': finished task run for task with final state: 'Success'\n",
      "[2019-09-03 16:49:08,966] INFO - prefect.FlowRunner | Flow run SUCCESS: all reference tasks succeeded\n",
      "[2019-09-03 16:49:09,007] INFO - prefect.FlowRunner | Beginning Flow run for 'predict'\n",
      "[2019-09-03 16:49:09,011] INFO - prefect.FlowRunner | Starting flow run.\n",
      "[2019-09-03 16:49:09,027] INFO - prefect.TaskRunner | Task 'Constant[str]': Starting task run...\n",
      "[2019-09-03 16:49:09,031] INFO - prefect.TaskRunner | Task 'Constant[str]': finished task run for task with final state: 'Success'\n",
      "[2019-09-03 16:49:09,033] INFO - prefect.TaskRunner | Task 'ShellTask': Starting task run...\n"
     ]
    },
    {
     "name": "stdout",
     "output_type": "stream",
     "text": [
      "vowel\n",
      "       actual predicted\n",
      "inst#                  \n",
      "1       1:hid     1:hid\n",
      "2       7:hOd     7:hOd\n",
      "3      10:hud    10:hud\n",
      "4       8:hod     9:hUd\n",
      "5       9:hUd     9:hUd\n"
     ]
    },
    {
     "name": "stderr",
     "output_type": "stream",
     "text": [
      "[2019-09-03 16:49:09,366] INFO - prefect.TaskRunner | Task 'ShellTask': finished task run for task with final state: 'Success'\n",
      "[2019-09-03 16:49:09,369] INFO - prefect.FlowRunner | Flow run SUCCESS: all reference tasks succeeded\n",
      "[2019-09-03 16:49:09,384] INFO - prefect.FlowRunner | Beginning Flow run for 'predict'\n",
      "[2019-09-03 16:49:09,385] INFO - prefect.FlowRunner | Starting flow run.\n",
      "[2019-09-03 16:49:09,390] INFO - prefect.TaskRunner | Task 'Constant[str]': Starting task run...\n",
      "[2019-09-03 16:49:09,391] INFO - prefect.TaskRunner | Task 'Constant[str]': finished task run for task with final state: 'Success'\n",
      "[2019-09-03 16:49:09,392] INFO - prefect.TaskRunner | Task 'ShellTask': Starting task run...\n"
     ]
    },
    {
     "name": "stdout",
     "output_type": "stream",
     "text": [
      "vowel\n",
      "       actual predicted\n",
      "inst#                  \n",
      "1       1:hid     1:hid\n",
      "2       7:hOd    11:hed\n",
      "3      10:hud    10:hud\n",
      "4       8:hod     9:hUd\n",
      "5       9:hUd     9:hUd\n"
     ]
    },
    {
     "name": "stderr",
     "output_type": "stream",
     "text": [
      "[2019-09-03 16:49:09,691] INFO - prefect.TaskRunner | Task 'ShellTask': finished task run for task with final state: 'Success'\n",
      "[2019-09-03 16:49:09,692] INFO - prefect.FlowRunner | Flow run SUCCESS: all reference tasks succeeded\n",
      "/home/zissou/miniconda3/envs/aaai20/lib/python3.6/site-packages/sklearn/metrics/classification.py:1143: UndefinedMetricWarning: F-score is ill-defined and being set to 0.0 in labels with no predicted samples.\n",
      "  'precision', 'predicted', average, warn_for)\n",
      "[2019-09-03 16:49:09,708] INFO - prefect.FlowRunner | Beginning Flow run for 'predict'\n",
      "[2019-09-03 16:49:09,710] INFO - prefect.FlowRunner | Starting flow run.\n",
      "[2019-09-03 16:49:09,717] INFO - prefect.TaskRunner | Task 'Constant[str]': Starting task run...\n",
      "[2019-09-03 16:49:09,719] INFO - prefect.TaskRunner | Task 'Constant[str]': finished task run for task with final state: 'Success'\n",
      "[2019-09-03 16:49:09,722] INFO - prefect.TaskRunner | Task 'ShellTask': Starting task run...\n"
     ]
    },
    {
     "name": "stdout",
     "output_type": "stream",
     "text": [
      "vowel\n",
      "       actual predicted\n",
      "inst#                  \n",
      "1       1:hid     1:hid\n",
      "2       7:hOd     9:hUd\n",
      "3      10:hud     9:hUd\n",
      "4       8:hod     9:hUd\n",
      "5       9:hUd     9:hUd\n"
     ]
    },
    {
     "name": "stderr",
     "output_type": "stream",
     "text": [
      "[2019-09-03 16:49:10,048] INFO - prefect.TaskRunner | Task 'ShellTask': finished task run for task with final state: 'Success'\n",
      "[2019-09-03 16:49:10,050] INFO - prefect.FlowRunner | Flow run SUCCESS: all reference tasks succeeded\n",
      "/home/zissou/miniconda3/envs/aaai20/lib/python3.6/site-packages/sklearn/metrics/classification.py:1143: UndefinedMetricWarning: F-score is ill-defined and being set to 0.0 in labels with no predicted samples.\n",
      "  'precision', 'predicted', average, warn_for)\n",
      "[2019-09-03 16:49:10,064] INFO - prefect.FlowRunner | Beginning Flow run for 'predict'\n",
      "[2019-09-03 16:49:10,065] INFO - prefect.FlowRunner | Starting flow run.\n",
      "[2019-09-03 16:49:10,071] INFO - prefect.TaskRunner | Task 'Constant[str]': Starting task run...\n",
      "[2019-09-03 16:49:10,073] INFO - prefect.TaskRunner | Task 'Constant[str]': finished task run for task with final state: 'Success'\n",
      "[2019-09-03 16:49:10,074] INFO - prefect.TaskRunner | Task 'ShellTask': Starting task run...\n"
     ]
    },
    {
     "name": "stdout",
     "output_type": "stream",
     "text": [
      "vowel\n",
      "       actual predicted\n",
      "inst#                  \n",
      "1       1:hid     1:hid\n",
      "2       7:hOd     9:hUd\n",
      "3      10:hud     9:hUd\n",
      "4       8:hod     9:hUd\n",
      "5       9:hUd     9:hUd\n"
     ]
    },
    {
     "name": "stderr",
     "output_type": "stream",
     "text": [
      "[2019-09-03 16:49:10,380] INFO - prefect.TaskRunner | Task 'ShellTask': finished task run for task with final state: 'Success'\n",
      "[2019-09-03 16:49:10,381] INFO - prefect.FlowRunner | Flow run SUCCESS: all reference tasks succeeded\n",
      "/home/zissou/miniconda3/envs/aaai20/lib/python3.6/site-packages/sklearn/metrics/classification.py:1143: UndefinedMetricWarning: F-score is ill-defined and being set to 0.0 in labels with no predicted samples.\n",
      "  'precision', 'predicted', average, warn_for)\n",
      "[2019-09-03 16:49:10,407] INFO - prefect.FlowRunner | Beginning Flow run for 'fit'\n",
      "[2019-09-03 16:49:10,408] INFO - prefect.FlowRunner | Starting flow run.\n",
      "[2019-09-03 16:49:10,413] INFO - prefect.TaskRunner | Task 'Constant[str]': Starting task run...\n",
      "[2019-09-03 16:49:10,414] INFO - prefect.TaskRunner | Task 'Constant[str]': finished task run for task with final state: 'Success'\n",
      "[2019-09-03 16:49:10,416] INFO - prefect.TaskRunner | Task 'ShellTask': Starting task run...\n"
     ]
    },
    {
     "name": "stdout",
     "output_type": "stream",
     "text": [
      "vowel\n",
      "       actual predicted\n",
      "inst#                  \n",
      "1       1:hid     9:hUd\n",
      "2       7:hOd     9:hUd\n",
      "3      10:hud     9:hUd\n",
      "4       8:hod     9:hUd\n",
      "5       9:hUd     4:hAd\n",
      "segment\n"
     ]
    },
    {
     "name": "stderr",
     "output_type": "stream",
     "text": [
      "[2019-09-03 16:49:11,258] INFO - prefect.TaskRunner | Task 'ShellTask': finished task run for task with final state: 'Success'\n",
      "[2019-09-03 16:49:11,259] INFO - prefect.FlowRunner | Flow run SUCCESS: all reference tasks succeeded\n",
      "[2019-09-03 16:49:11,263] INFO - prefect.FlowRunner | Beginning Flow run for 'predict'\n",
      "[2019-09-03 16:49:11,266] INFO - prefect.FlowRunner | Starting flow run.\n",
      "[2019-09-03 16:49:11,270] INFO - prefect.TaskRunner | Task 'Constant[str]': Starting task run...\n",
      "[2019-09-03 16:49:11,272] INFO - prefect.TaskRunner | Task 'Constant[str]': finished task run for task with final state: 'Success'\n",
      "[2019-09-03 16:49:11,273] INFO - prefect.TaskRunner | Task 'ShellTask': Starting task run...\n",
      "[2019-09-03 16:49:11,569] INFO - prefect.TaskRunner | Task 'ShellTask': finished task run for task with final state: 'Success'\n",
      "[2019-09-03 16:49:11,570] INFO - prefect.FlowRunner | Flow run SUCCESS: all reference tasks succeeded\n",
      "[2019-09-03 16:49:11,583] INFO - prefect.FlowRunner | Beginning Flow run for 'predict'\n",
      "[2019-09-03 16:49:11,583] INFO - prefect.FlowRunner | Starting flow run.\n",
      "[2019-09-03 16:49:11,589] INFO - prefect.TaskRunner | Task 'Constant[str]': Starting task run...\n",
      "[2019-09-03 16:49:11,592] INFO - prefect.TaskRunner | Task 'Constant[str]': finished task run for task with final state: 'Success'\n",
      "[2019-09-03 16:49:11,593] INFO - prefect.TaskRunner | Task 'ShellTask': Starting task run...\n"
     ]
    },
    {
     "name": "stdout",
     "output_type": "stream",
     "text": [
      "segment\n",
      "            actual    predicted\n",
      "inst#                          \n",
      "1         4:cement     4:cement\n",
      "2        3:foliage    3:foliage\n",
      "3         4:cement     4:cement\n",
      "4          7:grass      7:grass\n",
      "5      1:brickface  1:brickface\n"
     ]
    },
    {
     "name": "stderr",
     "output_type": "stream",
     "text": [
      "[2019-09-03 16:49:11,897] INFO - prefect.TaskRunner | Task 'ShellTask': finished task run for task with final state: 'Success'\n",
      "[2019-09-03 16:49:11,898] INFO - prefect.FlowRunner | Flow run SUCCESS: all reference tasks succeeded\n",
      "[2019-09-03 16:49:11,910] INFO - prefect.FlowRunner | Beginning Flow run for 'predict'\n",
      "[2019-09-03 16:49:11,911] INFO - prefect.FlowRunner | Starting flow run.\n",
      "[2019-09-03 16:49:11,915] INFO - prefect.TaskRunner | Task 'Constant[str]': Starting task run...\n",
      "[2019-09-03 16:49:11,917] INFO - prefect.TaskRunner | Task 'Constant[str]': finished task run for task with final state: 'Success'\n",
      "[2019-09-03 16:49:11,918] INFO - prefect.TaskRunner | Task 'ShellTask': Starting task run...\n"
     ]
    },
    {
     "name": "stdout",
     "output_type": "stream",
     "text": [
      "segment\n",
      "            actual    predicted\n",
      "inst#                          \n",
      "1         4:cement     4:cement\n",
      "2        3:foliage    3:foliage\n",
      "3         4:cement     4:cement\n",
      "4          7:grass      7:grass\n",
      "5      1:brickface  1:brickface\n"
     ]
    },
    {
     "name": "stderr",
     "output_type": "stream",
     "text": [
      "[2019-09-03 16:49:12,222] INFO - prefect.TaskRunner | Task 'ShellTask': finished task run for task with final state: 'Success'\n",
      "[2019-09-03 16:49:12,223] INFO - prefect.FlowRunner | Flow run SUCCESS: all reference tasks succeeded\n",
      "/home/zissou/miniconda3/envs/aaai20/lib/python3.6/site-packages/sklearn/metrics/classification.py:1143: UndefinedMetricWarning: F-score is ill-defined and being set to 0.0 in labels with no predicted samples.\n",
      "  'precision', 'predicted', average, warn_for)\n",
      "[2019-09-03 16:49:12,238] INFO - prefect.FlowRunner | Beginning Flow run for 'predict'\n",
      "[2019-09-03 16:49:12,239] INFO - prefect.FlowRunner | Starting flow run.\n",
      "[2019-09-03 16:49:12,245] INFO - prefect.TaskRunner | Task 'Constant[str]': Starting task run...\n",
      "[2019-09-03 16:49:12,247] INFO - prefect.TaskRunner | Task 'Constant[str]': finished task run for task with final state: 'Success'\n",
      "[2019-09-03 16:49:12,249] INFO - prefect.TaskRunner | Task 'ShellTask': Starting task run...\n"
     ]
    },
    {
     "name": "stdout",
     "output_type": "stream",
     "text": [
      "segment\n",
      "            actual    predicted\n",
      "inst#                          \n",
      "1         4:cement     4:cement\n",
      "2        3:foliage    3:foliage\n",
      "3         4:cement     4:cement\n",
      "4          7:grass      7:grass\n",
      "5      1:brickface  1:brickface\n"
     ]
    },
    {
     "name": "stderr",
     "output_type": "stream",
     "text": [
      "[2019-09-03 16:49:12,561] INFO - prefect.TaskRunner | Task 'ShellTask': finished task run for task with final state: 'Success'\n",
      "[2019-09-03 16:49:12,562] INFO - prefect.FlowRunner | Flow run SUCCESS: all reference tasks succeeded\n",
      "/home/zissou/miniconda3/envs/aaai20/lib/python3.6/site-packages/sklearn/metrics/classification.py:1143: UndefinedMetricWarning: F-score is ill-defined and being set to 0.0 in labels with no predicted samples.\n",
      "  'precision', 'predicted', average, warn_for)\n",
      "[2019-09-03 16:49:12,575] INFO - prefect.FlowRunner | Beginning Flow run for 'predict'\n",
      "[2019-09-03 16:49:12,576] INFO - prefect.FlowRunner | Starting flow run.\n",
      "[2019-09-03 16:49:12,580] INFO - prefect.TaskRunner | Task 'Constant[str]': Starting task run...\n",
      "[2019-09-03 16:49:12,582] INFO - prefect.TaskRunner | Task 'Constant[str]': finished task run for task with final state: 'Success'\n",
      "[2019-09-03 16:49:12,583] INFO - prefect.TaskRunner | Task 'ShellTask': Starting task run...\n"
     ]
    },
    {
     "name": "stdout",
     "output_type": "stream",
     "text": [
      "segment\n",
      "            actual    predicted\n",
      "inst#                          \n",
      "1         4:cement     4:cement\n",
      "2        3:foliage    3:foliage\n",
      "3         4:cement     4:cement\n",
      "4          7:grass      7:grass\n",
      "5      1:brickface  1:brickface\n"
     ]
    },
    {
     "name": "stderr",
     "output_type": "stream",
     "text": [
      "[2019-09-03 16:49:12,893] INFO - prefect.TaskRunner | Task 'ShellTask': finished task run for task with final state: 'Success'\n",
      "[2019-09-03 16:49:12,894] INFO - prefect.FlowRunner | Flow run SUCCESS: all reference tasks succeeded\n",
      "/home/zissou/miniconda3/envs/aaai20/lib/python3.6/site-packages/sklearn/metrics/classification.py:1143: UndefinedMetricWarning: F-score is ill-defined and being set to 0.0 in labels with no predicted samples.\n",
      "  'precision', 'predicted', average, warn_for)\n",
      "[2019-09-03 16:49:12,910] INFO - prefect.FlowRunner | Beginning Flow run for 'predict'\n",
      "[2019-09-03 16:49:12,911] INFO - prefect.FlowRunner | Starting flow run.\n",
      "[2019-09-03 16:49:12,915] INFO - prefect.TaskRunner | Task 'Constant[str]': Starting task run...\n",
      "[2019-09-03 16:49:12,916] INFO - prefect.TaskRunner | Task 'Constant[str]': finished task run for task with final state: 'Success'\n",
      "[2019-09-03 16:49:12,917] INFO - prefect.TaskRunner | Task 'ShellTask': Starting task run...\n"
     ]
    },
    {
     "name": "stdout",
     "output_type": "stream",
     "text": [
      "segment\n",
      "            actual    predicted\n",
      "inst#                          \n",
      "1         4:cement     4:cement\n",
      "2        3:foliage    3:foliage\n",
      "3         4:cement     4:cement\n",
      "4          7:grass      7:grass\n",
      "5      1:brickface  1:brickface\n"
     ]
    },
    {
     "name": "stderr",
     "output_type": "stream",
     "text": [
      "[2019-09-03 16:49:13,246] INFO - prefect.TaskRunner | Task 'ShellTask': finished task run for task with final state: 'Success'\n",
      "[2019-09-03 16:49:13,247] INFO - prefect.FlowRunner | Flow run SUCCESS: all reference tasks succeeded\n",
      "/home/zissou/miniconda3/envs/aaai20/lib/python3.6/site-packages/sklearn/metrics/classification.py:1143: UndefinedMetricWarning: F-score is ill-defined and being set to 0.0 in labels with no predicted samples.\n",
      "  'precision', 'predicted', average, warn_for)\n",
      "[2019-09-03 16:49:13,267] INFO - prefect.FlowRunner | Beginning Flow run for 'predict'\n",
      "[2019-09-03 16:49:13,268] INFO - prefect.FlowRunner | Starting flow run.\n",
      "[2019-09-03 16:49:13,274] INFO - prefect.TaskRunner | Task 'Constant[str]': Starting task run...\n",
      "[2019-09-03 16:49:13,276] INFO - prefect.TaskRunner | Task 'Constant[str]': finished task run for task with final state: 'Success'\n",
      "[2019-09-03 16:49:13,277] INFO - prefect.TaskRunner | Task 'ShellTask': Starting task run...\n"
     ]
    },
    {
     "name": "stdout",
     "output_type": "stream",
     "text": [
      "segment\n",
      "            actual    predicted\n",
      "inst#                          \n",
      "1         4:cement     4:cement\n",
      "2        3:foliage    3:foliage\n",
      "3         4:cement     4:cement\n",
      "4          7:grass  1:brickface\n",
      "5      1:brickface  1:brickface\n"
     ]
    },
    {
     "name": "stderr",
     "output_type": "stream",
     "text": [
      "[2019-09-03 16:49:13,579] INFO - prefect.TaskRunner | Task 'ShellTask': finished task run for task with final state: 'Success'\n",
      "[2019-09-03 16:49:13,580] INFO - prefect.FlowRunner | Flow run SUCCESS: all reference tasks succeeded\n",
      "/home/zissou/miniconda3/envs/aaai20/lib/python3.6/site-packages/sklearn/metrics/classification.py:1143: UndefinedMetricWarning: F-score is ill-defined and being set to 0.0 in labels with no predicted samples.\n",
      "  'precision', 'predicted', average, warn_for)\n",
      "[2019-09-03 16:49:13,594] INFO - prefect.FlowRunner | Beginning Flow run for 'predict'\n",
      "[2019-09-03 16:49:13,595] INFO - prefect.FlowRunner | Starting flow run.\n",
      "[2019-09-03 16:49:13,601] INFO - prefect.TaskRunner | Task 'Constant[str]': Starting task run...\n",
      "[2019-09-03 16:49:13,604] INFO - prefect.TaskRunner | Task 'Constant[str]': finished task run for task with final state: 'Success'\n",
      "[2019-09-03 16:49:13,605] INFO - prefect.TaskRunner | Task 'ShellTask': Starting task run...\n"
     ]
    },
    {
     "name": "stdout",
     "output_type": "stream",
     "text": [
      "segment\n",
      "            actual    predicted\n",
      "inst#                          \n",
      "1         4:cement     4:cement\n",
      "2        3:foliage    3:foliage\n",
      "3         4:cement     4:cement\n",
      "4          7:grass  1:brickface\n",
      "5      1:brickface  1:brickface\n"
     ]
    },
    {
     "name": "stderr",
     "output_type": "stream",
     "text": [
      "[2019-09-03 16:49:13,901] INFO - prefect.TaskRunner | Task 'ShellTask': finished task run for task with final state: 'Success'\n",
      "[2019-09-03 16:49:13,902] INFO - prefect.FlowRunner | Flow run SUCCESS: all reference tasks succeeded\n",
      "/home/zissou/miniconda3/envs/aaai20/lib/python3.6/site-packages/sklearn/metrics/classification.py:1143: UndefinedMetricWarning: F-score is ill-defined and being set to 0.0 in labels with no predicted samples.\n",
      "  'precision', 'predicted', average, warn_for)\n",
      "[2019-09-03 16:49:13,915] INFO - prefect.FlowRunner | Beginning Flow run for 'predict'\n",
      "[2019-09-03 16:49:13,916] INFO - prefect.FlowRunner | Starting flow run.\n",
      "[2019-09-03 16:49:13,921] INFO - prefect.TaskRunner | Task 'Constant[str]': Starting task run...\n",
      "[2019-09-03 16:49:13,922] INFO - prefect.TaskRunner | Task 'Constant[str]': finished task run for task with final state: 'Success'\n",
      "[2019-09-03 16:49:13,923] INFO - prefect.TaskRunner | Task 'ShellTask': Starting task run...\n"
     ]
    },
    {
     "name": "stdout",
     "output_type": "stream",
     "text": [
      "segment\n",
      "            actual    predicted\n",
      "inst#                          \n",
      "1         4:cement        2:sky\n",
      "2        3:foliage    3:foliage\n",
      "3         4:cement        2:sky\n",
      "4          7:grass  1:brickface\n",
      "5      1:brickface  1:brickface\n"
     ]
    },
    {
     "name": "stderr",
     "output_type": "stream",
     "text": [
      "[2019-09-03 16:49:14,214] INFO - prefect.TaskRunner | Task 'ShellTask': finished task run for task with final state: 'Success'\n",
      "[2019-09-03 16:49:14,216] INFO - prefect.FlowRunner | Flow run SUCCESS: all reference tasks succeeded\n",
      "/home/zissou/miniconda3/envs/aaai20/lib/python3.6/site-packages/sklearn/metrics/classification.py:1143: UndefinedMetricWarning: F-score is ill-defined and being set to 0.0 in labels with no predicted samples.\n",
      "  'precision', 'predicted', average, warn_for)\n",
      "[2019-09-03 16:49:14,228] INFO - prefect.FlowRunner | Beginning Flow run for 'predict'\n",
      "[2019-09-03 16:49:14,230] INFO - prefect.FlowRunner | Starting flow run.\n",
      "[2019-09-03 16:49:14,236] INFO - prefect.TaskRunner | Task 'Constant[str]': Starting task run...\n",
      "[2019-09-03 16:49:14,237] INFO - prefect.TaskRunner | Task 'Constant[str]': finished task run for task with final state: 'Success'\n",
      "[2019-09-03 16:49:14,238] INFO - prefect.TaskRunner | Task 'ShellTask': Starting task run...\n"
     ]
    },
    {
     "name": "stdout",
     "output_type": "stream",
     "text": [
      "segment\n",
      "            actual    predicted\n",
      "inst#                          \n",
      "1         4:cement        2:sky\n",
      "2        3:foliage    3:foliage\n",
      "3         4:cement        2:sky\n",
      "4          7:grass  1:brickface\n",
      "5      1:brickface  1:brickface\n"
     ]
    },
    {
     "name": "stderr",
     "output_type": "stream",
     "text": [
      "[2019-09-03 16:49:14,539] INFO - prefect.TaskRunner | Task 'ShellTask': finished task run for task with final state: 'Success'\n",
      "[2019-09-03 16:49:14,540] INFO - prefect.FlowRunner | Flow run SUCCESS: all reference tasks succeeded\n",
      "/home/zissou/miniconda3/envs/aaai20/lib/python3.6/site-packages/sklearn/metrics/classification.py:1143: UndefinedMetricWarning: F-score is ill-defined and being set to 0.0 in labels with no predicted samples.\n",
      "  'precision', 'predicted', average, warn_for)\n",
      "[2019-09-03 16:49:14,556] INFO - prefect.FlowRunner | Beginning Flow run for 'fit'\n",
      "[2019-09-03 16:49:14,557] INFO - prefect.FlowRunner | Starting flow run.\n",
      "[2019-09-03 16:49:14,563] INFO - prefect.TaskRunner | Task 'Constant[str]': Starting task run...\n",
      "[2019-09-03 16:49:14,565] INFO - prefect.TaskRunner | Task 'Constant[str]': finished task run for task with final state: 'Success'\n",
      "[2019-09-03 16:49:14,567] INFO - prefect.TaskRunner | Task 'ShellTask': Starting task run...\n"
     ]
    },
    {
     "name": "stdout",
     "output_type": "stream",
     "text": [
      "segment\n",
      "            actual predicted\n",
      "inst#                       \n",
      "1         4:cement   7:grass\n",
      "2        3:foliage  5:window\n",
      "3         4:cement   7:grass\n",
      "4          7:grass   7:grass\n",
      "5      1:brickface   7:grass\n",
      "zoo\n"
     ]
    },
    {
     "name": "stderr",
     "output_type": "stream",
     "text": [
      "[2019-09-03 16:49:15,071] INFO - prefect.TaskRunner | Task 'ShellTask': finished task run for task with final state: 'Success'\n",
      "[2019-09-03 16:49:15,072] INFO - prefect.FlowRunner | Flow run SUCCESS: all reference tasks succeeded\n",
      "[2019-09-03 16:49:15,076] INFO - prefect.FlowRunner | Beginning Flow run for 'predict'\n",
      "[2019-09-03 16:49:15,077] INFO - prefect.FlowRunner | Starting flow run.\n",
      "[2019-09-03 16:49:15,081] INFO - prefect.TaskRunner | Task 'Constant[str]': Starting task run...\n",
      "[2019-09-03 16:49:15,082] INFO - prefect.TaskRunner | Task 'Constant[str]': finished task run for task with final state: 'Success'\n",
      "[2019-09-03 16:49:15,083] INFO - prefect.TaskRunner | Task 'ShellTask': Starting task run...\n",
      "[2019-09-03 16:49:15,314] INFO - prefect.TaskRunner | Task 'ShellTask': finished task run for task with final state: 'Success'\n",
      "[2019-09-03 16:49:15,315] INFO - prefect.FlowRunner | Flow run SUCCESS: all reference tasks succeeded\n",
      "/home/zissou/miniconda3/envs/aaai20/lib/python3.6/site-packages/sklearn/metrics/classification.py:1143: UndefinedMetricWarning: F-score is ill-defined and being set to 0.0 in labels with no predicted samples.\n",
      "  'precision', 'predicted', average, warn_for)\n",
      "[2019-09-03 16:49:15,334] INFO - prefect.FlowRunner | Beginning Flow run for 'predict'\n",
      "[2019-09-03 16:49:15,335] INFO - prefect.FlowRunner | Starting flow run.\n",
      "[2019-09-03 16:49:15,340] INFO - prefect.TaskRunner | Task 'Constant[str]': Starting task run...\n",
      "[2019-09-03 16:49:15,341] INFO - prefect.TaskRunner | Task 'Constant[str]': finished task run for task with final state: 'Success'\n",
      "[2019-09-03 16:49:15,342] INFO - prefect.TaskRunner | Task 'ShellTask': Starting task run...\n"
     ]
    },
    {
     "name": "stdout",
     "output_type": "stream",
     "text": [
      "zoo\n",
      "               actual       predicted\n",
      "inst#                                \n",
      "1            1:mammal        1:mammal\n",
      "2      7:invertebrate  7:invertebrate\n",
      "3            1:mammal        1:mammal\n",
      "4            6:insect        6:insect\n",
      "5              2:bird          2:bird\n"
     ]
    },
    {
     "name": "stderr",
     "output_type": "stream",
     "text": [
      "[2019-09-03 16:49:15,576] INFO - prefect.TaskRunner | Task 'ShellTask': finished task run for task with final state: 'Success'\n",
      "[2019-09-03 16:49:15,577] INFO - prefect.FlowRunner | Flow run SUCCESS: all reference tasks succeeded\n",
      "/home/zissou/miniconda3/envs/aaai20/lib/python3.6/site-packages/sklearn/metrics/classification.py:1143: UndefinedMetricWarning: F-score is ill-defined and being set to 0.0 in labels with no predicted samples.\n",
      "  'precision', 'predicted', average, warn_for)\n",
      "[2019-09-03 16:49:15,594] INFO - prefect.FlowRunner | Beginning Flow run for 'predict'\n",
      "[2019-09-03 16:49:15,595] INFO - prefect.FlowRunner | Starting flow run.\n",
      "[2019-09-03 16:49:15,602] INFO - prefect.TaskRunner | Task 'Constant[str]': Starting task run...\n",
      "[2019-09-03 16:49:15,605] INFO - prefect.TaskRunner | Task 'Constant[str]': finished task run for task with final state: 'Success'\n",
      "[2019-09-03 16:49:15,606] INFO - prefect.TaskRunner | Task 'ShellTask': Starting task run...\n"
     ]
    },
    {
     "name": "stdout",
     "output_type": "stream",
     "text": [
      "zoo\n",
      "               actual       predicted\n",
      "inst#                                \n",
      "1            1:mammal        1:mammal\n",
      "2      7:invertebrate  7:invertebrate\n",
      "3            1:mammal        1:mammal\n",
      "4            6:insect        6:insect\n",
      "5              2:bird          2:bird\n"
     ]
    },
    {
     "name": "stderr",
     "output_type": "stream",
     "text": [
      "[2019-09-03 16:49:15,873] INFO - prefect.TaskRunner | Task 'ShellTask': finished task run for task with final state: 'Success'\n",
      "[2019-09-03 16:49:15,874] INFO - prefect.FlowRunner | Flow run SUCCESS: all reference tasks succeeded\n",
      "/home/zissou/miniconda3/envs/aaai20/lib/python3.6/site-packages/sklearn/metrics/classification.py:1143: UndefinedMetricWarning: F-score is ill-defined and being set to 0.0 in labels with no predicted samples.\n",
      "  'precision', 'predicted', average, warn_for)\n",
      "[2019-09-03 16:49:15,889] INFO - prefect.FlowRunner | Beginning Flow run for 'predict'\n",
      "[2019-09-03 16:49:15,890] INFO - prefect.FlowRunner | Starting flow run.\n",
      "[2019-09-03 16:49:15,896] INFO - prefect.TaskRunner | Task 'Constant[str]': Starting task run...\n",
      "[2019-09-03 16:49:15,898] INFO - prefect.TaskRunner | Task 'Constant[str]': finished task run for task with final state: 'Success'\n",
      "[2019-09-03 16:49:15,900] INFO - prefect.TaskRunner | Task 'ShellTask': Starting task run...\n"
     ]
    },
    {
     "name": "stdout",
     "output_type": "stream",
     "text": [
      "zoo\n",
      "               actual       predicted\n",
      "inst#                                \n",
      "1            1:mammal        1:mammal\n",
      "2      7:invertebrate  7:invertebrate\n",
      "3            1:mammal        1:mammal\n",
      "4            6:insect        6:insect\n",
      "5              2:bird  7:invertebrate\n"
     ]
    },
    {
     "name": "stderr",
     "output_type": "stream",
     "text": [
      "[2019-09-03 16:49:16,145] INFO - prefect.TaskRunner | Task 'ShellTask': finished task run for task with final state: 'Success'\n",
      "[2019-09-03 16:49:16,146] INFO - prefect.FlowRunner | Flow run SUCCESS: all reference tasks succeeded\n",
      "/home/zissou/miniconda3/envs/aaai20/lib/python3.6/site-packages/sklearn/metrics/classification.py:1143: UndefinedMetricWarning: F-score is ill-defined and being set to 0.0 in labels with no predicted samples.\n",
      "  'precision', 'predicted', average, warn_for)\n",
      "[2019-09-03 16:49:16,160] INFO - prefect.FlowRunner | Beginning Flow run for 'predict'\n",
      "[2019-09-03 16:49:16,161] INFO - prefect.FlowRunner | Starting flow run.\n",
      "[2019-09-03 16:49:16,166] INFO - prefect.TaskRunner | Task 'Constant[str]': Starting task run...\n",
      "[2019-09-03 16:49:16,167] INFO - prefect.TaskRunner | Task 'Constant[str]': finished task run for task with final state: 'Success'\n",
      "[2019-09-03 16:49:16,170] INFO - prefect.TaskRunner | Task 'ShellTask': Starting task run...\n"
     ]
    },
    {
     "name": "stdout",
     "output_type": "stream",
     "text": [
      "zoo\n",
      "               actual       predicted\n",
      "inst#                                \n",
      "1            1:mammal        1:mammal\n",
      "2      7:invertebrate  7:invertebrate\n",
      "3            1:mammal        1:mammal\n",
      "4            6:insect        6:insect\n",
      "5              2:bird  7:invertebrate\n"
     ]
    },
    {
     "name": "stderr",
     "output_type": "stream",
     "text": [
      "[2019-09-03 16:49:16,422] INFO - prefect.TaskRunner | Task 'ShellTask': finished task run for task with final state: 'Success'\n",
      "[2019-09-03 16:49:16,424] INFO - prefect.FlowRunner | Flow run SUCCESS: all reference tasks succeeded\n",
      "/home/zissou/miniconda3/envs/aaai20/lib/python3.6/site-packages/sklearn/metrics/classification.py:1143: UndefinedMetricWarning: F-score is ill-defined and being set to 0.0 in labels with no predicted samples.\n",
      "  'precision', 'predicted', average, warn_for)\n",
      "[2019-09-03 16:49:16,435] INFO - prefect.FlowRunner | Beginning Flow run for 'predict'\n",
      "[2019-09-03 16:49:16,437] INFO - prefect.FlowRunner | Starting flow run.\n",
      "[2019-09-03 16:49:16,440] INFO - prefect.TaskRunner | Task 'Constant[str]': Starting task run...\n",
      "[2019-09-03 16:49:16,442] INFO - prefect.TaskRunner | Task 'Constant[str]': finished task run for task with final state: 'Success'\n",
      "[2019-09-03 16:49:16,443] INFO - prefect.TaskRunner | Task 'ShellTask': Starting task run...\n"
     ]
    },
    {
     "name": "stdout",
     "output_type": "stream",
     "text": [
      "zoo\n",
      "               actual       predicted\n",
      "inst#                                \n",
      "1            1:mammal        1:mammal\n",
      "2      7:invertebrate  7:invertebrate\n",
      "3            1:mammal        1:mammal\n",
      "4            6:insect        6:insect\n",
      "5              2:bird  7:invertebrate\n"
     ]
    },
    {
     "name": "stderr",
     "output_type": "stream",
     "text": [
      "[2019-09-03 16:49:16,685] INFO - prefect.TaskRunner | Task 'ShellTask': finished task run for task with final state: 'Success'\n",
      "[2019-09-03 16:49:16,686] INFO - prefect.FlowRunner | Flow run SUCCESS: all reference tasks succeeded\n",
      "/home/zissou/miniconda3/envs/aaai20/lib/python3.6/site-packages/sklearn/metrics/classification.py:1143: UndefinedMetricWarning: F-score is ill-defined and being set to 0.0 in labels with no predicted samples.\n",
      "  'precision', 'predicted', average, warn_for)\n",
      "[2019-09-03 16:49:16,699] INFO - prefect.FlowRunner | Beginning Flow run for 'predict'\n",
      "[2019-09-03 16:49:16,700] INFO - prefect.FlowRunner | Starting flow run.\n",
      "[2019-09-03 16:49:16,704] INFO - prefect.TaskRunner | Task 'Constant[str]': Starting task run...\n",
      "[2019-09-03 16:49:16,708] INFO - prefect.TaskRunner | Task 'Constant[str]': finished task run for task with final state: 'Success'\n",
      "[2019-09-03 16:49:16,708] INFO - prefect.TaskRunner | Task 'ShellTask': Starting task run...\n"
     ]
    },
    {
     "name": "stdout",
     "output_type": "stream",
     "text": [
      "zoo\n",
      "               actual       predicted\n",
      "inst#                                \n",
      "1            1:mammal        1:mammal\n",
      "2      7:invertebrate  7:invertebrate\n",
      "3            1:mammal        1:mammal\n",
      "4            6:insect        6:insect\n",
      "5              2:bird  7:invertebrate\n"
     ]
    },
    {
     "name": "stderr",
     "output_type": "stream",
     "text": [
      "[2019-09-03 16:49:16,973] INFO - prefect.TaskRunner | Task 'ShellTask': finished task run for task with final state: 'Success'\n",
      "[2019-09-03 16:49:16,975] INFO - prefect.FlowRunner | Flow run SUCCESS: all reference tasks succeeded\n",
      "/home/zissou/miniconda3/envs/aaai20/lib/python3.6/site-packages/sklearn/metrics/classification.py:1143: UndefinedMetricWarning: F-score is ill-defined and being set to 0.0 in labels with no predicted samples.\n",
      "  'precision', 'predicted', average, warn_for)\n",
      "[2019-09-03 16:49:16,990] INFO - prefect.FlowRunner | Beginning Flow run for 'predict'\n",
      "[2019-09-03 16:49:16,991] INFO - prefect.FlowRunner | Starting flow run.\n",
      "[2019-09-03 16:49:16,998] INFO - prefect.TaskRunner | Task 'Constant[str]': Starting task run...\n",
      "[2019-09-03 16:49:17,000] INFO - prefect.TaskRunner | Task 'Constant[str]': finished task run for task with final state: 'Success'\n",
      "[2019-09-03 16:49:17,001] INFO - prefect.TaskRunner | Task 'ShellTask': Starting task run...\n"
     ]
    },
    {
     "name": "stdout",
     "output_type": "stream",
     "text": [
      "zoo\n",
      "               actual predicted\n",
      "inst#                          \n",
      "1            1:mammal  1:mammal\n",
      "2      7:invertebrate    4:fish\n",
      "3            1:mammal  1:mammal\n",
      "4            6:insect    4:fish\n",
      "5              2:bird    4:fish\n"
     ]
    },
    {
     "name": "stderr",
     "output_type": "stream",
     "text": [
      "[2019-09-03 16:49:17,266] INFO - prefect.TaskRunner | Task 'ShellTask': finished task run for task with final state: 'Success'\n",
      "[2019-09-03 16:49:17,267] INFO - prefect.FlowRunner | Flow run SUCCESS: all reference tasks succeeded\n",
      "/home/zissou/miniconda3/envs/aaai20/lib/python3.6/site-packages/sklearn/metrics/classification.py:1143: UndefinedMetricWarning: F-score is ill-defined and being set to 0.0 in labels with no predicted samples.\n",
      "  'precision', 'predicted', average, warn_for)\n",
      "[2019-09-03 16:49:17,287] INFO - prefect.FlowRunner | Beginning Flow run for 'predict'\n",
      "[2019-09-03 16:49:17,289] INFO - prefect.FlowRunner | Starting flow run.\n",
      "[2019-09-03 16:49:17,295] INFO - prefect.TaskRunner | Task 'Constant[str]': Starting task run...\n",
      "[2019-09-03 16:49:17,297] INFO - prefect.TaskRunner | Task 'Constant[str]': finished task run for task with final state: 'Success'\n",
      "[2019-09-03 16:49:17,298] INFO - prefect.TaskRunner | Task 'ShellTask': Starting task run...\n"
     ]
    },
    {
     "name": "stdout",
     "output_type": "stream",
     "text": [
      "zoo\n",
      "               actual predicted\n",
      "inst#                          \n",
      "1            1:mammal  1:mammal\n",
      "2      7:invertebrate  1:mammal\n",
      "3            1:mammal  1:mammal\n",
      "4            6:insect  1:mammal\n",
      "5              2:bird  1:mammal\n"
     ]
    },
    {
     "name": "stderr",
     "output_type": "stream",
     "text": [
      "[2019-09-03 16:49:17,535] INFO - prefect.TaskRunner | Task 'ShellTask': finished task run for task with final state: 'Success'\n",
      "[2019-09-03 16:49:17,536] INFO - prefect.FlowRunner | Flow run SUCCESS: all reference tasks succeeded\n",
      "/home/zissou/miniconda3/envs/aaai20/lib/python3.6/site-packages/sklearn/metrics/classification.py:1143: UndefinedMetricWarning: F-score is ill-defined and being set to 0.0 in labels with no predicted samples.\n",
      "  'precision', 'predicted', average, warn_for)\n",
      "[2019-09-03 16:49:17,548] INFO - prefect.FlowRunner | Beginning Flow run for 'predict'\n",
      "[2019-09-03 16:49:17,549] INFO - prefect.FlowRunner | Starting flow run.\n",
      "[2019-09-03 16:49:17,555] INFO - prefect.TaskRunner | Task 'Constant[str]': Starting task run...\n",
      "[2019-09-03 16:49:17,557] INFO - prefect.TaskRunner | Task 'Constant[str]': finished task run for task with final state: 'Success'\n",
      "[2019-09-03 16:49:17,559] INFO - prefect.TaskRunner | Task 'ShellTask': Starting task run...\n"
     ]
    },
    {
     "name": "stdout",
     "output_type": "stream",
     "text": [
      "zoo\n",
      "               actual predicted\n",
      "inst#                          \n",
      "1            1:mammal  1:mammal\n",
      "2      7:invertebrate  1:mammal\n",
      "3            1:mammal  1:mammal\n",
      "4            6:insect  1:mammal\n",
      "5              2:bird  1:mammal\n"
     ]
    },
    {
     "name": "stderr",
     "output_type": "stream",
     "text": [
      "[2019-09-03 16:49:17,813] INFO - prefect.TaskRunner | Task 'ShellTask': finished task run for task with final state: 'Success'\n",
      "[2019-09-03 16:49:17,814] INFO - prefect.FlowRunner | Flow run SUCCESS: all reference tasks succeeded\n",
      "/home/zissou/miniconda3/envs/aaai20/lib/python3.6/site-packages/sklearn/metrics/classification.py:1143: UndefinedMetricWarning: F-score is ill-defined and being set to 0.0 in labels with no predicted samples.\n",
      "  'precision', 'predicted', average, warn_for)\n",
      "[2019-09-03 16:49:17,834] INFO - prefect.FlowRunner | Beginning Flow run for 'fit'\n",
      "[2019-09-03 16:49:17,836] INFO - prefect.FlowRunner | Starting flow run.\n",
      "[2019-09-03 16:49:17,843] INFO - prefect.TaskRunner | Task 'Constant[str]': Starting task run...\n",
      "[2019-09-03 16:49:17,844] INFO - prefect.TaskRunner | Task 'Constant[str]': finished task run for task with final state: 'Success'\n",
      "[2019-09-03 16:49:17,846] INFO - prefect.TaskRunner | Task 'ShellTask': Starting task run...\n"
     ]
    },
    {
     "name": "stdout",
     "output_type": "stream",
     "text": [
      "zoo\n",
      "               actual predicted\n",
      "inst#                          \n",
      "1            1:mammal  1:mammal\n",
      "2      7:invertebrate  1:mammal\n",
      "3            1:mammal  1:mammal\n",
      "4            6:insect  1:mammal\n",
      "5              2:bird  1:mammal\n",
      "heart-statlog\n"
     ]
    },
    {
     "name": "stderr",
     "output_type": "stream",
     "text": [
      "[2019-09-03 16:49:18,386] INFO - prefect.TaskRunner | Task 'ShellTask': finished task run for task with final state: 'Success'\n",
      "[2019-09-03 16:49:18,388] INFO - prefect.FlowRunner | Flow run SUCCESS: all reference tasks succeeded\n",
      "[2019-09-03 16:49:18,391] INFO - prefect.FlowRunner | Beginning Flow run for 'predict'\n",
      "[2019-09-03 16:49:18,393] INFO - prefect.FlowRunner | Starting flow run.\n",
      "[2019-09-03 16:49:18,398] INFO - prefect.TaskRunner | Task 'Constant[str]': Starting task run...\n",
      "[2019-09-03 16:49:18,399] INFO - prefect.TaskRunner | Task 'Constant[str]': finished task run for task with final state: 'Success'\n",
      "[2019-09-03 16:49:18,400] INFO - prefect.TaskRunner | Task 'ShellTask': Starting task run...\n",
      "[2019-09-03 16:49:18,625] INFO - prefect.TaskRunner | Task 'ShellTask': finished task run for task with final state: 'Success'\n",
      "[2019-09-03 16:49:18,626] INFO - prefect.FlowRunner | Flow run SUCCESS: all reference tasks succeeded\n",
      "[2019-09-03 16:49:18,638] INFO - prefect.FlowRunner | Beginning Flow run for 'predict'\n",
      "[2019-09-03 16:49:18,639] INFO - prefect.FlowRunner | Starting flow run.\n",
      "[2019-09-03 16:49:18,644] INFO - prefect.TaskRunner | Task 'Constant[str]': Starting task run...\n",
      "[2019-09-03 16:49:18,645] INFO - prefect.TaskRunner | Task 'Constant[str]': finished task run for task with final state: 'Success'\n",
      "[2019-09-03 16:49:18,646] INFO - prefect.TaskRunner | Task 'ShellTask': Starting task run...\n"
     ]
    },
    {
     "name": "stdout",
     "output_type": "stream",
     "text": [
      "heart-statlog\n",
      "          actual  predicted\n",
      "inst#                      \n",
      "1       1:absent   1:absent\n",
      "2       1:absent   1:absent\n",
      "3       1:absent   1:absent\n",
      "4      2:present  2:present\n",
      "5       1:absent   1:absent\n"
     ]
    },
    {
     "name": "stderr",
     "output_type": "stream",
     "text": [
      "[2019-09-03 16:49:18,893] INFO - prefect.TaskRunner | Task 'ShellTask': finished task run for task with final state: 'Success'\n",
      "[2019-09-03 16:49:18,896] INFO - prefect.FlowRunner | Flow run SUCCESS: all reference tasks succeeded\n",
      "[2019-09-03 16:49:18,908] INFO - prefect.FlowRunner | Beginning Flow run for 'predict'\n",
      "[2019-09-03 16:49:18,910] INFO - prefect.FlowRunner | Starting flow run.\n",
      "[2019-09-03 16:49:18,914] INFO - prefect.TaskRunner | Task 'Constant[str]': Starting task run...\n",
      "[2019-09-03 16:49:18,918] INFO - prefect.TaskRunner | Task 'Constant[str]': finished task run for task with final state: 'Success'\n",
      "[2019-09-03 16:49:18,920] INFO - prefect.TaskRunner | Task 'ShellTask': Starting task run...\n"
     ]
    },
    {
     "name": "stdout",
     "output_type": "stream",
     "text": [
      "heart-statlog\n",
      "          actual  predicted\n",
      "inst#                      \n",
      "1       1:absent   1:absent\n",
      "2       1:absent   1:absent\n",
      "3       1:absent   1:absent\n",
      "4      2:present  2:present\n",
      "5       1:absent   1:absent\n"
     ]
    },
    {
     "name": "stderr",
     "output_type": "stream",
     "text": [
      "[2019-09-03 16:49:19,187] INFO - prefect.TaskRunner | Task 'ShellTask': finished task run for task with final state: 'Success'\n",
      "[2019-09-03 16:49:19,188] INFO - prefect.FlowRunner | Flow run SUCCESS: all reference tasks succeeded\n",
      "[2019-09-03 16:49:19,201] INFO - prefect.FlowRunner | Beginning Flow run for 'predict'\n",
      "[2019-09-03 16:49:19,203] INFO - prefect.FlowRunner | Starting flow run.\n",
      "[2019-09-03 16:49:19,210] INFO - prefect.TaskRunner | Task 'Constant[str]': Starting task run...\n",
      "[2019-09-03 16:49:19,211] INFO - prefect.TaskRunner | Task 'Constant[str]': finished task run for task with final state: 'Success'\n",
      "[2019-09-03 16:49:19,213] INFO - prefect.TaskRunner | Task 'ShellTask': Starting task run...\n"
     ]
    },
    {
     "name": "stdout",
     "output_type": "stream",
     "text": [
      "heart-statlog\n",
      "          actual  predicted\n",
      "inst#                      \n",
      "1       1:absent   1:absent\n",
      "2       1:absent   1:absent\n",
      "3       1:absent   1:absent\n",
      "4      2:present  2:present\n",
      "5       1:absent   1:absent\n"
     ]
    },
    {
     "name": "stderr",
     "output_type": "stream",
     "text": [
      "[2019-09-03 16:49:19,473] INFO - prefect.TaskRunner | Task 'ShellTask': finished task run for task with final state: 'Success'\n",
      "[2019-09-03 16:49:19,474] INFO - prefect.FlowRunner | Flow run SUCCESS: all reference tasks succeeded\n",
      "[2019-09-03 16:49:19,486] INFO - prefect.FlowRunner | Beginning Flow run for 'predict'\n",
      "[2019-09-03 16:49:19,487] INFO - prefect.FlowRunner | Starting flow run.\n",
      "[2019-09-03 16:49:19,494] INFO - prefect.TaskRunner | Task 'Constant[str]': Starting task run...\n",
      "[2019-09-03 16:49:19,495] INFO - prefect.TaskRunner | Task 'Constant[str]': finished task run for task with final state: 'Success'\n",
      "[2019-09-03 16:49:19,497] INFO - prefect.TaskRunner | Task 'ShellTask': Starting task run...\n"
     ]
    },
    {
     "name": "stdout",
     "output_type": "stream",
     "text": [
      "heart-statlog\n",
      "          actual  predicted\n",
      "inst#                      \n",
      "1       1:absent   1:absent\n",
      "2       1:absent   1:absent\n",
      "3       1:absent   1:absent\n",
      "4      2:present  2:present\n",
      "5       1:absent   1:absent\n"
     ]
    },
    {
     "name": "stderr",
     "output_type": "stream",
     "text": [
      "[2019-09-03 16:49:19,758] INFO - prefect.TaskRunner | Task 'ShellTask': finished task run for task with final state: 'Success'\n",
      "[2019-09-03 16:49:19,760] INFO - prefect.FlowRunner | Flow run SUCCESS: all reference tasks succeeded\n",
      "[2019-09-03 16:49:19,774] INFO - prefect.FlowRunner | Beginning Flow run for 'predict'\n",
      "[2019-09-03 16:49:19,775] INFO - prefect.FlowRunner | Starting flow run.\n",
      "[2019-09-03 16:49:19,781] INFO - prefect.TaskRunner | Task 'Constant[str]': Starting task run...\n",
      "[2019-09-03 16:49:19,783] INFO - prefect.TaskRunner | Task 'Constant[str]': finished task run for task with final state: 'Success'\n",
      "[2019-09-03 16:49:19,785] INFO - prefect.TaskRunner | Task 'ShellTask': Starting task run...\n"
     ]
    },
    {
     "name": "stdout",
     "output_type": "stream",
     "text": [
      "heart-statlog\n",
      "          actual  predicted\n",
      "inst#                      \n",
      "1       1:absent   1:absent\n",
      "2       1:absent   1:absent\n",
      "3       1:absent   1:absent\n",
      "4      2:present  2:present\n",
      "5       1:absent   1:absent\n"
     ]
    },
    {
     "name": "stderr",
     "output_type": "stream",
     "text": [
      "[2019-09-03 16:49:20,017] INFO - prefect.TaskRunner | Task 'ShellTask': finished task run for task with final state: 'Success'\n",
      "[2019-09-03 16:49:20,018] INFO - prefect.FlowRunner | Flow run SUCCESS: all reference tasks succeeded\n",
      "[2019-09-03 16:49:20,030] INFO - prefect.FlowRunner | Beginning Flow run for 'predict'\n",
      "[2019-09-03 16:49:20,031] INFO - prefect.FlowRunner | Starting flow run.\n",
      "[2019-09-03 16:49:20,035] INFO - prefect.TaskRunner | Task 'Constant[str]': Starting task run...\n",
      "[2019-09-03 16:49:20,037] INFO - prefect.TaskRunner | Task 'Constant[str]': finished task run for task with final state: 'Success'\n",
      "[2019-09-03 16:49:20,038] INFO - prefect.TaskRunner | Task 'ShellTask': Starting task run...\n"
     ]
    },
    {
     "name": "stdout",
     "output_type": "stream",
     "text": [
      "heart-statlog\n",
      "          actual  predicted\n",
      "inst#                      \n",
      "1       1:absent   1:absent\n",
      "2       1:absent   1:absent\n",
      "3       1:absent   1:absent\n",
      "4      2:present  2:present\n",
      "5       1:absent   1:absent\n"
     ]
    },
    {
     "name": "stderr",
     "output_type": "stream",
     "text": [
      "[2019-09-03 16:49:20,279] INFO - prefect.TaskRunner | Task 'ShellTask': finished task run for task with final state: 'Success'\n",
      "[2019-09-03 16:49:20,280] INFO - prefect.FlowRunner | Flow run SUCCESS: all reference tasks succeeded\n",
      "[2019-09-03 16:49:20,293] INFO - prefect.FlowRunner | Beginning Flow run for 'predict'\n",
      "[2019-09-03 16:49:20,295] INFO - prefect.FlowRunner | Starting flow run.\n",
      "[2019-09-03 16:49:20,300] INFO - prefect.TaskRunner | Task 'Constant[str]': Starting task run...\n",
      "[2019-09-03 16:49:20,302] INFO - prefect.TaskRunner | Task 'Constant[str]': finished task run for task with final state: 'Success'\n",
      "[2019-09-03 16:49:20,304] INFO - prefect.TaskRunner | Task 'ShellTask': Starting task run...\n"
     ]
    },
    {
     "name": "stdout",
     "output_type": "stream",
     "text": [
      "heart-statlog\n",
      "          actual  predicted\n",
      "inst#                      \n",
      "1       1:absent   1:absent\n",
      "2       1:absent   1:absent\n",
      "3       1:absent   1:absent\n",
      "4      2:present  2:present\n",
      "5       1:absent   1:absent\n"
     ]
    },
    {
     "name": "stderr",
     "output_type": "stream",
     "text": [
      "[2019-09-03 16:49:20,565] INFO - prefect.TaskRunner | Task 'ShellTask': finished task run for task with final state: 'Success'\n",
      "[2019-09-03 16:49:20,566] INFO - prefect.FlowRunner | Flow run SUCCESS: all reference tasks succeeded\n",
      "[2019-09-03 16:49:20,580] INFO - prefect.FlowRunner | Beginning Flow run for 'predict'\n",
      "[2019-09-03 16:49:20,582] INFO - prefect.FlowRunner | Starting flow run.\n",
      "[2019-09-03 16:49:20,589] INFO - prefect.TaskRunner | Task 'Constant[str]': Starting task run...\n",
      "[2019-09-03 16:49:20,591] INFO - prefect.TaskRunner | Task 'Constant[str]': finished task run for task with final state: 'Success'\n",
      "[2019-09-03 16:49:20,592] INFO - prefect.TaskRunner | Task 'ShellTask': Starting task run...\n"
     ]
    },
    {
     "name": "stdout",
     "output_type": "stream",
     "text": [
      "heart-statlog\n",
      "          actual  predicted\n",
      "inst#                      \n",
      "1       1:absent   1:absent\n",
      "2       1:absent   1:absent\n",
      "3       1:absent   1:absent\n",
      "4      2:present  2:present\n",
      "5       1:absent   1:absent\n"
     ]
    },
    {
     "name": "stderr",
     "output_type": "stream",
     "text": [
      "[2019-09-03 16:49:20,844] INFO - prefect.TaskRunner | Task 'ShellTask': finished task run for task with final state: 'Success'\n",
      "[2019-09-03 16:49:20,846] INFO - prefect.FlowRunner | Flow run SUCCESS: all reference tasks succeeded\n",
      "[2019-09-03 16:49:20,861] INFO - prefect.FlowRunner | Beginning Flow run for 'predict'\n",
      "[2019-09-03 16:49:20,862] INFO - prefect.FlowRunner | Starting flow run.\n",
      "[2019-09-03 16:49:20,867] INFO - prefect.TaskRunner | Task 'Constant[str]': Starting task run...\n",
      "[2019-09-03 16:49:20,868] INFO - prefect.TaskRunner | Task 'Constant[str]': finished task run for task with final state: 'Success'\n",
      "[2019-09-03 16:49:20,869] INFO - prefect.TaskRunner | Task 'ShellTask': Starting task run...\n"
     ]
    },
    {
     "name": "stdout",
     "output_type": "stream",
     "text": [
      "heart-statlog\n",
      "          actual  predicted\n",
      "inst#                      \n",
      "1       1:absent   1:absent\n",
      "2       1:absent   1:absent\n",
      "3       1:absent   1:absent\n",
      "4      2:present  2:present\n",
      "5       1:absent   1:absent\n"
     ]
    },
    {
     "name": "stderr",
     "output_type": "stream",
     "text": [
      "[2019-09-03 16:49:21,104] INFO - prefect.TaskRunner | Task 'ShellTask': finished task run for task with final state: 'Success'\n",
      "[2019-09-03 16:49:21,105] INFO - prefect.FlowRunner | Flow run SUCCESS: all reference tasks succeeded\n",
      "[2019-09-03 16:49:21,122] INFO - prefect.FlowRunner | Beginning Flow run for 'fit'\n",
      "[2019-09-03 16:49:21,124] INFO - prefect.FlowRunner | Starting flow run.\n",
      "[2019-09-03 16:49:21,128] INFO - prefect.TaskRunner | Task 'Constant[str]': Starting task run...\n",
      "[2019-09-03 16:49:21,130] INFO - prefect.TaskRunner | Task 'Constant[str]': finished task run for task with final state: 'Success'\n",
      "[2019-09-03 16:49:21,131] INFO - prefect.TaskRunner | Task 'ShellTask': Starting task run...\n"
     ]
    },
    {
     "name": "stdout",
     "output_type": "stream",
     "text": [
      "heart-statlog\n",
      "          actual  predicted\n",
      "inst#                      \n",
      "1       1:absent   1:absent\n",
      "2       1:absent   1:absent\n",
      "3       1:absent   1:absent\n",
      "4      2:present  2:present\n",
      "5       1:absent   1:absent\n",
      "waveform-5000\n"
     ]
    },
    {
     "name": "stderr",
     "output_type": "stream",
     "text": [
      "[2019-09-03 16:49:22,504] INFO - prefect.TaskRunner | Task 'ShellTask': finished task run for task with final state: 'Success'\n",
      "[2019-09-03 16:49:22,505] INFO - prefect.FlowRunner | Flow run SUCCESS: all reference tasks succeeded\n",
      "[2019-09-03 16:49:22,509] INFO - prefect.FlowRunner | Beginning Flow run for 'predict'\n",
      "[2019-09-03 16:49:22,509] INFO - prefect.FlowRunner | Starting flow run.\n",
      "[2019-09-03 16:49:22,514] INFO - prefect.TaskRunner | Task 'Constant[str]': Starting task run...\n",
      "[2019-09-03 16:49:22,515] INFO - prefect.TaskRunner | Task 'Constant[str]': finished task run for task with final state: 'Success'\n",
      "[2019-09-03 16:49:22,517] INFO - prefect.TaskRunner | Task 'ShellTask': Starting task run...\n",
      "[2019-09-03 16:49:22,919] INFO - prefect.TaskRunner | Task 'ShellTask': finished task run for task with final state: 'Success'\n",
      "[2019-09-03 16:49:22,920] INFO - prefect.FlowRunner | Flow run SUCCESS: all reference tasks succeeded\n",
      "[2019-09-03 16:49:22,933] INFO - prefect.FlowRunner | Beginning Flow run for 'predict'\n",
      "[2019-09-03 16:49:22,934] INFO - prefect.FlowRunner | Starting flow run.\n",
      "[2019-09-03 16:49:22,940] INFO - prefect.TaskRunner | Task 'Constant[str]': Starting task run...\n",
      "[2019-09-03 16:49:22,944] INFO - prefect.TaskRunner | Task 'Constant[str]': finished task run for task with final state: 'Success'\n",
      "[2019-09-03 16:49:22,945] INFO - prefect.TaskRunner | Task 'ShellTask': Starting task run...\n"
     ]
    },
    {
     "name": "stdout",
     "output_type": "stream",
     "text": [
      "waveform-5000\n",
      "      actual predicted\n",
      "inst#                 \n",
      "1        2:1       1:0\n",
      "2        3:2       2:1\n",
      "3        2:1       3:2\n",
      "4        3:2       3:2\n",
      "5        2:1       1:0\n"
     ]
    },
    {
     "name": "stderr",
     "output_type": "stream",
     "text": [
      "[2019-09-03 16:49:23,314] INFO - prefect.TaskRunner | Task 'ShellTask': finished task run for task with final state: 'Success'\n",
      "[2019-09-03 16:49:23,315] INFO - prefect.FlowRunner | Flow run SUCCESS: all reference tasks succeeded\n",
      "[2019-09-03 16:49:23,328] INFO - prefect.FlowRunner | Beginning Flow run for 'predict'\n",
      "[2019-09-03 16:49:23,329] INFO - prefect.FlowRunner | Starting flow run.\n",
      "[2019-09-03 16:49:23,332] INFO - prefect.TaskRunner | Task 'Constant[str]': Starting task run...\n",
      "[2019-09-03 16:49:23,336] INFO - prefect.TaskRunner | Task 'Constant[str]': finished task run for task with final state: 'Success'\n",
      "[2019-09-03 16:49:23,337] INFO - prefect.TaskRunner | Task 'ShellTask': Starting task run...\n"
     ]
    },
    {
     "name": "stdout",
     "output_type": "stream",
     "text": [
      "waveform-5000\n",
      "      actual predicted\n",
      "inst#                 \n",
      "1        2:1       2:1\n",
      "2        3:2       2:1\n",
      "3        2:1       3:2\n",
      "4        3:2       3:2\n",
      "5        2:1       1:0\n"
     ]
    },
    {
     "name": "stderr",
     "output_type": "stream",
     "text": [
      "[2019-09-03 16:49:23,705] INFO - prefect.TaskRunner | Task 'ShellTask': finished task run for task with final state: 'Success'\n",
      "[2019-09-03 16:49:23,706] INFO - prefect.FlowRunner | Flow run SUCCESS: all reference tasks succeeded\n",
      "[2019-09-03 16:49:23,719] INFO - prefect.FlowRunner | Beginning Flow run for 'predict'\n",
      "[2019-09-03 16:49:23,720] INFO - prefect.FlowRunner | Starting flow run.\n",
      "[2019-09-03 16:49:23,724] INFO - prefect.TaskRunner | Task 'Constant[str]': Starting task run...\n",
      "[2019-09-03 16:49:23,726] INFO - prefect.TaskRunner | Task 'Constant[str]': finished task run for task with final state: 'Success'\n",
      "[2019-09-03 16:49:23,727] INFO - prefect.TaskRunner | Task 'ShellTask': Starting task run...\n"
     ]
    },
    {
     "name": "stdout",
     "output_type": "stream",
     "text": [
      "waveform-5000\n",
      "      actual predicted\n",
      "inst#                 \n",
      "1        2:1       2:1\n",
      "2        3:2       2:1\n",
      "3        2:1       3:2\n",
      "4        3:2       3:2\n",
      "5        2:1       1:0\n"
     ]
    },
    {
     "name": "stderr",
     "output_type": "stream",
     "text": [
      "[2019-09-03 16:49:24,105] INFO - prefect.TaskRunner | Task 'ShellTask': finished task run for task with final state: 'Success'\n",
      "[2019-09-03 16:49:24,107] INFO - prefect.FlowRunner | Flow run SUCCESS: all reference tasks succeeded\n",
      "[2019-09-03 16:49:24,119] INFO - prefect.FlowRunner | Beginning Flow run for 'predict'\n",
      "[2019-09-03 16:49:24,120] INFO - prefect.FlowRunner | Starting flow run.\n",
      "[2019-09-03 16:49:24,126] INFO - prefect.TaskRunner | Task 'Constant[str]': Starting task run...\n",
      "[2019-09-03 16:49:24,127] INFO - prefect.TaskRunner | Task 'Constant[str]': finished task run for task with final state: 'Success'\n",
      "[2019-09-03 16:49:24,129] INFO - prefect.TaskRunner | Task 'ShellTask': Starting task run...\n"
     ]
    },
    {
     "name": "stdout",
     "output_type": "stream",
     "text": [
      "waveform-5000\n",
      "      actual predicted\n",
      "inst#                 \n",
      "1        2:1       2:1\n",
      "2        3:2       2:1\n",
      "3        2:1       2:1\n",
      "4        3:2       3:2\n",
      "5        2:1       1:0\n"
     ]
    },
    {
     "name": "stderr",
     "output_type": "stream",
     "text": [
      "[2019-09-03 16:49:24,494] INFO - prefect.TaskRunner | Task 'ShellTask': finished task run for task with final state: 'Success'\n",
      "[2019-09-03 16:49:24,496] INFO - prefect.FlowRunner | Flow run SUCCESS: all reference tasks succeeded\n",
      "[2019-09-03 16:49:24,509] INFO - prefect.FlowRunner | Beginning Flow run for 'predict'\n",
      "[2019-09-03 16:49:24,510] INFO - prefect.FlowRunner | Starting flow run.\n",
      "[2019-09-03 16:49:24,513] INFO - prefect.TaskRunner | Task 'Constant[str]': Starting task run...\n",
      "[2019-09-03 16:49:24,515] INFO - prefect.TaskRunner | Task 'Constant[str]': finished task run for task with final state: 'Success'\n",
      "[2019-09-03 16:49:24,516] INFO - prefect.TaskRunner | Task 'ShellTask': Starting task run...\n"
     ]
    },
    {
     "name": "stdout",
     "output_type": "stream",
     "text": [
      "waveform-5000\n",
      "      actual predicted\n",
      "inst#                 \n",
      "1        2:1       2:1\n",
      "2        3:2       2:1\n",
      "3        2:1       3:2\n",
      "4        3:2       3:2\n",
      "5        2:1       1:0\n"
     ]
    },
    {
     "name": "stderr",
     "output_type": "stream",
     "text": [
      "[2019-09-03 16:49:24,941] INFO - prefect.TaskRunner | Task 'ShellTask': finished task run for task with final state: 'Success'\n",
      "[2019-09-03 16:49:24,942] INFO - prefect.FlowRunner | Flow run SUCCESS: all reference tasks succeeded\n",
      "[2019-09-03 16:49:24,958] INFO - prefect.FlowRunner | Beginning Flow run for 'predict'\n",
      "[2019-09-03 16:49:24,958] INFO - prefect.FlowRunner | Starting flow run.\n",
      "[2019-09-03 16:49:24,967] INFO - prefect.TaskRunner | Task 'Constant[str]': Starting task run...\n",
      "[2019-09-03 16:49:24,970] INFO - prefect.TaskRunner | Task 'Constant[str]': finished task run for task with final state: 'Success'\n",
      "[2019-09-03 16:49:24,973] INFO - prefect.TaskRunner | Task 'ShellTask': Starting task run...\n"
     ]
    },
    {
     "name": "stdout",
     "output_type": "stream",
     "text": [
      "waveform-5000\n",
      "      actual predicted\n",
      "inst#                 \n",
      "1        2:1       2:1\n",
      "2        3:2       1:0\n",
      "3        2:1       3:2\n",
      "4        3:2       3:2\n",
      "5        2:1       2:1\n"
     ]
    },
    {
     "name": "stderr",
     "output_type": "stream",
     "text": [
      "[2019-09-03 16:49:25,379] INFO - prefect.TaskRunner | Task 'ShellTask': finished task run for task with final state: 'Success'\n",
      "[2019-09-03 16:49:25,380] INFO - prefect.FlowRunner | Flow run SUCCESS: all reference tasks succeeded\n",
      "[2019-09-03 16:49:25,401] INFO - prefect.FlowRunner | Beginning Flow run for 'predict'\n",
      "[2019-09-03 16:49:25,402] INFO - prefect.FlowRunner | Starting flow run.\n",
      "[2019-09-03 16:49:25,408] INFO - prefect.TaskRunner | Task 'Constant[str]': Starting task run...\n",
      "[2019-09-03 16:49:25,412] INFO - prefect.TaskRunner | Task 'Constant[str]': finished task run for task with final state: 'Success'\n",
      "[2019-09-03 16:49:25,414] INFO - prefect.TaskRunner | Task 'ShellTask': Starting task run...\n"
     ]
    },
    {
     "name": "stdout",
     "output_type": "stream",
     "text": [
      "waveform-5000\n",
      "      actual predicted\n",
      "inst#                 \n",
      "1        2:1       2:1\n",
      "2        3:2       1:0\n",
      "3        2:1       3:2\n",
      "4        3:2       3:2\n",
      "5        2:1       2:1\n"
     ]
    },
    {
     "name": "stderr",
     "output_type": "stream",
     "text": [
      "[2019-09-03 16:49:25,816] INFO - prefect.TaskRunner | Task 'ShellTask': finished task run for task with final state: 'Success'\n",
      "[2019-09-03 16:49:25,818] INFO - prefect.FlowRunner | Flow run SUCCESS: all reference tasks succeeded\n",
      "[2019-09-03 16:49:25,830] INFO - prefect.FlowRunner | Beginning Flow run for 'predict'\n",
      "[2019-09-03 16:49:25,831] INFO - prefect.FlowRunner | Starting flow run.\n",
      "[2019-09-03 16:49:25,836] INFO - prefect.TaskRunner | Task 'Constant[str]': Starting task run...\n",
      "[2019-09-03 16:49:25,838] INFO - prefect.TaskRunner | Task 'Constant[str]': finished task run for task with final state: 'Success'\n",
      "[2019-09-03 16:49:25,839] INFO - prefect.TaskRunner | Task 'ShellTask': Starting task run...\n"
     ]
    },
    {
     "name": "stdout",
     "output_type": "stream",
     "text": [
      "waveform-5000\n",
      "      actual predicted\n",
      "inst#                 \n",
      "1        2:1       2:1\n",
      "2        3:2       1:0\n",
      "3        2:1       3:2\n",
      "4        3:2       1:0\n",
      "5        2:1       2:1\n"
     ]
    },
    {
     "name": "stderr",
     "output_type": "stream",
     "text": [
      "[2019-09-03 16:49:26,287] INFO - prefect.TaskRunner | Task 'ShellTask': finished task run for task with final state: 'Success'\n",
      "[2019-09-03 16:49:26,290] INFO - prefect.FlowRunner | Flow run SUCCESS: all reference tasks succeeded\n",
      "[2019-09-03 16:49:26,304] INFO - prefect.FlowRunner | Beginning Flow run for 'predict'\n",
      "[2019-09-03 16:49:26,305] INFO - prefect.FlowRunner | Starting flow run.\n",
      "[2019-09-03 16:49:26,312] INFO - prefect.TaskRunner | Task 'Constant[str]': Starting task run...\n",
      "[2019-09-03 16:49:26,313] INFO - prefect.TaskRunner | Task 'Constant[str]': finished task run for task with final state: 'Success'\n",
      "[2019-09-03 16:49:26,314] INFO - prefect.TaskRunner | Task 'ShellTask': Starting task run...\n"
     ]
    },
    {
     "name": "stdout",
     "output_type": "stream",
     "text": [
      "waveform-5000\n",
      "      actual predicted\n",
      "inst#                 \n",
      "1        2:1       2:1\n",
      "2        3:2       1:0\n",
      "3        2:1       3:2\n",
      "4        3:2       1:0\n",
      "5        2:1       2:1\n"
     ]
    },
    {
     "name": "stderr",
     "output_type": "stream",
     "text": [
      "[2019-09-03 16:49:26,720] INFO - prefect.TaskRunner | Task 'ShellTask': finished task run for task with final state: 'Success'\n",
      "[2019-09-03 16:49:26,721] INFO - prefect.FlowRunner | Flow run SUCCESS: all reference tasks succeeded\n",
      "[2019-09-03 16:49:26,737] INFO - prefect.FlowRunner | Beginning Flow run for 'fit'\n",
      "[2019-09-03 16:49:26,739] INFO - prefect.FlowRunner | Starting flow run.\n",
      "[2019-09-03 16:49:26,743] INFO - prefect.TaskRunner | Task 'Constant[str]': Starting task run...\n",
      "[2019-09-03 16:49:26,745] INFO - prefect.TaskRunner | Task 'Constant[str]': finished task run for task with final state: 'Success'\n",
      "[2019-09-03 16:49:26,746] INFO - prefect.TaskRunner | Task 'ShellTask': Starting task run...\n"
     ]
    },
    {
     "name": "stdout",
     "output_type": "stream",
     "text": [
      "waveform-5000\n",
      "      actual predicted\n",
      "inst#                 \n",
      "1        2:1       2:1\n",
      "2        3:2       1:0\n",
      "3        2:1       1:0\n",
      "4        3:2       3:2\n",
      "5        2:1       2:1\n",
      "kr-vs-kp\n"
     ]
    },
    {
     "name": "stderr",
     "output_type": "stream",
     "text": [
      "[2019-09-03 16:49:27,422] INFO - prefect.TaskRunner | Task 'ShellTask': finished task run for task with final state: 'Success'\n",
      "[2019-09-03 16:49:27,423] INFO - prefect.FlowRunner | Flow run SUCCESS: all reference tasks succeeded\n",
      "[2019-09-03 16:49:27,428] INFO - prefect.FlowRunner | Beginning Flow run for 'predict'\n",
      "[2019-09-03 16:49:27,428] INFO - prefect.FlowRunner | Starting flow run.\n",
      "[2019-09-03 16:49:27,433] INFO - prefect.TaskRunner | Task 'Constant[str]': Starting task run...\n",
      "[2019-09-03 16:49:27,435] INFO - prefect.TaskRunner | Task 'Constant[str]': finished task run for task with final state: 'Success'\n",
      "[2019-09-03 16:49:27,436] INFO - prefect.TaskRunner | Task 'ShellTask': Starting task run...\n",
      "[2019-09-03 16:49:27,742] INFO - prefect.TaskRunner | Task 'ShellTask': finished task run for task with final state: 'Success'\n",
      "[2019-09-03 16:49:27,744] INFO - prefect.FlowRunner | Flow run SUCCESS: all reference tasks succeeded\n",
      "[2019-09-03 16:49:27,756] INFO - prefect.FlowRunner | Beginning Flow run for 'predict'\n",
      "[2019-09-03 16:49:27,757] INFO - prefect.FlowRunner | Starting flow run.\n",
      "[2019-09-03 16:49:27,762] INFO - prefect.TaskRunner | Task 'Constant[str]': Starting task run...\n",
      "[2019-09-03 16:49:27,764] INFO - prefect.TaskRunner | Task 'Constant[str]': finished task run for task with final state: 'Success'\n",
      "[2019-09-03 16:49:27,765] INFO - prefect.TaskRunner | Task 'ShellTask': Starting task run...\n"
     ]
    },
    {
     "name": "stdout",
     "output_type": "stream",
     "text": [
      "kr-vs-kp\n",
      "        actual predicted\n",
      "inst#                   \n",
      "1        1:won     1:won\n",
      "2      2:nowin   2:nowin\n",
      "3        1:won     1:won\n",
      "4        1:won     1:won\n",
      "5      2:nowin   2:nowin\n"
     ]
    },
    {
     "name": "stderr",
     "output_type": "stream",
     "text": [
      "[2019-09-03 16:49:28,091] INFO - prefect.TaskRunner | Task 'ShellTask': finished task run for task with final state: 'Success'\n",
      "[2019-09-03 16:49:28,092] INFO - prefect.FlowRunner | Flow run SUCCESS: all reference tasks succeeded\n",
      "[2019-09-03 16:49:28,106] INFO - prefect.FlowRunner | Beginning Flow run for 'predict'\n",
      "[2019-09-03 16:49:28,107] INFO - prefect.FlowRunner | Starting flow run.\n",
      "[2019-09-03 16:49:28,112] INFO - prefect.TaskRunner | Task 'Constant[str]': Starting task run...\n",
      "[2019-09-03 16:49:28,115] INFO - prefect.TaskRunner | Task 'Constant[str]': finished task run for task with final state: 'Success'\n",
      "[2019-09-03 16:49:28,116] INFO - prefect.TaskRunner | Task 'ShellTask': Starting task run...\n"
     ]
    },
    {
     "name": "stdout",
     "output_type": "stream",
     "text": [
      "kr-vs-kp\n",
      "        actual predicted\n",
      "inst#                   \n",
      "1        1:won     1:won\n",
      "2      2:nowin   2:nowin\n",
      "3        1:won     1:won\n",
      "4        1:won     1:won\n",
      "5      2:nowin   2:nowin\n"
     ]
    },
    {
     "name": "stderr",
     "output_type": "stream",
     "text": [
      "[2019-09-03 16:49:28,431] INFO - prefect.TaskRunner | Task 'ShellTask': finished task run for task with final state: 'Success'\n",
      "[2019-09-03 16:49:28,432] INFO - prefect.FlowRunner | Flow run SUCCESS: all reference tasks succeeded\n",
      "[2019-09-03 16:49:28,444] INFO - prefect.FlowRunner | Beginning Flow run for 'predict'\n",
      "[2019-09-03 16:49:28,445] INFO - prefect.FlowRunner | Starting flow run.\n",
      "[2019-09-03 16:49:28,448] INFO - prefect.TaskRunner | Task 'Constant[str]': Starting task run...\n",
      "[2019-09-03 16:49:28,450] INFO - prefect.TaskRunner | Task 'Constant[str]': finished task run for task with final state: 'Success'\n",
      "[2019-09-03 16:49:28,451] INFO - prefect.TaskRunner | Task 'ShellTask': Starting task run...\n"
     ]
    },
    {
     "name": "stdout",
     "output_type": "stream",
     "text": [
      "kr-vs-kp\n",
      "        actual predicted\n",
      "inst#                   \n",
      "1        1:won     1:won\n",
      "2      2:nowin   2:nowin\n",
      "3        1:won     1:won\n",
      "4        1:won     1:won\n",
      "5      2:nowin   2:nowin\n"
     ]
    },
    {
     "name": "stderr",
     "output_type": "stream",
     "text": [
      "[2019-09-03 16:49:28,769] INFO - prefect.TaskRunner | Task 'ShellTask': finished task run for task with final state: 'Success'\n",
      "[2019-09-03 16:49:28,771] INFO - prefect.FlowRunner | Flow run SUCCESS: all reference tasks succeeded\n",
      "[2019-09-03 16:49:28,783] INFO - prefect.FlowRunner | Beginning Flow run for 'predict'\n",
      "[2019-09-03 16:49:28,784] INFO - prefect.FlowRunner | Starting flow run.\n",
      "[2019-09-03 16:49:28,790] INFO - prefect.TaskRunner | Task 'Constant[str]': Starting task run...\n",
      "[2019-09-03 16:49:28,792] INFO - prefect.TaskRunner | Task 'Constant[str]': finished task run for task with final state: 'Success'\n",
      "[2019-09-03 16:49:28,793] INFO - prefect.TaskRunner | Task 'ShellTask': Starting task run...\n"
     ]
    },
    {
     "name": "stdout",
     "output_type": "stream",
     "text": [
      "kr-vs-kp\n",
      "        actual predicted\n",
      "inst#                   \n",
      "1        1:won     1:won\n",
      "2      2:nowin   2:nowin\n",
      "3        1:won     1:won\n",
      "4        1:won     1:won\n",
      "5      2:nowin     1:won\n"
     ]
    },
    {
     "name": "stderr",
     "output_type": "stream",
     "text": [
      "[2019-09-03 16:49:29,111] INFO - prefect.TaskRunner | Task 'ShellTask': finished task run for task with final state: 'Success'\n",
      "[2019-09-03 16:49:29,112] INFO - prefect.FlowRunner | Flow run SUCCESS: all reference tasks succeeded\n",
      "[2019-09-03 16:49:29,128] INFO - prefect.FlowRunner | Beginning Flow run for 'predict'\n",
      "[2019-09-03 16:49:29,129] INFO - prefect.FlowRunner | Starting flow run.\n",
      "[2019-09-03 16:49:29,136] INFO - prefect.TaskRunner | Task 'Constant[str]': Starting task run...\n",
      "[2019-09-03 16:49:29,137] INFO - prefect.TaskRunner | Task 'Constant[str]': finished task run for task with final state: 'Success'\n",
      "[2019-09-03 16:49:29,139] INFO - prefect.TaskRunner | Task 'ShellTask': Starting task run...\n"
     ]
    },
    {
     "name": "stdout",
     "output_type": "stream",
     "text": [
      "kr-vs-kp\n",
      "        actual predicted\n",
      "inst#                   \n",
      "1        1:won     1:won\n",
      "2      2:nowin   2:nowin\n",
      "3        1:won     1:won\n",
      "4        1:won     1:won\n",
      "5      2:nowin     1:won\n"
     ]
    },
    {
     "name": "stderr",
     "output_type": "stream",
     "text": [
      "[2019-09-03 16:49:29,476] INFO - prefect.TaskRunner | Task 'ShellTask': finished task run for task with final state: 'Success'\n",
      "[2019-09-03 16:49:29,477] INFO - prefect.FlowRunner | Flow run SUCCESS: all reference tasks succeeded\n",
      "[2019-09-03 16:49:29,491] INFO - prefect.FlowRunner | Beginning Flow run for 'predict'\n",
      "[2019-09-03 16:49:29,491] INFO - prefect.FlowRunner | Starting flow run.\n",
      "[2019-09-03 16:49:29,498] INFO - prefect.TaskRunner | Task 'Constant[str]': Starting task run...\n",
      "[2019-09-03 16:49:29,500] INFO - prefect.TaskRunner | Task 'Constant[str]': finished task run for task with final state: 'Success'\n",
      "[2019-09-03 16:49:29,501] INFO - prefect.TaskRunner | Task 'ShellTask': Starting task run...\n"
     ]
    },
    {
     "name": "stdout",
     "output_type": "stream",
     "text": [
      "kr-vs-kp\n",
      "        actual predicted\n",
      "inst#                   \n",
      "1        1:won     1:won\n",
      "2      2:nowin   2:nowin\n",
      "3        1:won     1:won\n",
      "4        1:won     1:won\n",
      "5      2:nowin     1:won\n"
     ]
    },
    {
     "name": "stderr",
     "output_type": "stream",
     "text": [
      "[2019-09-03 16:49:29,818] INFO - prefect.TaskRunner | Task 'ShellTask': finished task run for task with final state: 'Success'\n",
      "[2019-09-03 16:49:29,820] INFO - prefect.FlowRunner | Flow run SUCCESS: all reference tasks succeeded\n",
      "[2019-09-03 16:49:29,833] INFO - prefect.FlowRunner | Beginning Flow run for 'predict'\n",
      "[2019-09-03 16:49:29,834] INFO - prefect.FlowRunner | Starting flow run.\n",
      "[2019-09-03 16:49:29,837] INFO - prefect.TaskRunner | Task 'Constant[str]': Starting task run...\n",
      "[2019-09-03 16:49:29,839] INFO - prefect.TaskRunner | Task 'Constant[str]': finished task run for task with final state: 'Success'\n",
      "[2019-09-03 16:49:29,841] INFO - prefect.TaskRunner | Task 'ShellTask': Starting task run...\n"
     ]
    },
    {
     "name": "stdout",
     "output_type": "stream",
     "text": [
      "kr-vs-kp\n",
      "        actual predicted\n",
      "inst#                   \n",
      "1        1:won     1:won\n",
      "2      2:nowin   2:nowin\n",
      "3        1:won     1:won\n",
      "4        1:won     1:won\n",
      "5      2:nowin     1:won\n"
     ]
    },
    {
     "name": "stderr",
     "output_type": "stream",
     "text": [
      "[2019-09-03 16:49:30,173] INFO - prefect.TaskRunner | Task 'ShellTask': finished task run for task with final state: 'Success'\n",
      "[2019-09-03 16:49:30,174] INFO - prefect.FlowRunner | Flow run SUCCESS: all reference tasks succeeded\n",
      "[2019-09-03 16:49:30,189] INFO - prefect.FlowRunner | Beginning Flow run for 'predict'\n",
      "[2019-09-03 16:49:30,190] INFO - prefect.FlowRunner | Starting flow run.\n",
      "[2019-09-03 16:49:30,194] INFO - prefect.TaskRunner | Task 'Constant[str]': Starting task run...\n",
      "[2019-09-03 16:49:30,195] INFO - prefect.TaskRunner | Task 'Constant[str]': finished task run for task with final state: 'Success'\n",
      "[2019-09-03 16:49:30,197] INFO - prefect.TaskRunner | Task 'ShellTask': Starting task run...\n"
     ]
    },
    {
     "name": "stdout",
     "output_type": "stream",
     "text": [
      "kr-vs-kp\n",
      "        actual predicted\n",
      "inst#                   \n",
      "1        1:won     1:won\n",
      "2      2:nowin     1:won\n",
      "3        1:won     1:won\n",
      "4        1:won     1:won\n",
      "5      2:nowin     1:won\n"
     ]
    },
    {
     "name": "stderr",
     "output_type": "stream",
     "text": [
      "[2019-09-03 16:49:30,531] INFO - prefect.TaskRunner | Task 'ShellTask': finished task run for task with final state: 'Success'\n",
      "[2019-09-03 16:49:30,532] INFO - prefect.FlowRunner | Flow run SUCCESS: all reference tasks succeeded\n",
      "[2019-09-03 16:49:30,550] INFO - prefect.FlowRunner | Beginning Flow run for 'predict'\n",
      "[2019-09-03 16:49:30,551] INFO - prefect.FlowRunner | Starting flow run.\n",
      "[2019-09-03 16:49:30,558] INFO - prefect.TaskRunner | Task 'Constant[str]': Starting task run...\n",
      "[2019-09-03 16:49:30,559] INFO - prefect.TaskRunner | Task 'Constant[str]': finished task run for task with final state: 'Success'\n",
      "[2019-09-03 16:49:30,561] INFO - prefect.TaskRunner | Task 'ShellTask': Starting task run...\n"
     ]
    },
    {
     "name": "stdout",
     "output_type": "stream",
     "text": [
      "kr-vs-kp\n",
      "        actual predicted\n",
      "inst#                   \n",
      "1        1:won     1:won\n",
      "2      2:nowin     1:won\n",
      "3        1:won     1:won\n",
      "4        1:won     1:won\n",
      "5      2:nowin     1:won\n"
     ]
    },
    {
     "name": "stderr",
     "output_type": "stream",
     "text": [
      "[2019-09-03 16:49:30,880] INFO - prefect.TaskRunner | Task 'ShellTask': finished task run for task with final state: 'Success'\n",
      "[2019-09-03 16:49:30,881] INFO - prefect.FlowRunner | Flow run SUCCESS: all reference tasks succeeded\n",
      "[2019-09-03 16:49:30,898] INFO - prefect.FlowRunner | Beginning Flow run for 'fit'\n",
      "[2019-09-03 16:49:30,899] INFO - prefect.FlowRunner | Starting flow run.\n",
      "[2019-09-03 16:49:30,905] INFO - prefect.TaskRunner | Task 'Constant[str]': Starting task run...\n",
      "[2019-09-03 16:49:30,907] INFO - prefect.TaskRunner | Task 'Constant[str]': finished task run for task with final state: 'Success'\n",
      "[2019-09-03 16:49:30,908] INFO - prefect.TaskRunner | Task 'ShellTask': Starting task run...\n"
     ]
    },
    {
     "name": "stdout",
     "output_type": "stream",
     "text": [
      "kr-vs-kp\n",
      "        actual predicted\n",
      "inst#                   \n",
      "1        1:won     1:won\n",
      "2      2:nowin     1:won\n",
      "3        1:won     1:won\n",
      "4        1:won     1:won\n",
      "5      2:nowin     1:won\n",
      "diabetes\n"
     ]
    },
    {
     "name": "stderr",
     "output_type": "stream",
     "text": [
      "[2019-09-03 16:49:31,516] INFO - prefect.TaskRunner | Task 'ShellTask': finished task run for task with final state: 'Success'\n",
      "[2019-09-03 16:49:31,517] INFO - prefect.FlowRunner | Flow run SUCCESS: all reference tasks succeeded\n",
      "[2019-09-03 16:49:31,520] INFO - prefect.FlowRunner | Beginning Flow run for 'predict'\n",
      "[2019-09-03 16:49:31,521] INFO - prefect.FlowRunner | Starting flow run.\n",
      "[2019-09-03 16:49:31,525] INFO - prefect.TaskRunner | Task 'Constant[str]': Starting task run...\n",
      "[2019-09-03 16:49:31,526] INFO - prefect.TaskRunner | Task 'Constant[str]': finished task run for task with final state: 'Success'\n",
      "[2019-09-03 16:49:31,527] INFO - prefect.TaskRunner | Task 'ShellTask': Starting task run...\n",
      "[2019-09-03 16:49:31,775] INFO - prefect.TaskRunner | Task 'ShellTask': finished task run for task with final state: 'Success'\n",
      "[2019-09-03 16:49:31,778] INFO - prefect.FlowRunner | Flow run SUCCESS: all reference tasks succeeded\n",
      "[2019-09-03 16:49:31,790] INFO - prefect.FlowRunner | Beginning Flow run for 'predict'\n",
      "[2019-09-03 16:49:31,791] INFO - prefect.FlowRunner | Starting flow run.\n",
      "[2019-09-03 16:49:31,795] INFO - prefect.TaskRunner | Task 'Constant[str]': Starting task run...\n",
      "[2019-09-03 16:49:31,797] INFO - prefect.TaskRunner | Task 'Constant[str]': finished task run for task with final state: 'Success'\n",
      "[2019-09-03 16:49:31,799] INFO - prefect.TaskRunner | Task 'ShellTask': Starting task run...\n"
     ]
    },
    {
     "name": "stdout",
     "output_type": "stream",
     "text": [
      "diabetes\n",
      "                  actual          predicted\n",
      "inst#                                      \n",
      "1      1:tested_negative  2:tested_positive\n",
      "2      1:tested_negative  1:tested_negative\n",
      "3      1:tested_negative  1:tested_negative\n",
      "4      2:tested_positive  2:tested_positive\n",
      "5      1:tested_negative  1:tested_negative\n"
     ]
    },
    {
     "name": "stderr",
     "output_type": "stream",
     "text": [
      "[2019-09-03 16:49:32,080] INFO - prefect.TaskRunner | Task 'ShellTask': finished task run for task with final state: 'Success'\n",
      "[2019-09-03 16:49:32,081] INFO - prefect.FlowRunner | Flow run SUCCESS: all reference tasks succeeded\n",
      "[2019-09-03 16:49:32,094] INFO - prefect.FlowRunner | Beginning Flow run for 'predict'\n",
      "[2019-09-03 16:49:32,095] INFO - prefect.FlowRunner | Starting flow run.\n",
      "[2019-09-03 16:49:32,103] INFO - prefect.TaskRunner | Task 'Constant[str]': Starting task run...\n",
      "[2019-09-03 16:49:32,105] INFO - prefect.TaskRunner | Task 'Constant[str]': finished task run for task with final state: 'Success'\n",
      "[2019-09-03 16:49:32,105] INFO - prefect.TaskRunner | Task 'ShellTask': Starting task run...\n"
     ]
    },
    {
     "name": "stdout",
     "output_type": "stream",
     "text": [
      "diabetes\n",
      "                  actual          predicted\n",
      "inst#                                      \n",
      "1      1:tested_negative  2:tested_positive\n",
      "2      1:tested_negative  2:tested_positive\n",
      "3      1:tested_negative  1:tested_negative\n",
      "4      2:tested_positive  2:tested_positive\n",
      "5      1:tested_negative  1:tested_negative\n"
     ]
    },
    {
     "name": "stderr",
     "output_type": "stream",
     "text": [
      "[2019-09-03 16:49:32,356] INFO - prefect.TaskRunner | Task 'ShellTask': finished task run for task with final state: 'Success'\n",
      "[2019-09-03 16:49:32,357] INFO - prefect.FlowRunner | Flow run SUCCESS: all reference tasks succeeded\n",
      "/home/zissou/miniconda3/envs/aaai20/lib/python3.6/site-packages/sklearn/metrics/classification.py:1143: UndefinedMetricWarning: F-score is ill-defined and being set to 0.0 in labels with no predicted samples.\n",
      "  'precision', 'predicted', average, warn_for)\n",
      "[2019-09-03 16:49:32,369] INFO - prefect.FlowRunner | Beginning Flow run for 'predict'\n",
      "[2019-09-03 16:49:32,370] INFO - prefect.FlowRunner | Starting flow run.\n",
      "[2019-09-03 16:49:32,374] INFO - prefect.TaskRunner | Task 'Constant[str]': Starting task run...\n",
      "[2019-09-03 16:49:32,375] INFO - prefect.TaskRunner | Task 'Constant[str]': finished task run for task with final state: 'Success'\n",
      "[2019-09-03 16:49:32,376] INFO - prefect.TaskRunner | Task 'ShellTask': Starting task run...\n"
     ]
    },
    {
     "name": "stdout",
     "output_type": "stream",
     "text": [
      "diabetes\n",
      "                  actual          predicted\n",
      "inst#                                      \n",
      "1      1:tested_negative  1:tested_negative\n",
      "2      1:tested_negative  1:tested_negative\n",
      "3      1:tested_negative  1:tested_negative\n",
      "4      2:tested_positive  1:tested_negative\n",
      "5      1:tested_negative  1:tested_negative\n"
     ]
    },
    {
     "name": "stderr",
     "output_type": "stream",
     "text": [
      "[2019-09-03 16:49:32,642] INFO - prefect.TaskRunner | Task 'ShellTask': finished task run for task with final state: 'Success'\n",
      "[2019-09-03 16:49:32,643] INFO - prefect.FlowRunner | Flow run SUCCESS: all reference tasks succeeded\n",
      "/home/zissou/miniconda3/envs/aaai20/lib/python3.6/site-packages/sklearn/metrics/classification.py:1143: UndefinedMetricWarning: F-score is ill-defined and being set to 0.0 in labels with no predicted samples.\n",
      "  'precision', 'predicted', average, warn_for)\n",
      "[2019-09-03 16:49:32,657] INFO - prefect.FlowRunner | Beginning Flow run for 'predict'\n",
      "[2019-09-03 16:49:32,658] INFO - prefect.FlowRunner | Starting flow run.\n",
      "[2019-09-03 16:49:32,665] INFO - prefect.TaskRunner | Task 'Constant[str]': Starting task run...\n",
      "[2019-09-03 16:49:32,666] INFO - prefect.TaskRunner | Task 'Constant[str]': finished task run for task with final state: 'Success'\n",
      "[2019-09-03 16:49:32,668] INFO - prefect.TaskRunner | Task 'ShellTask': Starting task run...\n"
     ]
    },
    {
     "name": "stdout",
     "output_type": "stream",
     "text": [
      "diabetes\n",
      "                  actual          predicted\n",
      "inst#                                      \n",
      "1      1:tested_negative  1:tested_negative\n",
      "2      1:tested_negative  1:tested_negative\n",
      "3      1:tested_negative  1:tested_negative\n",
      "4      2:tested_positive  1:tested_negative\n",
      "5      1:tested_negative  1:tested_negative\n"
     ]
    },
    {
     "name": "stderr",
     "output_type": "stream",
     "text": [
      "[2019-09-03 16:49:32,945] INFO - prefect.TaskRunner | Task 'ShellTask': finished task run for task with final state: 'Success'\n",
      "[2019-09-03 16:49:32,946] INFO - prefect.FlowRunner | Flow run SUCCESS: all reference tasks succeeded\n",
      "/home/zissou/miniconda3/envs/aaai20/lib/python3.6/site-packages/sklearn/metrics/classification.py:1143: UndefinedMetricWarning: F-score is ill-defined and being set to 0.0 in labels with no predicted samples.\n",
      "  'precision', 'predicted', average, warn_for)\n",
      "[2019-09-03 16:49:32,959] INFO - prefect.FlowRunner | Beginning Flow run for 'predict'\n",
      "[2019-09-03 16:49:32,960] INFO - prefect.FlowRunner | Starting flow run.\n",
      "[2019-09-03 16:49:32,967] INFO - prefect.TaskRunner | Task 'Constant[str]': Starting task run...\n",
      "[2019-09-03 16:49:32,969] INFO - prefect.TaskRunner | Task 'Constant[str]': finished task run for task with final state: 'Success'\n",
      "[2019-09-03 16:49:32,971] INFO - prefect.TaskRunner | Task 'ShellTask': Starting task run...\n"
     ]
    },
    {
     "name": "stdout",
     "output_type": "stream",
     "text": [
      "diabetes\n",
      "                  actual          predicted\n",
      "inst#                                      \n",
      "1      1:tested_negative  1:tested_negative\n",
      "2      1:tested_negative  1:tested_negative\n",
      "3      1:tested_negative  1:tested_negative\n",
      "4      2:tested_positive  1:tested_negative\n",
      "5      1:tested_negative  1:tested_negative\n"
     ]
    },
    {
     "name": "stderr",
     "output_type": "stream",
     "text": [
      "[2019-09-03 16:49:33,237] INFO - prefect.TaskRunner | Task 'ShellTask': finished task run for task with final state: 'Success'\n",
      "[2019-09-03 16:49:33,238] INFO - prefect.FlowRunner | Flow run SUCCESS: all reference tasks succeeded\n",
      "/home/zissou/miniconda3/envs/aaai20/lib/python3.6/site-packages/sklearn/metrics/classification.py:1143: UndefinedMetricWarning: F-score is ill-defined and being set to 0.0 in labels with no predicted samples.\n",
      "  'precision', 'predicted', average, warn_for)\n",
      "[2019-09-03 16:49:33,250] INFO - prefect.FlowRunner | Beginning Flow run for 'predict'\n",
      "[2019-09-03 16:49:33,251] INFO - prefect.FlowRunner | Starting flow run.\n",
      "[2019-09-03 16:49:33,255] INFO - prefect.TaskRunner | Task 'Constant[str]': Starting task run...\n",
      "[2019-09-03 16:49:33,257] INFO - prefect.TaskRunner | Task 'Constant[str]': finished task run for task with final state: 'Success'\n",
      "[2019-09-03 16:49:33,258] INFO - prefect.TaskRunner | Task 'ShellTask': Starting task run...\n"
     ]
    },
    {
     "name": "stdout",
     "output_type": "stream",
     "text": [
      "diabetes\n",
      "                  actual          predicted\n",
      "inst#                                      \n",
      "1      1:tested_negative  1:tested_negative\n",
      "2      1:tested_negative  1:tested_negative\n",
      "3      1:tested_negative  1:tested_negative\n",
      "4      2:tested_positive  1:tested_negative\n",
      "5      1:tested_negative  1:tested_negative\n"
     ]
    },
    {
     "name": "stderr",
     "output_type": "stream",
     "text": [
      "[2019-09-03 16:49:33,512] INFO - prefect.TaskRunner | Task 'ShellTask': finished task run for task with final state: 'Success'\n",
      "[2019-09-03 16:49:33,514] INFO - prefect.FlowRunner | Flow run SUCCESS: all reference tasks succeeded\n",
      "/home/zissou/miniconda3/envs/aaai20/lib/python3.6/site-packages/sklearn/metrics/classification.py:1143: UndefinedMetricWarning: F-score is ill-defined and being set to 0.0 in labels with no predicted samples.\n",
      "  'precision', 'predicted', average, warn_for)\n",
      "[2019-09-03 16:49:33,527] INFO - prefect.FlowRunner | Beginning Flow run for 'predict'\n",
      "[2019-09-03 16:49:33,527] INFO - prefect.FlowRunner | Starting flow run.\n",
      "[2019-09-03 16:49:33,531] INFO - prefect.TaskRunner | Task 'Constant[str]': Starting task run...\n",
      "[2019-09-03 16:49:33,532] INFO - prefect.TaskRunner | Task 'Constant[str]': finished task run for task with final state: 'Success'\n",
      "[2019-09-03 16:49:33,533] INFO - prefect.TaskRunner | Task 'ShellTask': Starting task run...\n"
     ]
    },
    {
     "name": "stdout",
     "output_type": "stream",
     "text": [
      "diabetes\n",
      "                  actual          predicted\n",
      "inst#                                      \n",
      "1      1:tested_negative  1:tested_negative\n",
      "2      1:tested_negative  1:tested_negative\n",
      "3      1:tested_negative  1:tested_negative\n",
      "4      2:tested_positive  1:tested_negative\n",
      "5      1:tested_negative  1:tested_negative\n"
     ]
    },
    {
     "name": "stderr",
     "output_type": "stream",
     "text": [
      "[2019-09-03 16:49:33,768] INFO - prefect.TaskRunner | Task 'ShellTask': finished task run for task with final state: 'Success'\n",
      "[2019-09-03 16:49:33,770] INFO - prefect.FlowRunner | Flow run SUCCESS: all reference tasks succeeded\n",
      "/home/zissou/miniconda3/envs/aaai20/lib/python3.6/site-packages/sklearn/metrics/classification.py:1143: UndefinedMetricWarning: F-score is ill-defined and being set to 0.0 in labels with no predicted samples.\n",
      "  'precision', 'predicted', average, warn_for)\n",
      "[2019-09-03 16:49:33,788] INFO - prefect.FlowRunner | Beginning Flow run for 'fit'\n",
      "[2019-09-03 16:49:33,789] INFO - prefect.FlowRunner | Starting flow run.\n",
      "[2019-09-03 16:49:33,795] INFO - prefect.TaskRunner | Task 'Constant[str]': Starting task run...\n",
      "[2019-09-03 16:49:33,797] INFO - prefect.TaskRunner | Task 'Constant[str]': finished task run for task with final state: 'Success'\n",
      "[2019-09-03 16:49:33,798] INFO - prefect.TaskRunner | Task 'ShellTask': Starting task run...\n"
     ]
    },
    {
     "name": "stdout",
     "output_type": "stream",
     "text": [
      "diabetes\n",
      "                  actual          predicted\n",
      "inst#                                      \n",
      "1      1:tested_negative  1:tested_negative\n",
      "2      1:tested_negative  1:tested_negative\n",
      "3      1:tested_negative  1:tested_negative\n",
      "4      2:tested_positive  1:tested_negative\n",
      "5      1:tested_negative  1:tested_negative\n",
      "letter\n"
     ]
    },
    {
     "name": "stderr",
     "output_type": "stream",
     "text": [
      "[2019-09-03 16:49:36,700] INFO - prefect.TaskRunner | Task 'ShellTask': finished task run for task with final state: 'Success'\n",
      "[2019-09-03 16:49:36,701] INFO - prefect.FlowRunner | Flow run SUCCESS: all reference tasks succeeded\n",
      "[2019-09-03 16:49:36,706] INFO - prefect.FlowRunner | Beginning Flow run for 'predict'\n",
      "[2019-09-03 16:49:36,707] INFO - prefect.FlowRunner | Starting flow run.\n",
      "[2019-09-03 16:49:36,712] INFO - prefect.TaskRunner | Task 'Constant[str]': Starting task run...\n",
      "[2019-09-03 16:49:36,713] INFO - prefect.TaskRunner | Task 'Constant[str]': finished task run for task with final state: 'Success'\n",
      "[2019-09-03 16:49:36,714] INFO - prefect.TaskRunner | Task 'ShellTask': Starting task run...\n",
      "[2019-09-03 16:49:37,175] INFO - prefect.TaskRunner | Task 'ShellTask': finished task run for task with final state: 'Success'\n",
      "[2019-09-03 16:49:37,176] INFO - prefect.FlowRunner | Flow run SUCCESS: all reference tasks succeeded\n",
      "[2019-09-03 16:49:37,199] INFO - prefect.FlowRunner | Beginning Flow run for 'predict'\n",
      "[2019-09-03 16:49:37,200] INFO - prefect.FlowRunner | Starting flow run.\n",
      "[2019-09-03 16:49:37,207] INFO - prefect.TaskRunner | Task 'Constant[str]': Starting task run...\n",
      "[2019-09-03 16:49:37,210] INFO - prefect.TaskRunner | Task 'Constant[str]': finished task run for task with final state: 'Success'\n",
      "[2019-09-03 16:49:37,212] INFO - prefect.TaskRunner | Task 'ShellTask': Starting task run...\n"
     ]
    },
    {
     "name": "stdout",
     "output_type": "stream",
     "text": [
      "letter\n",
      "      actual predicted\n",
      "inst#                 \n",
      "1       18:R      19:S\n",
      "2       13:M      13:M\n",
      "3        2:B      15:O\n",
      "4       16:P      16:P\n",
      "5       10:J      10:J\n"
     ]
    },
    {
     "name": "stderr",
     "output_type": "stream",
     "text": [
      "[2019-09-03 16:49:37,710] INFO - prefect.TaskRunner | Task 'ShellTask': finished task run for task with final state: 'Success'\n",
      "[2019-09-03 16:49:37,711] INFO - prefect.FlowRunner | Flow run SUCCESS: all reference tasks succeeded\n",
      "[2019-09-03 16:49:37,728] INFO - prefect.FlowRunner | Beginning Flow run for 'predict'\n",
      "[2019-09-03 16:49:37,729] INFO - prefect.FlowRunner | Starting flow run.\n",
      "[2019-09-03 16:49:37,735] INFO - prefect.TaskRunner | Task 'Constant[str]': Starting task run...\n",
      "[2019-09-03 16:49:37,740] INFO - prefect.TaskRunner | Task 'Constant[str]': finished task run for task with final state: 'Success'\n",
      "[2019-09-03 16:49:37,741] INFO - prefect.TaskRunner | Task 'ShellTask': Starting task run...\n"
     ]
    },
    {
     "name": "stdout",
     "output_type": "stream",
     "text": [
      "letter\n",
      "      actual predicted\n",
      "inst#                 \n",
      "1       18:R      19:S\n",
      "2       13:M      13:M\n",
      "3        2:B      15:O\n",
      "4       16:P      16:P\n",
      "5       10:J      10:J\n"
     ]
    },
    {
     "name": "stderr",
     "output_type": "stream",
     "text": [
      "[2019-09-03 16:49:38,325] INFO - prefect.TaskRunner | Task 'ShellTask': finished task run for task with final state: 'Success'\n",
      "[2019-09-03 16:49:38,326] INFO - prefect.FlowRunner | Flow run SUCCESS: all reference tasks succeeded\n",
      "[2019-09-03 16:49:38,351] INFO - prefect.FlowRunner | Beginning Flow run for 'predict'\n",
      "[2019-09-03 16:49:38,352] INFO - prefect.FlowRunner | Starting flow run.\n",
      "[2019-09-03 16:49:38,358] INFO - prefect.TaskRunner | Task 'Constant[str]': Starting task run...\n",
      "[2019-09-03 16:49:38,360] INFO - prefect.TaskRunner | Task 'Constant[str]': finished task run for task with final state: 'Success'\n",
      "[2019-09-03 16:49:38,361] INFO - prefect.TaskRunner | Task 'ShellTask': Starting task run...\n"
     ]
    },
    {
     "name": "stdout",
     "output_type": "stream",
     "text": [
      "letter\n",
      "      actual predicted\n",
      "inst#                 \n",
      "1       18:R      19:S\n",
      "2       13:M      12:L\n",
      "3        2:B       5:E\n",
      "4       16:P      10:J\n",
      "5       10:J      10:J\n"
     ]
    },
    {
     "name": "stderr",
     "output_type": "stream",
     "text": [
      "[2019-09-03 16:49:39,136] INFO - prefect.TaskRunner | Task 'ShellTask': finished task run for task with final state: 'Success'\n",
      "[2019-09-03 16:49:39,137] INFO - prefect.FlowRunner | Flow run SUCCESS: all reference tasks succeeded\n",
      "[2019-09-03 16:49:39,154] INFO - prefect.FlowRunner | Beginning Flow run for 'predict'\n",
      "[2019-09-03 16:49:39,155] INFO - prefect.FlowRunner | Starting flow run.\n",
      "[2019-09-03 16:49:39,162] INFO - prefect.TaskRunner | Task 'Constant[str]': Starting task run...\n",
      "[2019-09-03 16:49:39,164] INFO - prefect.TaskRunner | Task 'Constant[str]': finished task run for task with final state: 'Success'\n",
      "[2019-09-03 16:49:39,165] INFO - prefect.TaskRunner | Task 'ShellTask': Starting task run...\n"
     ]
    },
    {
     "name": "stdout",
     "output_type": "stream",
     "text": [
      "letter\n",
      "      actual predicted\n",
      "inst#                 \n",
      "1       18:R      19:S\n",
      "2       13:M      12:L\n",
      "3        2:B      17:Q\n",
      "4       16:P      10:J\n",
      "5       10:J      11:K\n"
     ]
    },
    {
     "name": "stderr",
     "output_type": "stream",
     "text": [
      "[2019-09-03 16:49:40,276] INFO - prefect.TaskRunner | Task 'ShellTask': finished task run for task with final state: 'Success'\n",
      "[2019-09-03 16:49:40,277] INFO - prefect.FlowRunner | Flow run SUCCESS: all reference tasks succeeded\n",
      "[2019-09-03 16:49:40,302] INFO - prefect.FlowRunner | Beginning Flow run for 'predict'\n",
      "[2019-09-03 16:49:40,303] INFO - prefect.FlowRunner | Starting flow run.\n",
      "[2019-09-03 16:49:40,310] INFO - prefect.TaskRunner | Task 'Constant[str]': Starting task run...\n",
      "[2019-09-03 16:49:40,312] INFO - prefect.TaskRunner | Task 'Constant[str]': finished task run for task with final state: 'Success'\n",
      "[2019-09-03 16:49:40,314] INFO - prefect.TaskRunner | Task 'ShellTask': Starting task run...\n"
     ]
    },
    {
     "name": "stdout",
     "output_type": "stream",
     "text": [
      "letter\n",
      "      actual predicted\n",
      "inst#                 \n",
      "1       18:R       7:G\n",
      "2       13:M      12:L\n",
      "3        2:B      17:Q\n",
      "4       16:P      19:S\n",
      "5       10:J      19:S\n"
     ]
    },
    {
     "name": "stderr",
     "output_type": "stream",
     "text": [
      "[2019-09-03 16:49:41,589] INFO - prefect.TaskRunner | Task 'ShellTask': finished task run for task with final state: 'Success'\n",
      "[2019-09-03 16:49:41,590] INFO - prefect.FlowRunner | Flow run SUCCESS: all reference tasks succeeded\n",
      "[2019-09-03 16:49:41,607] INFO - prefect.FlowRunner | Beginning Flow run for 'predict'\n",
      "[2019-09-03 16:49:41,608] INFO - prefect.FlowRunner | Starting flow run.\n",
      "[2019-09-03 16:49:41,614] INFO - prefect.TaskRunner | Task 'Constant[str]': Starting task run...\n",
      "[2019-09-03 16:49:41,617] INFO - prefect.TaskRunner | Task 'Constant[str]': finished task run for task with final state: 'Success'\n",
      "[2019-09-03 16:49:41,618] INFO - prefect.TaskRunner | Task 'ShellTask': Starting task run...\n"
     ]
    },
    {
     "name": "stdout",
     "output_type": "stream",
     "text": [
      "letter\n",
      "      actual predicted\n",
      "inst#                 \n",
      "1       18:R       7:G\n",
      "2       13:M      12:L\n",
      "3        2:B      17:Q\n",
      "4       16:P      25:Y\n",
      "5       10:J       2:B\n"
     ]
    },
    {
     "name": "stderr",
     "output_type": "stream",
     "text": [
      "[2019-09-03 16:49:43,064] INFO - prefect.TaskRunner | Task 'ShellTask': finished task run for task with final state: 'Success'\n",
      "[2019-09-03 16:49:43,065] INFO - prefect.FlowRunner | Flow run SUCCESS: all reference tasks succeeded\n",
      "[2019-09-03 16:49:43,082] INFO - prefect.FlowRunner | Beginning Flow run for 'predict'\n",
      "[2019-09-03 16:49:43,083] INFO - prefect.FlowRunner | Starting flow run.\n",
      "[2019-09-03 16:49:43,091] INFO - prefect.TaskRunner | Task 'Constant[str]': Starting task run...\n",
      "[2019-09-03 16:49:43,093] INFO - prefect.TaskRunner | Task 'Constant[str]': finished task run for task with final state: 'Success'\n",
      "[2019-09-03 16:49:43,095] INFO - prefect.TaskRunner | Task 'ShellTask': Starting task run...\n"
     ]
    },
    {
     "name": "stdout",
     "output_type": "stream",
     "text": [
      "letter\n",
      "      actual predicted\n",
      "inst#                 \n",
      "1       18:R       7:G\n",
      "2       13:M      12:L\n",
      "3        2:B      17:Q\n",
      "4       16:P      25:Y\n",
      "5       10:J      24:X\n"
     ]
    },
    {
     "name": "stderr",
     "output_type": "stream",
     "text": [
      "[2019-09-03 16:49:44,660] INFO - prefect.TaskRunner | Task 'ShellTask': finished task run for task with final state: 'Success'\n",
      "[2019-09-03 16:49:44,661] INFO - prefect.FlowRunner | Flow run SUCCESS: all reference tasks succeeded\n",
      "/home/zissou/miniconda3/envs/aaai20/lib/python3.6/site-packages/sklearn/metrics/classification.py:1143: UndefinedMetricWarning: F-score is ill-defined and being set to 0.0 in labels with no predicted samples.\n",
      "  'precision', 'predicted', average, warn_for)\n",
      "[2019-09-03 16:49:44,679] INFO - prefect.FlowRunner | Beginning Flow run for 'predict'\n",
      "[2019-09-03 16:49:44,680] INFO - prefect.FlowRunner | Starting flow run.\n",
      "[2019-09-03 16:49:44,686] INFO - prefect.TaskRunner | Task 'Constant[str]': Starting task run...\n",
      "[2019-09-03 16:49:44,689] INFO - prefect.TaskRunner | Task 'Constant[str]': finished task run for task with final state: 'Success'\n",
      "[2019-09-03 16:49:44,690] INFO - prefect.TaskRunner | Task 'ShellTask': Starting task run...\n"
     ]
    },
    {
     "name": "stdout",
     "output_type": "stream",
     "text": [
      "letter\n",
      "      actual predicted\n",
      "inst#                 \n",
      "1       18:R       7:G\n",
      "2       13:M      12:L\n",
      "3        2:B      17:Q\n",
      "4       16:P      25:Y\n",
      "5       10:J      24:X\n"
     ]
    },
    {
     "name": "stderr",
     "output_type": "stream",
     "text": [
      "[2019-09-03 16:49:46,564] INFO - prefect.TaskRunner | Task 'ShellTask': finished task run for task with final state: 'Success'\n",
      "[2019-09-03 16:49:46,565] INFO - prefect.FlowRunner | Flow run SUCCESS: all reference tasks succeeded\n",
      "/home/zissou/miniconda3/envs/aaai20/lib/python3.6/site-packages/sklearn/metrics/classification.py:1143: UndefinedMetricWarning: F-score is ill-defined and being set to 0.0 in labels with no predicted samples.\n",
      "  'precision', 'predicted', average, warn_for)\n",
      "[2019-09-03 16:49:46,597] INFO - prefect.FlowRunner | Beginning Flow run for 'predict'\n",
      "[2019-09-03 16:49:46,598] INFO - prefect.FlowRunner | Starting flow run.\n",
      "[2019-09-03 16:49:46,606] INFO - prefect.TaskRunner | Task 'Constant[str]': Starting task run...\n",
      "[2019-09-03 16:49:46,608] INFO - prefect.TaskRunner | Task 'Constant[str]': finished task run for task with final state: 'Success'\n",
      "[2019-09-03 16:49:46,609] INFO - prefect.TaskRunner | Task 'ShellTask': Starting task run...\n"
     ]
    },
    {
     "name": "stdout",
     "output_type": "stream",
     "text": [
      "letter\n",
      "      actual predicted\n",
      "inst#                 \n",
      "1       18:R       7:G\n",
      "2       13:M       7:G\n",
      "3        2:B      17:Q\n",
      "4       16:P      20:T\n",
      "5       10:J      24:X\n"
     ]
    },
    {
     "name": "stderr",
     "output_type": "stream",
     "text": [
      "[2019-09-03 16:49:51,374] INFO - prefect.TaskRunner | Task 'ShellTask': finished task run for task with final state: 'Success'\n",
      "[2019-09-03 16:49:51,375] INFO - prefect.FlowRunner | Flow run SUCCESS: all reference tasks succeeded\n",
      "/home/zissou/miniconda3/envs/aaai20/lib/python3.6/site-packages/sklearn/metrics/classification.py:1143: UndefinedMetricWarning: F-score is ill-defined and being set to 0.0 in labels with no predicted samples.\n",
      "  'precision', 'predicted', average, warn_for)\n",
      "[2019-09-03 16:49:51,398] INFO - prefect.FlowRunner | Beginning Flow run for 'fit'\n",
      "[2019-09-03 16:49:51,399] INFO - prefect.FlowRunner | Starting flow run.\n",
      "[2019-09-03 16:49:51,404] INFO - prefect.TaskRunner | Task 'Constant[str]': Starting task run...\n",
      "[2019-09-03 16:49:51,405] INFO - prefect.TaskRunner | Task 'Constant[str]': finished task run for task with final state: 'Success'\n",
      "[2019-09-03 16:49:51,406] INFO - prefect.TaskRunner | Task 'ShellTask': Starting task run...\n"
     ]
    },
    {
     "name": "stdout",
     "output_type": "stream",
     "text": [
      "letter\n",
      "      actual predicted\n",
      "inst#                 \n",
      "1       18:R      17:Q\n",
      "2       13:M      21:U\n",
      "3        2:B      17:Q\n",
      "4       16:P      21:U\n",
      "5       10:J      21:U\n",
      "balance-scale\n"
     ]
    },
    {
     "name": "stderr",
     "output_type": "stream",
     "text": [
      "[2019-09-03 16:49:51,977] INFO - prefect.TaskRunner | Task 'ShellTask': finished task run for task with final state: 'Success'\n",
      "[2019-09-03 16:49:51,978] INFO - prefect.FlowRunner | Flow run SUCCESS: all reference tasks succeeded\n",
      "[2019-09-03 16:49:51,981] INFO - prefect.FlowRunner | Beginning Flow run for 'predict'\n",
      "[2019-09-03 16:49:51,982] INFO - prefect.FlowRunner | Starting flow run.\n",
      "[2019-09-03 16:49:51,987] INFO - prefect.TaskRunner | Task 'Constant[str]': Starting task run...\n",
      "[2019-09-03 16:49:51,989] INFO - prefect.TaskRunner | Task 'Constant[str]': finished task run for task with final state: 'Success'\n",
      "[2019-09-03 16:49:51,990] INFO - prefect.TaskRunner | Task 'ShellTask': Starting task run...\n",
      "[2019-09-03 16:49:52,239] INFO - prefect.TaskRunner | Task 'ShellTask': finished task run for task with final state: 'Success'\n",
      "[2019-09-03 16:49:52,240] INFO - prefect.FlowRunner | Flow run SUCCESS: all reference tasks succeeded\n",
      "[2019-09-03 16:49:52,252] INFO - prefect.FlowRunner | Beginning Flow run for 'predict'\n",
      "[2019-09-03 16:49:52,255] INFO - prefect.FlowRunner | Starting flow run.\n",
      "[2019-09-03 16:49:52,259] INFO - prefect.TaskRunner | Task 'Constant[str]': Starting task run...\n",
      "[2019-09-03 16:49:52,262] INFO - prefect.TaskRunner | Task 'Constant[str]': finished task run for task with final state: 'Success'\n",
      "[2019-09-03 16:49:52,263] INFO - prefect.TaskRunner | Task 'ShellTask': Starting task run...\n"
     ]
    },
    {
     "name": "stdout",
     "output_type": "stream",
     "text": [
      "balance-scale\n",
      "      actual predicted\n",
      "inst#                 \n",
      "1        3:R       1:L\n",
      "2        3:R       2:B\n",
      "3        3:R       3:R\n",
      "4        1:L       3:R\n",
      "5        3:R       3:R\n"
     ]
    },
    {
     "name": "stderr",
     "output_type": "stream",
     "text": [
      "[2019-09-03 16:49:52,530] INFO - prefect.TaskRunner | Task 'ShellTask': finished task run for task with final state: 'Success'\n",
      "[2019-09-03 16:49:52,531] INFO - prefect.FlowRunner | Flow run SUCCESS: all reference tasks succeeded\n",
      "/home/zissou/miniconda3/envs/aaai20/lib/python3.6/site-packages/sklearn/metrics/classification.py:1143: UndefinedMetricWarning: F-score is ill-defined and being set to 0.0 in labels with no predicted samples.\n",
      "  'precision', 'predicted', average, warn_for)\n",
      "[2019-09-03 16:49:52,545] INFO - prefect.FlowRunner | Beginning Flow run for 'predict'\n",
      "[2019-09-03 16:49:52,545] INFO - prefect.FlowRunner | Starting flow run.\n",
      "[2019-09-03 16:49:52,549] INFO - prefect.TaskRunner | Task 'Constant[str]': Starting task run...\n",
      "[2019-09-03 16:49:52,552] INFO - prefect.TaskRunner | Task 'Constant[str]': finished task run for task with final state: 'Success'\n",
      "[2019-09-03 16:49:52,553] INFO - prefect.TaskRunner | Task 'ShellTask': Starting task run...\n"
     ]
    },
    {
     "name": "stdout",
     "output_type": "stream",
     "text": [
      "balance-scale\n",
      "      actual predicted\n",
      "inst#                 \n",
      "1        3:R       1:L\n",
      "2        3:R       3:R\n",
      "3        3:R       1:L\n",
      "4        1:L       3:R\n",
      "5        3:R       3:R\n"
     ]
    },
    {
     "name": "stderr",
     "output_type": "stream",
     "text": [
      "[2019-09-03 16:49:52,815] INFO - prefect.TaskRunner | Task 'ShellTask': finished task run for task with final state: 'Success'\n",
      "[2019-09-03 16:49:52,816] INFO - prefect.FlowRunner | Flow run SUCCESS: all reference tasks succeeded\n",
      "/home/zissou/miniconda3/envs/aaai20/lib/python3.6/site-packages/sklearn/metrics/classification.py:1143: UndefinedMetricWarning: F-score is ill-defined and being set to 0.0 in labels with no predicted samples.\n",
      "  'precision', 'predicted', average, warn_for)\n",
      "[2019-09-03 16:49:52,828] INFO - prefect.FlowRunner | Beginning Flow run for 'predict'\n",
      "[2019-09-03 16:49:52,829] INFO - prefect.FlowRunner | Starting flow run.\n",
      "[2019-09-03 16:49:52,833] INFO - prefect.TaskRunner | Task 'Constant[str]': Starting task run...\n",
      "[2019-09-03 16:49:52,834] INFO - prefect.TaskRunner | Task 'Constant[str]': finished task run for task with final state: 'Success'\n",
      "[2019-09-03 16:49:52,836] INFO - prefect.TaskRunner | Task 'ShellTask': Starting task run...\n"
     ]
    },
    {
     "name": "stdout",
     "output_type": "stream",
     "text": [
      "balance-scale\n",
      "      actual predicted\n",
      "inst#                 \n",
      "1        3:R       1:L\n",
      "2        3:R       3:R\n",
      "3        3:R       1:L\n",
      "4        1:L       3:R\n",
      "5        3:R       3:R\n"
     ]
    },
    {
     "name": "stderr",
     "output_type": "stream",
     "text": [
      "[2019-09-03 16:49:53,102] INFO - prefect.TaskRunner | Task 'ShellTask': finished task run for task with final state: 'Success'\n",
      "[2019-09-03 16:49:53,103] INFO - prefect.FlowRunner | Flow run SUCCESS: all reference tasks succeeded\n"
     ]
    },
    {
     "name": "stdout",
     "output_type": "stream",
     "text": [
      "balance-scale\n",
      "      actual predicted\n",
      "inst#                 \n",
      "1        3:R       1:L\n",
      "2        3:R       1:L\n",
      "3        3:R       3:R\n",
      "4        1:L       3:R\n",
      "5        3:R       3:R\n"
     ]
    },
    {
     "name": "stderr",
     "output_type": "stream",
     "text": [
      "/home/zissou/miniconda3/envs/aaai20/lib/python3.6/site-packages/sklearn/metrics/classification.py:1143: UndefinedMetricWarning: F-score is ill-defined and being set to 0.0 in labels with no predicted samples.\n",
      "  'precision', 'predicted', average, warn_for)\n"
     ]
    }
   ],
   "source": [
    "datasets = ['glass',\n",
    "             'credit-g',\n",
    "             'ionosphere',\n",
    "             'lymph',\n",
    "             'vehicle',\n",
    "             'iris',\n",
    "             'splice',\n",
    "             'sonar',\n",
    "             'vowel',\n",
    "             'segment',\n",
    "             'zoo',\n",
    "             'heart-statlog',\n",
    "             'waveform-5000',\n",
    "             'kr-vs-kp',\n",
    "             'diabetes',\n",
    "             'letter',\n",
    "             'balance-scale']\n",
    "\n",
    "print(len(datasets))\n",
    "\n",
    "dataframes = {k:[] for k in datasets}\n",
    "\n",
    "for ds in datasets:\n",
    "    print(ds)\n",
    "    clf = fit_weka(ds)\n",
    "    \n",
    "    q_codes, results = predict_weka(ds, clf, f1_average='macro')\n",
    "\n",
    "    dataframes[ds] = collect_results(ds, q_codes, results, algorithm='weka')\n",
    "    \n",
    "df = process_outcomes(dataframes)\n",
    "save_outcome(df, filename='weka')\n",
    "   "
   ]
  }
 ],
 "metadata": {
  "kernelspec": {
   "display_name": "aaai20-belafonte",
   "language": "python",
   "name": "aaai20-belafonte"
  },
  "language_info": {
   "codemirror_mode": {
    "name": "ipython",
    "version": 3
   },
   "file_extension": ".py",
   "mimetype": "text/x-python",
   "name": "python",
   "nbconvert_exporter": "python",
   "pygments_lexer": "ipython3",
   "version": "3.6.9"
  }
 },
 "nbformat": 4,
 "nbformat_minor": 2
}
